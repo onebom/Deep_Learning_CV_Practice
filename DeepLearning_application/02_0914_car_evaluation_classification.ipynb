{
  "nbformat": 4,
  "nbformat_minor": 0,
  "metadata": {
    "colab": {
      "provenance": []
    },
    "kernelspec": {
      "name": "python3",
      "display_name": "Python 3"
    },
    "language_info": {
      "name": "python"
    }
  },
  "cells": [
    {
      "cell_type": "code",
      "execution_count": 29,
      "metadata": {
        "id": "k4vGw9vPIgdk"
      },
      "outputs": [],
      "source": [
        "import pandas as pd\n",
        "from matplotlib import pyplot as plt\n",
        "from sklearn import datasets\n",
        "import sklearn.datasets as datasets\n",
        "from sklearn.model_selection import train_test_split\n",
        "# from sklearn.metrics import classification_report, plot_confusion_matrix\n",
        "from sklearn.tree import DecisionTreeClassifier\n",
        "from sklearn import tree\n",
        "import seaborn as sns"
      ]
    },
    {
      "cell_type": "code",
      "source": [
        "import os"
      ],
      "metadata": {
        "id": "iWsDHFyjKp-D"
      },
      "execution_count": 30,
      "outputs": []
    },
    {
      "cell_type": "code",
      "source": [
        "from google.colab import drive   # 코랩 드라이브와 연동\n",
        "drive.mount('/content/drive')"
      ],
      "metadata": {
        "colab": {
          "base_uri": "https://localhost:8080/"
        },
        "id": "rA6VX3Q6JOTG",
        "outputId": "5ff3ddc3-c343-435e-d391-dd3b4c21367f"
      },
      "execution_count": 31,
      "outputs": [
        {
          "output_type": "stream",
          "name": "stdout",
          "text": [
            "Drive already mounted at /content/drive; to attempt to forcibly remount, call drive.mount(\"/content/drive\", force_remount=True).\n"
          ]
        }
      ]
    },
    {
      "cell_type": "markdown",
      "source": [
        "### loading dataset"
      ],
      "metadata": {
        "id": "jREh1d9vKcL-"
      }
    },
    {
      "cell_type": "code",
      "source": [
        "data_path = '/content/drive/MyDrive/gachon4-2/deeplearning/week2/car+evaluation'"
      ],
      "metadata": {
        "id": "PyWS9T3dZrWF"
      },
      "execution_count": 32,
      "outputs": []
    },
    {
      "cell_type": "code",
      "source": [
        "df = pd.DataFrame(pd.read_csv(os.path.join(data_path,\"car_evaluation.csv\")))"
      ],
      "metadata": {
        "id": "EgHQBq1XZrIt"
      },
      "execution_count": 33,
      "outputs": []
    },
    {
      "cell_type": "code",
      "source": [
        "df.head()"
      ],
      "metadata": {
        "colab": {
          "base_uri": "https://localhost:8080/",
          "height": 201
        },
        "id": "H66pt5euK03C",
        "outputId": "084fbb52-d306-47ff-b950-ac4d45129dc1"
      },
      "execution_count": 34,
      "outputs": [
        {
          "output_type": "execute_result",
          "data": {
            "text/plain": [
              "   vhigh vhigh.1  2 2.1  small   low  unacc\n",
              "0  vhigh   vhigh  2   2  small   med  unacc\n",
              "1  vhigh   vhigh  2   2  small  high  unacc\n",
              "2  vhigh   vhigh  2   2    med   low  unacc\n",
              "3  vhigh   vhigh  2   2    med   med  unacc\n",
              "4  vhigh   vhigh  2   2    med  high  unacc"
            ],
            "text/html": [
              "\n",
              "  <div id=\"df-5dbda58b-fedd-49a4-88dc-2623ac175b09\" class=\"colab-df-container\">\n",
              "    <div>\n",
              "<style scoped>\n",
              "    .dataframe tbody tr th:only-of-type {\n",
              "        vertical-align: middle;\n",
              "    }\n",
              "\n",
              "    .dataframe tbody tr th {\n",
              "        vertical-align: top;\n",
              "    }\n",
              "\n",
              "    .dataframe thead th {\n",
              "        text-align: right;\n",
              "    }\n",
              "</style>\n",
              "<table border=\"1\" class=\"dataframe\">\n",
              "  <thead>\n",
              "    <tr style=\"text-align: right;\">\n",
              "      <th></th>\n",
              "      <th>vhigh</th>\n",
              "      <th>vhigh.1</th>\n",
              "      <th>2</th>\n",
              "      <th>2.1</th>\n",
              "      <th>small</th>\n",
              "      <th>low</th>\n",
              "      <th>unacc</th>\n",
              "    </tr>\n",
              "  </thead>\n",
              "  <tbody>\n",
              "    <tr>\n",
              "      <th>0</th>\n",
              "      <td>vhigh</td>\n",
              "      <td>vhigh</td>\n",
              "      <td>2</td>\n",
              "      <td>2</td>\n",
              "      <td>small</td>\n",
              "      <td>med</td>\n",
              "      <td>unacc</td>\n",
              "    </tr>\n",
              "    <tr>\n",
              "      <th>1</th>\n",
              "      <td>vhigh</td>\n",
              "      <td>vhigh</td>\n",
              "      <td>2</td>\n",
              "      <td>2</td>\n",
              "      <td>small</td>\n",
              "      <td>high</td>\n",
              "      <td>unacc</td>\n",
              "    </tr>\n",
              "    <tr>\n",
              "      <th>2</th>\n",
              "      <td>vhigh</td>\n",
              "      <td>vhigh</td>\n",
              "      <td>2</td>\n",
              "      <td>2</td>\n",
              "      <td>med</td>\n",
              "      <td>low</td>\n",
              "      <td>unacc</td>\n",
              "    </tr>\n",
              "    <tr>\n",
              "      <th>3</th>\n",
              "      <td>vhigh</td>\n",
              "      <td>vhigh</td>\n",
              "      <td>2</td>\n",
              "      <td>2</td>\n",
              "      <td>med</td>\n",
              "      <td>med</td>\n",
              "      <td>unacc</td>\n",
              "    </tr>\n",
              "    <tr>\n",
              "      <th>4</th>\n",
              "      <td>vhigh</td>\n",
              "      <td>vhigh</td>\n",
              "      <td>2</td>\n",
              "      <td>2</td>\n",
              "      <td>med</td>\n",
              "      <td>high</td>\n",
              "      <td>unacc</td>\n",
              "    </tr>\n",
              "  </tbody>\n",
              "</table>\n",
              "</div>\n",
              "    <div class=\"colab-df-buttons\">\n",
              "\n",
              "  <div class=\"colab-df-container\">\n",
              "    <button class=\"colab-df-convert\" onclick=\"convertToInteractive('df-5dbda58b-fedd-49a4-88dc-2623ac175b09')\"\n",
              "            title=\"Convert this dataframe to an interactive table.\"\n",
              "            style=\"display:none;\">\n",
              "\n",
              "  <svg xmlns=\"http://www.w3.org/2000/svg\" height=\"24px\" viewBox=\"0 -960 960 960\">\n",
              "    <path d=\"M120-120v-720h720v720H120Zm60-500h600v-160H180v160Zm220 220h160v-160H400v160Zm0 220h160v-160H400v160ZM180-400h160v-160H180v160Zm440 0h160v-160H620v160ZM180-180h160v-160H180v160Zm440 0h160v-160H620v160Z\"/>\n",
              "  </svg>\n",
              "    </button>\n",
              "\n",
              "  <style>\n",
              "    .colab-df-container {\n",
              "      display:flex;\n",
              "      gap: 12px;\n",
              "    }\n",
              "\n",
              "    .colab-df-convert {\n",
              "      background-color: #E8F0FE;\n",
              "      border: none;\n",
              "      border-radius: 50%;\n",
              "      cursor: pointer;\n",
              "      display: none;\n",
              "      fill: #1967D2;\n",
              "      height: 32px;\n",
              "      padding: 0 0 0 0;\n",
              "      width: 32px;\n",
              "    }\n",
              "\n",
              "    .colab-df-convert:hover {\n",
              "      background-color: #E2EBFA;\n",
              "      box-shadow: 0px 1px 2px rgba(60, 64, 67, 0.3), 0px 1px 3px 1px rgba(60, 64, 67, 0.15);\n",
              "      fill: #174EA6;\n",
              "    }\n",
              "\n",
              "    .colab-df-buttons div {\n",
              "      margin-bottom: 4px;\n",
              "    }\n",
              "\n",
              "    [theme=dark] .colab-df-convert {\n",
              "      background-color: #3B4455;\n",
              "      fill: #D2E3FC;\n",
              "    }\n",
              "\n",
              "    [theme=dark] .colab-df-convert:hover {\n",
              "      background-color: #434B5C;\n",
              "      box-shadow: 0px 1px 3px 1px rgba(0, 0, 0, 0.15);\n",
              "      filter: drop-shadow(0px 1px 2px rgba(0, 0, 0, 0.3));\n",
              "      fill: #FFFFFF;\n",
              "    }\n",
              "  </style>\n",
              "\n",
              "    <script>\n",
              "      const buttonEl =\n",
              "        document.querySelector('#df-5dbda58b-fedd-49a4-88dc-2623ac175b09 button.colab-df-convert');\n",
              "      buttonEl.style.display =\n",
              "        google.colab.kernel.accessAllowed ? 'block' : 'none';\n",
              "\n",
              "      async function convertToInteractive(key) {\n",
              "        const element = document.querySelector('#df-5dbda58b-fedd-49a4-88dc-2623ac175b09');\n",
              "        const dataTable =\n",
              "          await google.colab.kernel.invokeFunction('convertToInteractive',\n",
              "                                                    [key], {});\n",
              "        if (!dataTable) return;\n",
              "\n",
              "        const docLinkHtml = 'Like what you see? Visit the ' +\n",
              "          '<a target=\"_blank\" href=https://colab.research.google.com/notebooks/data_table.ipynb>data table notebook</a>'\n",
              "          + ' to learn more about interactive tables.';\n",
              "        element.innerHTML = '';\n",
              "        dataTable['output_type'] = 'display_data';\n",
              "        await google.colab.output.renderOutput(dataTable, element);\n",
              "        const docLink = document.createElement('div');\n",
              "        docLink.innerHTML = docLinkHtml;\n",
              "        element.appendChild(docLink);\n",
              "      }\n",
              "    </script>\n",
              "  </div>\n",
              "\n",
              "\n",
              "<div id=\"df-778fa347-0970-4e1d-a9eb-59fe9d071183\">\n",
              "  <button class=\"colab-df-quickchart\" onclick=\"quickchart('df-778fa347-0970-4e1d-a9eb-59fe9d071183')\"\n",
              "            title=\"Suggest charts.\"\n",
              "            style=\"display:none;\">\n",
              "\n",
              "<svg xmlns=\"http://www.w3.org/2000/svg\" height=\"24px\"viewBox=\"0 0 24 24\"\n",
              "     width=\"24px\">\n",
              "    <g>\n",
              "        <path d=\"M19 3H5c-1.1 0-2 .9-2 2v14c0 1.1.9 2 2 2h14c1.1 0 2-.9 2-2V5c0-1.1-.9-2-2-2zM9 17H7v-7h2v7zm4 0h-2V7h2v10zm4 0h-2v-4h2v4z\"/>\n",
              "    </g>\n",
              "</svg>\n",
              "  </button>\n",
              "\n",
              "<style>\n",
              "  .colab-df-quickchart {\n",
              "      --bg-color: #E8F0FE;\n",
              "      --fill-color: #1967D2;\n",
              "      --hover-bg-color: #E2EBFA;\n",
              "      --hover-fill-color: #174EA6;\n",
              "      --disabled-fill-color: #AAA;\n",
              "      --disabled-bg-color: #DDD;\n",
              "  }\n",
              "\n",
              "  [theme=dark] .colab-df-quickchart {\n",
              "      --bg-color: #3B4455;\n",
              "      --fill-color: #D2E3FC;\n",
              "      --hover-bg-color: #434B5C;\n",
              "      --hover-fill-color: #FFFFFF;\n",
              "      --disabled-bg-color: #3B4455;\n",
              "      --disabled-fill-color: #666;\n",
              "  }\n",
              "\n",
              "  .colab-df-quickchart {\n",
              "    background-color: var(--bg-color);\n",
              "    border: none;\n",
              "    border-radius: 50%;\n",
              "    cursor: pointer;\n",
              "    display: none;\n",
              "    fill: var(--fill-color);\n",
              "    height: 32px;\n",
              "    padding: 0;\n",
              "    width: 32px;\n",
              "  }\n",
              "\n",
              "  .colab-df-quickchart:hover {\n",
              "    background-color: var(--hover-bg-color);\n",
              "    box-shadow: 0 1px 2px rgba(60, 64, 67, 0.3), 0 1px 3px 1px rgba(60, 64, 67, 0.15);\n",
              "    fill: var(--button-hover-fill-color);\n",
              "  }\n",
              "\n",
              "  .colab-df-quickchart-complete:disabled,\n",
              "  .colab-df-quickchart-complete:disabled:hover {\n",
              "    background-color: var(--disabled-bg-color);\n",
              "    fill: var(--disabled-fill-color);\n",
              "    box-shadow: none;\n",
              "  }\n",
              "\n",
              "  .colab-df-spinner {\n",
              "    border: 2px solid var(--fill-color);\n",
              "    border-color: transparent;\n",
              "    border-bottom-color: var(--fill-color);\n",
              "    animation:\n",
              "      spin 1s steps(1) infinite;\n",
              "  }\n",
              "\n",
              "  @keyframes spin {\n",
              "    0% {\n",
              "      border-color: transparent;\n",
              "      border-bottom-color: var(--fill-color);\n",
              "      border-left-color: var(--fill-color);\n",
              "    }\n",
              "    20% {\n",
              "      border-color: transparent;\n",
              "      border-left-color: var(--fill-color);\n",
              "      border-top-color: var(--fill-color);\n",
              "    }\n",
              "    30% {\n",
              "      border-color: transparent;\n",
              "      border-left-color: var(--fill-color);\n",
              "      border-top-color: var(--fill-color);\n",
              "      border-right-color: var(--fill-color);\n",
              "    }\n",
              "    40% {\n",
              "      border-color: transparent;\n",
              "      border-right-color: var(--fill-color);\n",
              "      border-top-color: var(--fill-color);\n",
              "    }\n",
              "    60% {\n",
              "      border-color: transparent;\n",
              "      border-right-color: var(--fill-color);\n",
              "    }\n",
              "    80% {\n",
              "      border-color: transparent;\n",
              "      border-right-color: var(--fill-color);\n",
              "      border-bottom-color: var(--fill-color);\n",
              "    }\n",
              "    90% {\n",
              "      border-color: transparent;\n",
              "      border-bottom-color: var(--fill-color);\n",
              "    }\n",
              "  }\n",
              "</style>\n",
              "\n",
              "  <script>\n",
              "    async function quickchart(key) {\n",
              "      const quickchartButtonEl =\n",
              "        document.querySelector('#' + key + ' button');\n",
              "      quickchartButtonEl.disabled = true;  // To prevent multiple clicks.\n",
              "      quickchartButtonEl.classList.add('colab-df-spinner');\n",
              "      try {\n",
              "        const charts = await google.colab.kernel.invokeFunction(\n",
              "            'suggestCharts', [key], {});\n",
              "      } catch (error) {\n",
              "        console.error('Error during call to suggestCharts:', error);\n",
              "      }\n",
              "      quickchartButtonEl.classList.remove('colab-df-spinner');\n",
              "      quickchartButtonEl.classList.add('colab-df-quickchart-complete');\n",
              "    }\n",
              "    (() => {\n",
              "      let quickchartButtonEl =\n",
              "        document.querySelector('#df-778fa347-0970-4e1d-a9eb-59fe9d071183 button');\n",
              "      quickchartButtonEl.style.display =\n",
              "        google.colab.kernel.accessAllowed ? 'block' : 'none';\n",
              "    })();\n",
              "  </script>\n",
              "</div>\n",
              "    </div>\n",
              "  </div>\n"
            ]
          },
          "metadata": {},
          "execution_count": 34
        }
      ]
    },
    {
      "cell_type": "code",
      "source": [
        "df.info()"
      ],
      "metadata": {
        "colab": {
          "base_uri": "https://localhost:8080/"
        },
        "id": "BirCIWxeaRvt",
        "outputId": "5fd7b57e-a82a-44dc-d1fb-0f77fa174e4e"
      },
      "execution_count": 35,
      "outputs": [
        {
          "output_type": "stream",
          "name": "stdout",
          "text": [
            "<class 'pandas.core.frame.DataFrame'>\n",
            "RangeIndex: 1727 entries, 0 to 1726\n",
            "Data columns (total 7 columns):\n",
            " #   Column   Non-Null Count  Dtype \n",
            "---  ------   --------------  ----- \n",
            " 0   vhigh    1727 non-null   object\n",
            " 1   vhigh.1  1727 non-null   object\n",
            " 2   2        1727 non-null   object\n",
            " 3   2.1      1727 non-null   object\n",
            " 4   small    1727 non-null   object\n",
            " 5   low      1727 non-null   object\n",
            " 6   unacc    1727 non-null   object\n",
            "dtypes: object(7)\n",
            "memory usage: 94.6+ KB\n"
          ]
        }
      ]
    },
    {
      "cell_type": "code",
      "source": [
        "print(\"vhigh value: \",np.unique(df['vhigh'].values))\n",
        "print(\"vhigh.1 value: \",np.unique(df['vhigh.1'].values))\n",
        "print(\"2 value: \",np.unique(df['2'].values))\n",
        "print(\"2.1 value: \",np.unique(df['2.1'].values))\n",
        "print(\"small value: \",np.unique(df['small'].values))\n",
        "print(\"low value: \",np.unique(df['low'].values))\n",
        "print(\"label class: \",np.unique(df['unacc'].values))"
      ],
      "metadata": {
        "colab": {
          "base_uri": "https://localhost:8080/"
        },
        "id": "W98BrY1XdNY0",
        "outputId": "05a06d59-a353-49a5-c4fc-8a44903d4d73"
      },
      "execution_count": 53,
      "outputs": [
        {
          "output_type": "stream",
          "name": "stdout",
          "text": [
            "vhigh value:  ['high' 'low' 'med' 'vhigh']\n",
            "vhigh.1 value:  ['high' 'low' 'med' 'vhigh']\n",
            "2 value:  ['2' '3' '4' '5more']\n",
            "2.1 value:  ['2' '4' 'more']\n",
            "small value:  ['big' 'med' 'small']\n",
            "low value:  ['high' 'low' 'med']\n",
            "label class:  ['acc' 'good' 'unacc' 'vgood']\n"
          ]
        }
      ]
    },
    {
      "cell_type": "code",
      "source": [
        "df.keys()"
      ],
      "metadata": {
        "colab": {
          "base_uri": "https://localhost:8080/"
        },
        "id": "XaWG-I6dLNTr",
        "outputId": "d6221418-9688-484f-9993-3663e13a07d2"
      },
      "execution_count": 54,
      "outputs": [
        {
          "output_type": "execute_result",
          "data": {
            "text/plain": [
              "Index(['vhigh', 'vhigh.1', '2', '2.1', 'small', 'low', 'unacc'], dtype='object')"
            ]
          },
          "metadata": {},
          "execution_count": 54
        }
      ]
    },
    {
      "cell_type": "code",
      "source": [
        "X = df[['vhigh', 'vhigh.1', '2', '2.1', 'small', 'low']]\n",
        "Y = df['unacc']"
      ],
      "metadata": {
        "id": "RGPBbk_0LF-t"
      },
      "execution_count": 55,
      "outputs": []
    },
    {
      "cell_type": "code",
      "source": [
        "print(X[:3])\n",
        "print(Y[:3])"
      ],
      "metadata": {
        "colab": {
          "base_uri": "https://localhost:8080/"
        },
        "id": "Fyu17wCcLXb6",
        "outputId": "5cf375bb-f7cf-49b2-f335-472ea0364bb2"
      },
      "execution_count": 56,
      "outputs": [
        {
          "output_type": "stream",
          "name": "stdout",
          "text": [
            "   vhigh vhigh.1  2 2.1  small   low\n",
            "0  vhigh   vhigh  2   2  small   med\n",
            "1  vhigh   vhigh  2   2  small  high\n",
            "2  vhigh   vhigh  2   2    med   low\n",
            "0    unacc\n",
            "1    unacc\n",
            "2    unacc\n",
            "Name: unacc, dtype: object\n"
          ]
        }
      ]
    },
    {
      "cell_type": "code",
      "source": [
        "X_train, X_test, Y_train, Y_test = train_test_split(X, Y, train_size=0.9, random_state=1, shuffle=True)"
      ],
      "metadata": {
        "id": "onr-AbUOLb_j"
      },
      "execution_count": 57,
      "outputs": []
    },
    {
      "cell_type": "code",
      "source": [
        "print(len(X_train),len(Y_train))\n",
        "print(len(X_test), len(Y_test))"
      ],
      "metadata": {
        "colab": {
          "base_uri": "https://localhost:8080/"
        },
        "id": "fjHK2uKFLli3",
        "outputId": "a89a052e-3e88-4f12-985d-c67607ae5b48"
      },
      "execution_count": 58,
      "outputs": [
        {
          "output_type": "stream",
          "name": "stdout",
          "text": [
            "1554 1554\n",
            "173 173\n"
          ]
        }
      ]
    },
    {
      "cell_type": "code",
      "source": [
        "X_train.shape"
      ],
      "metadata": {
        "colab": {
          "base_uri": "https://localhost:8080/"
        },
        "id": "CBC1_eSQfCH2",
        "outputId": "36103769-17ff-4174-8932-fd0a85b60f4a"
      },
      "execution_count": 59,
      "outputs": [
        {
          "output_type": "execute_result",
          "data": {
            "text/plain": [
              "(1554, 6)"
            ]
          },
          "metadata": {},
          "execution_count": 59
        }
      ]
    },
    {
      "cell_type": "code",
      "source": [
        "import category_encoders as ce\n",
        "\n",
        "encoder = ce.OrdinalEncoder(cols=['vhigh', 'vhigh.1', '2', '2.1', 'small', 'low'])\n",
        "X_train = encoder.fit_transform(X_train)\n",
        "X_test = encoder.transform(X_test)\n"
      ],
      "metadata": {
        "id": "PHlIeD1edzGC"
      },
      "execution_count": 60,
      "outputs": []
    },
    {
      "cell_type": "code",
      "source": [
        "print(\"vhigh value: \",np.unique(X_train['vhigh'].values))\n",
        "print(\"vhigh.1 value: \",np.unique(X_train['vhigh.1'].values))\n",
        "print(\"2 value: \",np.unique(X_train['2'].values))\n",
        "print(\"2.1 value: \",np.unique(X_train['2.1'].values))\n",
        "print(\"small value: \",np.unique(X_train['small'].values))\n",
        "print(\"low value: \",np.unique(X_train['low'].values))"
      ],
      "metadata": {
        "colab": {
          "base_uri": "https://localhost:8080/"
        },
        "id": "Qs5Aeq9yfZ3v",
        "outputId": "7032f3fd-88d5-4b6c-a1d2-a983ad1e1e67"
      },
      "execution_count": 63,
      "outputs": [
        {
          "output_type": "stream",
          "name": "stdout",
          "text": [
            "vhigh value:  [1 2 3 4]\n",
            "vhigh.1 value:  [1 2 3 4]\n",
            "2 value:  [1 2 3 4]\n",
            "2.1 value:  [1 2 3]\n",
            "small value:  [1 2 3]\n",
            "low value:  [1 2 3]\n"
          ]
        }
      ]
    },
    {
      "cell_type": "markdown",
      "source": [
        "### 1) \"Decision Tree\" model"
      ],
      "metadata": {
        "id": "JUAiJdLLLI4F"
      }
    },
    {
      "cell_type": "code",
      "source": [
        "# 1. train the decision tree classifier\n",
        "#scikit learn decision tree model training\n",
        "DT = tree.DecisionTreeClassifier()\n",
        "DT = DT.fit(X_train, Y_train)\n",
        "\n",
        "# 2. test the model trained on test set\n",
        "DT.predict(X_test)\n",
        "prediction = DT.predict(X_test)\n",
        "\n",
        "# 3. perform evaluation on test set\n",
        "import sklearn.metrics as metrics\n",
        "from sklearn.metrics import classification_report\n",
        "from sklearn.metrics import confusion_matrix\n",
        "# evaluation for multi class classification\n",
        "print(classification_report(Y_test, prediction))\n",
        "print('Accuracy Score:', metrics.accuracy_score(Y_test, prediction))\n",
        "\n",
        "cm = confusion_matrix(Y_test, prediction)\n",
        "print(cm)"
      ],
      "metadata": {
        "colab": {
          "base_uri": "https://localhost:8080/"
        },
        "id": "AMomVTsaLrZB",
        "outputId": "a7dca003-7b8f-40b5-b613-edd175e0d75e"
      },
      "execution_count": 64,
      "outputs": [
        {
          "output_type": "stream",
          "name": "stdout",
          "text": [
            "              precision    recall  f1-score   support\n",
            "\n",
            "         acc       0.86      1.00      0.92        30\n",
            "        good       1.00      1.00      1.00         6\n",
            "       unacc       1.00      0.97      0.98       127\n",
            "       vgood       1.00      0.90      0.95        10\n",
            "\n",
            "    accuracy                           0.97       173\n",
            "   macro avg       0.96      0.97      0.96       173\n",
            "weighted avg       0.98      0.97      0.97       173\n",
            "\n",
            "Accuracy Score: 0.9710982658959537\n",
            "[[ 30   0   0   0]\n",
            " [  0   6   0   0]\n",
            " [  4   0 123   0]\n",
            " [  1   0   0   9]]\n"
          ]
        }
      ]
    },
    {
      "cell_type": "markdown",
      "source": [
        "### 2) \"LogisticRegression\" model"
      ],
      "metadata": {
        "id": "4d1s1GysR3O7"
      }
    },
    {
      "cell_type": "code",
      "source": [
        "from sklearn.linear_model import LogisticRegression\n",
        "\n",
        "# 1. train the LogisticRegression classifier\n",
        "clf = LogisticRegression()\n",
        "clf = clf.fit(X_train, Y_train)\n",
        "\n",
        "# 2. test the model trained on test set\n",
        "clf.predict(X_test)\n",
        "prediction = clf.predict(X_test)\n",
        "\n",
        "# 3. perform evaluation on test set\n",
        "import sklearn.metrics as metrics\n",
        "from sklearn.metrics import classification_report\n",
        "from sklearn.metrics import confusion_matrix\n",
        "# evaluation for multi class classification\n",
        "print(classification_report(Y_test, prediction))\n",
        "print('Accuracy Score:', metrics.accuracy_score(Y_test, prediction))\n",
        "\n",
        "cm = confusion_matrix(Y_test, prediction)\n",
        "print(cm)"
      ],
      "metadata": {
        "colab": {
          "base_uri": "https://localhost:8080/"
        },
        "id": "S_89Z_rzNT_M",
        "outputId": "aa625b92-927c-4266-cd1c-cf9aba44cf11"
      },
      "execution_count": 65,
      "outputs": [
        {
          "output_type": "stream",
          "name": "stdout",
          "text": [
            "              precision    recall  f1-score   support\n",
            "\n",
            "         acc       0.33      0.30      0.32        30\n",
            "        good       0.00      0.00      0.00         6\n",
            "       unacc       0.82      0.91      0.86       127\n",
            "       vgood       1.00      0.40      0.57        10\n",
            "\n",
            "    accuracy                           0.74       173\n",
            "   macro avg       0.54      0.40      0.44       173\n",
            "weighted avg       0.72      0.74      0.72       173\n",
            "\n",
            "Accuracy Score: 0.7398843930635838\n",
            "[[  9   0  21   0]\n",
            " [  4   0   2   0]\n",
            " [ 10   2 115   0]\n",
            " [  4   0   2   4]]\n"
          ]
        },
        {
          "output_type": "stream",
          "name": "stderr",
          "text": [
            "/usr/local/lib/python3.10/dist-packages/sklearn/linear_model/_logistic.py:458: ConvergenceWarning: lbfgs failed to converge (status=1):\n",
            "STOP: TOTAL NO. of ITERATIONS REACHED LIMIT.\n",
            "\n",
            "Increase the number of iterations (max_iter) or scale the data as shown in:\n",
            "    https://scikit-learn.org/stable/modules/preprocessing.html\n",
            "Please also refer to the documentation for alternative solver options:\n",
            "    https://scikit-learn.org/stable/modules/linear_model.html#logistic-regression\n",
            "  n_iter_i = _check_optimize_result(\n"
          ]
        }
      ]
    },
    {
      "cell_type": "markdown",
      "source": [
        "### 3) \"RandomForestClassifier\" model"
      ],
      "metadata": {
        "id": "Ayn4E-ZESsUs"
      }
    },
    {
      "cell_type": "code",
      "source": [
        "from sklearn.ensemble import RandomForestClassifier\n",
        "\n",
        "# 1. train the LogisticRegression classifier\n",
        "clf = RandomForestClassifier(max_depth=10, random_state=0)\n",
        "clf = clf.fit(X_train, Y_train)\n",
        "\n",
        "# 2. test the model trained on test set\n",
        "clf.predict(X_test)\n",
        "prediction = clf.predict(X_test)\n",
        "\n",
        "# 3. perform evaluation on test set\n",
        "import sklearn.metrics\n",
        "from sklearn.metrics import classification_report\n",
        "from sklearn.metrics import confusion_matrix\n",
        "# evaluation for multi class classification\n",
        "print(classification_report(Y_test, prediction))\n",
        "print('Accuracy Score:', metrics.accuracy_score(Y_test, prediction))\n",
        "\n",
        "cm = confusion_matrix(Y_test, prediction)\n",
        "print(cm)"
      ],
      "metadata": {
        "colab": {
          "base_uri": "https://localhost:8080/"
        },
        "id": "DL94nGCJSPxa",
        "outputId": "ed76f4ea-dfd8-47c2-9311-04c6bfafa944"
      },
      "execution_count": 66,
      "outputs": [
        {
          "output_type": "stream",
          "name": "stdout",
          "text": [
            "              precision    recall  f1-score   support\n",
            "\n",
            "         acc       0.85      0.97      0.91        30\n",
            "        good       1.00      0.83      0.91         6\n",
            "       unacc       0.99      0.98      0.98       127\n",
            "       vgood       1.00      0.90      0.95        10\n",
            "\n",
            "    accuracy                           0.97       173\n",
            "   macro avg       0.96      0.92      0.94       173\n",
            "weighted avg       0.97      0.97      0.97       173\n",
            "\n",
            "Accuracy Score: 0.9653179190751445\n",
            "[[ 29   0   1   0]\n",
            " [  1   5   0   0]\n",
            " [  3   0 124   0]\n",
            " [  1   0   0   9]]\n"
          ]
        }
      ]
    },
    {
      "cell_type": "markdown",
      "source": [
        "### 4) \"SVM\" model"
      ],
      "metadata": {
        "id": "j74PTTazS5wM"
      }
    },
    {
      "cell_type": "code",
      "source": [
        "from sklearn.pipeline import make_pipeline\n",
        "from sklearn.preprocessing import StandardScaler\n",
        "from sklearn.svm import SVC\n",
        "clf = make_pipeline(StandardScaler(), SVC(gamma='auto'))\n",
        "clf = clf.fit(X_train, Y_train)\n",
        "\n",
        "# 2. test the model trained on test set\n",
        "clf.predict(X_test)\n",
        "prediction = clf.predict(X_test)\n",
        "\n",
        "# 3. perform evaluation on test set\n",
        "import sklearn.metrics\n",
        "from sklearn.metrics import classification_report\n",
        "from sklearn.metrics import confusion_matrix\n",
        "# evaluation for multi class classification\n",
        "print(classification_report(Y_test, prediction))\n",
        "print('Accuracy Score:', metrics.accuracy_score(Y_test, prediction))\n",
        "\n",
        "cm = confusion_matrix(Y_test, prediction)\n",
        "print(cm)"
      ],
      "metadata": {
        "colab": {
          "base_uri": "https://localhost:8080/"
        },
        "id": "8DfTAI5USih9",
        "outputId": "0d2aa5d7-e786-4c61-8d40-090a990129df"
      },
      "execution_count": 67,
      "outputs": [
        {
          "output_type": "stream",
          "name": "stdout",
          "text": [
            "              precision    recall  f1-score   support\n",
            "\n",
            "         acc       0.63      0.90      0.74        30\n",
            "        good       0.00      0.00      0.00         6\n",
            "       unacc       0.98      0.95      0.96       127\n",
            "       vgood       1.00      0.60      0.75        10\n",
            "\n",
            "    accuracy                           0.89       173\n",
            "   macro avg       0.65      0.61      0.61       173\n",
            "weighted avg       0.88      0.89      0.88       173\n",
            "\n",
            "Accuracy Score: 0.8901734104046243\n",
            "[[ 27   0   3   0]\n",
            " [  6   0   0   0]\n",
            " [  6   0 121   0]\n",
            " [  4   0   0   6]]\n"
          ]
        },
        {
          "output_type": "stream",
          "name": "stderr",
          "text": [
            "/usr/local/lib/python3.10/dist-packages/sklearn/metrics/_classification.py:1344: UndefinedMetricWarning: Precision and F-score are ill-defined and being set to 0.0 in labels with no predicted samples. Use `zero_division` parameter to control this behavior.\n",
            "  _warn_prf(average, modifier, msg_start, len(result))\n",
            "/usr/local/lib/python3.10/dist-packages/sklearn/metrics/_classification.py:1344: UndefinedMetricWarning: Precision and F-score are ill-defined and being set to 0.0 in labels with no predicted samples. Use `zero_division` parameter to control this behavior.\n",
            "  _warn_prf(average, modifier, msg_start, len(result))\n",
            "/usr/local/lib/python3.10/dist-packages/sklearn/metrics/_classification.py:1344: UndefinedMetricWarning: Precision and F-score are ill-defined and being set to 0.0 in labels with no predicted samples. Use `zero_division` parameter to control this behavior.\n",
            "  _warn_prf(average, modifier, msg_start, len(result))\n"
          ]
        }
      ]
    },
    {
      "cell_type": "code",
      "source": [],
      "metadata": {
        "id": "HXN80wtRSrYs"
      },
      "execution_count": null,
      "outputs": []
    }
  ]
}