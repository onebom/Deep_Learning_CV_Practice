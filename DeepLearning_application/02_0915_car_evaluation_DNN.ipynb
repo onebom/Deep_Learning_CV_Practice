{
  "nbformat": 4,
  "nbformat_minor": 0,
  "metadata": {
    "colab": {
      "provenance": []
    },
    "kernelspec": {
      "name": "python3",
      "display_name": "Python 3"
    },
    "language_info": {
      "name": "python"
    }
  },
  "cells": [
    {
      "cell_type": "code",
      "execution_count": 10,
      "metadata": {
        "id": "TAsKhxXIOITI"
      },
      "outputs": [],
      "source": [
        "import pandas as pd\n",
        "from matplotlib import pyplot as plt\n",
        "from sklearn import datasets\n",
        "import sklearn.datasets as datasets\n",
        "from sklearn.model_selection import train_test_split\n",
        "# from sklearn.metrics import classification_report, plot_confusion_matrix\n",
        "from sklearn.tree import DecisionTreeClassifier\n",
        "from sklearn import tree\n",
        "import seaborn as sns\n",
        "import numpy as np"
      ]
    },
    {
      "cell_type": "code",
      "source": [
        "import os"
      ],
      "metadata": {
        "id": "SDV8EV_tOO3s"
      },
      "execution_count": 2,
      "outputs": []
    },
    {
      "cell_type": "code",
      "source": [
        "from google.colab import drive   # 코랩 드라이브와 연동\n",
        "drive.mount('/content/drive')"
      ],
      "metadata": {
        "colab": {
          "base_uri": "https://localhost:8080/"
        },
        "id": "yC_ZGXlnOP_3",
        "outputId": "d9ae027d-1bbc-4672-8401-b0d5a2a2b3e2"
      },
      "execution_count": 4,
      "outputs": [
        {
          "output_type": "stream",
          "name": "stdout",
          "text": [
            "Mounted at /content/drive\n"
          ]
        }
      ]
    },
    {
      "cell_type": "markdown",
      "source": [],
      "metadata": {
        "id": "a5LyhphrOjTV"
      }
    },
    {
      "cell_type": "code",
      "source": [
        "data_path = '/content/drive/MyDrive/gachon4-2/deeplearning/week2/car+evaluation'"
      ],
      "metadata": {
        "id": "4tuxUupsORJG"
      },
      "execution_count": 50,
      "outputs": []
    },
    {
      "cell_type": "code",
      "source": [
        "df = pd.DataFrame(pd.read_csv(os.path.join(data_path,\"car_evaluation.csv\")))"
      ],
      "metadata": {
        "id": "1PCrleBAOkFC"
      },
      "execution_count": 109,
      "outputs": []
    },
    {
      "cell_type": "code",
      "source": [
        "df.head()"
      ],
      "metadata": {
        "colab": {
          "base_uri": "https://localhost:8080/",
          "height": 201
        },
        "id": "2_pAf9boOlpN",
        "outputId": "4f413bdd-a571-421e-8bfd-0ae767f91115"
      },
      "execution_count": 110,
      "outputs": [
        {
          "output_type": "execute_result",
          "data": {
            "text/plain": [
              "   vhigh vhigh.1  2 2.1  small   low  unacc\n",
              "0  vhigh   vhigh  2   2  small   med  unacc\n",
              "1  vhigh   vhigh  2   2  small  high  unacc\n",
              "2  vhigh   vhigh  2   2    med   low  unacc\n",
              "3  vhigh   vhigh  2   2    med   med  unacc\n",
              "4  vhigh   vhigh  2   2    med  high  unacc"
            ],
            "text/html": [
              "\n",
              "  <div id=\"df-30456ed5-dcbb-4340-b87c-f5ff05dbce6f\" class=\"colab-df-container\">\n",
              "    <div>\n",
              "<style scoped>\n",
              "    .dataframe tbody tr th:only-of-type {\n",
              "        vertical-align: middle;\n",
              "    }\n",
              "\n",
              "    .dataframe tbody tr th {\n",
              "        vertical-align: top;\n",
              "    }\n",
              "\n",
              "    .dataframe thead th {\n",
              "        text-align: right;\n",
              "    }\n",
              "</style>\n",
              "<table border=\"1\" class=\"dataframe\">\n",
              "  <thead>\n",
              "    <tr style=\"text-align: right;\">\n",
              "      <th></th>\n",
              "      <th>vhigh</th>\n",
              "      <th>vhigh.1</th>\n",
              "      <th>2</th>\n",
              "      <th>2.1</th>\n",
              "      <th>small</th>\n",
              "      <th>low</th>\n",
              "      <th>unacc</th>\n",
              "    </tr>\n",
              "  </thead>\n",
              "  <tbody>\n",
              "    <tr>\n",
              "      <th>0</th>\n",
              "      <td>vhigh</td>\n",
              "      <td>vhigh</td>\n",
              "      <td>2</td>\n",
              "      <td>2</td>\n",
              "      <td>small</td>\n",
              "      <td>med</td>\n",
              "      <td>unacc</td>\n",
              "    </tr>\n",
              "    <tr>\n",
              "      <th>1</th>\n",
              "      <td>vhigh</td>\n",
              "      <td>vhigh</td>\n",
              "      <td>2</td>\n",
              "      <td>2</td>\n",
              "      <td>small</td>\n",
              "      <td>high</td>\n",
              "      <td>unacc</td>\n",
              "    </tr>\n",
              "    <tr>\n",
              "      <th>2</th>\n",
              "      <td>vhigh</td>\n",
              "      <td>vhigh</td>\n",
              "      <td>2</td>\n",
              "      <td>2</td>\n",
              "      <td>med</td>\n",
              "      <td>low</td>\n",
              "      <td>unacc</td>\n",
              "    </tr>\n",
              "    <tr>\n",
              "      <th>3</th>\n",
              "      <td>vhigh</td>\n",
              "      <td>vhigh</td>\n",
              "      <td>2</td>\n",
              "      <td>2</td>\n",
              "      <td>med</td>\n",
              "      <td>med</td>\n",
              "      <td>unacc</td>\n",
              "    </tr>\n",
              "    <tr>\n",
              "      <th>4</th>\n",
              "      <td>vhigh</td>\n",
              "      <td>vhigh</td>\n",
              "      <td>2</td>\n",
              "      <td>2</td>\n",
              "      <td>med</td>\n",
              "      <td>high</td>\n",
              "      <td>unacc</td>\n",
              "    </tr>\n",
              "  </tbody>\n",
              "</table>\n",
              "</div>\n",
              "    <div class=\"colab-df-buttons\">\n",
              "\n",
              "  <div class=\"colab-df-container\">\n",
              "    <button class=\"colab-df-convert\" onclick=\"convertToInteractive('df-30456ed5-dcbb-4340-b87c-f5ff05dbce6f')\"\n",
              "            title=\"Convert this dataframe to an interactive table.\"\n",
              "            style=\"display:none;\">\n",
              "\n",
              "  <svg xmlns=\"http://www.w3.org/2000/svg\" height=\"24px\" viewBox=\"0 -960 960 960\">\n",
              "    <path d=\"M120-120v-720h720v720H120Zm60-500h600v-160H180v160Zm220 220h160v-160H400v160Zm0 220h160v-160H400v160ZM180-400h160v-160H180v160Zm440 0h160v-160H620v160ZM180-180h160v-160H180v160Zm440 0h160v-160H620v160Z\"/>\n",
              "  </svg>\n",
              "    </button>\n",
              "\n",
              "  <style>\n",
              "    .colab-df-container {\n",
              "      display:flex;\n",
              "      gap: 12px;\n",
              "    }\n",
              "\n",
              "    .colab-df-convert {\n",
              "      background-color: #E8F0FE;\n",
              "      border: none;\n",
              "      border-radius: 50%;\n",
              "      cursor: pointer;\n",
              "      display: none;\n",
              "      fill: #1967D2;\n",
              "      height: 32px;\n",
              "      padding: 0 0 0 0;\n",
              "      width: 32px;\n",
              "    }\n",
              "\n",
              "    .colab-df-convert:hover {\n",
              "      background-color: #E2EBFA;\n",
              "      box-shadow: 0px 1px 2px rgba(60, 64, 67, 0.3), 0px 1px 3px 1px rgba(60, 64, 67, 0.15);\n",
              "      fill: #174EA6;\n",
              "    }\n",
              "\n",
              "    .colab-df-buttons div {\n",
              "      margin-bottom: 4px;\n",
              "    }\n",
              "\n",
              "    [theme=dark] .colab-df-convert {\n",
              "      background-color: #3B4455;\n",
              "      fill: #D2E3FC;\n",
              "    }\n",
              "\n",
              "    [theme=dark] .colab-df-convert:hover {\n",
              "      background-color: #434B5C;\n",
              "      box-shadow: 0px 1px 3px 1px rgba(0, 0, 0, 0.15);\n",
              "      filter: drop-shadow(0px 1px 2px rgba(0, 0, 0, 0.3));\n",
              "      fill: #FFFFFF;\n",
              "    }\n",
              "  </style>\n",
              "\n",
              "    <script>\n",
              "      const buttonEl =\n",
              "        document.querySelector('#df-30456ed5-dcbb-4340-b87c-f5ff05dbce6f button.colab-df-convert');\n",
              "      buttonEl.style.display =\n",
              "        google.colab.kernel.accessAllowed ? 'block' : 'none';\n",
              "\n",
              "      async function convertToInteractive(key) {\n",
              "        const element = document.querySelector('#df-30456ed5-dcbb-4340-b87c-f5ff05dbce6f');\n",
              "        const dataTable =\n",
              "          await google.colab.kernel.invokeFunction('convertToInteractive',\n",
              "                                                    [key], {});\n",
              "        if (!dataTable) return;\n",
              "\n",
              "        const docLinkHtml = 'Like what you see? Visit the ' +\n",
              "          '<a target=\"_blank\" href=https://colab.research.google.com/notebooks/data_table.ipynb>data table notebook</a>'\n",
              "          + ' to learn more about interactive tables.';\n",
              "        element.innerHTML = '';\n",
              "        dataTable['output_type'] = 'display_data';\n",
              "        await google.colab.output.renderOutput(dataTable, element);\n",
              "        const docLink = document.createElement('div');\n",
              "        docLink.innerHTML = docLinkHtml;\n",
              "        element.appendChild(docLink);\n",
              "      }\n",
              "    </script>\n",
              "  </div>\n",
              "\n",
              "\n",
              "<div id=\"df-60ee6ba0-78b9-4bcd-9931-2fc2ab3941e5\">\n",
              "  <button class=\"colab-df-quickchart\" onclick=\"quickchart('df-60ee6ba0-78b9-4bcd-9931-2fc2ab3941e5')\"\n",
              "            title=\"Suggest charts.\"\n",
              "            style=\"display:none;\">\n",
              "\n",
              "<svg xmlns=\"http://www.w3.org/2000/svg\" height=\"24px\"viewBox=\"0 0 24 24\"\n",
              "     width=\"24px\">\n",
              "    <g>\n",
              "        <path d=\"M19 3H5c-1.1 0-2 .9-2 2v14c0 1.1.9 2 2 2h14c1.1 0 2-.9 2-2V5c0-1.1-.9-2-2-2zM9 17H7v-7h2v7zm4 0h-2V7h2v10zm4 0h-2v-4h2v4z\"/>\n",
              "    </g>\n",
              "</svg>\n",
              "  </button>\n",
              "\n",
              "<style>\n",
              "  .colab-df-quickchart {\n",
              "      --bg-color: #E8F0FE;\n",
              "      --fill-color: #1967D2;\n",
              "      --hover-bg-color: #E2EBFA;\n",
              "      --hover-fill-color: #174EA6;\n",
              "      --disabled-fill-color: #AAA;\n",
              "      --disabled-bg-color: #DDD;\n",
              "  }\n",
              "\n",
              "  [theme=dark] .colab-df-quickchart {\n",
              "      --bg-color: #3B4455;\n",
              "      --fill-color: #D2E3FC;\n",
              "      --hover-bg-color: #434B5C;\n",
              "      --hover-fill-color: #FFFFFF;\n",
              "      --disabled-bg-color: #3B4455;\n",
              "      --disabled-fill-color: #666;\n",
              "  }\n",
              "\n",
              "  .colab-df-quickchart {\n",
              "    background-color: var(--bg-color);\n",
              "    border: none;\n",
              "    border-radius: 50%;\n",
              "    cursor: pointer;\n",
              "    display: none;\n",
              "    fill: var(--fill-color);\n",
              "    height: 32px;\n",
              "    padding: 0;\n",
              "    width: 32px;\n",
              "  }\n",
              "\n",
              "  .colab-df-quickchart:hover {\n",
              "    background-color: var(--hover-bg-color);\n",
              "    box-shadow: 0 1px 2px rgba(60, 64, 67, 0.3), 0 1px 3px 1px rgba(60, 64, 67, 0.15);\n",
              "    fill: var(--button-hover-fill-color);\n",
              "  }\n",
              "\n",
              "  .colab-df-quickchart-complete:disabled,\n",
              "  .colab-df-quickchart-complete:disabled:hover {\n",
              "    background-color: var(--disabled-bg-color);\n",
              "    fill: var(--disabled-fill-color);\n",
              "    box-shadow: none;\n",
              "  }\n",
              "\n",
              "  .colab-df-spinner {\n",
              "    border: 2px solid var(--fill-color);\n",
              "    border-color: transparent;\n",
              "    border-bottom-color: var(--fill-color);\n",
              "    animation:\n",
              "      spin 1s steps(1) infinite;\n",
              "  }\n",
              "\n",
              "  @keyframes spin {\n",
              "    0% {\n",
              "      border-color: transparent;\n",
              "      border-bottom-color: var(--fill-color);\n",
              "      border-left-color: var(--fill-color);\n",
              "    }\n",
              "    20% {\n",
              "      border-color: transparent;\n",
              "      border-left-color: var(--fill-color);\n",
              "      border-top-color: var(--fill-color);\n",
              "    }\n",
              "    30% {\n",
              "      border-color: transparent;\n",
              "      border-left-color: var(--fill-color);\n",
              "      border-top-color: var(--fill-color);\n",
              "      border-right-color: var(--fill-color);\n",
              "    }\n",
              "    40% {\n",
              "      border-color: transparent;\n",
              "      border-right-color: var(--fill-color);\n",
              "      border-top-color: var(--fill-color);\n",
              "    }\n",
              "    60% {\n",
              "      border-color: transparent;\n",
              "      border-right-color: var(--fill-color);\n",
              "    }\n",
              "    80% {\n",
              "      border-color: transparent;\n",
              "      border-right-color: var(--fill-color);\n",
              "      border-bottom-color: var(--fill-color);\n",
              "    }\n",
              "    90% {\n",
              "      border-color: transparent;\n",
              "      border-bottom-color: var(--fill-color);\n",
              "    }\n",
              "  }\n",
              "</style>\n",
              "\n",
              "  <script>\n",
              "    async function quickchart(key) {\n",
              "      const quickchartButtonEl =\n",
              "        document.querySelector('#' + key + ' button');\n",
              "      quickchartButtonEl.disabled = true;  // To prevent multiple clicks.\n",
              "      quickchartButtonEl.classList.add('colab-df-spinner');\n",
              "      try {\n",
              "        const charts = await google.colab.kernel.invokeFunction(\n",
              "            'suggestCharts', [key], {});\n",
              "      } catch (error) {\n",
              "        console.error('Error during call to suggestCharts:', error);\n",
              "      }\n",
              "      quickchartButtonEl.classList.remove('colab-df-spinner');\n",
              "      quickchartButtonEl.classList.add('colab-df-quickchart-complete');\n",
              "    }\n",
              "    (() => {\n",
              "      let quickchartButtonEl =\n",
              "        document.querySelector('#df-60ee6ba0-78b9-4bcd-9931-2fc2ab3941e5 button');\n",
              "      quickchartButtonEl.style.display =\n",
              "        google.colab.kernel.accessAllowed ? 'block' : 'none';\n",
              "    })();\n",
              "  </script>\n",
              "</div>\n",
              "    </div>\n",
              "  </div>\n"
            ]
          },
          "metadata": {},
          "execution_count": 110
        }
      ]
    },
    {
      "cell_type": "code",
      "source": [
        "df.info()"
      ],
      "metadata": {
        "colab": {
          "base_uri": "https://localhost:8080/"
        },
        "id": "OOfmHvWnOnVz",
        "outputId": "da310bf4-31af-466e-b3f6-a548234d6d62"
      },
      "execution_count": 111,
      "outputs": [
        {
          "output_type": "stream",
          "name": "stdout",
          "text": [
            "<class 'pandas.core.frame.DataFrame'>\n",
            "RangeIndex: 1727 entries, 0 to 1726\n",
            "Data columns (total 7 columns):\n",
            " #   Column   Non-Null Count  Dtype \n",
            "---  ------   --------------  ----- \n",
            " 0   vhigh    1727 non-null   object\n",
            " 1   vhigh.1  1727 non-null   object\n",
            " 2   2        1727 non-null   object\n",
            " 3   2.1      1727 non-null   object\n",
            " 4   small    1727 non-null   object\n",
            " 5   low      1727 non-null   object\n",
            " 6   unacc    1727 non-null   object\n",
            "dtypes: object(7)\n",
            "memory usage: 94.6+ KB\n"
          ]
        }
      ]
    },
    {
      "cell_type": "code",
      "source": [
        "print(\"vhigh value: \",np.unique(df['vhigh'].values))\n",
        "print(\"vhigh.1 value: \",np.unique(df['vhigh.1'].values))\n",
        "print(\"2 value: \",np.unique(df['2'].values))\n",
        "print(\"2.1 value: \",np.unique(df['2.1'].values))\n",
        "print(\"small value: \",np.unique(df['small'].values))\n",
        "print(\"low value: \",np.unique(df['low'].values))\n",
        "print(\"label class: \",np.unique(df['unacc'].values))"
      ],
      "metadata": {
        "colab": {
          "base_uri": "https://localhost:8080/"
        },
        "id": "jk2D7cfnOqZj",
        "outputId": "98d4d20d-2cac-4fae-e732-3734d83afb4a"
      },
      "execution_count": 112,
      "outputs": [
        {
          "output_type": "stream",
          "name": "stdout",
          "text": [
            "vhigh value:  ['high' 'low' 'med' 'vhigh']\n",
            "vhigh.1 value:  ['high' 'low' 'med' 'vhigh']\n",
            "2 value:  ['2' '3' '4' '5more']\n",
            "2.1 value:  ['2' '4' 'more']\n",
            "small value:  ['big' 'med' 'small']\n",
            "low value:  ['high' 'low' 'med']\n",
            "label class:  ['acc' 'good' 'unacc' 'vgood']\n"
          ]
        }
      ]
    },
    {
      "cell_type": "code",
      "source": [
        "df[df['vhigh']=='low']['vhigh']"
      ],
      "metadata": {
        "colab": {
          "base_uri": "https://localhost:8080/"
        },
        "id": "ZVCVHQhWS2CW",
        "outputId": "c7e53a41-96c9-41d7-c214-15258654dffe"
      },
      "execution_count": 113,
      "outputs": [
        {
          "output_type": "execute_result",
          "data": {
            "text/plain": [
              "1295    low\n",
              "1296    low\n",
              "1297    low\n",
              "1298    low\n",
              "1299    low\n",
              "       ... \n",
              "1722    low\n",
              "1723    low\n",
              "1724    low\n",
              "1725    low\n",
              "1726    low\n",
              "Name: vhigh, Length: 432, dtype: object"
            ]
          },
          "metadata": {},
          "execution_count": 113
        }
      ]
    },
    {
      "cell_type": "code",
      "source": [
        "df.loc[df['vhigh'] == 'low', 'vhigh'] = 0\n",
        "df.loc[df['vhigh'] == 'med', 'vhigh'] = 1\n",
        "df.loc[df['vhigh'] == 'high', 'vhigh'] = 2\n",
        "df.loc[df['vhigh'] == 'vhigh', 'vhigh'] = 3\n",
        "\n",
        "df.loc[df['vhigh.1'] == 'low', 'vhigh.1'] = 0\n",
        "df.loc[df['vhigh.1'] == 'med', 'vhigh.1'] = 1\n",
        "df.loc[df['vhigh.1'] == 'high', 'vhigh.1'] = 2\n",
        "df.loc[df['vhigh.1'] == 'vhigh', 'vhigh.1'] = 3\n",
        "\n",
        "df.loc[df['2'] == '2', '2'] = 0\n",
        "df.loc[df['2'] == '3', '2'] = 1\n",
        "df.loc[df['2'] == '4', '2'] = 2\n",
        "df.loc[df['2'] == '5more', '2'] = 2\n",
        "\n",
        "df.loc[df['2.1'] == '2', '2.1'] = 0\n",
        "df.loc[df['2.1'] == '4', '2.1'] = 1\n",
        "df.loc[df['2.1'] == 'more', '2.1'] = 2\n",
        "\n",
        "df.loc[df['small'] == 'small', 'small'] = 0\n",
        "df.loc[df['small'] == 'med', 'small'] = 1\n",
        "df.loc[df['small'] == 'big', 'small'] = 2\n",
        "\n",
        "df.loc[df['low'] == 'low', 'low'] = 0\n",
        "df.loc[df['low'] == 'med', 'low'] = 1\n",
        "df.loc[df['low'] == 'high', 'low'] = 2\n",
        "\n",
        "df.loc[df['unacc'] == 'acc', 'unacc'] = 0\n",
        "df.loc[df['unacc'] == 'unacc', 'unacc'] = 1\n",
        "df.loc[df['unacc'] == 'good', 'unacc'] = 2\n",
        "df.loc[df['unacc'] == 'vgood', 'unacc'] = 3"
      ],
      "metadata": {
        "id": "aQczyWrxTAhO"
      },
      "execution_count": 118,
      "outputs": []
    },
    {
      "cell_type": "code",
      "source": [
        "df.head"
      ],
      "metadata": {
        "colab": {
          "base_uri": "https://localhost:8080/"
        },
        "id": "VZx-ShQbShYe",
        "outputId": "d44f765d-640f-424d-e64b-ecbdb1274e49"
      },
      "execution_count": 119,
      "outputs": [
        {
          "output_type": "execute_result",
          "data": {
            "text/plain": [
              "<bound method NDFrame.head of      vhigh vhigh.1  2 2.1 small low unacc\n",
              "0        3       3  0   0     0   1     1\n",
              "1        3       3  0   0     0   2     1\n",
              "2        3       3  0   0     1   0     1\n",
              "3        3       3  0   0     1   1     1\n",
              "4        3       3  0   0     1   2     1\n",
              "...    ...     ... ..  ..   ...  ..   ...\n",
              "1722     0       0  2   2     1   1     2\n",
              "1723     0       0  2   2     1   2     3\n",
              "1724     0       0  2   2     2   0     1\n",
              "1725     0       0  2   2     2   1     2\n",
              "1726     0       0  2   2     2   2     3\n",
              "\n",
              "[1727 rows x 7 columns]>"
            ]
          },
          "metadata": {},
          "execution_count": 119
        }
      ]
    },
    {
      "cell_type": "code",
      "source": [
        "X = df[['vhigh', 'vhigh.1', '2', '2.1', 'small', 'low']].values\n",
        "Y = df['unacc'].values"
      ],
      "metadata": {
        "id": "uyUSdCzEOsGu"
      },
      "execution_count": 120,
      "outputs": []
    },
    {
      "cell_type": "code",
      "source": [
        "X = np.asarray(X).astype('float32')\n",
        "Y = np.asarray(Y).astype('float32')"
      ],
      "metadata": {
        "id": "8H1jzGZ3RK8y"
      },
      "execution_count": 121,
      "outputs": []
    },
    {
      "cell_type": "code",
      "source": [
        "# One-hot encoding of y_train labels (only execute once!)\n",
        "from keras.utils import to_categorical\n",
        "Y2 = to_categorical(Y, num_classes= 4)\n",
        "print('New y_train shape: ', Y2.shape)"
      ],
      "metadata": {
        "colab": {
          "base_uri": "https://localhost:8080/"
        },
        "id": "aC5oJ70AQf5W",
        "outputId": "ce9c4bb8-f2ad-4c7a-fba9-46e5c8874784"
      },
      "execution_count": 122,
      "outputs": [
        {
          "output_type": "stream",
          "name": "stdout",
          "text": [
            "New y_train shape:  (1727, 4)\n"
          ]
        }
      ]
    },
    {
      "cell_type": "code",
      "source": [
        "X_train, X_test, Y_train, Y_test = train_test_split(X, Y2, train_size=0.9, random_state=1, shuffle=True)"
      ],
      "metadata": {
        "id": "Q-uIFlHmO1YJ"
      },
      "execution_count": 123,
      "outputs": []
    },
    {
      "cell_type": "code",
      "source": [
        "print(X_train.shape, Y_train.shape)\n",
        "print(X_test.shape, Y_test.shape)"
      ],
      "metadata": {
        "colab": {
          "base_uri": "https://localhost:8080/"
        },
        "id": "5Gzt3ZhIO3Xj",
        "outputId": "40f33455-f39f-4e4f-d945-d1927055afa8"
      },
      "execution_count": 124,
      "outputs": [
        {
          "output_type": "stream",
          "name": "stdout",
          "text": [
            "(1554, 6) (1554, 4)\n",
            "(173, 6) (173, 4)\n"
          ]
        }
      ]
    },
    {
      "cell_type": "code",
      "source": [
        "# define model params\n",
        "input_shape = X_train.shape[1]\n",
        "output_shape = Y_train.shape[1]\n",
        "nodes = np.ceil(2 * input_shape / 3 + output_shape).astype(int)\n",
        "batch_size = np.ceil(len(X_train) / 128).astype(int)"
      ],
      "metadata": {
        "id": "tGsTAH9EUUXi"
      },
      "execution_count": 125,
      "outputs": []
    },
    {
      "cell_type": "code",
      "source": [
        "\n",
        "from keras.layers import Dense, Dropout, Input\n",
        "from keras import optimizers, Model\n",
        "from keras.callbacks import EarlyStopping\n",
        "from keras.callbacks import ModelCheckpoint\n",
        "\n",
        "def DNN(input_size=(6,)):\n",
        "  inputs=Input(input_size)\n",
        "\n",
        "  dense1 = Dense(batch_size, activation='relu')(inputs)\n",
        "  dense2 = Dense(nodes, activation='relu')(dense1)\n",
        "  drop1 = Dropout(0.5)(dense2)\n",
        "\n",
        "  outputs = Dense(4, activation='softmax')(drop1)\n",
        "  model = Model(inputs=inputs, outputs=outputs)\n",
        "\n",
        "  model.compile(optimizer='adam', loss='categorical_crossentropy', metrics=['accuracy'])\n",
        "\n",
        "  return model\n",
        "\n"
      ],
      "metadata": {
        "id": "AUQ67dTQQP7g"
      },
      "execution_count": 127,
      "outputs": []
    },
    {
      "cell_type": "code",
      "source": [
        "\n",
        "DNN_model = DNN()\n",
        "DNN_model.summary()\n",
        ""
      ],
      "metadata": {
        "colab": {
          "base_uri": "https://localhost:8080/"
        },
        "id": "CnjvaVq5Us2L",
        "outputId": "336809b9-4cda-4d8d-ff58-c4ef2c4005fe"
      },
      "execution_count": 128,
      "outputs": [
        {
          "output_type": "stream",
          "name": "stdout",
          "text": [
            "Model: \"model_5\"\n",
            "_________________________________________________________________\n",
            " Layer (type)                Output Shape              Param #   \n",
            "=================================================================\n",
            " input_6 (InputLayer)        [(None, 6)]               0         \n",
            "                                                                 \n",
            " dense_15 (Dense)            (None, 13)                91        \n",
            "                                                                 \n",
            " dense_16 (Dense)            (None, 8)                 112       \n",
            "                                                                 \n",
            " dropout_5 (Dropout)         (None, 8)                 0         \n",
            "                                                                 \n",
            " dense_17 (Dense)            (None, 4)                 36        \n",
            "                                                                 \n",
            "=================================================================\n",
            "Total params: 239 (956.00 Byte)\n",
            "Trainable params: 239 (956.00 Byte)\n",
            "Non-trainable params: 0 (0.00 Byte)\n",
            "_________________________________________________________________\n"
          ]
        }
      ]
    },
    {
      "cell_type": "code",
      "source": [
        "\n",
        "\n",
        "# 모델 컴파일 하기\n",
        "PATH= \"/content/drive/MyDrive/gachon4-2/deeplearning/week2/\"\n",
        "model_checkpoint = ModelCheckpoint(filepath =  os.path.join(PATH,\"model.h5\"), monitor='val_loss', verbose=1, save_best_only=True)\n",
        "early_stopping = EarlyStopping(monitor = 'val_loss', min_delta = 0, patience = 20)"
      ],
      "metadata": {
        "id": "8ZJ_jRysUvu6"
      },
      "execution_count": 129,
      "outputs": []
    },
    {
      "cell_type": "code",
      "source": [
        "# 모델 학습\n",
        "hist = DNN_model.fit(\n",
        "                  X_train, Y_train,                        # 입력 / 라벨\n",
        "                  epochs = 100, batch_size = 16,            # 학습 회수 / 학습 10번 후 오차 감소\n",
        "                  validation_data=(X_test, Y_test),        # 검증 데이터\n",
        "                  callbacks = [model_checkpoint, early_stopping], # 저장 및 모니터링\n",
        "                  shuffle=True\n",
        "                 )\n",
        "\n"
      ],
      "metadata": {
        "colab": {
          "base_uri": "https://localhost:8080/"
        },
        "id": "A93HHcxzU6-K",
        "outputId": "56fcf3ba-606a-458f-9f12-7191aa2d2b9f"
      },
      "execution_count": 130,
      "outputs": [
        {
          "output_type": "stream",
          "name": "stdout",
          "text": [
            "Epoch 1/100\n",
            "90/98 [==========================>...] - ETA: 0s - loss: 1.3052 - accuracy: 0.5708\n",
            "Epoch 1: val_loss improved from inf to 1.00365, saving model to /content/drive/MyDrive/gachon4-2/deeplearning/week2/model.h5\n",
            "98/98 [==============================] - 2s 9ms/step - loss: 1.2965 - accuracy: 0.5792 - val_loss: 1.0036 - val_accuracy: 0.7283\n",
            "Epoch 2/100\n",
            "48/98 [=============>................] - ETA: 0s - loss: 1.0882 - accuracy: 0.6823"
          ]
        },
        {
          "output_type": "stream",
          "name": "stderr",
          "text": [
            "/usr/local/lib/python3.10/dist-packages/keras/src/engine/training.py:3000: UserWarning: You are saving your model as an HDF5 file via `model.save()`. This file format is considered legacy. We recommend using instead the native Keras format, e.g. `model.save('my_model.keras')`.\n",
            "  saving_api.save_model(\n"
          ]
        },
        {
          "output_type": "stream",
          "name": "stdout",
          "text": [
            "\b\b\b\b\b\b\b\b\b\b\b\b\b\b\b\b\b\b\b\b\b\b\b\b\b\b\b\b\b\b\b\b\b\b\b\b\b\b\b\b\b\b\b\b\b\b\b\b\b\b\b\b\b\b\b\b\b\b\b\b\b\b\b\b\b\b\b\b\b\b\b\b\b\b\b\b\b\b\b\b\b\b\r76/98 [======================>.......] - ETA: 0s - loss: 1.0615 - accuracy: 0.6817\n",
            "Epoch 2: val_loss improved from 1.00365 to 0.80077, saving model to /content/drive/MyDrive/gachon4-2/deeplearning/week2/model.h5\n",
            "98/98 [==============================] - 0s 3ms/step - loss: 1.0482 - accuracy: 0.6853 - val_loss: 0.8008 - val_accuracy: 0.7341\n",
            "Epoch 3/100\n",
            "83/98 [========================>.....] - ETA: 0s - loss: 0.9027 - accuracy: 0.6935\n",
            "Epoch 3: val_loss improved from 0.80077 to 0.65948, saving model to /content/drive/MyDrive/gachon4-2/deeplearning/week2/model.h5\n",
            "98/98 [==============================] - 0s 3ms/step - loss: 0.8912 - accuracy: 0.6931 - val_loss: 0.6595 - val_accuracy: 0.7341\n",
            "Epoch 4/100\n",
            "86/98 [=========================>....] - ETA: 0s - loss: 0.7821 - accuracy: 0.6940\n",
            "Epoch 4: val_loss improved from 0.65948 to 0.54872, saving model to /content/drive/MyDrive/gachon4-2/deeplearning/week2/model.h5\n",
            "98/98 [==============================] - 0s 3ms/step - loss: 0.7667 - accuracy: 0.7008 - val_loss: 0.5487 - val_accuracy: 0.7688\n",
            "Epoch 5/100\n",
            "81/98 [=======================>......] - ETA: 0s - loss: 0.6693 - accuracy: 0.7176\n",
            "Epoch 5: val_loss improved from 0.54872 to 0.52628, saving model to /content/drive/MyDrive/gachon4-2/deeplearning/week2/model.h5\n",
            "98/98 [==============================] - 0s 3ms/step - loss: 0.6727 - accuracy: 0.7169 - val_loss: 0.5263 - val_accuracy: 0.7803\n",
            "Epoch 6/100\n",
            "71/98 [====================>.........] - ETA: 0s - loss: 0.6606 - accuracy: 0.7192\n",
            "Epoch 6: val_loss improved from 0.52628 to 0.49105, saving model to /content/drive/MyDrive/gachon4-2/deeplearning/week2/model.h5\n",
            "98/98 [==============================] - 0s 3ms/step - loss: 0.6445 - accuracy: 0.7297 - val_loss: 0.4911 - val_accuracy: 0.7803\n",
            "Epoch 7/100\n",
            "85/98 [=========================>....] - ETA: 0s - loss: 0.5934 - accuracy: 0.7449\n",
            "Epoch 7: val_loss improved from 0.49105 to 0.46864, saving model to /content/drive/MyDrive/gachon4-2/deeplearning/week2/model.h5\n",
            "98/98 [==============================] - 0s 3ms/step - loss: 0.5986 - accuracy: 0.7400 - val_loss: 0.4686 - val_accuracy: 0.7919\n",
            "Epoch 8/100\n",
            "83/98 [========================>.....] - ETA: 0s - loss: 0.5728 - accuracy: 0.7492\n",
            "Epoch 8: val_loss improved from 0.46864 to 0.44404, saving model to /content/drive/MyDrive/gachon4-2/deeplearning/week2/model.h5\n",
            "98/98 [==============================] - 0s 3ms/step - loss: 0.5705 - accuracy: 0.7523 - val_loss: 0.4440 - val_accuracy: 0.8035\n",
            "Epoch 9/100\n",
            "89/98 [==========================>...] - ETA: 0s - loss: 0.5368 - accuracy: 0.7781\n",
            "Epoch 9: val_loss improved from 0.44404 to 0.43459, saving model to /content/drive/MyDrive/gachon4-2/deeplearning/week2/model.h5\n",
            "98/98 [==============================] - 0s 3ms/step - loss: 0.5349 - accuracy: 0.7799 - val_loss: 0.4346 - val_accuracy: 0.8266\n",
            "Epoch 10/100\n",
            "90/98 [==========================>...] - ETA: 0s - loss: 0.5267 - accuracy: 0.7771\n",
            "Epoch 10: val_loss improved from 0.43459 to 0.41864, saving model to /content/drive/MyDrive/gachon4-2/deeplearning/week2/model.h5\n",
            "98/98 [==============================] - 0s 2ms/step - loss: 0.5313 - accuracy: 0.7748 - val_loss: 0.4186 - val_accuracy: 0.8266\n",
            "Epoch 11/100\n",
            "84/98 [========================>.....] - ETA: 0s - loss: 0.5275 - accuracy: 0.7753\n",
            "Epoch 11: val_loss improved from 0.41864 to 0.41059, saving model to /content/drive/MyDrive/gachon4-2/deeplearning/week2/model.h5\n",
            "98/98 [==============================] - 0s 3ms/step - loss: 0.5171 - accuracy: 0.7819 - val_loss: 0.4106 - val_accuracy: 0.8439\n",
            "Epoch 12/100\n",
            "94/98 [===========================>..] - ETA: 0s - loss: 0.5027 - accuracy: 0.7806\n",
            "Epoch 12: val_loss improved from 0.41059 to 0.40019, saving model to /content/drive/MyDrive/gachon4-2/deeplearning/week2/model.h5\n",
            "98/98 [==============================] - 0s 2ms/step - loss: 0.5071 - accuracy: 0.7799 - val_loss: 0.4002 - val_accuracy: 0.8555\n",
            "Epoch 13/100\n",
            "80/98 [=======================>......] - ETA: 0s - loss: 0.4995 - accuracy: 0.7961\n",
            "Epoch 13: val_loss improved from 0.40019 to 0.39076, saving model to /content/drive/MyDrive/gachon4-2/deeplearning/week2/model.h5\n",
            "98/98 [==============================] - 0s 3ms/step - loss: 0.4945 - accuracy: 0.7973 - val_loss: 0.3908 - val_accuracy: 0.8555\n",
            "Epoch 14/100\n",
            "93/98 [===========================>..] - ETA: 0s - loss: 0.4641 - accuracy: 0.8085\n",
            "Epoch 14: val_loss improved from 0.39076 to 0.36755, saving model to /content/drive/MyDrive/gachon4-2/deeplearning/week2/model.h5\n",
            "98/98 [==============================] - 0s 2ms/step - loss: 0.4688 - accuracy: 0.8069 - val_loss: 0.3675 - val_accuracy: 0.8555\n",
            "Epoch 15/100\n",
            "82/98 [========================>.....] - ETA: 0s - loss: 0.4492 - accuracy: 0.8049\n",
            "Epoch 15: val_loss improved from 0.36755 to 0.36687, saving model to /content/drive/MyDrive/gachon4-2/deeplearning/week2/model.h5\n",
            "98/98 [==============================] - 0s 3ms/step - loss: 0.4597 - accuracy: 0.8005 - val_loss: 0.3669 - val_accuracy: 0.8613\n",
            "Epoch 16/100\n",
            "84/98 [========================>.....] - ETA: 0s - loss: 0.4853 - accuracy: 0.7999\n",
            "Epoch 16: val_loss improved from 0.36687 to 0.36009, saving model to /content/drive/MyDrive/gachon4-2/deeplearning/week2/model.h5\n",
            "98/98 [==============================] - 0s 3ms/step - loss: 0.4718 - accuracy: 0.8024 - val_loss: 0.3601 - val_accuracy: 0.8555\n",
            "Epoch 17/100\n",
            "83/98 [========================>.....] - ETA: 0s - loss: 0.4426 - accuracy: 0.8155\n",
            "Epoch 17: val_loss improved from 0.36009 to 0.35512, saving model to /content/drive/MyDrive/gachon4-2/deeplearning/week2/model.h5\n",
            "98/98 [==============================] - 0s 3ms/step - loss: 0.4428 - accuracy: 0.8134 - val_loss: 0.3551 - val_accuracy: 0.8613\n",
            "Epoch 18/100\n",
            "96/98 [============================>.] - ETA: 0s - loss: 0.4355 - accuracy: 0.8210\n",
            "Epoch 18: val_loss improved from 0.35512 to 0.34692, saving model to /content/drive/MyDrive/gachon4-2/deeplearning/week2/model.h5\n",
            "98/98 [==============================] - 0s 3ms/step - loss: 0.4343 - accuracy: 0.8211 - val_loss: 0.3469 - val_accuracy: 0.8613\n",
            "Epoch 19/100\n",
            "90/98 [==========================>...] - ETA: 0s - loss: 0.4234 - accuracy: 0.8292\n",
            "Epoch 19: val_loss improved from 0.34692 to 0.34314, saving model to /content/drive/MyDrive/gachon4-2/deeplearning/week2/model.h5\n",
            "98/98 [==============================] - 0s 3ms/step - loss: 0.4247 - accuracy: 0.8275 - val_loss: 0.3431 - val_accuracy: 0.8497\n",
            "Epoch 20/100\n",
            "83/98 [========================>.....] - ETA: 0s - loss: 0.4129 - accuracy: 0.8328\n",
            "Epoch 20: val_loss improved from 0.34314 to 0.33846, saving model to /content/drive/MyDrive/gachon4-2/deeplearning/week2/model.h5\n",
            "98/98 [==============================] - 0s 3ms/step - loss: 0.4177 - accuracy: 0.8295 - val_loss: 0.3385 - val_accuracy: 0.8497\n",
            "Epoch 21/100\n",
            "82/98 [========================>.....] - ETA: 0s - loss: 0.4208 - accuracy: 0.8216\n",
            "Epoch 21: val_loss improved from 0.33846 to 0.33645, saving model to /content/drive/MyDrive/gachon4-2/deeplearning/week2/model.h5\n",
            "98/98 [==============================] - 0s 3ms/step - loss: 0.4168 - accuracy: 0.8269 - val_loss: 0.3364 - val_accuracy: 0.8497\n",
            "Epoch 22/100\n",
            "87/98 [=========================>....] - ETA: 0s - loss: 0.3994 - accuracy: 0.8412\n",
            "Epoch 22: val_loss improved from 0.33645 to 0.33390, saving model to /content/drive/MyDrive/gachon4-2/deeplearning/week2/model.h5\n",
            "98/98 [==============================] - 0s 3ms/step - loss: 0.4065 - accuracy: 0.8359 - val_loss: 0.3339 - val_accuracy: 0.8439\n",
            "Epoch 23/100\n",
            "90/98 [==========================>...] - ETA: 0s - loss: 0.3931 - accuracy: 0.8389\n",
            "Epoch 23: val_loss improved from 0.33390 to 0.32993, saving model to /content/drive/MyDrive/gachon4-2/deeplearning/week2/model.h5\n",
            "98/98 [==============================] - 0s 3ms/step - loss: 0.3928 - accuracy: 0.8391 - val_loss: 0.3299 - val_accuracy: 0.8613\n",
            "Epoch 24/100\n",
            "81/98 [=======================>......] - ETA: 0s - loss: 0.3940 - accuracy: 0.8418\n",
            "Epoch 24: val_loss improved from 0.32993 to 0.32548, saving model to /content/drive/MyDrive/gachon4-2/deeplearning/week2/model.h5\n",
            "98/98 [==============================] - 0s 3ms/step - loss: 0.3872 - accuracy: 0.8475 - val_loss: 0.3255 - val_accuracy: 0.8497\n",
            "Epoch 25/100\n",
            "91/98 [==========================>...] - ETA: 0s - loss: 0.4019 - accuracy: 0.8359\n",
            "Epoch 25: val_loss improved from 0.32548 to 0.31994, saving model to /content/drive/MyDrive/gachon4-2/deeplearning/week2/model.h5\n",
            "98/98 [==============================] - 0s 3ms/step - loss: 0.3986 - accuracy: 0.8372 - val_loss: 0.3199 - val_accuracy: 0.8613\n",
            "Epoch 26/100\n",
            "80/98 [=======================>......] - ETA: 0s - loss: 0.3877 - accuracy: 0.8477\n",
            "Epoch 26: val_loss improved from 0.31994 to 0.31889, saving model to /content/drive/MyDrive/gachon4-2/deeplearning/week2/model.h5\n",
            "98/98 [==============================] - 0s 3ms/step - loss: 0.3887 - accuracy: 0.8436 - val_loss: 0.3189 - val_accuracy: 0.8555\n",
            "Epoch 27/100\n",
            "86/98 [=========================>....] - ETA: 0s - loss: 0.3723 - accuracy: 0.8488\n",
            "Epoch 27: val_loss improved from 0.31889 to 0.30824, saving model to /content/drive/MyDrive/gachon4-2/deeplearning/week2/model.h5\n",
            "98/98 [==============================] - 0s 3ms/step - loss: 0.3677 - accuracy: 0.8526 - val_loss: 0.3082 - val_accuracy: 0.8613\n",
            "Epoch 28/100\n",
            "82/98 [========================>.....] - ETA: 0s - loss: 0.3753 - accuracy: 0.8460\n",
            "Epoch 28: val_loss improved from 0.30824 to 0.30544, saving model to /content/drive/MyDrive/gachon4-2/deeplearning/week2/model.h5\n",
            "98/98 [==============================] - 0s 3ms/step - loss: 0.3787 - accuracy: 0.8423 - val_loss: 0.3054 - val_accuracy: 0.8613\n",
            "Epoch 29/100\n",
            "83/98 [========================>.....] - ETA: 0s - loss: 0.3823 - accuracy: 0.8434\n",
            "Epoch 29: val_loss improved from 0.30544 to 0.30452, saving model to /content/drive/MyDrive/gachon4-2/deeplearning/week2/model.h5\n",
            "98/98 [==============================] - 0s 3ms/step - loss: 0.3684 - accuracy: 0.8520 - val_loss: 0.3045 - val_accuracy: 0.8555\n",
            "Epoch 30/100\n",
            "83/98 [========================>.....] - ETA: 0s - loss: 0.3649 - accuracy: 0.8524\n",
            "Epoch 30: val_loss improved from 0.30452 to 0.30135, saving model to /content/drive/MyDrive/gachon4-2/deeplearning/week2/model.h5\n",
            "98/98 [==============================] - 0s 3ms/step - loss: 0.3708 - accuracy: 0.8501 - val_loss: 0.3014 - val_accuracy: 0.8613\n",
            "Epoch 31/100\n",
            "92/98 [===========================>..] - ETA: 0s - loss: 0.3603 - accuracy: 0.8519\n",
            "Epoch 31: val_loss improved from 0.30135 to 0.29670, saving model to /content/drive/MyDrive/gachon4-2/deeplearning/week2/model.h5\n",
            "98/98 [==============================] - 0s 3ms/step - loss: 0.3627 - accuracy: 0.8514 - val_loss: 0.2967 - val_accuracy: 0.8613\n",
            "Epoch 32/100\n",
            "84/98 [========================>.....] - ETA: 0s - loss: 0.3761 - accuracy: 0.8393\n",
            "Epoch 32: val_loss improved from 0.29670 to 0.29506, saving model to /content/drive/MyDrive/gachon4-2/deeplearning/week2/model.h5\n",
            "98/98 [==============================] - 0s 3ms/step - loss: 0.3700 - accuracy: 0.8430 - val_loss: 0.2951 - val_accuracy: 0.8555\n",
            "Epoch 33/100\n",
            "92/98 [===========================>..] - ETA: 0s - loss: 0.3807 - accuracy: 0.8322\n",
            "Epoch 33: val_loss improved from 0.29506 to 0.29066, saving model to /content/drive/MyDrive/gachon4-2/deeplearning/week2/model.h5\n",
            "98/98 [==============================] - 0s 3ms/step - loss: 0.3812 - accuracy: 0.8314 - val_loss: 0.2907 - val_accuracy: 0.8613\n",
            "Epoch 34/100\n",
            "78/98 [======================>.......] - ETA: 0s - loss: 0.3587 - accuracy: 0.8478\n",
            "Epoch 34: val_loss improved from 0.29066 to 0.28971, saving model to /content/drive/MyDrive/gachon4-2/deeplearning/week2/model.h5\n",
            "98/98 [==============================] - 0s 3ms/step - loss: 0.3579 - accuracy: 0.8475 - val_loss: 0.2897 - val_accuracy: 0.8613\n",
            "Epoch 35/100\n",
            "96/98 [============================>.] - ETA: 0s - loss: 0.3532 - accuracy: 0.8535\n",
            "Epoch 35: val_loss improved from 0.28971 to 0.28720, saving model to /content/drive/MyDrive/gachon4-2/deeplearning/week2/model.h5\n",
            "98/98 [==============================] - 0s 4ms/step - loss: 0.3540 - accuracy: 0.8533 - val_loss: 0.2872 - val_accuracy: 0.8613\n",
            "Epoch 36/100\n",
            "91/98 [==========================>...] - ETA: 0s - loss: 0.3623 - accuracy: 0.8413\n",
            "Epoch 36: val_loss improved from 0.28720 to 0.28226, saving model to /content/drive/MyDrive/gachon4-2/deeplearning/week2/model.h5\n",
            "98/98 [==============================] - 0s 4ms/step - loss: 0.3571 - accuracy: 0.8449 - val_loss: 0.2823 - val_accuracy: 0.8555\n",
            "Epoch 37/100\n",
            "96/98 [============================>.] - ETA: 0s - loss: 0.3516 - accuracy: 0.8503\n",
            "Epoch 37: val_loss did not improve from 0.28226\n",
            "98/98 [==============================] - 0s 4ms/step - loss: 0.3507 - accuracy: 0.8507 - val_loss: 0.2828 - val_accuracy: 0.8613\n",
            "Epoch 38/100\n",
            "92/98 [===========================>..] - ETA: 0s - loss: 0.3482 - accuracy: 0.8567\n",
            "Epoch 38: val_loss improved from 0.28226 to 0.27337, saving model to /content/drive/MyDrive/gachon4-2/deeplearning/week2/model.h5\n",
            "98/98 [==============================] - 0s 4ms/step - loss: 0.3457 - accuracy: 0.8584 - val_loss: 0.2734 - val_accuracy: 0.8555\n",
            "Epoch 39/100\n",
            "96/98 [============================>.] - ETA: 0s - loss: 0.3564 - accuracy: 0.8490\n",
            "Epoch 39: val_loss improved from 0.27337 to 0.26872, saving model to /content/drive/MyDrive/gachon4-2/deeplearning/week2/model.h5\n",
            "98/98 [==============================] - 0s 4ms/step - loss: 0.3582 - accuracy: 0.8488 - val_loss: 0.2687 - val_accuracy: 0.8613\n",
            "Epoch 40/100\n",
            "83/98 [========================>.....] - ETA: 0s - loss: 0.3491 - accuracy: 0.8479\n",
            "Epoch 40: val_loss improved from 0.26872 to 0.26728, saving model to /content/drive/MyDrive/gachon4-2/deeplearning/week2/model.h5\n",
            "98/98 [==============================] - 0s 4ms/step - loss: 0.3435 - accuracy: 0.8501 - val_loss: 0.2673 - val_accuracy: 0.8671\n",
            "Epoch 41/100\n",
            "95/98 [============================>.] - ETA: 0s - loss: 0.3581 - accuracy: 0.8454\n",
            "Epoch 41: val_loss did not improve from 0.26728\n",
            "98/98 [==============================] - 0s 4ms/step - loss: 0.3591 - accuracy: 0.8449 - val_loss: 0.2675 - val_accuracy: 0.8613\n",
            "Epoch 42/100\n",
            "88/98 [=========================>....] - ETA: 0s - loss: 0.3303 - accuracy: 0.8551\n",
            "Epoch 42: val_loss improved from 0.26728 to 0.26252, saving model to /content/drive/MyDrive/gachon4-2/deeplearning/week2/model.h5\n",
            "98/98 [==============================] - 0s 4ms/step - loss: 0.3339 - accuracy: 0.8546 - val_loss: 0.2625 - val_accuracy: 0.8671\n",
            "Epoch 43/100\n",
            "79/98 [=======================>......] - ETA: 0s - loss: 0.3508 - accuracy: 0.8465\n",
            "Epoch 43: val_loss improved from 0.26252 to 0.25894, saving model to /content/drive/MyDrive/gachon4-2/deeplearning/week2/model.h5\n",
            "98/98 [==============================] - 0s 4ms/step - loss: 0.3490 - accuracy: 0.8475 - val_loss: 0.2589 - val_accuracy: 0.8613\n",
            "Epoch 44/100\n",
            "96/98 [============================>.] - ETA: 0s - loss: 0.3408 - accuracy: 0.8509\n",
            "Epoch 44: val_loss improved from 0.25894 to 0.25414, saving model to /content/drive/MyDrive/gachon4-2/deeplearning/week2/model.h5\n",
            "98/98 [==============================] - 0s 5ms/step - loss: 0.3393 - accuracy: 0.8514 - val_loss: 0.2541 - val_accuracy: 0.8613\n",
            "Epoch 45/100\n",
            "91/98 [==========================>...] - ETA: 0s - loss: 0.3556 - accuracy: 0.8427\n",
            "Epoch 45: val_loss did not improve from 0.25414\n",
            "98/98 [==============================] - 0s 4ms/step - loss: 0.3532 - accuracy: 0.8417 - val_loss: 0.2595 - val_accuracy: 0.8671\n",
            "Epoch 46/100\n",
            "84/98 [========================>.....] - ETA: 0s - loss: 0.3408 - accuracy: 0.8445\n",
            "Epoch 46: val_loss improved from 0.25414 to 0.25277, saving model to /content/drive/MyDrive/gachon4-2/deeplearning/week2/model.h5\n",
            "98/98 [==============================] - 0s 3ms/step - loss: 0.3393 - accuracy: 0.8430 - val_loss: 0.2528 - val_accuracy: 0.8613\n",
            "Epoch 47/100\n",
            "84/98 [========================>.....] - ETA: 0s - loss: 0.3422 - accuracy: 0.8482\n",
            "Epoch 47: val_loss did not improve from 0.25277\n",
            "98/98 [==============================] - 0s 2ms/step - loss: 0.3361 - accuracy: 0.8501 - val_loss: 0.2555 - val_accuracy: 0.8671\n",
            "Epoch 48/100\n",
            "90/98 [==========================>...] - ETA: 0s - loss: 0.3336 - accuracy: 0.8493\n",
            "Epoch 48: val_loss improved from 0.25277 to 0.24872, saving model to /content/drive/MyDrive/gachon4-2/deeplearning/week2/model.h5\n",
            "98/98 [==============================] - 0s 3ms/step - loss: 0.3318 - accuracy: 0.8494 - val_loss: 0.2487 - val_accuracy: 0.8613\n",
            "Epoch 49/100\n",
            "86/98 [=========================>....] - ETA: 0s - loss: 0.3334 - accuracy: 0.8547\n",
            "Epoch 49: val_loss did not improve from 0.24872\n",
            "98/98 [==============================] - 0s 2ms/step - loss: 0.3353 - accuracy: 0.8559 - val_loss: 0.2541 - val_accuracy: 0.8613\n",
            "Epoch 50/100\n",
            "81/98 [=======================>......] - ETA: 0s - loss: 0.3599 - accuracy: 0.8457\n",
            "Epoch 50: val_loss improved from 0.24872 to 0.24619, saving model to /content/drive/MyDrive/gachon4-2/deeplearning/week2/model.h5\n",
            "98/98 [==============================] - 0s 3ms/step - loss: 0.3425 - accuracy: 0.8552 - val_loss: 0.2462 - val_accuracy: 0.8555\n",
            "Epoch 51/100\n",
            "98/98 [==============================] - ETA: 0s - loss: 0.3515 - accuracy: 0.8481\n",
            "Epoch 51: val_loss did not improve from 0.24619\n",
            "98/98 [==============================] - 0s 3ms/step - loss: 0.3515 - accuracy: 0.8481 - val_loss: 0.2652 - val_accuracy: 0.8439\n",
            "Epoch 52/100\n",
            "86/98 [=========================>....] - ETA: 0s - loss: 0.3277 - accuracy: 0.8597\n",
            "Epoch 52: val_loss did not improve from 0.24619\n",
            "98/98 [==============================] - 0s 2ms/step - loss: 0.3298 - accuracy: 0.8565 - val_loss: 0.2476 - val_accuracy: 0.8613\n",
            "Epoch 53/100\n",
            "88/98 [=========================>....] - ETA: 0s - loss: 0.3334 - accuracy: 0.8551\n",
            "Epoch 53: val_loss did not improve from 0.24619\n",
            "98/98 [==============================] - 0s 2ms/step - loss: 0.3388 - accuracy: 0.8546 - val_loss: 0.2467 - val_accuracy: 0.8613\n",
            "Epoch 54/100\n",
            "86/98 [=========================>....] - ETA: 0s - loss: 0.3198 - accuracy: 0.8677\n",
            "Epoch 54: val_loss improved from 0.24619 to 0.23888, saving model to /content/drive/MyDrive/gachon4-2/deeplearning/week2/model.h5\n",
            "98/98 [==============================] - 0s 3ms/step - loss: 0.3173 - accuracy: 0.8674 - val_loss: 0.2389 - val_accuracy: 0.8613\n",
            "Epoch 55/100\n",
            "78/98 [======================>.......] - ETA: 0s - loss: 0.3240 - accuracy: 0.8670\n",
            "Epoch 55: val_loss did not improve from 0.23888\n",
            "98/98 [==============================] - 0s 3ms/step - loss: 0.3286 - accuracy: 0.8610 - val_loss: 0.2656 - val_accuracy: 0.8324\n",
            "Epoch 56/100\n",
            "91/98 [==========================>...] - ETA: 0s - loss: 0.3353 - accuracy: 0.8496\n",
            "Epoch 56: val_loss did not improve from 0.23888\n",
            "98/98 [==============================] - 0s 2ms/step - loss: 0.3359 - accuracy: 0.8507 - val_loss: 0.2421 - val_accuracy: 0.8613\n",
            "Epoch 57/100\n",
            "83/98 [========================>.....] - ETA: 0s - loss: 0.3306 - accuracy: 0.8502\n",
            "Epoch 57: val_loss did not improve from 0.23888\n",
            "98/98 [==============================] - 0s 2ms/step - loss: 0.3291 - accuracy: 0.8520 - val_loss: 0.2405 - val_accuracy: 0.8613\n",
            "Epoch 58/100\n",
            "77/98 [======================>.......] - ETA: 0s - loss: 0.3317 - accuracy: 0.8669\n",
            "Epoch 58: val_loss did not improve from 0.23888\n",
            "98/98 [==============================] - 0s 3ms/step - loss: 0.3319 - accuracy: 0.8649 - val_loss: 0.2408 - val_accuracy: 0.8613\n",
            "Epoch 59/100\n",
            "85/98 [=========================>....] - ETA: 0s - loss: 0.3166 - accuracy: 0.8596\n",
            "Epoch 59: val_loss did not improve from 0.23888\n",
            "98/98 [==============================] - 0s 3ms/step - loss: 0.3221 - accuracy: 0.8565 - val_loss: 0.2444 - val_accuracy: 0.8671\n",
            "Epoch 60/100\n",
            "89/98 [==========================>...] - ETA: 0s - loss: 0.2985 - accuracy: 0.8666\n",
            "Epoch 60: val_loss did not improve from 0.23888\n",
            "98/98 [==============================] - 0s 2ms/step - loss: 0.3042 - accuracy: 0.8642 - val_loss: 0.2420 - val_accuracy: 0.8613\n",
            "Epoch 61/100\n",
            "88/98 [=========================>....] - ETA: 0s - loss: 0.3135 - accuracy: 0.8722\n",
            "Epoch 61: val_loss did not improve from 0.23888\n",
            "98/98 [==============================] - 0s 3ms/step - loss: 0.3220 - accuracy: 0.8668 - val_loss: 0.2407 - val_accuracy: 0.8613\n",
            "Epoch 62/100\n",
            "97/98 [============================>.] - ETA: 0s - loss: 0.3400 - accuracy: 0.8518\n",
            "Epoch 62: val_loss did not improve from 0.23888\n",
            "98/98 [==============================] - 0s 3ms/step - loss: 0.3404 - accuracy: 0.8520 - val_loss: 0.2484 - val_accuracy: 0.8613\n",
            "Epoch 63/100\n",
            "93/98 [===========================>..] - ETA: 0s - loss: 0.3241 - accuracy: 0.8616\n",
            "Epoch 63: val_loss did not improve from 0.23888\n",
            "98/98 [==============================] - 0s 5ms/step - loss: 0.3226 - accuracy: 0.8636 - val_loss: 0.2400 - val_accuracy: 0.8555\n",
            "Epoch 64/100\n",
            "91/98 [==========================>...] - ETA: 0s - loss: 0.3232 - accuracy: 0.8599\n",
            "Epoch 64: val_loss improved from 0.23888 to 0.23480, saving model to /content/drive/MyDrive/gachon4-2/deeplearning/week2/model.h5\n",
            "98/98 [==============================] - 0s 4ms/step - loss: 0.3251 - accuracy: 0.8597 - val_loss: 0.2348 - val_accuracy: 0.8613\n",
            "Epoch 65/100\n",
            "96/98 [============================>.] - ETA: 0s - loss: 0.3237 - accuracy: 0.8620\n",
            "Epoch 65: val_loss did not improve from 0.23480\n",
            "98/98 [==============================] - 1s 6ms/step - loss: 0.3243 - accuracy: 0.8616 - val_loss: 0.2354 - val_accuracy: 0.8671\n",
            "Epoch 66/100\n",
            "90/98 [==========================>...] - ETA: 0s - loss: 0.3212 - accuracy: 0.8625\n",
            "Epoch 66: val_loss did not improve from 0.23480\n",
            "98/98 [==============================] - 1s 9ms/step - loss: 0.3245 - accuracy: 0.8597 - val_loss: 0.2360 - val_accuracy: 0.8613\n",
            "Epoch 67/100\n",
            "92/98 [===========================>..] - ETA: 0s - loss: 0.3131 - accuracy: 0.8723\n",
            "Epoch 67: val_loss did not improve from 0.23480\n",
            "98/98 [==============================] - 0s 5ms/step - loss: 0.3159 - accuracy: 0.8694 - val_loss: 0.2354 - val_accuracy: 0.8555\n",
            "Epoch 68/100\n",
            "98/98 [==============================] - ETA: 0s - loss: 0.3124 - accuracy: 0.8713\n",
            "Epoch 68: val_loss did not improve from 0.23480\n",
            "98/98 [==============================] - 1s 8ms/step - loss: 0.3124 - accuracy: 0.8713 - val_loss: 0.2387 - val_accuracy: 0.8613\n",
            "Epoch 69/100\n",
            "98/98 [==============================] - ETA: 0s - loss: 0.3065 - accuracy: 0.8700\n",
            "Epoch 69: val_loss did not improve from 0.23480\n",
            "98/98 [==============================] - 1s 7ms/step - loss: 0.3065 - accuracy: 0.8700 - val_loss: 0.2365 - val_accuracy: 0.8555\n",
            "Epoch 70/100\n",
            "97/98 [============================>.] - ETA: 0s - loss: 0.3037 - accuracy: 0.8802\n",
            "Epoch 70: val_loss improved from 0.23480 to 0.23002, saving model to /content/drive/MyDrive/gachon4-2/deeplearning/week2/model.h5\n",
            "98/98 [==============================] - 1s 13ms/step - loss: 0.3036 - accuracy: 0.8803 - val_loss: 0.2300 - val_accuracy: 0.8613\n",
            "Epoch 71/100\n",
            "97/98 [============================>.] - ETA: 0s - loss: 0.3332 - accuracy: 0.8557\n",
            "Epoch 71: val_loss did not improve from 0.23002\n",
            "98/98 [==============================] - 1s 13ms/step - loss: 0.3328 - accuracy: 0.8559 - val_loss: 0.2339 - val_accuracy: 0.8613\n",
            "Epoch 72/100\n",
            "97/98 [============================>.] - ETA: 0s - loss: 0.3170 - accuracy: 0.8628\n",
            "Epoch 72: val_loss did not improve from 0.23002\n",
            "98/98 [==============================] - 2s 18ms/step - loss: 0.3168 - accuracy: 0.8629 - val_loss: 0.2331 - val_accuracy: 0.8671\n",
            "Epoch 73/100\n",
            "98/98 [==============================] - ETA: 0s - loss: 0.3205 - accuracy: 0.8610\n",
            "Epoch 73: val_loss did not improve from 0.23002\n",
            "98/98 [==============================] - 2s 18ms/step - loss: 0.3205 - accuracy: 0.8610 - val_loss: 0.2356 - val_accuracy: 0.8671\n",
            "Epoch 74/100\n",
            "94/98 [===========================>..] - ETA: 0s - loss: 0.3071 - accuracy: 0.8657\n",
            "Epoch 74: val_loss did not improve from 0.23002\n",
            "98/98 [==============================] - 1s 14ms/step - loss: 0.3044 - accuracy: 0.8668 - val_loss: 0.2323 - val_accuracy: 0.8671\n",
            "Epoch 75/100\n",
            "95/98 [============================>.] - ETA: 0s - loss: 0.3065 - accuracy: 0.8651\n",
            "Epoch 75: val_loss did not improve from 0.23002\n",
            "98/98 [==============================] - 1s 10ms/step - loss: 0.3133 - accuracy: 0.8610 - val_loss: 0.2302 - val_accuracy: 0.8671\n",
            "Epoch 76/100\n",
            "96/98 [============================>.] - ETA: 0s - loss: 0.2993 - accuracy: 0.8724\n",
            "Epoch 76: val_loss improved from 0.23002 to 0.22950, saving model to /content/drive/MyDrive/gachon4-2/deeplearning/week2/model.h5\n",
            "98/98 [==============================] - 2s 16ms/step - loss: 0.3012 - accuracy: 0.8713 - val_loss: 0.2295 - val_accuracy: 0.8671\n",
            "Epoch 77/100\n",
            "94/98 [===========================>..] - ETA: 0s - loss: 0.3132 - accuracy: 0.8677\n",
            "Epoch 77: val_loss did not improve from 0.22950\n",
            "98/98 [==============================] - 1s 13ms/step - loss: 0.3154 - accuracy: 0.8649 - val_loss: 0.2314 - val_accuracy: 0.8613\n",
            "Epoch 78/100\n",
            "98/98 [==============================] - ETA: 0s - loss: 0.3098 - accuracy: 0.8687\n",
            "Epoch 78: val_loss improved from 0.22950 to 0.22662, saving model to /content/drive/MyDrive/gachon4-2/deeplearning/week2/model.h5\n",
            "98/98 [==============================] - 2s 15ms/step - loss: 0.3098 - accuracy: 0.8687 - val_loss: 0.2266 - val_accuracy: 0.8613\n",
            "Epoch 79/100\n",
            "95/98 [============================>.] - ETA: 0s - loss: 0.3176 - accuracy: 0.8658\n",
            "Epoch 79: val_loss did not improve from 0.22662\n",
            "98/98 [==============================] - 1s 8ms/step - loss: 0.3158 - accuracy: 0.8668 - val_loss: 0.2324 - val_accuracy: 0.8613\n",
            "Epoch 80/100\n",
            "91/98 [==========================>...] - ETA: 0s - loss: 0.3115 - accuracy: 0.8681\n",
            "Epoch 80: val_loss did not improve from 0.22662\n",
            "98/98 [==============================] - 1s 7ms/step - loss: 0.3054 - accuracy: 0.8719 - val_loss: 0.2270 - val_accuracy: 0.8671\n",
            "Epoch 81/100\n",
            "94/98 [===========================>..] - ETA: 0s - loss: 0.3192 - accuracy: 0.8637\n",
            "Epoch 81: val_loss did not improve from 0.22662\n",
            "98/98 [==============================] - 1s 6ms/step - loss: 0.3170 - accuracy: 0.8642 - val_loss: 0.2297 - val_accuracy: 0.8613\n",
            "Epoch 82/100\n",
            "92/98 [===========================>..] - ETA: 0s - loss: 0.3180 - accuracy: 0.8648\n",
            "Epoch 82: val_loss did not improve from 0.22662\n",
            "98/98 [==============================] - 1s 7ms/step - loss: 0.3154 - accuracy: 0.8655 - val_loss: 0.2336 - val_accuracy: 0.8497\n",
            "Epoch 83/100\n",
            "94/98 [===========================>..] - ETA: 0s - loss: 0.3110 - accuracy: 0.8650\n",
            "Epoch 83: val_loss did not improve from 0.22662\n",
            "98/98 [==============================] - 0s 5ms/step - loss: 0.3105 - accuracy: 0.8655 - val_loss: 0.2283 - val_accuracy: 0.8613\n",
            "Epoch 84/100\n",
            "89/98 [==========================>...] - ETA: 0s - loss: 0.3021 - accuracy: 0.8708\n",
            "Epoch 84: val_loss did not improve from 0.22662\n",
            "98/98 [==============================] - 1s 5ms/step - loss: 0.3038 - accuracy: 0.8700 - val_loss: 0.2298 - val_accuracy: 0.8497\n",
            "Epoch 85/100\n",
            "98/98 [==============================] - ETA: 0s - loss: 0.3019 - accuracy: 0.8700\n",
            "Epoch 85: val_loss did not improve from 0.22662\n",
            "98/98 [==============================] - 1s 7ms/step - loss: 0.3019 - accuracy: 0.8700 - val_loss: 0.2280 - val_accuracy: 0.8613\n",
            "Epoch 86/100\n",
            "95/98 [============================>.] - ETA: 0s - loss: 0.3104 - accuracy: 0.8632\n",
            "Epoch 86: val_loss did not improve from 0.22662\n",
            "98/98 [==============================] - 1s 11ms/step - loss: 0.3075 - accuracy: 0.8655 - val_loss: 0.2273 - val_accuracy: 0.8613\n",
            "Epoch 87/100\n",
            "95/98 [============================>.] - ETA: 0s - loss: 0.3073 - accuracy: 0.8757\n",
            "Epoch 87: val_loss did not improve from 0.22662\n",
            "98/98 [==============================] - 1s 10ms/step - loss: 0.3095 - accuracy: 0.8739 - val_loss: 0.2269 - val_accuracy: 0.8555\n",
            "Epoch 88/100\n",
            "91/98 [==========================>...] - ETA: 0s - loss: 0.3119 - accuracy: 0.8661\n",
            "Epoch 88: val_loss improved from 0.22662 to 0.22521, saving model to /content/drive/MyDrive/gachon4-2/deeplearning/week2/model.h5\n",
            "98/98 [==============================] - 1s 8ms/step - loss: 0.3102 - accuracy: 0.8668 - val_loss: 0.2252 - val_accuracy: 0.8613\n",
            "Epoch 89/100\n",
            "93/98 [===========================>..] - ETA: 0s - loss: 0.3017 - accuracy: 0.8696\n",
            "Epoch 89: val_loss did not improve from 0.22521\n",
            "98/98 [==============================] - 1s 5ms/step - loss: 0.3027 - accuracy: 0.8700 - val_loss: 0.2255 - val_accuracy: 0.8555\n",
            "Epoch 90/100\n",
            "94/98 [===========================>..] - ETA: 0s - loss: 0.3001 - accuracy: 0.8757\n",
            "Epoch 90: val_loss did not improve from 0.22521\n",
            "98/98 [==============================] - 1s 6ms/step - loss: 0.3013 - accuracy: 0.8752 - val_loss: 0.2277 - val_accuracy: 0.8555\n",
            "Epoch 91/100\n",
            "90/98 [==========================>...] - ETA: 0s - loss: 0.3176 - accuracy: 0.8639\n",
            "Epoch 91: val_loss did not improve from 0.22521\n",
            "98/98 [==============================] - 1s 9ms/step - loss: 0.3099 - accuracy: 0.8674 - val_loss: 0.2258 - val_accuracy: 0.8497\n",
            "Epoch 92/100\n",
            "95/98 [============================>.] - ETA: 0s - loss: 0.2975 - accuracy: 0.8743\n",
            "Epoch 92: val_loss improved from 0.22521 to 0.22297, saving model to /content/drive/MyDrive/gachon4-2/deeplearning/week2/model.h5\n",
            "98/98 [==============================] - 1s 7ms/step - loss: 0.2970 - accuracy: 0.8752 - val_loss: 0.2230 - val_accuracy: 0.8613\n",
            "Epoch 93/100\n",
            "97/98 [============================>.] - ETA: 0s - loss: 0.3057 - accuracy: 0.8666\n",
            "Epoch 93: val_loss improved from 0.22297 to 0.21971, saving model to /content/drive/MyDrive/gachon4-2/deeplearning/week2/model.h5\n",
            "98/98 [==============================] - 1s 5ms/step - loss: 0.3053 - accuracy: 0.8668 - val_loss: 0.2197 - val_accuracy: 0.8671\n",
            "Epoch 94/100\n",
            "85/98 [=========================>....] - ETA: 0s - loss: 0.3079 - accuracy: 0.8684\n",
            "Epoch 94: val_loss did not improve from 0.21971\n",
            "98/98 [==============================] - 0s 5ms/step - loss: 0.3084 - accuracy: 0.8674 - val_loss: 0.2310 - val_accuracy: 0.8555\n",
            "Epoch 95/100\n",
            "96/98 [============================>.] - ETA: 0s - loss: 0.3078 - accuracy: 0.8691\n",
            "Epoch 95: val_loss did not improve from 0.21971\n",
            "98/98 [==============================] - 1s 5ms/step - loss: 0.3086 - accuracy: 0.8694 - val_loss: 0.2210 - val_accuracy: 0.8613\n",
            "Epoch 96/100\n",
            "91/98 [==========================>...] - ETA: 0s - loss: 0.2982 - accuracy: 0.8674\n",
            "Epoch 96: val_loss did not improve from 0.21971\n",
            "98/98 [==============================] - 0s 4ms/step - loss: 0.2993 - accuracy: 0.8700 - val_loss: 0.2247 - val_accuracy: 0.8555\n",
            "Epoch 97/100\n",
            "94/98 [===========================>..] - ETA: 0s - loss: 0.2877 - accuracy: 0.8803\n",
            "Epoch 97: val_loss improved from 0.21971 to 0.21860, saving model to /content/drive/MyDrive/gachon4-2/deeplearning/week2/model.h5\n",
            "98/98 [==============================] - 0s 5ms/step - loss: 0.2913 - accuracy: 0.8771 - val_loss: 0.2186 - val_accuracy: 0.8671\n",
            "Epoch 98/100\n",
            "93/98 [===========================>..] - ETA: 0s - loss: 0.2877 - accuracy: 0.8750\n",
            "Epoch 98: val_loss improved from 0.21860 to 0.21449, saving model to /content/drive/MyDrive/gachon4-2/deeplearning/week2/model.h5\n",
            "98/98 [==============================] - 1s 6ms/step - loss: 0.2849 - accuracy: 0.8764 - val_loss: 0.2145 - val_accuracy: 0.8728\n",
            "Epoch 99/100\n",
            "92/98 [===========================>..] - ETA: 0s - loss: 0.3093 - accuracy: 0.8648\n",
            "Epoch 99: val_loss did not improve from 0.21449\n",
            "98/98 [==============================] - 0s 4ms/step - loss: 0.3067 - accuracy: 0.8681 - val_loss: 0.2176 - val_accuracy: 0.8728\n",
            "Epoch 100/100\n",
            "98/98 [==============================] - ETA: 0s - loss: 0.2787 - accuracy: 0.8764\n",
            "Epoch 100: val_loss did not improve from 0.21449\n",
            "98/98 [==============================] - 1s 6ms/step - loss: 0.2787 - accuracy: 0.8764 - val_loss: 0.2204 - val_accuracy: 0.8671\n"
          ]
        }
      ]
    },
    {
      "cell_type": "code",
      "source": [
        "import matplotlib.pyplot as plt\n",
        "plt.plot(hist.history['accuracy'], 'r', label = 'train_accuracy')\n",
        "plt.plot(hist.history['val_accuracy'], 'b', label = 'test_accuracy')\n",
        "plt.ylabel('accuracy')\n",
        "plt.xlabel('epoch')\n",
        "plt.legend(loc='upper left')\n",
        "plt.show()\n",
        "\n",
        "plt.plot(hist.history['loss'], 'r', label = 'train_loss')\n",
        "plt.plot(hist.history['val_loss'], 'b', label = 'test_loss')\n",
        "plt.ylabel('loss')\n",
        "plt.xlabel('epoch')\n",
        "plt.legend(loc='upper left')\n",
        "plt.show()"
      ],
      "metadata": {
        "colab": {
          "base_uri": "https://localhost:8080/",
          "height": 880
        },
        "id": "8-W8BS9JVCs3",
        "outputId": "cf56ed2d-5bcf-49d0-c96d-22bc87473f32"
      },
      "execution_count": 131,
      "outputs": [
        {
          "output_type": "display_data",
          "data": {
            "text/plain": [
              "<Figure size 640x480 with 1 Axes>"
            ],
            "image/png": "[encoded data removed]"
          },
          "metadata": {}
        },
        {
          "output_type": "display_data",
          "data": {
            "text/plain": [
              "<Figure size 640x480 with 1 Axes>"
            ],
            "image/png": "[encoded data removed]"
          },
          "metadata": {}
        }
      ]
    },
    {
      "cell_type": "code",
      "source": [
        "# 모델 평가\n",
        "DNN_model.evaluate(X_test, Y_test)\n",
        "\n",
        "# 테스트 데이터 입력하여 예측값 구하기\n",
        "prediction = DNN_model.predict(X_test)\n",
        "\n",
        "# 3. perform evaluation on test set\n",
        "from sklearn import metrics\n",
        "from sklearn.metrics import classification_report\n",
        "from sklearn.metrics import confusion_matrix\n",
        "# evaluation for multi class classification\n",
        "y_label = np.argmax(Y_test,1)\n",
        "y_pred = np.argmax(prediction,1)\n",
        "\n",
        "print(classification_report(y_label, y_pred))\n",
        "print('Accuracy Score:', metrics.accuracy_score(y_label, y_pred))\n",
        "\n",
        "cm = confusion_matrix(y_label, y_pred)\n",
        "print(cm)\n",
        ""
      ],
      "metadata": {
        "colab": {
          "base_uri": "https://localhost:8080/"
        },
        "id": "BUmho9OQWKxH",
        "outputId": "65ef1ef8-042b-45a3-f436-fdd8db4d161e"
      },
      "execution_count": 132,
      "outputs": [
        {
          "output_type": "stream",
          "name": "stdout",
          "text": [
            "6/6 [==============================] - 0s 2ms/step - loss: 0.2204 - accuracy: 0.8671\n",
            "6/6 [==============================] - 0s 3ms/step\n",
            "              precision    recall  f1-score   support\n",
            "\n",
            "           0       0.57      0.97      0.72        30\n",
            "           1       0.99      0.94      0.97       127\n",
            "           2       0.00      0.00      0.00         6\n",
            "           3       1.00      0.10      0.18        10\n",
            "\n",
            "    accuracy                           0.87       173\n",
            "   macro avg       0.64      0.50      0.47       173\n",
            "weighted avg       0.88      0.87      0.85       173\n",
            "\n",
            "Accuracy Score: 0.8670520231213873\n",
            "[[ 29   1   0   0]\n",
            " [  7 120   0   0]\n",
            " [  6   0   0   0]\n",
            " [  9   0   0   1]]\n"
          ]
        },
        {
          "output_type": "stream",
          "name": "stderr",
          "text": [
            "/usr/local/lib/python3.10/dist-packages/sklearn/metrics/_classification.py:1344: UndefinedMetricWarning: Precision and F-score are ill-defined and being set to 0.0 in labels with no predicted samples. Use `zero_division` parameter to control this behavior.\n",
            "  _warn_prf(average, modifier, msg_start, len(result))\n",
            "/usr/local/lib/python3.10/dist-packages/sklearn/metrics/_classification.py:1344: UndefinedMetricWarning: Precision and F-score are ill-defined and being set to 0.0 in labels with no predicted samples. Use `zero_division` parameter to control this behavior.\n",
            "  _warn_prf(average, modifier, msg_start, len(result))\n",
            "/usr/local/lib/python3.10/dist-packages/sklearn/metrics/_classification.py:1344: UndefinedMetricWarning: Precision and F-score are ill-defined and being set to 0.0 in labels with no predicted samples. Use `zero_division` parameter to control this behavior.\n",
            "  _warn_prf(average, modifier, msg_start, len(result))\n"
          ]
        }
      ]
    },
    {
      "cell_type": "code",
      "source": [],
      "metadata": {
        "id": "T2WmnHlqWTFX"
      },
      "execution_count": null,
      "outputs": []
    }
  ]
}