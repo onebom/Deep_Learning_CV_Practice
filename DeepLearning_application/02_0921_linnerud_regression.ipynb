{
  "nbformat": 4,
  "nbformat_minor": 0,
  "metadata": {
    "colab": {
      "provenance": [],
      "gpuType": "T4"
    },
    "kernelspec": {
      "name": "python3",
      "display_name": "Python 3"
    },
    "language_info": {
      "name": "python"
    },
    "accelerator": "GPU"
  },
  "cells": [
    {
      "cell_type": "code",
      "execution_count": 1,
      "metadata": {
        "id": "TAsKhxXIOITI"
      },
      "outputs": [],
      "source": [
        "import pandas as pd\n",
        "from matplotlib import pyplot as plt\n",
        "from sklearn import datasets\n",
        "import sklearn.datasets as datasets\n",
        "from sklearn.model_selection import train_test_split\n",
        "import tensorflow as tf\n",
        "from keras.layers import Dense, Dropout, Input\n",
        "from keras import optimizers, Model\n",
        "from keras.callbacks import EarlyStopping\n",
        "from keras.callbacks import ModelCheckpoint\n",
        "\n",
        "import numpy as np"
      ]
    },
    {
      "cell_type": "code",
      "source": [
        "import os"
      ],
      "metadata": {
        "id": "SDV8EV_tOO3s"
      },
      "execution_count": 2,
      "outputs": []
    },
    {
      "cell_type": "markdown",
      "source": [
        "결과보고서\n",
        "1. 설계한 DNN, 1D-CNN으로 최종 test 데이터에 대해서 \"1.6 MSE\" 값 도출\n",
        "2. 데이터가 20개 밖에 되지 않아서 원활한 학습을 위해 아래의 방법 사용;\n",
        "  1. train,test로 데이터 나눈후 중복 추가생성\n",
        "  2. 모델 경량화\n",
        "    - 데이터가 워낙 적어 underfitting이 일어나기 때문에 규제 방법 다 제거\n",
        "    - 모델 layer는 깊지 않게 설계\n"
      ],
      "metadata": {
        "id": "6m2WWHDNj9tN"
      }
    },
    {
      "cell_type": "markdown",
      "source": [
        "## 1. Data 확인하기\n"
      ],
      "metadata": {
        "id": "a5LyhphrOjTV"
      }
    },
    {
      "cell_type": "code",
      "source": [
        "from sklearn.datasets import load_linnerud\n",
        "\n",
        "linnerud = load_linnerud()"
      ],
      "metadata": {
        "id": "HNNjv-r-XNsN"
      },
      "execution_count": 219,
      "outputs": []
    },
    {
      "cell_type": "code",
      "source": [
        "df = pd.concat([pd.DataFrame(linnerud.data, columns=linnerud.feature_names),\n",
        "                pd.DataFrame(linnerud.target, columns=linnerud.target_names)],\n",
        "               axis=1)\n",
        "df.head()"
      ],
      "metadata": {
        "colab": {
          "base_uri": "https://localhost:8080/",
          "height": 201
        },
        "id": "jXyA9_UDXPjd",
        "outputId": "b243a19d-2415-431c-ee3e-09997e002138"
      },
      "execution_count": 222,
      "outputs": [
        {
          "output_type": "execute_result",
          "data": {
            "text/plain": [
              "   Chins  Situps  Jumps  Weight  Waist  Pulse\n",
              "0    5.0   162.0   60.0   191.0   36.0   50.0\n",
              "1    2.0   110.0   60.0   189.0   37.0   52.0\n",
              "2   12.0   101.0  101.0   193.0   38.0   58.0\n",
              "3   12.0   105.0   37.0   162.0   35.0   62.0\n",
              "4   13.0   155.0   58.0   189.0   35.0   46.0"
            ],
            "text/html": [
              "\n",
              "  <div id=\"df-fe5c99da-913a-47ac-9bb1-f732e42707bc\" class=\"colab-df-container\">\n",
              "    <div>\n",
              "<style scoped>\n",
              "    .dataframe tbody tr th:only-of-type {\n",
              "        vertical-align: middle;\n",
              "    }\n",
              "\n",
              "    .dataframe tbody tr th {\n",
              "        vertical-align: top;\n",
              "    }\n",
              "\n",
              "    .dataframe thead th {\n",
              "        text-align: right;\n",
              "    }\n",
              "</style>\n",
              "<table border=\"1\" class=\"dataframe\">\n",
              "  <thead>\n",
              "    <tr style=\"text-align: right;\">\n",
              "      <th></th>\n",
              "      <th>Chins</th>\n",
              "      <th>Situps</th>\n",
              "      <th>Jumps</th>\n",
              "      <th>Weight</th>\n",
              "      <th>Waist</th>\n",
              "      <th>Pulse</th>\n",
              "    </tr>\n",
              "  </thead>\n",
              "  <tbody>\n",
              "    <tr>\n",
              "      <th>0</th>\n",
              "      <td>5.0</td>\n",
              "      <td>162.0</td>\n",
              "      <td>60.0</td>\n",
              "      <td>191.0</td>\n",
              "      <td>36.0</td>\n",
              "      <td>50.0</td>\n",
              "    </tr>\n",
              "    <tr>\n",
              "      <th>1</th>\n",
              "      <td>2.0</td>\n",
              "      <td>110.0</td>\n",
              "      <td>60.0</td>\n",
              "      <td>189.0</td>\n",
              "      <td>37.0</td>\n",
              "      <td>52.0</td>\n",
              "    </tr>\n",
              "    <tr>\n",
              "      <th>2</th>\n",
              "      <td>12.0</td>\n",
              "      <td>101.0</td>\n",
              "      <td>101.0</td>\n",
              "      <td>193.0</td>\n",
              "      <td>38.0</td>\n",
              "      <td>58.0</td>\n",
              "    </tr>\n",
              "    <tr>\n",
              "      <th>3</th>\n",
              "      <td>12.0</td>\n",
              "      <td>105.0</td>\n",
              "      <td>37.0</td>\n",
              "      <td>162.0</td>\n",
              "      <td>35.0</td>\n",
              "      <td>62.0</td>\n",
              "    </tr>\n",
              "    <tr>\n",
              "      <th>4</th>\n",
              "      <td>13.0</td>\n",
              "      <td>155.0</td>\n",
              "      <td>58.0</td>\n",
              "      <td>189.0</td>\n",
              "      <td>35.0</td>\n",
              "      <td>46.0</td>\n",
              "    </tr>\n",
              "  </tbody>\n",
              "</table>\n",
              "</div>\n",
              "    <div class=\"colab-df-buttons\">\n",
              "\n",
              "  <div class=\"colab-df-container\">\n",
              "    <button class=\"colab-df-convert\" onclick=\"convertToInteractive('df-fe5c99da-913a-47ac-9bb1-f732e42707bc')\"\n",
              "            title=\"Convert this dataframe to an interactive table.\"\n",
              "            style=\"display:none;\">\n",
              "\n",
              "  <svg xmlns=\"http://www.w3.org/2000/svg\" height=\"24px\" viewBox=\"0 -960 960 960\">\n",
              "    <path d=\"M120-120v-720h720v720H120Zm60-500h600v-160H180v160Zm220 220h160v-160H400v160Zm0 220h160v-160H400v160ZM180-400h160v-160H180v160Zm440 0h160v-160H620v160ZM180-180h160v-160H180v160Zm440 0h160v-160H620v160Z\"/>\n",
              "  </svg>\n",
              "    </button>\n",
              "\n",
              "  <style>\n",
              "    .colab-df-container {\n",
              "      display:flex;\n",
              "      gap: 12px;\n",
              "    }\n",
              "\n",
              "    .colab-df-convert {\n",
              "      background-color: #E8F0FE;\n",
              "      border: none;\n",
              "      border-radius: 50%;\n",
              "      cursor: pointer;\n",
              "      display: none;\n",
              "      fill: #1967D2;\n",
              "      height: 32px;\n",
              "      padding: 0 0 0 0;\n",
              "      width: 32px;\n",
              "    }\n",
              "\n",
              "    .colab-df-convert:hover {\n",
              "      background-color: #E2EBFA;\n",
              "      box-shadow: 0px 1px 2px rgba(60, 64, 67, 0.3), 0px 1px 3px 1px rgba(60, 64, 67, 0.15);\n",
              "      fill: #174EA6;\n",
              "    }\n",
              "\n",
              "    .colab-df-buttons div {\n",
              "      margin-bottom: 4px;\n",
              "    }\n",
              "\n",
              "    [theme=dark] .colab-df-convert {\n",
              "      background-color: #3B4455;\n",
              "      fill: #D2E3FC;\n",
              "    }\n",
              "\n",
              "    [theme=dark] .colab-df-convert:hover {\n",
              "      background-color: #434B5C;\n",
              "      box-shadow: 0px 1px 3px 1px rgba(0, 0, 0, 0.15);\n",
              "      filter: drop-shadow(0px 1px 2px rgba(0, 0, 0, 0.3));\n",
              "      fill: #FFFFFF;\n",
              "    }\n",
              "  </style>\n",
              "\n",
              "    <script>\n",
              "      const buttonEl =\n",
              "        document.querySelector('#df-fe5c99da-913a-47ac-9bb1-f732e42707bc button.colab-df-convert');\n",
              "      buttonEl.style.display =\n",
              "        google.colab.kernel.accessAllowed ? 'block' : 'none';\n",
              "\n",
              "      async function convertToInteractive(key) {\n",
              "        const element = document.querySelector('#df-fe5c99da-913a-47ac-9bb1-f732e42707bc');\n",
              "        const dataTable =\n",
              "          await google.colab.kernel.invokeFunction('convertToInteractive',\n",
              "                                                    [key], {});\n",
              "        if (!dataTable) return;\n",
              "\n",
              "        const docLinkHtml = 'Like what you see? Visit the ' +\n",
              "          '<a target=\"_blank\" href=https://colab.research.google.com/notebooks/data_table.ipynb>data table notebook</a>'\n",
              "          + ' to learn more about interactive tables.';\n",
              "        element.innerHTML = '';\n",
              "        dataTable['output_type'] = 'display_data';\n",
              "        await google.colab.output.renderOutput(dataTable, element);\n",
              "        const docLink = document.createElement('div');\n",
              "        docLink.innerHTML = docLinkHtml;\n",
              "        element.appendChild(docLink);\n",
              "      }\n",
              "    </script>\n",
              "  </div>\n",
              "\n",
              "\n",
              "<div id=\"df-8d56b5ea-fead-4efa-b55d-27cedd29ae98\">\n",
              "  <button class=\"colab-df-quickchart\" onclick=\"quickchart('df-8d56b5ea-fead-4efa-b55d-27cedd29ae98')\"\n",
              "            title=\"Suggest charts.\"\n",
              "            style=\"display:none;\">\n",
              "\n",
              "<svg xmlns=\"http://www.w3.org/2000/svg\" height=\"24px\"viewBox=\"0 0 24 24\"\n",
              "     width=\"24px\">\n",
              "    <g>\n",
              "        <path d=\"M19 3H5c-1.1 0-2 .9-2 2v14c0 1.1.9 2 2 2h14c1.1 0 2-.9 2-2V5c0-1.1-.9-2-2-2zM9 17H7v-7h2v7zm4 0h-2V7h2v10zm4 0h-2v-4h2v4z\"/>\n",
              "    </g>\n",
              "</svg>\n",
              "  </button>\n",
              "\n",
              "<style>\n",
              "  .colab-df-quickchart {\n",
              "      --bg-color: #E8F0FE;\n",
              "      --fill-color: #1967D2;\n",
              "      --hover-bg-color: #E2EBFA;\n",
              "      --hover-fill-color: #174EA6;\n",
              "      --disabled-fill-color: #AAA;\n",
              "      --disabled-bg-color: #DDD;\n",
              "  }\n",
              "\n",
              "  [theme=dark] .colab-df-quickchart {\n",
              "      --bg-color: #3B4455;\n",
              "      --fill-color: #D2E3FC;\n",
              "      --hover-bg-color: #434B5C;\n",
              "      --hover-fill-color: #FFFFFF;\n",
              "      --disabled-bg-color: #3B4455;\n",
              "      --disabled-fill-color: #666;\n",
              "  }\n",
              "\n",
              "  .colab-df-quickchart {\n",
              "    background-color: var(--bg-color);\n",
              "    border: none;\n",
              "    border-radius: 50%;\n",
              "    cursor: pointer;\n",
              "    display: none;\n",
              "    fill: var(--fill-color);\n",
              "    height: 32px;\n",
              "    padding: 0;\n",
              "    width: 32px;\n",
              "  }\n",
              "\n",
              "  .colab-df-quickchart:hover {\n",
              "    background-color: var(--hover-bg-color);\n",
              "    box-shadow: 0 1px 2px rgba(60, 64, 67, 0.3), 0 1px 3px 1px rgba(60, 64, 67, 0.15);\n",
              "    fill: var(--button-hover-fill-color);\n",
              "  }\n",
              "\n",
              "  .colab-df-quickchart-complete:disabled,\n",
              "  .colab-df-quickchart-complete:disabled:hover {\n",
              "    background-color: var(--disabled-bg-color);\n",
              "    fill: var(--disabled-fill-color);\n",
              "    box-shadow: none;\n",
              "  }\n",
              "\n",
              "  .colab-df-spinner {\n",
              "    border: 2px solid var(--fill-color);\n",
              "    border-color: transparent;\n",
              "    border-bottom-color: var(--fill-color);\n",
              "    animation:\n",
              "      spin 1s steps(1) infinite;\n",
              "  }\n",
              "\n",
              "  @keyframes spin {\n",
              "    0% {\n",
              "      border-color: transparent;\n",
              "      border-bottom-color: var(--fill-color);\n",
              "      border-left-color: var(--fill-color);\n",
              "    }\n",
              "    20% {\n",
              "      border-color: transparent;\n",
              "      border-left-color: var(--fill-color);\n",
              "      border-top-color: var(--fill-color);\n",
              "    }\n",
              "    30% {\n",
              "      border-color: transparent;\n",
              "      border-left-color: var(--fill-color);\n",
              "      border-top-color: var(--fill-color);\n",
              "      border-right-color: var(--fill-color);\n",
              "    }\n",
              "    40% {\n",
              "      border-color: transparent;\n",
              "      border-right-color: var(--fill-color);\n",
              "      border-top-color: var(--fill-color);\n",
              "    }\n",
              "    60% {\n",
              "      border-color: transparent;\n",
              "      border-right-color: var(--fill-color);\n",
              "    }\n",
              "    80% {\n",
              "      border-color: transparent;\n",
              "      border-right-color: var(--fill-color);\n",
              "      border-bottom-color: var(--fill-color);\n",
              "    }\n",
              "    90% {\n",
              "      border-color: transparent;\n",
              "      border-bottom-color: var(--fill-color);\n",
              "    }\n",
              "  }\n",
              "</style>\n",
              "\n",
              "  <script>\n",
              "    async function quickchart(key) {\n",
              "      const quickchartButtonEl =\n",
              "        document.querySelector('#' + key + ' button');\n",
              "      quickchartButtonEl.disabled = true;  // To prevent multiple clicks.\n",
              "      quickchartButtonEl.classList.add('colab-df-spinner');\n",
              "      try {\n",
              "        const charts = await google.colab.kernel.invokeFunction(\n",
              "            'suggestCharts', [key], {});\n",
              "      } catch (error) {\n",
              "        console.error('Error during call to suggestCharts:', error);\n",
              "      }\n",
              "      quickchartButtonEl.classList.remove('colab-df-spinner');\n",
              "      quickchartButtonEl.classList.add('colab-df-quickchart-complete');\n",
              "    }\n",
              "    (() => {\n",
              "      let quickchartButtonEl =\n",
              "        document.querySelector('#df-8d56b5ea-fead-4efa-b55d-27cedd29ae98 button');\n",
              "      quickchartButtonEl.style.display =\n",
              "        google.colab.kernel.accessAllowed ? 'block' : 'none';\n",
              "    })();\n",
              "  </script>\n",
              "</div>\n",
              "    </div>\n",
              "  </div>\n"
            ]
          },
          "metadata": {},
          "execution_count": 222
        }
      ]
    },
    {
      "cell_type": "code",
      "source": [
        "df.info()"
      ],
      "metadata": {
        "colab": {
          "base_uri": "https://localhost:8080/"
        },
        "id": "5wkbpikAOLiN",
        "outputId": "bc92826f-6bb1-4307-b4a3-8525209784d5"
      },
      "execution_count": 223,
      "outputs": [
        {
          "output_type": "stream",
          "name": "stdout",
          "text": [
            "<class 'pandas.core.frame.DataFrame'>\n",
            "RangeIndex: 20 entries, 0 to 19\n",
            "Data columns (total 6 columns):\n",
            " #   Column  Non-Null Count  Dtype  \n",
            "---  ------  --------------  -----  \n",
            " 0   Chins   20 non-null     float64\n",
            " 1   Situps  20 non-null     float64\n",
            " 2   Jumps   20 non-null     float64\n",
            " 3   Weight  20 non-null     float64\n",
            " 4   Waist   20 non-null     float64\n",
            " 5   Pulse   20 non-null     float64\n",
            "dtypes: float64(6)\n",
            "memory usage: 1.1 KB\n"
          ]
        }
      ]
    },
    {
      "cell_type": "code",
      "source": [
        "import seaborn as sns\n",
        "plt.figure(figsize=(10,6))\n",
        "sns.heatmap(df.corr().abs(), annot=True, cmap=\"viridis\");"
      ],
      "metadata": {
        "colab": {
          "base_uri": "https://localhost:8080/",
          "height": 527
        },
        "id": "Et1ssNtlNtWl",
        "outputId": "160f4b14-afcf-438e-df19-0e9883c30747"
      },
      "execution_count": 224,
      "outputs": [
        {
          "output_type": "display_data",
          "data": {
            "text/plain": [
              "<Figure size 1000x600 with 2 Axes>"
            ],
            "image/png": "[encoded data removed]"
          },
          "metadata": {}
        }
      ]
    },
    {
      "cell_type": "markdown",
      "source": [
        "## 2. Data preprocessing"
      ],
      "metadata": {
        "id": "5BwD8fO5JX9h"
      }
    },
    {
      "cell_type": "code",
      "source": [
        "df.columns"
      ],
      "metadata": {
        "colab": {
          "base_uri": "https://localhost:8080/"
        },
        "id": "1lVukIk6X4Uw",
        "outputId": "4ab06898-1962-4308-9d1e-c99c93586011"
      },
      "execution_count": 227,
      "outputs": [
        {
          "output_type": "execute_result",
          "data": {
            "text/plain": [
              "Index(['Chins', 'Situps', 'Jumps', 'Weight', 'Waist', 'Pulse'], dtype='object')"
            ]
          },
          "metadata": {},
          "execution_count": 227
        }
      ]
    },
    {
      "cell_type": "code",
      "source": [
        "X = df[['Chins', 'Situps', 'Jumps', 'Weight', 'Waist']].values\n",
        "Y = df['Pulse'].values"
      ],
      "metadata": {
        "id": "uyUSdCzEOsGu"
      },
      "execution_count": 296,
      "outputs": []
    },
    {
      "cell_type": "code",
      "source": [
        "X = np.asarray(X).astype('float32')\n",
        "Y = np.asarray(Y).astype('float32')\n",
        "Y = Y[:,np.newaxis]"
      ],
      "metadata": {
        "id": "8H1jzGZ3RK8y"
      },
      "execution_count": 297,
      "outputs": []
    },
    {
      "cell_type": "code",
      "source": [
        "print(X.min(), X.max())\n",
        "print(Y.min(), Y.max())"
      ],
      "metadata": {
        "colab": {
          "base_uri": "https://localhost:8080/"
        },
        "id": "5QoCORmIYxbE",
        "outputId": "0d820804-532f-4d25-d88a-e9c1322b0eed"
      },
      "execution_count": 298,
      "outputs": [
        {
          "output_type": "stream",
          "name": "stdout",
          "text": [
            "1.0 251.0\n",
            "46.0 74.0\n"
          ]
        }
      ]
    },
    {
      "cell_type": "code",
      "source": [
        "# from sklearn.preprocessing import MinMaxScaler\n",
        "# mm = MinMaxScaler()\n",
        "from sklearn.preprocessing import StandardScaler\n",
        "mm = StandardScaler()\n",
        "X_scaled = mm.fit_transform(X)\n",
        "Y_scaled = mm.fit_transform(Y)"
      ],
      "metadata": {
        "id": "1CssytmCwHRw"
      },
      "execution_count": 299,
      "outputs": []
    },
    {
      "cell_type": "code",
      "source": [
        "print(X_scaled.min(), X_scaled.max())\n",
        "print(Y_scaled.min(), Y_scaled.max())"
      ],
      "metadata": {
        "colab": {
          "base_uri": "https://localhost:8080/"
        },
        "id": "oLLROo5gYqoJ",
        "outputId": "bb729b3e-5677-45c8-c1b4-b9325aff0176"
      },
      "execution_count": 300,
      "outputs": [
        {
          "output_type": "stream",
          "name": "stdout",
          "text": [
            "-1.6870744 3.595503\n",
            "-1.4371493 2.5470269\n"
          ]
        }
      ]
    },
    {
      "cell_type": "code",
      "source": [
        "x_train, x_test, y_train, y_test = train_test_split(X_scaled, Y_scaled, train_size=0.9, random_state=2, shuffle=True)\n",
        "# x_train, x_val, y_train, y_val = train_test_split(x_train, y_train, train_size=0.9, random_state=2, shuffle=True)"
      ],
      "metadata": {
        "id": "Q-uIFlHmO1YJ"
      },
      "execution_count": 424,
      "outputs": []
    },
    {
      "cell_type": "code",
      "source": [
        "print(x_train.shape, y_train.shape)\n",
        "# print(x_val.shape, y_val.shape)\n",
        "print(x_test.shape, y_test.shape)"
      ],
      "metadata": {
        "colab": {
          "base_uri": "https://localhost:8080/"
        },
        "id": "5Gzt3ZhIO3Xj",
        "outputId": "ed8a158c-d39c-4fea-98ad-f56c3465e112"
      },
      "execution_count": 425,
      "outputs": [
        {
          "output_type": "stream",
          "name": "stdout",
          "text": [
            "(18, 5) (18, 1)\n",
            "(2, 5) (2, 1)\n"
          ]
        }
      ]
    },
    {
      "cell_type": "code",
      "source": [
        "for _ in range(5):\n",
        "  x_train=np.concatenate([x_train,x_train], axis=0)\n",
        "  y_train=np.concatenate([y_train,y_train], axis=0)\n",
        "\n",
        "  x_test=np.concatenate([x_test,x_test], axis=0)\n",
        "  y_test=np.concatenate([y_test,y_test], axis=0)"
      ],
      "metadata": {
        "id": "s8GkD06vb_hk"
      },
      "execution_count": 426,
      "outputs": []
    },
    {
      "cell_type": "code",
      "source": [
        "print(x_train.shape, y_train.shape)\n",
        "# print(x_val.shape, y_val.shape)\n",
        "print(x_test.shape, y_test.shape)"
      ],
      "metadata": {
        "colab": {
          "base_uri": "https://localhost:8080/"
        },
        "id": "bdve_ExUcOTO",
        "outputId": "2da40fae-357e-4ce3-cd4c-d6dfa7a7661d"
      },
      "execution_count": 427,
      "outputs": [
        {
          "output_type": "stream",
          "name": "stdout",
          "text": [
            "(576, 5) (576, 1)\n",
            "(64, 5) (64, 1)\n"
          ]
        }
      ]
    },
    {
      "cell_type": "markdown",
      "source": [
        "## 3-1. DNN modeling"
      ],
      "metadata": {
        "id": "O09MWx7mJbkv"
      }
    },
    {
      "cell_type": "code",
      "source": [
        "# define model params\n",
        "input_shape = x_train.shape[1]\n",
        "output_shape = y_train.shape[1]\n",
        "nodes = np.ceil(2 * input_shape / 3 + output_shape).astype(int)\n",
        "batch_size = np.ceil(len(x_train) / 128).astype(int)"
      ],
      "metadata": {
        "id": "tGsTAH9EUUXi"
      },
      "execution_count": 428,
      "outputs": []
    },
    {
      "cell_type": "code",
      "source": [
        "import tensorflow as tf\n",
        "from functools import partial\n",
        "\n",
        "def DNN(input_size=(5,)):\n",
        "  inputs=Input(input_size)\n",
        "\n",
        "  # dense1 = Dense(nodes, activation='relu')(inputs)\n",
        "  # drop1 = Dropout(0.5)(dense1)\n",
        "  # dense2 = Dense(nodes, activation='relu', kernel_regularizer = regularizer)(drop1)\n",
        "  # drop2 = Dropout(0.5)(dense2)\n",
        "  # dense3 = Dense(nodes, activation='relu')(drop2)\n",
        "  # drop3 = Dropout(0.5)(dense3)\n",
        "\n",
        "  outputs = Dense(1, activation='sigmoid')(inputs)\n",
        "  model = Model(inputs=inputs, outputs=outputs)\n",
        "\n",
        "  model.compile(optimizer='adam', loss='mse', metrics=['mse'])\n",
        "\n",
        "  return model\n",
        "\n"
      ],
      "metadata": {
        "id": "AUQ67dTQQP7g"
      },
      "execution_count": 429,
      "outputs": []
    },
    {
      "cell_type": "code",
      "source": [
        "DNN_model = DNN()\n",
        "DNN_model.summary()"
      ],
      "metadata": {
        "colab": {
          "base_uri": "https://localhost:8080/"
        },
        "id": "CnjvaVq5Us2L",
        "outputId": "5647c044-811b-4d09-d75b-871620121b79"
      },
      "execution_count": 430,
      "outputs": [
        {
          "output_type": "stream",
          "name": "stdout",
          "text": [
            "Model: \"model_47\"\n",
            "_________________________________________________________________\n",
            " Layer (type)                Output Shape              Param #   \n",
            "=================================================================\n",
            " input_50 (InputLayer)       [(None, 5)]               0         \n",
            "                                                                 \n",
            " dense_142 (Dense)           (None, 1)                 6         \n",
            "                                                                 \n",
            "=================================================================\n",
            "Total params: 6 (24.00 Byte)\n",
            "Trainable params: 6 (24.00 Byte)\n",
            "Non-trainable params: 0 (0.00 Byte)\n",
            "_________________________________________________________________\n"
          ]
        }
      ]
    },
    {
      "cell_type": "code",
      "source": [
        "# 모델 컴파일 하기\n",
        "PATH= \"/content/drive/MyDrive/gachon4-2/deeplearning/week2/\"\n",
        "model_checkpoint = ModelCheckpoint(filepath =  os.path.join(PATH,\"model.h5\"), monitor='val_loss', verbose=1, save_best_only=True)\n",
        "early_stopping = EarlyStopping(monitor = 'val_loss', min_delta = 0, patience = 20)"
      ],
      "metadata": {
        "id": "8ZJ_jRysUvu6"
      },
      "execution_count": 431,
      "outputs": []
    },
    {
      "cell_type": "code",
      "source": [
        "# 모델 학습\n",
        "hist = DNN_model.fit(\n",
        "                  x_train, y_train,                        # 입력 / 라벨\n",
        "                  epochs = 100, batch_size = batch_size,            # 학습 회수 / 학습 10번 후 오차 감소\n",
        "                  validation_data=(x_test, y_test),        # 검증 데이터\n",
        "                  callbacks = [model_checkpoint, early_stopping], # 저장 및 모니터링\n",
        "                  shuffle=True\n",
        "                 )\n",
        "\n"
      ],
      "metadata": {
        "colab": {
          "base_uri": "https://localhost:8080/"
        },
        "id": "A93HHcxzU6-K",
        "outputId": "3d2827ca-17be-4375-c5b8-339b58cb18ac"
      },
      "execution_count": 432,
      "outputs": [
        {
          "output_type": "stream",
          "name": "stdout",
          "text": [
            "Epoch 1/100\n",
            "114/116 [============================>.] - ETA: 0s - loss: 1.1676 - mse: 1.1676\n",
            "Epoch 1: val_loss improved from inf to 1.74272, saving model to /content/drive/MyDrive/gachon4-2/deeplearning/week2/model.h5\n",
            "116/116 [==============================] - 1s 7ms/step - loss: 1.1674 - mse: 1.1674 - val_loss: 1.7427 - val_mse: 1.7427\n",
            "Epoch 2/100\n",
            "100/116 [========================>.....] - ETA: 0s - loss: 1.1146 - mse: 1.1146\n",
            "Epoch 2: val_loss improved from 1.74272 to 1.71278, saving model to /content/drive/MyDrive/gachon4-2/deeplearning/week2/model.h5\n",
            "116/116 [==============================] - 0s 3ms/step - loss: 1.1220 - mse: 1.1220 - val_loss: 1.7128 - val_mse: 1.7128\n",
            "Epoch 3/100\n",
            "111/116 [===========================>..] - ETA: 0s - loss: 1.0903 - mse: 1.0903\n",
            "Epoch 3: val_loss improved from 1.71278 to 1.69051, saving model to /content/drive/MyDrive/gachon4-2/deeplearning/week2/model.h5\n",
            "116/116 [==============================] - 0s 3ms/step - loss: 1.0859 - mse: 1.0859 - val_loss: 1.6905 - val_mse: 1.6905\n",
            "Epoch 4/100\n",
            "113/116 [============================>.] - ETA: 0s - loss: 1.0514 - mse: 1.0514\n",
            "Epoch 4: val_loss improved from 1.69051 to 1.66854, saving model to /content/drive/MyDrive/gachon4-2/deeplearning/week2/model.h5\n",
            "116/116 [==============================] - 0s 4ms/step - loss: 1.0577 - mse: 1.0577 - val_loss: 1.6685 - val_mse: 1.6685\n",
            "Epoch 5/100\n",
            "116/116 [==============================] - ETA: 0s - loss: 1.0360 - mse: 1.0360\n",
            "Epoch 5: val_loss improved from 1.66854 to 1.65135, saving model to /content/drive/MyDrive/gachon4-2/deeplearning/week2/model.h5\n",
            "116/116 [==============================] - 0s 3ms/step - loss: 1.0360 - mse: 1.0360 - val_loss: 1.6514 - val_mse: 1.6514\n",
            "Epoch 6/100\n",
            "102/116 [=========================>....] - ETA: 0s - loss: 1.0171 - mse: 1.0171\n",
            "Epoch 6: val_loss improved from 1.65135 to 1.63862, saving model to /content/drive/MyDrive/gachon4-2/deeplearning/week2/model.h5\n",
            "116/116 [==============================] - 0s 4ms/step - loss: 1.0184 - mse: 1.0184 - val_loss: 1.6386 - val_mse: 1.6386\n",
            "Epoch 7/100\n",
            "115/116 [============================>.] - ETA: 0s - loss: 1.0049 - mse: 1.0049\n",
            "Epoch 7: val_loss improved from 1.63862 to 1.62747, saving model to /content/drive/MyDrive/gachon4-2/deeplearning/week2/model.h5\n",
            "116/116 [==============================] - 0s 3ms/step - loss: 1.0035 - mse: 1.0035 - val_loss: 1.6275 - val_mse: 1.6275\n",
            "Epoch 8/100\n",
            "113/116 [============================>.] - ETA: 0s - loss: 0.9823 - mse: 0.9823\n",
            "Epoch 8: val_loss improved from 1.62747 to 1.61645, saving model to /content/drive/MyDrive/gachon4-2/deeplearning/week2/model.h5\n",
            "116/116 [==============================] - 0s 3ms/step - loss: 0.9905 - mse: 0.9905 - val_loss: 1.6164 - val_mse: 1.6164\n",
            "Epoch 9/100\n",
            " 96/116 [=======================>......] - ETA: 0s - loss: 0.9883 - mse: 0.9883\n",
            "Epoch 9: val_loss improved from 1.61645 to 1.60848, saving model to /content/drive/MyDrive/gachon4-2/deeplearning/week2/model.h5\n",
            "116/116 [==============================] - 0s 3ms/step - loss: 0.9786 - mse: 0.9786 - val_loss: 1.6085 - val_mse: 1.6085\n",
            "Epoch 10/100\n",
            "115/116 [============================>.] - ETA: 0s - loss: 0.9689 - mse: 0.9689\n",
            "Epoch 10: val_loss improved from 1.60848 to 1.60129, saving model to /content/drive/MyDrive/gachon4-2/deeplearning/week2/model.h5\n",
            "116/116 [==============================] - 0s 4ms/step - loss: 0.9679 - mse: 0.9679 - val_loss: 1.6013 - val_mse: 1.6013\n",
            "Epoch 11/100\n",
            "113/116 [============================>.] - ETA: 0s - loss: 0.9450 - mse: 0.9450\n",
            "Epoch 11: val_loss improved from 1.60129 to 1.59503, saving model to /content/drive/MyDrive/gachon4-2/deeplearning/week2/model.h5\n",
            "116/116 [==============================] - 1s 5ms/step - loss: 0.9582 - mse: 0.9582 - val_loss: 1.5950 - val_mse: 1.5950\n",
            "Epoch 12/100\n",
            "114/116 [============================>.] - ETA: 0s - loss: 0.9479 - mse: 0.9479\n",
            "Epoch 12: val_loss improved from 1.59503 to 1.58830, saving model to /content/drive/MyDrive/gachon4-2/deeplearning/week2/model.h5\n",
            "116/116 [==============================] - 1s 5ms/step - loss: 0.9495 - mse: 0.9495 - val_loss: 1.5883 - val_mse: 1.5883\n",
            "Epoch 13/100\n",
            "106/116 [==========================>...] - ETA: 0s - loss: 0.9429 - mse: 0.9429\n",
            "Epoch 13: val_loss improved from 1.58830 to 1.58525, saving model to /content/drive/MyDrive/gachon4-2/deeplearning/week2/model.h5\n",
            "116/116 [==============================] - 1s 5ms/step - loss: 0.9414 - mse: 0.9414 - val_loss: 1.5853 - val_mse: 1.5853\n",
            "Epoch 14/100\n",
            "105/116 [==========================>...] - ETA: 1s - loss: 0.9162 - mse: 0.9162\n",
            "Epoch 14: val_loss improved from 1.58525 to 1.58055, saving model to /content/drive/MyDrive/gachon4-2/deeplearning/week2/model.h5\n",
            "116/116 [==============================] - 15s 129ms/step - loss: 0.9341 - mse: 0.9341 - val_loss: 1.5805 - val_mse: 1.5805\n",
            "Epoch 15/100\n",
            "100/116 [========================>.....] - ETA: 0s - loss: 0.9086 - mse: 0.9086\n",
            "Epoch 15: val_loss improved from 1.58055 to 1.57757, saving model to /content/drive/MyDrive/gachon4-2/deeplearning/week2/model.h5\n",
            "116/116 [==============================] - 0s 3ms/step - loss: 0.9271 - mse: 0.9271 - val_loss: 1.5776 - val_mse: 1.5776\n",
            "Epoch 16/100\n",
            "114/116 [============================>.] - ETA: 0s - loss: 0.9237 - mse: 0.9237\n",
            "Epoch 16: val_loss improved from 1.57757 to 1.57404, saving model to /content/drive/MyDrive/gachon4-2/deeplearning/week2/model.h5\n",
            "116/116 [==============================] - 0s 3ms/step - loss: 0.9205 - mse: 0.9205 - val_loss: 1.5740 - val_mse: 1.5740\n",
            "Epoch 17/100\n",
            "112/116 [===========================>..] - ETA: 0s - loss: 0.9075 - mse: 0.9075\n",
            "Epoch 17: val_loss improved from 1.57404 to 1.57091, saving model to /content/drive/MyDrive/gachon4-2/deeplearning/week2/model.h5\n",
            "116/116 [==============================] - 0s 3ms/step - loss: 0.9149 - mse: 0.9149 - val_loss: 1.5709 - val_mse: 1.5709\n",
            "Epoch 18/100\n",
            "114/116 [============================>.] - ETA: 0s - loss: 0.9074 - mse: 0.9074\n",
            "Epoch 18: val_loss improved from 1.57091 to 1.56958, saving model to /content/drive/MyDrive/gachon4-2/deeplearning/week2/model.h5\n",
            "116/116 [==============================] - 0s 3ms/step - loss: 0.9090 - mse: 0.9090 - val_loss: 1.5696 - val_mse: 1.5696\n",
            "Epoch 19/100\n",
            "112/116 [===========================>..] - ETA: 0s - loss: 0.9069 - mse: 0.9069\n",
            "Epoch 19: val_loss improved from 1.56958 to 1.56519, saving model to /content/drive/MyDrive/gachon4-2/deeplearning/week2/model.h5\n",
            "116/116 [==============================] - 0s 3ms/step - loss: 0.9036 - mse: 0.9036 - val_loss: 1.5652 - val_mse: 1.5652\n",
            "Epoch 20/100\n",
            " 98/116 [========================>.....] - ETA: 0s - loss: 0.9154 - mse: 0.9154\n",
            "Epoch 20: val_loss did not improve from 1.56519\n",
            "116/116 [==============================] - 0s 3ms/step - loss: 0.8984 - mse: 0.8984 - val_loss: 1.5654 - val_mse: 1.5654\n",
            "Epoch 21/100\n",
            "114/116 [============================>.] - ETA: 0s - loss: 0.8915 - mse: 0.8915\n",
            "Epoch 21: val_loss improved from 1.56519 to 1.56207, saving model to /content/drive/MyDrive/gachon4-2/deeplearning/week2/model.h5\n",
            "116/116 [==============================] - 0s 4ms/step - loss: 0.8937 - mse: 0.8937 - val_loss: 1.5621 - val_mse: 1.5621\n",
            "Epoch 22/100\n",
            "115/116 [============================>.] - ETA: 0s - loss: 0.8892 - mse: 0.8892\n",
            "Epoch 22: val_loss improved from 1.56207 to 1.56158, saving model to /content/drive/MyDrive/gachon4-2/deeplearning/week2/model.h5\n",
            "116/116 [==============================] - 0s 3ms/step - loss: 0.8890 - mse: 0.8890 - val_loss: 1.5616 - val_mse: 1.5616\n",
            "Epoch 23/100\n",
            "111/116 [===========================>..] - ETA: 0s - loss: 0.8741 - mse: 0.8741\n",
            "Epoch 23: val_loss improved from 1.56158 to 1.55983, saving model to /content/drive/MyDrive/gachon4-2/deeplearning/week2/model.h5\n",
            "116/116 [==============================] - 0s 3ms/step - loss: 0.8844 - mse: 0.8844 - val_loss: 1.5598 - val_mse: 1.5598\n",
            "Epoch 24/100\n",
            "116/116 [==============================] - ETA: 0s - loss: 0.8799 - mse: 0.8799\n",
            "Epoch 24: val_loss did not improve from 1.55983\n",
            "116/116 [==============================] - 0s 3ms/step - loss: 0.8799 - mse: 0.8799 - val_loss: 1.5604 - val_mse: 1.5604\n",
            "Epoch 25/100\n",
            "102/116 [=========================>....] - ETA: 0s - loss: 0.8636 - mse: 0.8636\n",
            "Epoch 25: val_loss improved from 1.55983 to 1.55947, saving model to /content/drive/MyDrive/gachon4-2/deeplearning/week2/model.h5\n",
            "116/116 [==============================] - 0s 3ms/step - loss: 0.8758 - mse: 0.8758 - val_loss: 1.5595 - val_mse: 1.5595\n",
            "Epoch 26/100\n",
            "111/116 [===========================>..] - ETA: 0s - loss: 0.8713 - mse: 0.8713\n",
            "Epoch 26: val_loss did not improve from 1.55947\n",
            "116/116 [==============================] - 0s 3ms/step - loss: 0.8718 - mse: 0.8718 - val_loss: 1.5608 - val_mse: 1.5608\n",
            "Epoch 27/100\n",
            "108/116 [==========================>...] - ETA: 0s - loss: 0.8456 - mse: 0.8456\n",
            "Epoch 27: val_loss did not improve from 1.55947\n",
            "116/116 [==============================] - 0s 3ms/step - loss: 0.8677 - mse: 0.8677 - val_loss: 1.5612 - val_mse: 1.5612\n",
            "Epoch 28/100\n",
            "115/116 [============================>.] - ETA: 0s - loss: 0.8650 - mse: 0.8650\n",
            "Epoch 28: val_loss did not improve from 1.55947\n",
            "116/116 [==============================] - 0s 4ms/step - loss: 0.8636 - mse: 0.8636 - val_loss: 1.5620 - val_mse: 1.5620\n",
            "Epoch 29/100\n",
            "100/116 [========================>.....] - ETA: 0s - loss: 0.8617 - mse: 0.8617\n",
            "Epoch 29: val_loss did not improve from 1.55947\n",
            "116/116 [==============================] - 0s 3ms/step - loss: 0.8599 - mse: 0.8599 - val_loss: 1.5628 - val_mse: 1.5628\n",
            "Epoch 30/100\n",
            "112/116 [===========================>..] - ETA: 0s - loss: 0.8342 - mse: 0.8342\n",
            "Epoch 30: val_loss did not improve from 1.55947\n",
            "116/116 [==============================] - 0s 4ms/step - loss: 0.8559 - mse: 0.8559 - val_loss: 1.5639 - val_mse: 1.5639\n",
            "Epoch 31/100\n",
            "101/116 [=========================>....] - ETA: 0s - loss: 0.8657 - mse: 0.8657\n",
            "Epoch 31: val_loss did not improve from 1.55947\n",
            "116/116 [==============================] - 0s 3ms/step - loss: 0.8522 - mse: 0.8522 - val_loss: 1.5635 - val_mse: 1.5635\n",
            "Epoch 32/100\n",
            "113/116 [============================>.] - ETA: 0s - loss: 0.8487 - mse: 0.8487\n",
            "Epoch 32: val_loss did not improve from 1.55947\n",
            "116/116 [==============================] - 0s 4ms/step - loss: 0.8485 - mse: 0.8485 - val_loss: 1.5652 - val_mse: 1.5652\n",
            "Epoch 33/100\n",
            "110/116 [===========================>..] - ETA: 0s - loss: 0.8248 - mse: 0.8248\n",
            "Epoch 33: val_loss did not improve from 1.55947\n",
            "116/116 [==============================] - 0s 3ms/step - loss: 0.8450 - mse: 0.8450 - val_loss: 1.5664 - val_mse: 1.5664\n",
            "Epoch 34/100\n",
            "115/116 [============================>.] - ETA: 0s - loss: 0.8428 - mse: 0.8428\n",
            "Epoch 34: val_loss did not improve from 1.55947\n",
            "116/116 [==============================] - 0s 3ms/step - loss: 0.8414 - mse: 0.8414 - val_loss: 1.5688 - val_mse: 1.5688\n",
            "Epoch 35/100\n",
            " 99/116 [========================>.....] - ETA: 0s - loss: 0.8676 - mse: 0.8676\n",
            "Epoch 35: val_loss did not improve from 1.55947\n",
            "116/116 [==============================] - 0s 3ms/step - loss: 0.8379 - mse: 0.8379 - val_loss: 1.5722 - val_mse: 1.5722\n",
            "Epoch 36/100\n",
            " 99/116 [========================>.....] - ETA: 0s - loss: 0.8303 - mse: 0.8303\n",
            "Epoch 36: val_loss did not improve from 1.55947\n",
            "116/116 [==============================] - 0s 3ms/step - loss: 0.8346 - mse: 0.8346 - val_loss: 1.5753 - val_mse: 1.5753\n",
            "Epoch 37/100\n",
            "115/116 [============================>.] - ETA: 0s - loss: 0.8316 - mse: 0.8316\n",
            "Epoch 37: val_loss did not improve from 1.55947\n",
            "116/116 [==============================] - 0s 4ms/step - loss: 0.8312 - mse: 0.8312 - val_loss: 1.5774 - val_mse: 1.5774\n",
            "Epoch 38/100\n",
            "106/116 [==========================>...] - ETA: 0s - loss: 0.8205 - mse: 0.8205\n",
            "Epoch 38: val_loss did not improve from 1.55947\n",
            "116/116 [==============================] - 1s 5ms/step - loss: 0.8278 - mse: 0.8278 - val_loss: 1.5816 - val_mse: 1.5816\n",
            "Epoch 39/100\n",
            "114/116 [============================>.] - ETA: 0s - loss: 0.8281 - mse: 0.8281\n",
            "Epoch 39: val_loss did not improve from 1.55947\n",
            "116/116 [==============================] - 1s 4ms/step - loss: 0.8246 - mse: 0.8246 - val_loss: 1.5842 - val_mse: 1.5842\n",
            "Epoch 40/100\n",
            "112/116 [===========================>..] - ETA: 0s - loss: 0.8176 - mse: 0.8176\n",
            "Epoch 40: val_loss did not improve from 1.55947\n",
            "116/116 [==============================] - 1s 5ms/step - loss: 0.8215 - mse: 0.8215 - val_loss: 1.5858 - val_mse: 1.5858\n",
            "Epoch 41/100\n",
            "111/116 [===========================>..] - ETA: 0s - loss: 0.8062 - mse: 0.8062\n",
            "Epoch 41: val_loss did not improve from 1.55947\n",
            "116/116 [==============================] - 1s 5ms/step - loss: 0.8183 - mse: 0.8183 - val_loss: 1.5895 - val_mse: 1.5895\n",
            "Epoch 42/100\n",
            "105/116 [==========================>...] - ETA: 0s - loss: 0.8064 - mse: 0.8064\n",
            "Epoch 42: val_loss did not improve from 1.55947\n",
            "116/116 [==============================] - 1s 5ms/step - loss: 0.8152 - mse: 0.8152 - val_loss: 1.5897 - val_mse: 1.5897\n",
            "Epoch 43/100\n",
            "105/116 [==========================>...] - ETA: 0s - loss: 0.7972 - mse: 0.7972\n",
            "Epoch 43: val_loss did not improve from 1.55947\n",
            "116/116 [==============================] - 1s 5ms/step - loss: 0.8120 - mse: 0.8120 - val_loss: 1.5941 - val_mse: 1.5941\n",
            "Epoch 44/100\n",
            "111/116 [===========================>..] - ETA: 0s - loss: 0.8135 - mse: 0.8135\n",
            "Epoch 44: val_loss did not improve from 1.55947\n",
            "116/116 [==============================] - 1s 5ms/step - loss: 0.8091 - mse: 0.8091 - val_loss: 1.5979 - val_mse: 1.5979\n",
            "Epoch 45/100\n",
            "112/116 [===========================>..] - ETA: 0s - loss: 0.8100 - mse: 0.8100\n",
            "Epoch 45: val_loss did not improve from 1.55947\n",
            "116/116 [==============================] - 0s 3ms/step - loss: 0.8060 - mse: 0.8060 - val_loss: 1.6003 - val_mse: 1.6003\n"
          ]
        }
      ]
    },
    {
      "cell_type": "markdown",
      "source": [
        "## 4-1. DNN Evaluation"
      ],
      "metadata": {
        "id": "Xr7VYwqoVdDU"
      }
    },
    {
      "cell_type": "code",
      "source": [
        "import matplotlib.pyplot as plt\n",
        "plt.plot(hist.history['loss'], 'r', label = 'train_loss')\n",
        "plt.plot(hist.history['val_loss'], 'b', label = 'test_loss')\n",
        "plt.ylabel('loss')\n",
        "plt.xlabel('epoch')\n",
        "plt.legend(loc='upper left')\n",
        "plt.show()"
      ],
      "metadata": {
        "colab": {
          "base_uri": "https://localhost:8080/",
          "height": 448
        },
        "id": "Z7l5nSadMQTs",
        "outputId": "ed422263-7fd3-4e10-f56d-a34087467a20"
      },
      "execution_count": 433,
      "outputs": [
        {
          "output_type": "display_data",
          "data": {
            "text/plain": [
              "<Figure size 640x480 with 1 Axes>"
            ],
            "image/png": "[encoded data removed]"
          },
          "metadata": {}
        }
      ]
    },
    {
      "cell_type": "code",
      "source": [
        "# 모델 평가\n",
        "DNN_model.evaluate(x_test, y_test)"
      ],
      "metadata": {
        "colab": {
          "base_uri": "https://localhost:8080/"
        },
        "id": "NYi_0Bs7MSCy",
        "outputId": "783acb85-db57-48f1-a197-1a0a3d411502"
      },
      "execution_count": 434,
      "outputs": [
        {
          "output_type": "stream",
          "name": "stdout",
          "text": [
            "2/2 [==============================] - 0s 6ms/step - loss: 1.6003 - mse: 1.6003\n"
          ]
        },
        {
          "output_type": "execute_result",
          "data": {
            "text/plain": [
              "[1.6002509593963623, 1.6002509593963623]"
            ]
          },
          "metadata": {},
          "execution_count": 434
        }
      ]
    },
    {
      "cell_type": "code",
      "source": [
        "plt.figure(figsize=(20, 5))\n",
        "\n",
        "inference = DNN_model.predict(X_scaled)[:,0]\n",
        "\n",
        "for i, x_col in enumerate(X_scaled.transpose(1,0)):\n",
        "    # 3 plots here hence 1, 3\n",
        "    plt.subplot(1, 5, i+1)\n",
        "    x = x_col\n",
        "    y = Y_scaled[:,0]\n",
        "    # print(x.shape, y.shape, inference.shape)\n",
        "    plt.plot(x, y, 'o')\n",
        "    # Create regression line\n",
        "    plt.plot(np.unique(x), np.poly1d(np.polyfit(x, y, 1))(np.unique(x)))\n",
        "    plt.plot(np.unique(x), np.poly1d(np.polyfit(x, inference, 1))(np.unique(x)))"
      ],
      "metadata": {
        "colab": {
          "base_uri": "https://localhost:8080/",
          "height": 289
        },
        "id": "9geZpQJHgz93",
        "outputId": "f2351bcc-4b79-41ca-8f9e-6eb8e6952c98"
      },
      "execution_count": 435,
      "outputs": [
        {
          "output_type": "stream",
          "name": "stdout",
          "text": [
            "1/1 [==============================] - 0s 77ms/step\n"
          ]
        },
        {
          "output_type": "display_data",
          "data": {
            "text/plain": [
              "<Figure size 2000x500 with 5 Axes>"
            ],
            "image/png": "[encoded data removed]"
          },
          "metadata": {}
        }
      ]
    },
    {
      "cell_type": "markdown",
      "source": [
        "## 3-2. 1D-CNN modeling & Train"
      ],
      "metadata": {
        "id": "6oe49MV5LjSR"
      }
    },
    {
      "cell_type": "code",
      "source": [
        "x_train.shape"
      ],
      "metadata": {
        "colab": {
          "base_uri": "https://localhost:8080/"
        },
        "id": "x1hvhXyzJ_h_",
        "outputId": "455360fd-f177-4835-9f0c-9ea3b3ecfaee"
      },
      "execution_count": 436,
      "outputs": [
        {
          "output_type": "execute_result",
          "data": {
            "text/plain": [
              "(576, 5)"
            ]
          },
          "metadata": {},
          "execution_count": 436
        }
      ]
    },
    {
      "cell_type": "code",
      "source": [
        "x_train=x_train[:,:,np.newaxis]\n",
        "# x_val=x_val[:,:,np.newaxis]\n",
        "x_test=x_test[:,:,np.newaxis]"
      ],
      "metadata": {
        "id": "XEBeMtJT2kj0"
      },
      "execution_count": 437,
      "outputs": []
    },
    {
      "cell_type": "code",
      "source": [
        "x_train.shape"
      ],
      "metadata": {
        "colab": {
          "base_uri": "https://localhost:8080/"
        },
        "id": "YcL7k8bSKUkj",
        "outputId": "600889c4-37b2-4583-e2fc-213634274446"
      },
      "execution_count": 438,
      "outputs": [
        {
          "output_type": "execute_result",
          "data": {
            "text/plain": [
              "(576, 5, 1)"
            ]
          },
          "metadata": {},
          "execution_count": 438
        }
      ]
    },
    {
      "cell_type": "code",
      "source": [
        "\n",
        "from keras.layers import Dense, Dropout, Input, Conv1D, MaxPooling1D, Flatten\n",
        "from keras import optimizers, Model\n",
        "from keras.callbacks import EarlyStopping\n",
        "from keras.callbacks import ModelCheckpoint\n",
        "\n",
        "def CNN_1D(input_size=(5,1)):\n",
        "  inputs=Input(input_size)\n",
        "  conv = Conv1D(filters=2, kernel_size=2, activation='relu')(inputs)\n",
        "  flat = Flatten()(conv)\n",
        "\n",
        "  outputs = Dense(1, activation='sigmoid')(flat)\n",
        "  model = Model(inputs=inputs, outputs=outputs)\n",
        "\n",
        "  model.compile(optimizer='adam', loss='mse', metrics=['mse'])\n",
        "\n",
        "  return model"
      ],
      "metadata": {
        "id": "T2WmnHlqWTFX"
      },
      "execution_count": 454,
      "outputs": []
    },
    {
      "cell_type": "code",
      "source": [
        "cnn_model = CNN_1D()\n",
        "cnn_model.summary()"
      ],
      "metadata": {
        "colab": {
          "base_uri": "https://localhost:8080/"
        },
        "id": "C3SUfDigzsmU",
        "outputId": "6a4b51e5-673b-4f37-ad74-01bf3ac28774"
      },
      "execution_count": 455,
      "outputs": [
        {
          "output_type": "stream",
          "name": "stdout",
          "text": [
            "Model: \"model_51\"\n",
            "_________________________________________________________________\n",
            " Layer (type)                Output Shape              Param #   \n",
            "=================================================================\n",
            " input_55 (InputLayer)       [(None, 5, 1)]            0         \n",
            "                                                                 \n",
            " conv1d_25 (Conv1D)          (None, 4, 2)              6         \n",
            "                                                                 \n",
            " flatten_14 (Flatten)        (None, 8)                 0         \n",
            "                                                                 \n",
            " dense_146 (Dense)           (None, 1)                 9         \n",
            "                                                                 \n",
            "=================================================================\n",
            "Total params: 15 (60.00 Byte)\n",
            "Trainable params: 15 (60.00 Byte)\n",
            "Non-trainable params: 0 (0.00 Byte)\n",
            "_________________________________________________________________\n"
          ]
        }
      ]
    },
    {
      "cell_type": "code",
      "source": [
        "# 모델 컴파일 하기\n",
        "PATH= \"/content/drive/MyDrive/gachon4-2/deeplearning/week2/\"\n",
        "model_checkpoint = ModelCheckpoint(filepath =  os.path.join(PATH,\"model.h5\"), monitor='val_loss', verbose=1, save_best_only=True)\n",
        "early_stopping = EarlyStopping(monitor = 'val_loss', min_delta = 0, patience = 20)"
      ],
      "metadata": {
        "id": "kYEeACMWzvFu"
      },
      "execution_count": 456,
      "outputs": []
    },
    {
      "cell_type": "code",
      "source": [
        "# 모델 학습\n",
        "hist = cnn_model.fit(\n",
        "                  x_train, y_train,                        # 입력 / 라벨\n",
        "                  epochs = 200, batch_size = batch_size,            # 학습 회수 / 학습 10번 후 오차 감소\n",
        "                  validation_data=(x_test, y_test),        # 검증 데이터\n",
        "                  callbacks = [model_checkpoint, early_stopping], # 저장 및 모니터링\n",
        "                  shuffle=True\n",
        "                 )\n"
      ],
      "metadata": {
        "colab": {
          "base_uri": "https://localhost:8080/"
        },
        "id": "cvMYGzNf2giw",
        "outputId": "2e33671f-4734-419e-f76f-e7612e668a18"
      },
      "execution_count": 458,
      "outputs": [
        {
          "output_type": "stream",
          "name": "stdout",
          "text": [
            "Epoch 1/200\n",
            "114/116 [============================>.] - ETA: 0s - loss: 0.6925 - mse: 0.6925\n",
            "Epoch 1: val_loss improved from 1.82226 to 1.81915, saving model to /content/drive/MyDrive/gachon4-2/deeplearning/week2/model.h5\n",
            "116/116 [==============================] - 1s 6ms/step - loss: 0.6943 - mse: 0.6943 - val_loss: 1.8192 - val_mse: 1.8192\n",
            "Epoch 2/200\n",
            "113/116 [============================>.] - ETA: 0s - loss: 0.6901 - mse: 0.6901\n",
            "Epoch 2: val_loss improved from 1.81915 to 1.81727, saving model to /content/drive/MyDrive/gachon4-2/deeplearning/week2/model.h5\n",
            "116/116 [==============================] - 1s 6ms/step - loss: 0.6875 - mse: 0.6875 - val_loss: 1.8173 - val_mse: 1.8173\n",
            "Epoch 3/200\n",
            "112/116 [===========================>..] - ETA: 0s - loss: 0.6880 - mse: 0.6880\n",
            "Epoch 3: val_loss improved from 1.81727 to 1.81365, saving model to /content/drive/MyDrive/gachon4-2/deeplearning/week2/model.h5\n",
            "116/116 [==============================] - 1s 6ms/step - loss: 0.6813 - mse: 0.6813 - val_loss: 1.8136 - val_mse: 1.8136\n",
            "Epoch 4/200\n",
            "108/116 [==========================>...] - ETA: 0s - loss: 0.6846 - mse: 0.6846\n",
            "Epoch 4: val_loss improved from 1.81365 to 1.80962, saving model to /content/drive/MyDrive/gachon4-2/deeplearning/week2/model.h5\n",
            "116/116 [==============================] - 1s 7ms/step - loss: 0.6748 - mse: 0.6748 - val_loss: 1.8096 - val_mse: 1.8096\n",
            "Epoch 5/200\n",
            "100/116 [========================>.....] - ETA: 0s - loss: 0.6568 - mse: 0.6568\n",
            "Epoch 5: val_loss improved from 1.80962 to 1.80563, saving model to /content/drive/MyDrive/gachon4-2/deeplearning/week2/model.h5\n",
            "116/116 [==============================] - 0s 4ms/step - loss: 0.6685 - mse: 0.6685 - val_loss: 1.8056 - val_mse: 1.8056\n",
            "Epoch 6/200\n",
            "108/116 [==========================>...] - ETA: 0s - loss: 0.6537 - mse: 0.6537\n",
            "Epoch 6: val_loss improved from 1.80563 to 1.80028, saving model to /content/drive/MyDrive/gachon4-2/deeplearning/week2/model.h5\n",
            "116/116 [==============================] - 0s 4ms/step - loss: 0.6626 - mse: 0.6626 - val_loss: 1.8003 - val_mse: 1.8003\n",
            "Epoch 7/200\n",
            "116/116 [==============================] - ETA: 0s - loss: 0.6560 - mse: 0.6560\n",
            "Epoch 7: val_loss improved from 1.80028 to 1.79613, saving model to /content/drive/MyDrive/gachon4-2/deeplearning/week2/model.h5\n",
            "116/116 [==============================] - 0s 4ms/step - loss: 0.6560 - mse: 0.6560 - val_loss: 1.7961 - val_mse: 1.7961\n",
            "Epoch 8/200\n",
            "113/116 [============================>.] - ETA: 0s - loss: 0.6550 - mse: 0.6550\n",
            "Epoch 8: val_loss improved from 1.79613 to 1.79078, saving model to /content/drive/MyDrive/gachon4-2/deeplearning/week2/model.h5\n",
            "116/116 [==============================] - 0s 4ms/step - loss: 0.6503 - mse: 0.6503 - val_loss: 1.7908 - val_mse: 1.7908\n",
            "Epoch 9/200\n",
            "102/116 [=========================>....] - ETA: 0s - loss: 0.6435 - mse: 0.6435\n",
            "Epoch 9: val_loss improved from 1.79078 to 1.78335, saving model to /content/drive/MyDrive/gachon4-2/deeplearning/week2/model.h5\n",
            "116/116 [==============================] - 0s 4ms/step - loss: 0.6445 - mse: 0.6445 - val_loss: 1.7834 - val_mse: 1.7834\n",
            "Epoch 10/200\n",
            " 99/116 [========================>.....] - ETA: 0s - loss: 0.6329 - mse: 0.6329\n",
            "Epoch 10: val_loss improved from 1.78335 to 1.77803, saving model to /content/drive/MyDrive/gachon4-2/deeplearning/week2/model.h5\n",
            "116/116 [==============================] - 0s 4ms/step - loss: 0.6389 - mse: 0.6389 - val_loss: 1.7780 - val_mse: 1.7780\n",
            "Epoch 11/200\n",
            "103/116 [=========================>....] - ETA: 0s - loss: 0.6346 - mse: 0.6346\n",
            "Epoch 11: val_loss improved from 1.77803 to 1.77138, saving model to /content/drive/MyDrive/gachon4-2/deeplearning/week2/model.h5\n",
            "116/116 [==============================] - 1s 4ms/step - loss: 0.6333 - mse: 0.6333 - val_loss: 1.7714 - val_mse: 1.7714\n",
            "Epoch 12/200\n",
            "101/116 [=========================>....] - ETA: 0s - loss: 0.6360 - mse: 0.6360\n",
            "Epoch 12: val_loss improved from 1.77138 to 1.76490, saving model to /content/drive/MyDrive/gachon4-2/deeplearning/week2/model.h5\n",
            "116/116 [==============================] - 0s 4ms/step - loss: 0.6279 - mse: 0.6279 - val_loss: 1.7649 - val_mse: 1.7649\n",
            "Epoch 13/200\n",
            "114/116 [============================>.] - ETA: 0s - loss: 0.6265 - mse: 0.6265\n",
            "Epoch 13: val_loss improved from 1.76490 to 1.75966, saving model to /content/drive/MyDrive/gachon4-2/deeplearning/week2/model.h5\n",
            "116/116 [==============================] - 0s 4ms/step - loss: 0.6229 - mse: 0.6229 - val_loss: 1.7597 - val_mse: 1.7597\n",
            "Epoch 14/200\n",
            "111/116 [===========================>..] - ETA: 0s - loss: 0.6153 - mse: 0.6153\n",
            "Epoch 14: val_loss improved from 1.75966 to 1.75305, saving model to /content/drive/MyDrive/gachon4-2/deeplearning/week2/model.h5\n",
            "116/116 [==============================] - 0s 4ms/step - loss: 0.6180 - mse: 0.6180 - val_loss: 1.7531 - val_mse: 1.7531\n",
            "Epoch 15/200\n",
            "116/116 [==============================] - ETA: 0s - loss: 0.6136 - mse: 0.6136\n",
            "Epoch 15: val_loss improved from 1.75305 to 1.74734, saving model to /content/drive/MyDrive/gachon4-2/deeplearning/week2/model.h5\n",
            "116/116 [==============================] - 1s 6ms/step - loss: 0.6136 - mse: 0.6136 - val_loss: 1.7473 - val_mse: 1.7473\n",
            "Epoch 16/200\n",
            "106/116 [==========================>...] - ETA: 0s - loss: 0.6136 - mse: 0.6136\n",
            "Epoch 16: val_loss improved from 1.74734 to 1.74163, saving model to /content/drive/MyDrive/gachon4-2/deeplearning/week2/model.h5\n",
            "116/116 [==============================] - 1s 5ms/step - loss: 0.6095 - mse: 0.6095 - val_loss: 1.7416 - val_mse: 1.7416\n",
            "Epoch 17/200\n",
            "109/116 [===========================>..] - ETA: 0s - loss: 0.6036 - mse: 0.6036\n",
            "Epoch 17: val_loss improved from 1.74163 to 1.73557, saving model to /content/drive/MyDrive/gachon4-2/deeplearning/week2/model.h5\n",
            "116/116 [==============================] - 1s 6ms/step - loss: 0.6057 - mse: 0.6057 - val_loss: 1.7356 - val_mse: 1.7356\n",
            "Epoch 18/200\n",
            "113/116 [============================>.] - ETA: 0s - loss: 0.6035 - mse: 0.6035\n",
            "Epoch 18: val_loss improved from 1.73557 to 1.72995, saving model to /content/drive/MyDrive/gachon4-2/deeplearning/week2/model.h5\n",
            "116/116 [==============================] - 1s 6ms/step - loss: 0.6021 - mse: 0.6021 - val_loss: 1.7300 - val_mse: 1.7300\n",
            "Epoch 19/200\n",
            "107/116 [==========================>...] - ETA: 0s - loss: 0.5936 - mse: 0.5936\n",
            "Epoch 19: val_loss improved from 1.72995 to 1.72488, saving model to /content/drive/MyDrive/gachon4-2/deeplearning/week2/model.h5\n",
            "116/116 [==============================] - 1s 5ms/step - loss: 0.5985 - mse: 0.5985 - val_loss: 1.7249 - val_mse: 1.7249\n",
            "Epoch 20/200\n",
            "109/116 [===========================>..] - ETA: 0s - loss: 0.5986 - mse: 0.5986\n",
            "Epoch 20: val_loss improved from 1.72488 to 1.72084, saving model to /content/drive/MyDrive/gachon4-2/deeplearning/week2/model.h5\n",
            "116/116 [==============================] - 1s 6ms/step - loss: 0.5950 - mse: 0.5950 - val_loss: 1.7208 - val_mse: 1.7208\n",
            "Epoch 21/200\n",
            "112/116 [===========================>..] - ETA: 0s - loss: 0.5997 - mse: 0.5997\n",
            "Epoch 21: val_loss improved from 1.72084 to 1.71482, saving model to /content/drive/MyDrive/gachon4-2/deeplearning/week2/model.h5\n",
            "116/116 [==============================] - 0s 4ms/step - loss: 0.5919 - mse: 0.5919 - val_loss: 1.7148 - val_mse: 1.7148\n",
            "Epoch 22/200\n",
            "114/116 [============================>.] - ETA: 0s - loss: 0.5872 - mse: 0.5872\n",
            "Epoch 22: val_loss improved from 1.71482 to 1.71138, saving model to /content/drive/MyDrive/gachon4-2/deeplearning/week2/model.h5\n",
            "116/116 [==============================] - 0s 4ms/step - loss: 0.5889 - mse: 0.5889 - val_loss: 1.7114 - val_mse: 1.7114\n",
            "Epoch 23/200\n",
            "101/116 [=========================>....] - ETA: 0s - loss: 0.5773 - mse: 0.5773\n",
            "Epoch 23: val_loss improved from 1.71138 to 1.70805, saving model to /content/drive/MyDrive/gachon4-2/deeplearning/week2/model.h5\n",
            "116/116 [==============================] - 0s 4ms/step - loss: 0.5858 - mse: 0.5858 - val_loss: 1.7081 - val_mse: 1.7081\n",
            "Epoch 24/200\n",
            "115/116 [============================>.] - ETA: 0s - loss: 0.5843 - mse: 0.5843\n",
            "Epoch 24: val_loss improved from 1.70805 to 1.70478, saving model to /content/drive/MyDrive/gachon4-2/deeplearning/week2/model.h5\n",
            "116/116 [==============================] - 0s 4ms/step - loss: 0.5833 - mse: 0.5833 - val_loss: 1.7048 - val_mse: 1.7048\n",
            "Epoch 25/200\n",
            "104/116 [=========================>....] - ETA: 0s - loss: 0.5726 - mse: 0.5726\n",
            "Epoch 25: val_loss improved from 1.70478 to 1.70150, saving model to /content/drive/MyDrive/gachon4-2/deeplearning/week2/model.h5\n",
            "116/116 [==============================] - 0s 4ms/step - loss: 0.5806 - mse: 0.5806 - val_loss: 1.7015 - val_mse: 1.7015\n",
            "Epoch 26/200\n",
            "107/116 [==========================>...] - ETA: 0s - loss: 0.5782 - mse: 0.5782\n",
            "Epoch 26: val_loss improved from 1.70150 to 1.69849, saving model to /content/drive/MyDrive/gachon4-2/deeplearning/week2/model.h5\n",
            "116/116 [==============================] - 1s 4ms/step - loss: 0.5785 - mse: 0.5785 - val_loss: 1.6985 - val_mse: 1.6985\n",
            "Epoch 27/200\n",
            "103/116 [=========================>....] - ETA: 0s - loss: 0.5732 - mse: 0.5732\n",
            "Epoch 27: val_loss improved from 1.69849 to 1.69609, saving model to /content/drive/MyDrive/gachon4-2/deeplearning/week2/model.h5\n",
            "116/116 [==============================] - 0s 4ms/step - loss: 0.5763 - mse: 0.5763 - val_loss: 1.6961 - val_mse: 1.6961\n",
            "Epoch 28/200\n",
            "116/116 [==============================] - ETA: 0s - loss: 0.5741 - mse: 0.5741\n",
            "Epoch 28: val_loss improved from 1.69609 to 1.69317, saving model to /content/drive/MyDrive/gachon4-2/deeplearning/week2/model.h5\n",
            "116/116 [==============================] - 1s 5ms/step - loss: 0.5741 - mse: 0.5741 - val_loss: 1.6932 - val_mse: 1.6932\n",
            "Epoch 29/200\n",
            "112/116 [===========================>..] - ETA: 0s - loss: 0.5806 - mse: 0.5806\n",
            "Epoch 29: val_loss improved from 1.69317 to 1.69079, saving model to /content/drive/MyDrive/gachon4-2/deeplearning/week2/model.h5\n",
            "116/116 [==============================] - 0s 4ms/step - loss: 0.5722 - mse: 0.5722 - val_loss: 1.6908 - val_mse: 1.6908\n",
            "Epoch 30/200\n",
            "116/116 [==============================] - ETA: 0s - loss: 0.5703 - mse: 0.5703\n",
            "Epoch 30: val_loss improved from 1.69079 to 1.68880, saving model to /content/drive/MyDrive/gachon4-2/deeplearning/week2/model.h5\n",
            "116/116 [==============================] - 0s 4ms/step - loss: 0.5703 - mse: 0.5703 - val_loss: 1.6888 - val_mse: 1.6888\n",
            "Epoch 31/200\n",
            "116/116 [==============================] - ETA: 0s - loss: 0.5688 - mse: 0.5688\n",
            "Epoch 31: val_loss improved from 1.68880 to 1.68686, saving model to /content/drive/MyDrive/gachon4-2/deeplearning/week2/model.h5\n",
            "116/116 [==============================] - 0s 4ms/step - loss: 0.5688 - mse: 0.5688 - val_loss: 1.6869 - val_mse: 1.6869\n",
            "Epoch 32/200\n",
            "112/116 [===========================>..] - ETA: 0s - loss: 0.5655 - mse: 0.5655\n",
            "Epoch 32: val_loss improved from 1.68686 to 1.68495, saving model to /content/drive/MyDrive/gachon4-2/deeplearning/week2/model.h5\n",
            "116/116 [==============================] - 0s 4ms/step - loss: 0.5671 - mse: 0.5671 - val_loss: 1.6850 - val_mse: 1.6850\n",
            "Epoch 33/200\n",
            "108/116 [==========================>...] - ETA: 0s - loss: 0.5663 - mse: 0.5663\n",
            "Epoch 33: val_loss improved from 1.68495 to 1.68354, saving model to /content/drive/MyDrive/gachon4-2/deeplearning/week2/model.h5\n",
            "116/116 [==============================] - 1s 4ms/step - loss: 0.5657 - mse: 0.5657 - val_loss: 1.6835 - val_mse: 1.6835\n",
            "Epoch 34/200\n",
            "101/116 [=========================>....] - ETA: 0s - loss: 0.5396 - mse: 0.5396\n",
            "Epoch 34: val_loss improved from 1.68354 to 1.68207, saving model to /content/drive/MyDrive/gachon4-2/deeplearning/week2/model.h5\n",
            "116/116 [==============================] - 0s 4ms/step - loss: 0.5644 - mse: 0.5644 - val_loss: 1.6821 - val_mse: 1.6821\n",
            "Epoch 35/200\n",
            "107/116 [==========================>...] - ETA: 0s - loss: 0.5592 - mse: 0.5592\n",
            "Epoch 35: val_loss improved from 1.68207 to 1.68036, saving model to /content/drive/MyDrive/gachon4-2/deeplearning/week2/model.h5\n",
            "116/116 [==============================] - 1s 4ms/step - loss: 0.5631 - mse: 0.5631 - val_loss: 1.6804 - val_mse: 1.6804\n",
            "Epoch 36/200\n",
            "116/116 [==============================] - ETA: 0s - loss: 0.5618 - mse: 0.5618\n",
            "Epoch 36: val_loss improved from 1.68036 to 1.67944, saving model to /content/drive/MyDrive/gachon4-2/deeplearning/week2/model.h5\n",
            "116/116 [==============================] - 0s 4ms/step - loss: 0.5618 - mse: 0.5618 - val_loss: 1.6794 - val_mse: 1.6794\n",
            "Epoch 37/200\n",
            "113/116 [============================>.] - ETA: 0s - loss: 0.5630 - mse: 0.5630\n",
            "Epoch 37: val_loss improved from 1.67944 to 1.67841, saving model to /content/drive/MyDrive/gachon4-2/deeplearning/week2/model.h5\n",
            "116/116 [==============================] - 0s 4ms/step - loss: 0.5608 - mse: 0.5608 - val_loss: 1.6784 - val_mse: 1.6784\n",
            "Epoch 38/200\n",
            "115/116 [============================>.] - ETA: 0s - loss: 0.5600 - mse: 0.5600\n",
            "Epoch 38: val_loss improved from 1.67841 to 1.67730, saving model to /content/drive/MyDrive/gachon4-2/deeplearning/week2/model.h5\n",
            "116/116 [==============================] - 0s 4ms/step - loss: 0.5599 - mse: 0.5599 - val_loss: 1.6773 - val_mse: 1.6773\n",
            "Epoch 39/200\n",
            "113/116 [============================>.] - ETA: 0s - loss: 0.5558 - mse: 0.5558\n",
            "Epoch 39: val_loss improved from 1.67730 to 1.67629, saving model to /content/drive/MyDrive/gachon4-2/deeplearning/week2/model.h5\n",
            "116/116 [==============================] - 0s 4ms/step - loss: 0.5589 - mse: 0.5589 - val_loss: 1.6763 - val_mse: 1.6763\n",
            "Epoch 40/200\n",
            "115/116 [============================>.] - ETA: 0s - loss: 0.5591 - mse: 0.5591\n",
            "Epoch 40: val_loss improved from 1.67629 to 1.67548, saving model to /content/drive/MyDrive/gachon4-2/deeplearning/week2/model.h5\n",
            "116/116 [==============================] - 0s 4ms/step - loss: 0.5581 - mse: 0.5581 - val_loss: 1.6755 - val_mse: 1.6755\n",
            "Epoch 41/200\n",
            "107/116 [==========================>...] - ETA: 0s - loss: 0.5593 - mse: 0.5593\n",
            "Epoch 41: val_loss improved from 1.67548 to 1.67469, saving model to /content/drive/MyDrive/gachon4-2/deeplearning/week2/model.h5\n",
            "116/116 [==============================] - 1s 4ms/step - loss: 0.5573 - mse: 0.5573 - val_loss: 1.6747 - val_mse: 1.6747\n",
            "Epoch 42/200\n",
            "110/116 [===========================>..] - ETA: 0s - loss: 0.5652 - mse: 0.5652\n",
            "Epoch 42: val_loss improved from 1.67469 to 1.67379, saving model to /content/drive/MyDrive/gachon4-2/deeplearning/week2/model.h5\n",
            "116/116 [==============================] - 1s 5ms/step - loss: 0.5565 - mse: 0.5565 - val_loss: 1.6738 - val_mse: 1.6738\n",
            "Epoch 43/200\n",
            "111/116 [===========================>..] - ETA: 0s - loss: 0.5659 - mse: 0.5659\n",
            "Epoch 43: val_loss improved from 1.67379 to 1.67321, saving model to /content/drive/MyDrive/gachon4-2/deeplearning/week2/model.h5\n",
            "116/116 [==============================] - 1s 6ms/step - loss: 0.5558 - mse: 0.5558 - val_loss: 1.6732 - val_mse: 1.6732\n",
            "Epoch 44/200\n",
            "106/116 [==========================>...] - ETA: 0s - loss: 0.5676 - mse: 0.5676\n",
            "Epoch 44: val_loss improved from 1.67321 to 1.67266, saving model to /content/drive/MyDrive/gachon4-2/deeplearning/week2/model.h5\n",
            "116/116 [==============================] - 1s 6ms/step - loss: 0.5551 - mse: 0.5551 - val_loss: 1.6727 - val_mse: 1.6727\n",
            "Epoch 45/200\n",
            "109/116 [===========================>..] - ETA: 0s - loss: 0.5567 - mse: 0.5567\n",
            "Epoch 45: val_loss improved from 1.67266 to 1.67201, saving model to /content/drive/MyDrive/gachon4-2/deeplearning/week2/model.h5\n",
            "116/116 [==============================] - 1s 5ms/step - loss: 0.5545 - mse: 0.5545 - val_loss: 1.6720 - val_mse: 1.6720\n",
            "Epoch 46/200\n",
            "113/116 [============================>.] - ETA: 0s - loss: 0.5589 - mse: 0.5589\n",
            "Epoch 46: val_loss improved from 1.67201 to 1.67159, saving model to /content/drive/MyDrive/gachon4-2/deeplearning/week2/model.h5\n",
            "116/116 [==============================] - 1s 7ms/step - loss: 0.5539 - mse: 0.5539 - val_loss: 1.6716 - val_mse: 1.6716\n",
            "Epoch 47/200\n",
            "109/116 [===========================>..] - ETA: 0s - loss: 0.5564 - mse: 0.5564\n",
            "Epoch 47: val_loss improved from 1.67159 to 1.67108, saving model to /content/drive/MyDrive/gachon4-2/deeplearning/week2/model.h5\n",
            "116/116 [==============================] - 1s 7ms/step - loss: 0.5535 - mse: 0.5535 - val_loss: 1.6711 - val_mse: 1.6711\n",
            "Epoch 48/200\n",
            "113/116 [============================>.] - ETA: 0s - loss: 0.5537 - mse: 0.5537\n",
            "Epoch 48: val_loss improved from 1.67108 to 1.67056, saving model to /content/drive/MyDrive/gachon4-2/deeplearning/week2/model.h5\n",
            "116/116 [==============================] - 1s 6ms/step - loss: 0.5530 - mse: 0.5530 - val_loss: 1.6706 - val_mse: 1.6706\n",
            "Epoch 49/200\n",
            "104/116 [=========================>....] - ETA: 0s - loss: 0.5511 - mse: 0.5511\n",
            "Epoch 49: val_loss improved from 1.67056 to 1.67020, saving model to /content/drive/MyDrive/gachon4-2/deeplearning/week2/model.h5\n",
            "116/116 [==============================] - 1s 6ms/step - loss: 0.5525 - mse: 0.5525 - val_loss: 1.6702 - val_mse: 1.6702\n",
            "Epoch 50/200\n",
            "116/116 [==============================] - ETA: 0s - loss: 0.5522 - mse: 0.5522\n",
            "Epoch 50: val_loss improved from 1.67020 to 1.66981, saving model to /content/drive/MyDrive/gachon4-2/deeplearning/week2/model.h5\n",
            "116/116 [==============================] - 1s 5ms/step - loss: 0.5522 - mse: 0.5522 - val_loss: 1.6698 - val_mse: 1.6698\n",
            "Epoch 51/200\n",
            "110/116 [===========================>..] - ETA: 0s - loss: 0.5596 - mse: 0.5596\n",
            "Epoch 51: val_loss improved from 1.66981 to 1.66954, saving model to /content/drive/MyDrive/gachon4-2/deeplearning/week2/model.h5\n",
            "116/116 [==============================] - 1s 4ms/step - loss: 0.5516 - mse: 0.5516 - val_loss: 1.6695 - val_mse: 1.6695\n",
            "Epoch 52/200\n",
            "115/116 [============================>.] - ETA: 0s - loss: 0.5516 - mse: 0.5516\n",
            "Epoch 52: val_loss improved from 1.66954 to 1.66919, saving model to /content/drive/MyDrive/gachon4-2/deeplearning/week2/model.h5\n",
            "116/116 [==============================] - 1s 5ms/step - loss: 0.5513 - mse: 0.5513 - val_loss: 1.6692 - val_mse: 1.6692\n",
            "Epoch 53/200\n",
            "105/116 [==========================>...] - ETA: 0s - loss: 0.5424 - mse: 0.5424\n",
            "Epoch 53: val_loss improved from 1.66919 to 1.66895, saving model to /content/drive/MyDrive/gachon4-2/deeplearning/week2/model.h5\n",
            "116/116 [==============================] - 1s 4ms/step - loss: 0.5509 - mse: 0.5509 - val_loss: 1.6690 - val_mse: 1.6690\n",
            "Epoch 54/200\n",
            "105/116 [==========================>...] - ETA: 0s - loss: 0.5404 - mse: 0.5404\n",
            "Epoch 54: val_loss improved from 1.66895 to 1.66866, saving model to /content/drive/MyDrive/gachon4-2/deeplearning/week2/model.h5\n",
            "116/116 [==============================] - 1s 5ms/step - loss: 0.5507 - mse: 0.5507 - val_loss: 1.6687 - val_mse: 1.6687\n",
            "Epoch 55/200\n",
            "114/116 [============================>.] - ETA: 0s - loss: 0.5493 - mse: 0.5493\n",
            "Epoch 55: val_loss improved from 1.66866 to 1.66836, saving model to /content/drive/MyDrive/gachon4-2/deeplearning/week2/model.h5\n",
            "116/116 [==============================] - 1s 4ms/step - loss: 0.5502 - mse: 0.5502 - val_loss: 1.6684 - val_mse: 1.6684\n",
            "Epoch 56/200\n",
            "114/116 [============================>.] - ETA: 0s - loss: 0.5417 - mse: 0.5417\n",
            "Epoch 56: val_loss improved from 1.66836 to 1.66816, saving model to /content/drive/MyDrive/gachon4-2/deeplearning/week2/model.h5\n",
            "116/116 [==============================] - 1s 5ms/step - loss: 0.5500 - mse: 0.5500 - val_loss: 1.6682 - val_mse: 1.6682\n",
            "Epoch 57/200\n",
            "107/116 [==========================>...] - ETA: 0s - loss: 0.5597 - mse: 0.5597\n",
            "Epoch 57: val_loss improved from 1.66816 to 1.66795, saving model to /content/drive/MyDrive/gachon4-2/deeplearning/week2/model.h5\n",
            "116/116 [==============================] - 1s 5ms/step - loss: 0.5497 - mse: 0.5497 - val_loss: 1.6679 - val_mse: 1.6679\n",
            "Epoch 58/200\n",
            "113/116 [============================>.] - ETA: 0s - loss: 0.5513 - mse: 0.5513\n",
            "Epoch 58: val_loss improved from 1.66795 to 1.66774, saving model to /content/drive/MyDrive/gachon4-2/deeplearning/week2/model.h5\n",
            "116/116 [==============================] - 1s 6ms/step - loss: 0.5493 - mse: 0.5493 - val_loss: 1.6677 - val_mse: 1.6677\n",
            "Epoch 59/200\n",
            "106/116 [==========================>...] - ETA: 0s - loss: 0.5521 - mse: 0.5521\n",
            "Epoch 59: val_loss improved from 1.66774 to 1.66753, saving model to /content/drive/MyDrive/gachon4-2/deeplearning/week2/model.h5\n",
            "116/116 [==============================] - 1s 6ms/step - loss: 0.5491 - mse: 0.5491 - val_loss: 1.6675 - val_mse: 1.6675\n",
            "Epoch 60/200\n",
            "112/116 [===========================>..] - ETA: 0s - loss: 0.5447 - mse: 0.5447\n",
            "Epoch 60: val_loss improved from 1.66753 to 1.66741, saving model to /content/drive/MyDrive/gachon4-2/deeplearning/week2/model.h5\n",
            "116/116 [==============================] - 1s 6ms/step - loss: 0.5488 - mse: 0.5488 - val_loss: 1.6674 - val_mse: 1.6674\n",
            "Epoch 61/200\n",
            "111/116 [===========================>..] - ETA: 0s - loss: 0.5453 - mse: 0.5453\n",
            "Epoch 61: val_loss improved from 1.66741 to 1.66720, saving model to /content/drive/MyDrive/gachon4-2/deeplearning/week2/model.h5\n",
            "116/116 [==============================] - 1s 5ms/step - loss: 0.5485 - mse: 0.5485 - val_loss: 1.6672 - val_mse: 1.6672\n",
            "Epoch 62/200\n",
            "113/116 [============================>.] - ETA: 0s - loss: 0.5478 - mse: 0.5478\n",
            "Epoch 62: val_loss improved from 1.66720 to 1.66705, saving model to /content/drive/MyDrive/gachon4-2/deeplearning/week2/model.h5\n",
            "116/116 [==============================] - 1s 5ms/step - loss: 0.5483 - mse: 0.5483 - val_loss: 1.6670 - val_mse: 1.6670\n",
            "Epoch 63/200\n",
            "113/116 [============================>.] - ETA: 0s - loss: 0.5510 - mse: 0.5510\n",
            "Epoch 63: val_loss improved from 1.66705 to 1.66691, saving model to /content/drive/MyDrive/gachon4-2/deeplearning/week2/model.h5\n",
            "116/116 [==============================] - 1s 7ms/step - loss: 0.5480 - mse: 0.5480 - val_loss: 1.6669 - val_mse: 1.6669\n",
            "Epoch 64/200\n",
            "108/116 [==========================>...] - ETA: 0s - loss: 0.5486 - mse: 0.5486\n",
            "Epoch 64: val_loss improved from 1.66691 to 1.66675, saving model to /content/drive/MyDrive/gachon4-2/deeplearning/week2/model.h5\n",
            "116/116 [==============================] - 1s 6ms/step - loss: 0.5476 - mse: 0.5476 - val_loss: 1.6667 - val_mse: 1.6667\n",
            "Epoch 65/200\n",
            "114/116 [============================>.] - ETA: 0s - loss: 0.5475 - mse: 0.5475\n",
            "Epoch 65: val_loss improved from 1.66675 to 1.66658, saving model to /content/drive/MyDrive/gachon4-2/deeplearning/week2/model.h5\n",
            "116/116 [==============================] - 1s 6ms/step - loss: 0.5474 - mse: 0.5474 - val_loss: 1.6666 - val_mse: 1.6666\n",
            "Epoch 66/200\n",
            "107/116 [==========================>...] - ETA: 0s - loss: 0.5459 - mse: 0.5459\n",
            "Epoch 66: val_loss improved from 1.66658 to 1.66648, saving model to /content/drive/MyDrive/gachon4-2/deeplearning/week2/model.h5\n",
            "116/116 [==============================] - 1s 6ms/step - loss: 0.5473 - mse: 0.5473 - val_loss: 1.6665 - val_mse: 1.6665\n",
            "Epoch 67/200\n",
            "112/116 [===========================>..] - ETA: 0s - loss: 0.5526 - mse: 0.5526\n",
            "Epoch 67: val_loss improved from 1.66648 to 1.66636, saving model to /content/drive/MyDrive/gachon4-2/deeplearning/week2/model.h5\n",
            "116/116 [==============================] - 1s 6ms/step - loss: 0.5469 - mse: 0.5469 - val_loss: 1.6664 - val_mse: 1.6664\n",
            "Epoch 68/200\n",
            "112/116 [===========================>..] - ETA: 0s - loss: 0.5512 - mse: 0.5512\n",
            "Epoch 68: val_loss improved from 1.66636 to 1.66626, saving model to /content/drive/MyDrive/gachon4-2/deeplearning/week2/model.h5\n",
            "116/116 [==============================] - 1s 7ms/step - loss: 0.5466 - mse: 0.5466 - val_loss: 1.6663 - val_mse: 1.6663\n",
            "Epoch 69/200\n",
            "116/116 [==============================] - ETA: 0s - loss: 0.5462 - mse: 0.5462\n",
            "Epoch 69: val_loss improved from 1.66626 to 1.66619, saving model to /content/drive/MyDrive/gachon4-2/deeplearning/week2/model.h5\n",
            "116/116 [==============================] - 1s 5ms/step - loss: 0.5462 - mse: 0.5462 - val_loss: 1.6662 - val_mse: 1.6662\n",
            "Epoch 70/200\n",
            "115/116 [============================>.] - ETA: 0s - loss: 0.5463 - mse: 0.5463\n",
            "Epoch 70: val_loss improved from 1.66619 to 1.66605, saving model to /content/drive/MyDrive/gachon4-2/deeplearning/week2/model.h5\n",
            "116/116 [==============================] - 1s 6ms/step - loss: 0.5459 - mse: 0.5459 - val_loss: 1.6660 - val_mse: 1.6660\n",
            "Epoch 71/200\n",
            "109/116 [===========================>..] - ETA: 0s - loss: 0.5571 - mse: 0.5571\n",
            "Epoch 71: val_loss improved from 1.66605 to 1.66596, saving model to /content/drive/MyDrive/gachon4-2/deeplearning/week2/model.h5\n",
            "116/116 [==============================] - 1s 5ms/step - loss: 0.5455 - mse: 0.5455 - val_loss: 1.6660 - val_mse: 1.6660\n",
            "Epoch 72/200\n",
            "107/116 [==========================>...] - ETA: 0s - loss: 0.5425 - mse: 0.5425\n",
            "Epoch 72: val_loss improved from 1.66596 to 1.66587, saving model to /content/drive/MyDrive/gachon4-2/deeplearning/week2/model.h5\n",
            "116/116 [==============================] - 1s 4ms/step - loss: 0.5453 - mse: 0.5453 - val_loss: 1.6659 - val_mse: 1.6659\n",
            "Epoch 73/200\n",
            "111/116 [===========================>..] - ETA: 0s - loss: 0.5518 - mse: 0.5518\n",
            "Epoch 73: val_loss improved from 1.66587 to 1.66578, saving model to /content/drive/MyDrive/gachon4-2/deeplearning/week2/model.h5\n",
            "116/116 [==============================] - 1s 4ms/step - loss: 0.5449 - mse: 0.5449 - val_loss: 1.6658 - val_mse: 1.6658\n",
            "Epoch 74/200\n",
            "116/116 [==============================] - ETA: 0s - loss: 0.5446 - mse: 0.5446\n",
            "Epoch 74: val_loss improved from 1.66578 to 1.66574, saving model to /content/drive/MyDrive/gachon4-2/deeplearning/week2/model.h5\n",
            "116/116 [==============================] - 1s 4ms/step - loss: 0.5446 - mse: 0.5446 - val_loss: 1.6657 - val_mse: 1.6657\n",
            "Epoch 75/200\n",
            "110/116 [===========================>..] - ETA: 0s - loss: 0.5360 - mse: 0.5360\n",
            "Epoch 75: val_loss improved from 1.66574 to 1.66568, saving model to /content/drive/MyDrive/gachon4-2/deeplearning/week2/model.h5\n",
            "116/116 [==============================] - 1s 5ms/step - loss: 0.5442 - mse: 0.5442 - val_loss: 1.6657 - val_mse: 1.6657\n",
            "Epoch 76/200\n",
            "103/116 [=========================>....] - ETA: 0s - loss: 0.5557 - mse: 0.5557\n",
            "Epoch 76: val_loss improved from 1.66568 to 1.66552, saving model to /content/drive/MyDrive/gachon4-2/deeplearning/week2/model.h5\n",
            "116/116 [==============================] - 0s 4ms/step - loss: 0.5437 - mse: 0.5437 - val_loss: 1.6655 - val_mse: 1.6655\n",
            "Epoch 77/200\n",
            "107/116 [==========================>...] - ETA: 0s - loss: 0.5419 - mse: 0.5419\n",
            "Epoch 77: val_loss improved from 1.66552 to 1.66550, saving model to /content/drive/MyDrive/gachon4-2/deeplearning/week2/model.h5\n",
            "116/116 [==============================] - 1s 6ms/step - loss: 0.5434 - mse: 0.5434 - val_loss: 1.6655 - val_mse: 1.6655\n",
            "Epoch 78/200\n",
            "110/116 [===========================>..] - ETA: 0s - loss: 0.5437 - mse: 0.5437\n",
            "Epoch 78: val_loss improved from 1.66550 to 1.66545, saving model to /content/drive/MyDrive/gachon4-2/deeplearning/week2/model.h5\n",
            "116/116 [==============================] - 1s 6ms/step - loss: 0.5428 - mse: 0.5428 - val_loss: 1.6655 - val_mse: 1.6655\n",
            "Epoch 79/200\n",
            "110/116 [===========================>..] - ETA: 0s - loss: 0.5409 - mse: 0.5409\n",
            "Epoch 79: val_loss improved from 1.66545 to 1.66540, saving model to /content/drive/MyDrive/gachon4-2/deeplearning/week2/model.h5\n",
            "116/116 [==============================] - 1s 6ms/step - loss: 0.5424 - mse: 0.5424 - val_loss: 1.6654 - val_mse: 1.6654\n",
            "Epoch 80/200\n",
            "111/116 [===========================>..] - ETA: 0s - loss: 0.5383 - mse: 0.5383\n",
            "Epoch 80: val_loss improved from 1.66540 to 1.66535, saving model to /content/drive/MyDrive/gachon4-2/deeplearning/week2/model.h5\n",
            "116/116 [==============================] - 1s 8ms/step - loss: 0.5419 - mse: 0.5419 - val_loss: 1.6653 - val_mse: 1.6653\n",
            "Epoch 81/200\n",
            "104/116 [=========================>....] - ETA: 0s - loss: 0.5375 - mse: 0.5375\n",
            "Epoch 81: val_loss improved from 1.66535 to 1.66528, saving model to /content/drive/MyDrive/gachon4-2/deeplearning/week2/model.h5\n",
            "116/116 [==============================] - 1s 6ms/step - loss: 0.5414 - mse: 0.5414 - val_loss: 1.6653 - val_mse: 1.6653\n",
            "Epoch 82/200\n",
            "116/116 [==============================] - ETA: 0s - loss: 0.5407 - mse: 0.5407\n",
            "Epoch 82: val_loss improved from 1.66528 to 1.66521, saving model to /content/drive/MyDrive/gachon4-2/deeplearning/week2/model.h5\n",
            "116/116 [==============================] - 1s 7ms/step - loss: 0.5407 - mse: 0.5407 - val_loss: 1.6652 - val_mse: 1.6652\n",
            "Epoch 83/200\n",
            "116/116 [==============================] - ETA: 0s - loss: 0.5401 - mse: 0.5401\n",
            "Epoch 83: val_loss improved from 1.66521 to 1.66517, saving model to /content/drive/MyDrive/gachon4-2/deeplearning/week2/model.h5\n",
            "116/116 [==============================] - 1s 7ms/step - loss: 0.5401 - mse: 0.5401 - val_loss: 1.6652 - val_mse: 1.6652\n",
            "Epoch 84/200\n",
            "114/116 [============================>.] - ETA: 0s - loss: 0.5347 - mse: 0.5347\n",
            "Epoch 84: val_loss improved from 1.66517 to 1.66512, saving model to /content/drive/MyDrive/gachon4-2/deeplearning/week2/model.h5\n",
            "116/116 [==============================] - 1s 8ms/step - loss: 0.5395 - mse: 0.5395 - val_loss: 1.6651 - val_mse: 1.6651\n",
            "Epoch 85/200\n",
            "111/116 [===========================>..] - ETA: 0s - loss: 0.5393 - mse: 0.5393\n",
            "Epoch 85: val_loss improved from 1.66512 to 1.66508, saving model to /content/drive/MyDrive/gachon4-2/deeplearning/week2/model.h5\n",
            "116/116 [==============================] - 1s 9ms/step - loss: 0.5389 - mse: 0.5389 - val_loss: 1.6651 - val_mse: 1.6651\n",
            "Epoch 86/200\n",
            "111/116 [===========================>..] - ETA: 0s - loss: 0.5306 - mse: 0.5306\n",
            "Epoch 86: val_loss improved from 1.66508 to 1.66504, saving model to /content/drive/MyDrive/gachon4-2/deeplearning/week2/model.h5\n",
            "116/116 [==============================] - 1s 11ms/step - loss: 0.5381 - mse: 0.5381 - val_loss: 1.6650 - val_mse: 1.6650\n",
            "Epoch 87/200\n",
            "114/116 [============================>.] - ETA: 0s - loss: 0.5395 - mse: 0.5395\n",
            "Epoch 87: val_loss improved from 1.66504 to 1.66501, saving model to /content/drive/MyDrive/gachon4-2/deeplearning/week2/model.h5\n",
            "116/116 [==============================] - 1s 8ms/step - loss: 0.5375 - mse: 0.5375 - val_loss: 1.6650 - val_mse: 1.6650\n",
            "Epoch 88/200\n",
            "113/116 [============================>.] - ETA: 0s - loss: 0.5271 - mse: 0.5271\n",
            "Epoch 88: val_loss improved from 1.66501 to 1.66496, saving model to /content/drive/MyDrive/gachon4-2/deeplearning/week2/model.h5\n",
            "116/116 [==============================] - 1s 7ms/step - loss: 0.5369 - mse: 0.5369 - val_loss: 1.6650 - val_mse: 1.6650\n",
            "Epoch 89/200\n",
            "112/116 [===========================>..] - ETA: 0s - loss: 0.5330 - mse: 0.5330\n",
            "Epoch 89: val_loss improved from 1.66496 to 1.66493, saving model to /content/drive/MyDrive/gachon4-2/deeplearning/week2/model.h5\n",
            "116/116 [==============================] - 1s 6ms/step - loss: 0.5361 - mse: 0.5361 - val_loss: 1.6649 - val_mse: 1.6649\n",
            "Epoch 90/200\n",
            "107/116 [==========================>...] - ETA: 0s - loss: 0.5406 - mse: 0.5406\n",
            "Epoch 90: val_loss improved from 1.66493 to 1.66489, saving model to /content/drive/MyDrive/gachon4-2/deeplearning/week2/model.h5\n",
            "116/116 [==============================] - 1s 6ms/step - loss: 0.5354 - mse: 0.5354 - val_loss: 1.6649 - val_mse: 1.6649\n",
            "Epoch 91/200\n",
            "111/116 [===========================>..] - ETA: 0s - loss: 0.5242 - mse: 0.5242\n",
            "Epoch 91: val_loss improved from 1.66489 to 1.66486, saving model to /content/drive/MyDrive/gachon4-2/deeplearning/week2/model.h5\n",
            "116/116 [==============================] - 1s 5ms/step - loss: 0.5347 - mse: 0.5347 - val_loss: 1.6649 - val_mse: 1.6649\n",
            "Epoch 92/200\n",
            "102/116 [=========================>....] - ETA: 0s - loss: 0.5358 - mse: 0.5358\n",
            "Epoch 92: val_loss improved from 1.66486 to 1.66484, saving model to /content/drive/MyDrive/gachon4-2/deeplearning/week2/model.h5\n",
            "116/116 [==============================] - 1s 5ms/step - loss: 0.5340 - mse: 0.5340 - val_loss: 1.6648 - val_mse: 1.6648\n",
            "Epoch 93/200\n",
            "109/116 [===========================>..] - ETA: 0s - loss: 0.5316 - mse: 0.5316\n",
            "Epoch 93: val_loss improved from 1.66484 to 1.66482, saving model to /content/drive/MyDrive/gachon4-2/deeplearning/week2/model.h5\n",
            "116/116 [==============================] - 1s 6ms/step - loss: 0.5333 - mse: 0.5333 - val_loss: 1.6648 - val_mse: 1.6648\n",
            "Epoch 94/200\n",
            "108/116 [==========================>...] - ETA: 0s - loss: 0.5455 - mse: 0.5455\n",
            "Epoch 94: val_loss improved from 1.66482 to 1.66480, saving model to /content/drive/MyDrive/gachon4-2/deeplearning/week2/model.h5\n",
            "116/116 [==============================] - 1s 5ms/step - loss: 0.5327 - mse: 0.5327 - val_loss: 1.6648 - val_mse: 1.6648\n",
            "Epoch 95/200\n",
            "113/116 [============================>.] - ETA: 0s - loss: 0.5290 - mse: 0.5290\n",
            "Epoch 95: val_loss improved from 1.66480 to 1.66477, saving model to /content/drive/MyDrive/gachon4-2/deeplearning/week2/model.h5\n",
            "116/116 [==============================] - 1s 5ms/step - loss: 0.5321 - mse: 0.5321 - val_loss: 1.6648 - val_mse: 1.6648\n",
            "Epoch 96/200\n",
            "105/116 [==========================>...] - ETA: 0s - loss: 0.5323 - mse: 0.5323\n",
            "Epoch 96: val_loss improved from 1.66477 to 1.66476, saving model to /content/drive/MyDrive/gachon4-2/deeplearning/week2/model.h5\n",
            "116/116 [==============================] - 1s 5ms/step - loss: 0.5314 - mse: 0.5314 - val_loss: 1.6648 - val_mse: 1.6648\n",
            "Epoch 97/200\n",
            "108/116 [==========================>...] - ETA: 0s - loss: 0.5245 - mse: 0.5245\n",
            "Epoch 97: val_loss improved from 1.66476 to 1.66473, saving model to /content/drive/MyDrive/gachon4-2/deeplearning/week2/model.h5\n",
            "116/116 [==============================] - 1s 5ms/step - loss: 0.5308 - mse: 0.5308 - val_loss: 1.6647 - val_mse: 1.6647\n",
            "Epoch 98/200\n",
            "114/116 [============================>.] - ETA: 0s - loss: 0.5326 - mse: 0.5326\n",
            "Epoch 98: val_loss improved from 1.66473 to 1.66472, saving model to /content/drive/MyDrive/gachon4-2/deeplearning/week2/model.h5\n",
            "116/116 [==============================] - 1s 9ms/step - loss: 0.5303 - mse: 0.5303 - val_loss: 1.6647 - val_mse: 1.6647\n",
            "Epoch 99/200\n",
            "108/116 [==========================>...] - ETA: 0s - loss: 0.5141 - mse: 0.5141\n",
            "Epoch 99: val_loss improved from 1.66472 to 1.66470, saving model to /content/drive/MyDrive/gachon4-2/deeplearning/week2/model.h5\n",
            "116/116 [==============================] - 1s 9ms/step - loss: 0.5298 - mse: 0.5298 - val_loss: 1.6647 - val_mse: 1.6647\n",
            "Epoch 100/200\n",
            "113/116 [============================>.] - ETA: 0s - loss: 0.5187 - mse: 0.5187\n",
            "Epoch 100: val_loss improved from 1.66470 to 1.66469, saving model to /content/drive/MyDrive/gachon4-2/deeplearning/week2/model.h5\n",
            "116/116 [==============================] - 1s 5ms/step - loss: 0.5293 - mse: 0.5293 - val_loss: 1.6647 - val_mse: 1.6647\n",
            "Epoch 101/200\n",
            "109/116 [===========================>..] - ETA: 0s - loss: 0.5315 - mse: 0.5315\n",
            "Epoch 101: val_loss improved from 1.66469 to 1.66467, saving model to /content/drive/MyDrive/gachon4-2/deeplearning/week2/model.h5\n",
            "116/116 [==============================] - 1s 5ms/step - loss: 0.5287 - mse: 0.5287 - val_loss: 1.6647 - val_mse: 1.6647\n",
            "Epoch 102/200\n",
            "111/116 [===========================>..] - ETA: 0s - loss: 0.5173 - mse: 0.5173\n",
            "Epoch 102: val_loss improved from 1.66467 to 1.66466, saving model to /content/drive/MyDrive/gachon4-2/deeplearning/week2/model.h5\n",
            "116/116 [==============================] - 1s 8ms/step - loss: 0.5283 - mse: 0.5283 - val_loss: 1.6647 - val_mse: 1.6647\n",
            "Epoch 103/200\n",
            "110/116 [===========================>..] - ETA: 0s - loss: 0.5316 - mse: 0.5316\n",
            "Epoch 103: val_loss improved from 1.66466 to 1.66465, saving model to /content/drive/MyDrive/gachon4-2/deeplearning/week2/model.h5\n",
            "116/116 [==============================] - 1s 9ms/step - loss: 0.5278 - mse: 0.5278 - val_loss: 1.6646 - val_mse: 1.6646\n",
            "Epoch 104/200\n",
            "112/116 [===========================>..] - ETA: 0s - loss: 0.5367 - mse: 0.5367\n",
            "Epoch 104: val_loss improved from 1.66465 to 1.66464, saving model to /content/drive/MyDrive/gachon4-2/deeplearning/week2/model.h5\n",
            "116/116 [==============================] - 1s 10ms/step - loss: 0.5275 - mse: 0.5275 - val_loss: 1.6646 - val_mse: 1.6646\n",
            "Epoch 105/200\n",
            "116/116 [==============================] - ETA: 0s - loss: 0.5271 - mse: 0.5271\n",
            "Epoch 105: val_loss improved from 1.66464 to 1.66462, saving model to /content/drive/MyDrive/gachon4-2/deeplearning/week2/model.h5\n",
            "116/116 [==============================] - 1s 8ms/step - loss: 0.5271 - mse: 0.5271 - val_loss: 1.6646 - val_mse: 1.6646\n",
            "Epoch 106/200\n",
            "113/116 [============================>.] - ETA: 0s - loss: 0.5227 - mse: 0.5227\n",
            "Epoch 106: val_loss improved from 1.66462 to 1.66461, saving model to /content/drive/MyDrive/gachon4-2/deeplearning/week2/model.h5\n",
            "116/116 [==============================] - 1s 8ms/step - loss: 0.5267 - mse: 0.5267 - val_loss: 1.6646 - val_mse: 1.6646\n",
            "Epoch 107/200\n",
            "106/116 [==========================>...] - ETA: 0s - loss: 0.5263 - mse: 0.5263\n",
            "Epoch 107: val_loss improved from 1.66461 to 1.66461, saving model to /content/drive/MyDrive/gachon4-2/deeplearning/week2/model.h5\n",
            "116/116 [==============================] - 1s 9ms/step - loss: 0.5263 - mse: 0.5263 - val_loss: 1.6646 - val_mse: 1.6646\n",
            "Epoch 108/200\n",
            "115/116 [============================>.] - ETA: 0s - loss: 0.5255 - mse: 0.5255\n",
            "Epoch 108: val_loss improved from 1.66461 to 1.66460, saving model to /content/drive/MyDrive/gachon4-2/deeplearning/week2/model.h5\n",
            "116/116 [==============================] - 1s 7ms/step - loss: 0.5260 - mse: 0.5260 - val_loss: 1.6646 - val_mse: 1.6646\n",
            "Epoch 109/200\n",
            "115/116 [============================>.] - ETA: 0s - loss: 0.5266 - mse: 0.5266\n",
            "Epoch 109: val_loss improved from 1.66460 to 1.66459, saving model to /content/drive/MyDrive/gachon4-2/deeplearning/week2/model.h5\n",
            "116/116 [==============================] - 1s 7ms/step - loss: 0.5257 - mse: 0.5257 - val_loss: 1.6646 - val_mse: 1.6646\n",
            "Epoch 110/200\n",
            "115/116 [============================>.] - ETA: 0s - loss: 0.5263 - mse: 0.5263\n",
            "Epoch 110: val_loss improved from 1.66459 to 1.66458, saving model to /content/drive/MyDrive/gachon4-2/deeplearning/week2/model.h5\n",
            "116/116 [==============================] - 1s 7ms/step - loss: 0.5254 - mse: 0.5254 - val_loss: 1.6646 - val_mse: 1.6646\n",
            "Epoch 111/200\n",
            "112/116 [===========================>..] - ETA: 0s - loss: 0.5220 - mse: 0.5220\n",
            "Epoch 111: val_loss improved from 1.66458 to 1.66458, saving model to /content/drive/MyDrive/gachon4-2/deeplearning/week2/model.h5\n",
            "116/116 [==============================] - 1s 6ms/step - loss: 0.5252 - mse: 0.5252 - val_loss: 1.6646 - val_mse: 1.6646\n",
            "Epoch 112/200\n",
            "113/116 [============================>.] - ETA: 0s - loss: 0.5297 - mse: 0.5297\n",
            "Epoch 112: val_loss improved from 1.66458 to 1.66457, saving model to /content/drive/MyDrive/gachon4-2/deeplearning/week2/model.h5\n",
            "116/116 [==============================] - 1s 5ms/step - loss: 0.5249 - mse: 0.5249 - val_loss: 1.6646 - val_mse: 1.6646\n",
            "Epoch 113/200\n",
            "108/116 [==========================>...] - ETA: 0s - loss: 0.5228 - mse: 0.5228\n",
            "Epoch 113: val_loss improved from 1.66457 to 1.66456, saving model to /content/drive/MyDrive/gachon4-2/deeplearning/week2/model.h5\n",
            "116/116 [==============================] - 1s 4ms/step - loss: 0.5247 - mse: 0.5247 - val_loss: 1.6646 - val_mse: 1.6646\n",
            "Epoch 114/200\n",
            "111/116 [===========================>..] - ETA: 0s - loss: 0.5150 - mse: 0.5150\n",
            "Epoch 114: val_loss improved from 1.66456 to 1.66456, saving model to /content/drive/MyDrive/gachon4-2/deeplearning/week2/model.h5\n",
            "116/116 [==============================] - 1s 4ms/step - loss: 0.5245 - mse: 0.5245 - val_loss: 1.6646 - val_mse: 1.6646\n",
            "Epoch 115/200\n",
            "112/116 [===========================>..] - ETA: 0s - loss: 0.5307 - mse: 0.5307\n",
            "Epoch 115: val_loss improved from 1.66456 to 1.66456, saving model to /content/drive/MyDrive/gachon4-2/deeplearning/week2/model.h5\n",
            "116/116 [==============================] - 1s 4ms/step - loss: 0.5243 - mse: 0.5243 - val_loss: 1.6646 - val_mse: 1.6646\n",
            "Epoch 116/200\n",
            "115/116 [============================>.] - ETA: 0s - loss: 0.5248 - mse: 0.5248\n",
            "Epoch 116: val_loss improved from 1.66456 to 1.66455, saving model to /content/drive/MyDrive/gachon4-2/deeplearning/week2/model.h5\n",
            "116/116 [==============================] - 1s 5ms/step - loss: 0.5241 - mse: 0.5241 - val_loss: 1.6646 - val_mse: 1.6646\n",
            "Epoch 117/200\n",
            "111/116 [===========================>..] - ETA: 0s - loss: 0.5344 - mse: 0.5344\n",
            "Epoch 117: val_loss improved from 1.66455 to 1.66455, saving model to /content/drive/MyDrive/gachon4-2/deeplearning/week2/model.h5\n",
            "116/116 [==============================] - 0s 4ms/step - loss: 0.5239 - mse: 0.5239 - val_loss: 1.6645 - val_mse: 1.6645\n",
            "Epoch 118/200\n",
            "105/116 [==========================>...] - ETA: 0s - loss: 0.5202 - mse: 0.5202\n",
            "Epoch 118: val_loss improved from 1.66455 to 1.66454, saving model to /content/drive/MyDrive/gachon4-2/deeplearning/week2/model.h5\n",
            "116/116 [==============================] - 0s 4ms/step - loss: 0.5237 - mse: 0.5237 - val_loss: 1.6645 - val_mse: 1.6645\n",
            "Epoch 119/200\n",
            "115/116 [============================>.] - ETA: 0s - loss: 0.5209 - mse: 0.5209\n",
            "Epoch 119: val_loss improved from 1.66454 to 1.66454, saving model to /content/drive/MyDrive/gachon4-2/deeplearning/week2/model.h5\n",
            "116/116 [==============================] - 1s 5ms/step - loss: 0.5235 - mse: 0.5235 - val_loss: 1.6645 - val_mse: 1.6645\n",
            "Epoch 120/200\n",
            "109/116 [===========================>..] - ETA: 0s - loss: 0.5146 - mse: 0.5146\n",
            "Epoch 120: val_loss improved from 1.66454 to 1.66454, saving model to /content/drive/MyDrive/gachon4-2/deeplearning/week2/model.h5\n",
            "116/116 [==============================] - 0s 4ms/step - loss: 0.5234 - mse: 0.5234 - val_loss: 1.6645 - val_mse: 1.6645\n",
            "Epoch 121/200\n",
            "110/116 [===========================>..] - ETA: 0s - loss: 0.5261 - mse: 0.5261\n",
            "Epoch 121: val_loss improved from 1.66454 to 1.66453, saving model to /content/drive/MyDrive/gachon4-2/deeplearning/week2/model.h5\n",
            "116/116 [==============================] - 1s 4ms/step - loss: 0.5233 - mse: 0.5233 - val_loss: 1.6645 - val_mse: 1.6645\n",
            "Epoch 122/200\n",
            "113/116 [============================>.] - ETA: 0s - loss: 0.5218 - mse: 0.5218\n",
            "Epoch 122: val_loss improved from 1.66453 to 1.66453, saving model to /content/drive/MyDrive/gachon4-2/deeplearning/week2/model.h5\n",
            "116/116 [==============================] - 0s 4ms/step - loss: 0.5231 - mse: 0.5231 - val_loss: 1.6645 - val_mse: 1.6645\n",
            "Epoch 123/200\n",
            "103/116 [=========================>....] - ETA: 0s - loss: 0.5234 - mse: 0.5234\n",
            "Epoch 123: val_loss improved from 1.66453 to 1.66453, saving model to /content/drive/MyDrive/gachon4-2/deeplearning/week2/model.h5\n",
            "116/116 [==============================] - 0s 4ms/step - loss: 0.5230 - mse: 0.5230 - val_loss: 1.6645 - val_mse: 1.6645\n",
            "Epoch 124/200\n",
            "116/116 [==============================] - ETA: 0s - loss: 0.5229 - mse: 0.5229\n",
            "Epoch 124: val_loss improved from 1.66453 to 1.66453, saving model to /content/drive/MyDrive/gachon4-2/deeplearning/week2/model.h5\n",
            "116/116 [==============================] - 0s 4ms/step - loss: 0.5229 - mse: 0.5229 - val_loss: 1.6645 - val_mse: 1.6645\n",
            "Epoch 125/200\n",
            "116/116 [==============================] - ETA: 0s - loss: 0.5228 - mse: 0.5228\n",
            "Epoch 125: val_loss improved from 1.66453 to 1.66452, saving model to /content/drive/MyDrive/gachon4-2/deeplearning/week2/model.h5\n",
            "116/116 [==============================] - 1s 6ms/step - loss: 0.5228 - mse: 0.5228 - val_loss: 1.6645 - val_mse: 1.6645\n",
            "Epoch 126/200\n",
            "108/116 [==========================>...] - ETA: 0s - loss: 0.5270 - mse: 0.5270\n",
            "Epoch 126: val_loss improved from 1.66452 to 1.66452, saving model to /content/drive/MyDrive/gachon4-2/deeplearning/week2/model.h5\n",
            "116/116 [==============================] - 1s 6ms/step - loss: 0.5227 - mse: 0.5227 - val_loss: 1.6645 - val_mse: 1.6645\n",
            "Epoch 127/200\n",
            "111/116 [===========================>..] - ETA: 0s - loss: 0.5271 - mse: 0.5271\n",
            "Epoch 127: val_loss improved from 1.66452 to 1.66452, saving model to /content/drive/MyDrive/gachon4-2/deeplearning/week2/model.h5\n",
            "116/116 [==============================] - 1s 6ms/step - loss: 0.5226 - mse: 0.5226 - val_loss: 1.6645 - val_mse: 1.6645\n",
            "Epoch 128/200\n",
            "108/116 [==========================>...] - ETA: 0s - loss: 0.5126 - mse: 0.5126\n",
            "Epoch 128: val_loss improved from 1.66452 to 1.66452, saving model to /content/drive/MyDrive/gachon4-2/deeplearning/week2/model.h5\n",
            "116/116 [==============================] - 1s 6ms/step - loss: 0.5225 - mse: 0.5225 - val_loss: 1.6645 - val_mse: 1.6645\n",
            "Epoch 129/200\n",
            "109/116 [===========================>..] - ETA: 0s - loss: 0.5303 - mse: 0.5303\n",
            "Epoch 129: val_loss improved from 1.66452 to 1.66452, saving model to /content/drive/MyDrive/gachon4-2/deeplearning/week2/model.h5\n",
            "116/116 [==============================] - 1s 6ms/step - loss: 0.5224 - mse: 0.5224 - val_loss: 1.6645 - val_mse: 1.6645\n",
            "Epoch 130/200\n",
            "113/116 [============================>.] - ETA: 0s - loss: 0.5227 - mse: 0.5227\n",
            "Epoch 130: val_loss improved from 1.66452 to 1.66452, saving model to /content/drive/MyDrive/gachon4-2/deeplearning/week2/model.h5\n",
            "116/116 [==============================] - 1s 6ms/step - loss: 0.5223 - mse: 0.5223 - val_loss: 1.6645 - val_mse: 1.6645\n",
            "Epoch 131/200\n",
            "108/116 [==========================>...] - ETA: 0s - loss: 0.5232 - mse: 0.5232\n",
            "Epoch 131: val_loss improved from 1.66452 to 1.66452, saving model to /content/drive/MyDrive/gachon4-2/deeplearning/week2/model.h5\n",
            "116/116 [==============================] - 1s 5ms/step - loss: 0.5222 - mse: 0.5222 - val_loss: 1.6645 - val_mse: 1.6645\n",
            "Epoch 132/200\n",
            "109/116 [===========================>..] - ETA: 0s - loss: 0.5186 - mse: 0.5186\n",
            "Epoch 132: val_loss improved from 1.66452 to 1.66452, saving model to /content/drive/MyDrive/gachon4-2/deeplearning/week2/model.h5\n",
            "116/116 [==============================] - 1s 4ms/step - loss: 0.5222 - mse: 0.5222 - val_loss: 1.6645 - val_mse: 1.6645\n",
            "Epoch 133/200\n",
            "103/116 [=========================>....] - ETA: 0s - loss: 0.5289 - mse: 0.5289\n",
            "Epoch 133: val_loss improved from 1.66452 to 1.66451, saving model to /content/drive/MyDrive/gachon4-2/deeplearning/week2/model.h5\n",
            "116/116 [==============================] - 0s 4ms/step - loss: 0.5221 - mse: 0.5221 - val_loss: 1.6645 - val_mse: 1.6645\n",
            "Epoch 134/200\n",
            "109/116 [===========================>..] - ETA: 0s - loss: 0.5267 - mse: 0.5267\n",
            "Epoch 134: val_loss improved from 1.66451 to 1.66451, saving model to /content/drive/MyDrive/gachon4-2/deeplearning/week2/model.h5\n",
            "116/116 [==============================] - 1s 4ms/step - loss: 0.5220 - mse: 0.5220 - val_loss: 1.6645 - val_mse: 1.6645\n",
            "Epoch 135/200\n",
            "102/116 [=========================>....] - ETA: 0s - loss: 0.5085 - mse: 0.5085\n",
            "Epoch 135: val_loss improved from 1.66451 to 1.66451, saving model to /content/drive/MyDrive/gachon4-2/deeplearning/week2/model.h5\n",
            "116/116 [==============================] - 1s 5ms/step - loss: 0.5220 - mse: 0.5220 - val_loss: 1.6645 - val_mse: 1.6645\n",
            "Epoch 136/200\n",
            "105/116 [==========================>...] - ETA: 0s - loss: 0.5212 - mse: 0.5212\n",
            "Epoch 136: val_loss improved from 1.66451 to 1.66451, saving model to /content/drive/MyDrive/gachon4-2/deeplearning/week2/model.h5\n",
            "116/116 [==============================] - 1s 4ms/step - loss: 0.5219 - mse: 0.5219 - val_loss: 1.6645 - val_mse: 1.6645\n",
            "Epoch 137/200\n",
            "112/116 [===========================>..] - ETA: 0s - loss: 0.5153 - mse: 0.5153\n",
            "Epoch 137: val_loss improved from 1.66451 to 1.66451, saving model to /content/drive/MyDrive/gachon4-2/deeplearning/week2/model.h5\n",
            "116/116 [==============================] - 1s 4ms/step - loss: 0.5218 - mse: 0.5218 - val_loss: 1.6645 - val_mse: 1.6645\n",
            "Epoch 138/200\n",
            "105/116 [==========================>...] - ETA: 0s - loss: 0.5267 - mse: 0.5267\n",
            "Epoch 138: val_loss improved from 1.66451 to 1.66451, saving model to /content/drive/MyDrive/gachon4-2/deeplearning/week2/model.h5\n",
            "116/116 [==============================] - 1s 4ms/step - loss: 0.5218 - mse: 0.5218 - val_loss: 1.6645 - val_mse: 1.6645\n",
            "Epoch 139/200\n",
            "112/116 [===========================>..] - ETA: 0s - loss: 0.5292 - mse: 0.5292\n",
            "Epoch 139: val_loss improved from 1.66451 to 1.66451, saving model to /content/drive/MyDrive/gachon4-2/deeplearning/week2/model.h5\n",
            "116/116 [==============================] - 1s 5ms/step - loss: 0.5217 - mse: 0.5217 - val_loss: 1.6645 - val_mse: 1.6645\n",
            "Epoch 140/200\n",
            "113/116 [============================>.] - ETA: 0s - loss: 0.5227 - mse: 0.5227\n",
            "Epoch 140: val_loss improved from 1.66451 to 1.66451, saving model to /content/drive/MyDrive/gachon4-2/deeplearning/week2/model.h5\n",
            "116/116 [==============================] - 1s 5ms/step - loss: 0.5217 - mse: 0.5217 - val_loss: 1.6645 - val_mse: 1.6645\n",
            "Epoch 141/200\n",
            "115/116 [============================>.] - ETA: 0s - loss: 0.5226 - mse: 0.5226\n",
            "Epoch 141: val_loss improved from 1.66451 to 1.66451, saving model to /content/drive/MyDrive/gachon4-2/deeplearning/week2/model.h5\n",
            "116/116 [==============================] - 1s 5ms/step - loss: 0.5217 - mse: 0.5217 - val_loss: 1.6645 - val_mse: 1.6645\n",
            "Epoch 142/200\n",
            "115/116 [============================>.] - ETA: 0s - loss: 0.5219 - mse: 0.5219\n",
            "Epoch 142: val_loss improved from 1.66451 to 1.66451, saving model to /content/drive/MyDrive/gachon4-2/deeplearning/week2/model.h5\n",
            "116/116 [==============================] - 0s 4ms/step - loss: 0.5216 - mse: 0.5216 - val_loss: 1.6645 - val_mse: 1.6645\n",
            "Epoch 143/200\n",
            "105/116 [==========================>...] - ETA: 0s - loss: 0.5241 - mse: 0.5241\n",
            "Epoch 143: val_loss improved from 1.66451 to 1.66451, saving model to /content/drive/MyDrive/gachon4-2/deeplearning/week2/model.h5\n",
            "116/116 [==============================] - 1s 4ms/step - loss: 0.5216 - mse: 0.5216 - val_loss: 1.6645 - val_mse: 1.6645\n",
            "Epoch 144/200\n",
            "112/116 [===========================>..] - ETA: 0s - loss: 0.5264 - mse: 0.5264\n",
            "Epoch 144: val_loss did not improve from 1.66451\n",
            "116/116 [==============================] - 0s 4ms/step - loss: 0.5215 - mse: 0.5215 - val_loss: 1.6645 - val_mse: 1.6645\n",
            "Epoch 145/200\n",
            "107/116 [==========================>...] - ETA: 0s - loss: 0.5176 - mse: 0.5176\n",
            "Epoch 145: val_loss improved from 1.66451 to 1.66451, saving model to /content/drive/MyDrive/gachon4-2/deeplearning/week2/model.h5\n",
            "116/116 [==============================] - 1s 4ms/step - loss: 0.5215 - mse: 0.5215 - val_loss: 1.6645 - val_mse: 1.6645\n",
            "Epoch 146/200\n",
            "109/116 [===========================>..] - ETA: 0s - loss: 0.5229 - mse: 0.5229\n",
            "Epoch 146: val_loss improved from 1.66451 to 1.66451, saving model to /content/drive/MyDrive/gachon4-2/deeplearning/week2/model.h5\n",
            "116/116 [==============================] - 1s 5ms/step - loss: 0.5215 - mse: 0.5215 - val_loss: 1.6645 - val_mse: 1.6645\n",
            "Epoch 147/200\n",
            "102/116 [=========================>....] - ETA: 0s - loss: 0.5335 - mse: 0.5335\n",
            "Epoch 147: val_loss did not improve from 1.66451\n",
            "116/116 [==============================] - 0s 4ms/step - loss: 0.5214 - mse: 0.5214 - val_loss: 1.6645 - val_mse: 1.6645\n",
            "Epoch 148/200\n",
            "107/116 [==========================>...] - ETA: 0s - loss: 0.5323 - mse: 0.5323\n",
            "Epoch 148: val_loss improved from 1.66451 to 1.66451, saving model to /content/drive/MyDrive/gachon4-2/deeplearning/week2/model.h5\n",
            "116/116 [==============================] - 1s 5ms/step - loss: 0.5214 - mse: 0.5214 - val_loss: 1.6645 - val_mse: 1.6645\n",
            "Epoch 149/200\n",
            "116/116 [==============================] - ETA: 0s - loss: 0.5214 - mse: 0.5214\n",
            "Epoch 149: val_loss improved from 1.66451 to 1.66451, saving model to /content/drive/MyDrive/gachon4-2/deeplearning/week2/model.h5\n",
            "116/116 [==============================] - 1s 5ms/step - loss: 0.5214 - mse: 0.5214 - val_loss: 1.6645 - val_mse: 1.6645\n",
            "Epoch 150/200\n",
            "116/116 [==============================] - ETA: 0s - loss: 0.5214 - mse: 0.5214\n",
            "Epoch 150: val_loss improved from 1.66451 to 1.66451, saving model to /content/drive/MyDrive/gachon4-2/deeplearning/week2/model.h5\n",
            "116/116 [==============================] - 1s 6ms/step - loss: 0.5214 - mse: 0.5214 - val_loss: 1.6645 - val_mse: 1.6645\n",
            "Epoch 151/200\n",
            "113/116 [============================>.] - ETA: 0s - loss: 0.5111 - mse: 0.5111\n",
            "Epoch 151: val_loss did not improve from 1.66451\n",
            "116/116 [==============================] - 1s 6ms/step - loss: 0.5213 - mse: 0.5213 - val_loss: 1.6645 - val_mse: 1.6645\n",
            "Epoch 152/200\n",
            "113/116 [============================>.] - ETA: 0s - loss: 0.5250 - mse: 0.5250\n",
            "Epoch 152: val_loss did not improve from 1.66451\n",
            "116/116 [==============================] - 1s 6ms/step - loss: 0.5213 - mse: 0.5213 - val_loss: 1.6645 - val_mse: 1.6645\n",
            "Epoch 153/200\n",
            "109/116 [===========================>..] - ETA: 0s - loss: 0.5223 - mse: 0.5223\n",
            "Epoch 153: val_loss improved from 1.66451 to 1.66451, saving model to /content/drive/MyDrive/gachon4-2/deeplearning/week2/model.h5\n",
            "116/116 [==============================] - 1s 6ms/step - loss: 0.5213 - mse: 0.5213 - val_loss: 1.6645 - val_mse: 1.6645\n",
            "Epoch 154/200\n",
            "114/116 [============================>.] - ETA: 0s - loss: 0.5195 - mse: 0.5195\n",
            "Epoch 154: val_loss did not improve from 1.66451\n",
            "116/116 [==============================] - 1s 7ms/step - loss: 0.5213 - mse: 0.5213 - val_loss: 1.6645 - val_mse: 1.6645\n",
            "Epoch 155/200\n",
            "116/116 [==============================] - ETA: 0s - loss: 0.5212 - mse: 0.5212\n",
            "Epoch 155: val_loss improved from 1.66451 to 1.66451, saving model to /content/drive/MyDrive/gachon4-2/deeplearning/week2/model.h5\n",
            "116/116 [==============================] - 1s 6ms/step - loss: 0.5212 - mse: 0.5212 - val_loss: 1.6645 - val_mse: 1.6645\n",
            "Epoch 156/200\n",
            "110/116 [===========================>..] - ETA: 0s - loss: 0.5221 - mse: 0.5221\n",
            "Epoch 156: val_loss did not improve from 1.66451\n",
            "116/116 [==============================] - 1s 6ms/step - loss: 0.5212 - mse: 0.5212 - val_loss: 1.6645 - val_mse: 1.6645\n",
            "Epoch 157/200\n",
            "106/116 [==========================>...] - ETA: 0s - loss: 0.5173 - mse: 0.5173\n",
            "Epoch 157: val_loss did not improve from 1.66451\n",
            "116/116 [==============================] - 1s 5ms/step - loss: 0.5212 - mse: 0.5212 - val_loss: 1.6645 - val_mse: 1.6645\n",
            "Epoch 158/200\n",
            "108/116 [==========================>...] - ETA: 0s - loss: 0.5237 - mse: 0.5237\n",
            "Epoch 158: val_loss did not improve from 1.66451\n",
            "116/116 [==============================] - 1s 5ms/step - loss: 0.5212 - mse: 0.5212 - val_loss: 1.6645 - val_mse: 1.6645\n",
            "Epoch 159/200\n",
            "111/116 [===========================>..] - ETA: 0s - loss: 0.5233 - mse: 0.5233\n",
            "Epoch 159: val_loss did not improve from 1.66451\n",
            "116/116 [==============================] - 0s 4ms/step - loss: 0.5212 - mse: 0.5212 - val_loss: 1.6645 - val_mse: 1.6645\n",
            "Epoch 160/200\n",
            "113/116 [============================>.] - ETA: 0s - loss: 0.5206 - mse: 0.5206\n",
            "Epoch 160: val_loss did not improve from 1.66451\n",
            "116/116 [==============================] - 0s 4ms/step - loss: 0.5212 - mse: 0.5212 - val_loss: 1.6645 - val_mse: 1.6645\n",
            "Epoch 161/200\n",
            "115/116 [============================>.] - ETA: 0s - loss: 0.5215 - mse: 0.5215\n",
            "Epoch 161: val_loss improved from 1.66451 to 1.66451, saving model to /content/drive/MyDrive/gachon4-2/deeplearning/week2/model.h5\n",
            "116/116 [==============================] - 1s 4ms/step - loss: 0.5211 - mse: 0.5211 - val_loss: 1.6645 - val_mse: 1.6645\n",
            "Epoch 162/200\n",
            "107/116 [==========================>...] - ETA: 0s - loss: 0.5210 - mse: 0.5210\n",
            "Epoch 162: val_loss did not improve from 1.66451\n",
            "116/116 [==============================] - 1s 4ms/step - loss: 0.5211 - mse: 0.5211 - val_loss: 1.6645 - val_mse: 1.6645\n",
            "Epoch 163/200\n",
            "115/116 [============================>.] - ETA: 0s - loss: 0.5220 - mse: 0.5220\n",
            "Epoch 163: val_loss did not improve from 1.66451\n",
            "116/116 [==============================] - 1s 5ms/step - loss: 0.5211 - mse: 0.5211 - val_loss: 1.6645 - val_mse: 1.6645\n",
            "Epoch 164/200\n",
            "115/116 [============================>.] - ETA: 0s - loss: 0.5184 - mse: 0.5184\n",
            "Epoch 164: val_loss did not improve from 1.66451\n",
            "116/116 [==============================] - 0s 4ms/step - loss: 0.5211 - mse: 0.5211 - val_loss: 1.6645 - val_mse: 1.6645\n",
            "Epoch 165/200\n",
            "108/116 [==========================>...] - ETA: 0s - loss: 0.5196 - mse: 0.5196\n",
            "Epoch 165: val_loss improved from 1.66451 to 1.66451, saving model to /content/drive/MyDrive/gachon4-2/deeplearning/week2/model.h5\n",
            "116/116 [==============================] - 1s 5ms/step - loss: 0.5211 - mse: 0.5211 - val_loss: 1.6645 - val_mse: 1.6645\n",
            "Epoch 166/200\n",
            "103/116 [=========================>....] - ETA: 0s - loss: 0.5084 - mse: 0.5084\n",
            "Epoch 166: val_loss did not improve from 1.66451\n",
            "116/116 [==============================] - 0s 4ms/step - loss: 0.5211 - mse: 0.5211 - val_loss: 1.6645 - val_mse: 1.6645\n",
            "Epoch 167/200\n",
            "106/116 [==========================>...] - ETA: 0s - loss: 0.5190 - mse: 0.5190\n",
            "Epoch 167: val_loss did not improve from 1.66451\n",
            "116/116 [==============================] - 0s 4ms/step - loss: 0.5211 - mse: 0.5211 - val_loss: 1.6645 - val_mse: 1.6645\n",
            "Epoch 168/200\n",
            "108/116 [==========================>...] - ETA: 0s - loss: 0.5147 - mse: 0.5147\n",
            "Epoch 168: val_loss did not improve from 1.66451\n",
            "116/116 [==============================] - 0s 4ms/step - loss: 0.5211 - mse: 0.5211 - val_loss: 1.6645 - val_mse: 1.6645\n",
            "Epoch 169/200\n",
            "112/116 [===========================>..] - ETA: 0s - loss: 0.5231 - mse: 0.5231\n",
            "Epoch 169: val_loss did not improve from 1.66451\n",
            "116/116 [==============================] - 0s 4ms/step - loss: 0.5210 - mse: 0.5210 - val_loss: 1.6645 - val_mse: 1.6645\n",
            "Epoch 170/200\n",
            "114/116 [============================>.] - ETA: 0s - loss: 0.5198 - mse: 0.5198\n",
            "Epoch 170: val_loss did not improve from 1.66451\n",
            "116/116 [==============================] - 1s 4ms/step - loss: 0.5210 - mse: 0.5210 - val_loss: 1.6645 - val_mse: 1.6645\n",
            "Epoch 171/200\n",
            "113/116 [============================>.] - ETA: 0s - loss: 0.5245 - mse: 0.5245\n",
            "Epoch 171: val_loss did not improve from 1.66451\n",
            "116/116 [==============================] - 1s 4ms/step - loss: 0.5210 - mse: 0.5210 - val_loss: 1.6645 - val_mse: 1.6645\n",
            "Epoch 172/200\n",
            "116/116 [==============================] - ETA: 0s - loss: 0.5210 - mse: 0.5210\n",
            "Epoch 172: val_loss did not improve from 1.66451\n",
            "116/116 [==============================] - 0s 4ms/step - loss: 0.5210 - mse: 0.5210 - val_loss: 1.6645 - val_mse: 1.6645\n",
            "Epoch 173/200\n",
            "105/116 [==========================>...] - ETA: 0s - loss: 0.5235 - mse: 0.5235\n",
            "Epoch 173: val_loss did not improve from 1.66451\n",
            "116/116 [==============================] - 0s 4ms/step - loss: 0.5210 - mse: 0.5210 - val_loss: 1.6645 - val_mse: 1.6645\n",
            "Epoch 174/200\n",
            "113/116 [============================>.] - ETA: 0s - loss: 0.5225 - mse: 0.5225\n",
            "Epoch 174: val_loss did not improve from 1.66451\n",
            "116/116 [==============================] - 0s 4ms/step - loss: 0.5210 - mse: 0.5210 - val_loss: 1.6645 - val_mse: 1.6645\n",
            "Epoch 175/200\n",
            "103/116 [=========================>....] - ETA: 0s - loss: 0.5097 - mse: 0.5097\n",
            "Epoch 175: val_loss improved from 1.66451 to 1.66451, saving model to /content/drive/MyDrive/gachon4-2/deeplearning/week2/model.h5\n",
            "116/116 [==============================] - 1s 4ms/step - loss: 0.5210 - mse: 0.5210 - val_loss: 1.6645 - val_mse: 1.6645\n",
            "Epoch 176/200\n",
            "108/116 [==========================>...] - ETA: 0s - loss: 0.5243 - mse: 0.5243\n",
            "Epoch 176: val_loss did not improve from 1.66451\n",
            "116/116 [==============================] - 1s 5ms/step - loss: 0.5210 - mse: 0.5210 - val_loss: 1.6645 - val_mse: 1.6645\n",
            "Epoch 177/200\n",
            "110/116 [===========================>..] - ETA: 0s - loss: 0.5269 - mse: 0.5269\n",
            "Epoch 177: val_loss did not improve from 1.66451\n",
            "116/116 [==============================] - 1s 6ms/step - loss: 0.5210 - mse: 0.5210 - val_loss: 1.6645 - val_mse: 1.6645\n",
            "Epoch 178/200\n",
            "107/116 [==========================>...] - ETA: 0s - loss: 0.5200 - mse: 0.5200\n",
            "Epoch 178: val_loss did not improve from 1.66451\n",
            "116/116 [==============================] - 1s 5ms/step - loss: 0.5210 - mse: 0.5210 - val_loss: 1.6645 - val_mse: 1.6645\n",
            "Epoch 179/200\n",
            "105/116 [==========================>...] - ETA: 0s - loss: 0.5182 - mse: 0.5182\n",
            "Epoch 179: val_loss did not improve from 1.66451\n",
            "116/116 [==============================] - 1s 5ms/step - loss: 0.5210 - mse: 0.5210 - val_loss: 1.6645 - val_mse: 1.6645\n",
            "Epoch 180/200\n",
            "116/116 [==============================] - ETA: 0s - loss: 0.5210 - mse: 0.5210\n",
            "Epoch 180: val_loss did not improve from 1.66451\n",
            "116/116 [==============================] - 1s 5ms/step - loss: 0.5210 - mse: 0.5210 - val_loss: 1.6645 - val_mse: 1.6645\n",
            "Epoch 181/200\n",
            "107/116 [==========================>...] - ETA: 0s - loss: 0.5173 - mse: 0.5173\n",
            "Epoch 181: val_loss did not improve from 1.66451\n",
            "116/116 [==============================] - 1s 6ms/step - loss: 0.5210 - mse: 0.5210 - val_loss: 1.6645 - val_mse: 1.6645\n",
            "Epoch 182/200\n",
            "109/116 [===========================>..] - ETA: 0s - loss: 0.5190 - mse: 0.5190\n",
            "Epoch 182: val_loss did not improve from 1.66451\n",
            "116/116 [==============================] - 1s 6ms/step - loss: 0.5210 - mse: 0.5210 - val_loss: 1.6645 - val_mse: 1.6645\n",
            "Epoch 183/200\n",
            "113/116 [============================>.] - ETA: 0s - loss: 0.5186 - mse: 0.5186\n",
            "Epoch 183: val_loss did not improve from 1.66451\n",
            "116/116 [==============================] - 1s 5ms/step - loss: 0.5210 - mse: 0.5210 - val_loss: 1.6645 - val_mse: 1.6645\n",
            "Epoch 184/200\n",
            "112/116 [===========================>..] - ETA: 0s - loss: 0.5219 - mse: 0.5219\n",
            "Epoch 184: val_loss did not improve from 1.66451\n",
            "116/116 [==============================] - 1s 5ms/step - loss: 0.5210 - mse: 0.5210 - val_loss: 1.6645 - val_mse: 1.6645\n",
            "Epoch 185/200\n",
            "105/116 [==========================>...] - ETA: 0s - loss: 0.5261 - mse: 0.5261\n",
            "Epoch 185: val_loss did not improve from 1.66451\n",
            "116/116 [==============================] - 0s 4ms/step - loss: 0.5209 - mse: 0.5209 - val_loss: 1.6645 - val_mse: 1.6645\n",
            "Epoch 186/200\n",
            "107/116 [==========================>...] - ETA: 0s - loss: 0.5346 - mse: 0.5346\n",
            "Epoch 186: val_loss did not improve from 1.66451\n",
            "116/116 [==============================] - 0s 4ms/step - loss: 0.5209 - mse: 0.5209 - val_loss: 1.6645 - val_mse: 1.6645\n",
            "Epoch 187/200\n",
            "108/116 [==========================>...] - ETA: 0s - loss: 0.5177 - mse: 0.5177\n",
            "Epoch 187: val_loss did not improve from 1.66451\n",
            "116/116 [==============================] - 0s 4ms/step - loss: 0.5209 - mse: 0.5209 - val_loss: 1.6645 - val_mse: 1.6645\n",
            "Epoch 188/200\n",
            "116/116 [==============================] - ETA: 0s - loss: 0.5209 - mse: 0.5209\n",
            "Epoch 188: val_loss did not improve from 1.66451\n",
            "116/116 [==============================] - 0s 4ms/step - loss: 0.5209 - mse: 0.5209 - val_loss: 1.6645 - val_mse: 1.6645\n",
            "Epoch 189/200\n",
            "105/116 [==========================>...] - ETA: 0s - loss: 0.5178 - mse: 0.5178\n",
            "Epoch 189: val_loss did not improve from 1.66451\n",
            "116/116 [==============================] - 0s 4ms/step - loss: 0.5209 - mse: 0.5209 - val_loss: 1.6645 - val_mse: 1.6645\n",
            "Epoch 190/200\n",
            "107/116 [==========================>...] - ETA: 0s - loss: 0.5141 - mse: 0.5141\n",
            "Epoch 190: val_loss did not improve from 1.66451\n",
            "116/116 [==============================] - 0s 4ms/step - loss: 0.5209 - mse: 0.5209 - val_loss: 1.6645 - val_mse: 1.6645\n",
            "Epoch 191/200\n",
            "115/116 [============================>.] - ETA: 0s - loss: 0.5217 - mse: 0.5217\n",
            "Epoch 191: val_loss did not improve from 1.66451\n",
            "116/116 [==============================] - 1s 4ms/step - loss: 0.5209 - mse: 0.5209 - val_loss: 1.6645 - val_mse: 1.6645\n",
            "Epoch 192/200\n",
            "107/116 [==========================>...] - ETA: 0s - loss: 0.5269 - mse: 0.5269\n",
            "Epoch 192: val_loss did not improve from 1.66451\n",
            "116/116 [==============================] - 0s 4ms/step - loss: 0.5209 - mse: 0.5209 - val_loss: 1.6645 - val_mse: 1.6645\n",
            "Epoch 193/200\n",
            "108/116 [==========================>...] - ETA: 0s - loss: 0.5269 - mse: 0.5269\n",
            "Epoch 193: val_loss did not improve from 1.66451\n",
            "116/116 [==============================] - 0s 4ms/step - loss: 0.5209 - mse: 0.5209 - val_loss: 1.6645 - val_mse: 1.6645\n",
            "Epoch 194/200\n",
            "112/116 [===========================>..] - ETA: 0s - loss: 0.5279 - mse: 0.5279\n",
            "Epoch 194: val_loss did not improve from 1.66451\n",
            "116/116 [==============================] - 0s 4ms/step - loss: 0.5209 - mse: 0.5209 - val_loss: 1.6645 - val_mse: 1.6645\n",
            "Epoch 195/200\n",
            "111/116 [===========================>..] - ETA: 0s - loss: 0.5163 - mse: 0.5163\n",
            "Epoch 195: val_loss did not improve from 1.66451\n",
            "116/116 [==============================] - 1s 5ms/step - loss: 0.5209 - mse: 0.5209 - val_loss: 1.6645 - val_mse: 1.6645\n"
          ]
        }
      ]
    },
    {
      "cell_type": "code",
      "source": [
        "import matplotlib.pyplot as plt\n",
        "\n",
        "plt.plot(hist.history['loss'], 'r', label = 'train_loss')\n",
        "plt.plot(hist.history['val_loss'], 'b', label = 'test_loss')\n",
        "plt.ylabel('loss')\n",
        "plt.xlabel('epoch')\n",
        "plt.legend(loc='upper left')\n",
        "plt.show()"
      ],
      "metadata": {
        "id": "HlQ6kVCc2_P3",
        "colab": {
          "base_uri": "https://localhost:8080/",
          "height": 448
        },
        "outputId": "e5156838-6403-415a-c19d-93292b9c5aa3"
      },
      "execution_count": 461,
      "outputs": [
        {
          "output_type": "display_data",
          "data": {
            "text/plain": [
              "<Figure size 640x480 with 1 Axes>"
            ],
            "image/png": "[encoded data removed]"
          },
          "metadata": {}
        }
      ]
    },
    {
      "cell_type": "markdown",
      "source": [
        "## 4-2. 1D-CNN Evaluation"
      ],
      "metadata": {
        "id": "vsgiDg4HVWqT"
      }
    },
    {
      "cell_type": "code",
      "source": [
        "# 모델 평가\n",
        "cnn_model.evaluate(x_test, y_test)\n",
        "\n",
        "plt.figure(figsize=(20, 5))\n",
        "inference = DNN_model.predict(X_scaled)[:,0]\n",
        "\n",
        "for i, x_col in enumerate(X_scaled.transpose(1,0)):\n",
        "    # 3 plots here hence 1, 3\n",
        "    plt.subplot(1, 5, i+1)\n",
        "    x = x_col\n",
        "    y = Y_scaled[:,0]\n",
        "    # print(x.shape, y.shape, inference.shape)\n",
        "    plt.plot(x, y, 'o')\n",
        "    # Create regression line\n",
        "    plt.plot(np.unique(x), np.poly1d(np.polyfit(x, y, 1))(np.unique(x)))\n",
        "    plt.plot(np.unique(x), np.poly1d(np.polyfit(x, inference, 1))(np.unique(x)))"
      ],
      "metadata": {
        "colab": {
          "base_uri": "https://localhost:8080/",
          "height": 305
        },
        "id": "lHVjalmkLo51",
        "outputId": "903b5c90-bd71-4944-82bb-582c0211ca65"
      },
      "execution_count": 462,
      "outputs": [
        {
          "output_type": "stream",
          "name": "stdout",
          "text": [
            "2/2 [==============================] - 0s 7ms/step - loss: 1.6645 - mse: 1.6645\n",
            "1/1 [==============================] - 0s 22ms/step\n"
          ]
        },
        {
          "output_type": "display_data",
          "data": {
            "text/plain": [
              "<Figure size 2000x500 with 5 Axes>"
            ],
            "image/png": "[encoded data removed]"
          },
          "metadata": {}
        }
      ]
    },
    {
      "cell_type": "code",
      "source": [],
      "metadata": {
        "id": "xb2-J6_FdRgT"
      },
      "execution_count": null,
      "outputs": []
    }
  ]
}