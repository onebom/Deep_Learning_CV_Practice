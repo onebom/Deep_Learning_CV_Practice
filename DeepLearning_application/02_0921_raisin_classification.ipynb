{
  "cells": [
    {
      "cell_type": "code",
      "execution_count": 1,
      "metadata": {
        "id": "TAsKhxXIOITI"
      },
      "outputs": [],
      "source": [
        "import pandas as pd\n",
        "from matplotlib import pyplot as plt\n",
        "from sklearn import datasets\n",
        "import sklearn.datasets as datasets\n",
        "from sklearn.model_selection import train_test_split\n",
        "import tensorflow as tf\n",
        "from keras.layers import Dense, Dropout, Input\n",
        "from keras import optimizers, Model\n",
        "from keras.callbacks import EarlyStopping\n",
        "from keras.callbacks import ModelCheckpoint\n",
        "\n",
        "import numpy as np"
      ]
    },
    {
      "cell_type": "code",
      "execution_count": 2,
      "metadata": {
        "id": "SDV8EV_tOO3s"
      },
      "outputs": [],
      "source": [
        "import os"
      ]
    },
    {
      "cell_type": "code",
      "execution_count": 3,
      "metadata": {
        "colab": {
          "base_uri": "https://localhost:8080/"
        },
        "id": "yC_ZGXlnOP_3",
        "outputId": "14de5dde-42e8-4249-c8d4-e7fc03f8af28"
      },
      "outputs": [
        {
          "name": "stdout",
          "output_type": "stream",
          "text": [
            "Mounted at /content/drive\n"
          ]
        }
      ],
      "source": [
        "from google.colab import drive   # 코랩 드라이브와 연동\n",
        "drive.mount('/content/drive')"
      ]
    },
    {
      "cell_type": "markdown",
      "metadata": {},
      "source": [
        "# 결과보고서\n",
        "1. Dense Net을 이용해 \"0.9 f1 score\" 달성\n",
        "2. 1D-CNN layer를 이용한 CNN을 통해 \"0.89 f1 score\" 달성\n",
        "3. Overfitting 방지를 위해 두모델 다 아래 기법 사용;\n",
        "   1. feature engineering을 통해 corr이 적은 feature 제거\n",
        "   2. StandardScaler를 이용한 data normalization\n",
        "   3. l2 regulalization 활용\n",
        "   4. DropOut layer 활용\n",
        "   "
      ]
    },
    {
      "cell_type": "markdown",
      "metadata": {
        "id": "a5LyhphrOjTV"
      },
      "source": [
        "## 1. Data 확인하기\n"
      ]
    },
    {
      "cell_type": "code",
      "execution_count": 62,
      "metadata": {
        "id": "4tuxUupsORJG"
      },
      "outputs": [],
      "source": [
        "data_path = '/content/drive/MyDrive/gachon4-2/deeplearning/week2/Raisin_Dataset'"
      ]
    },
    {
      "cell_type": "code",
      "execution_count": 63,
      "metadata": {
        "id": "1PCrleBAOkFC"
      },
      "outputs": [],
      "source": [
        "df = pd.DataFrame(pd.read_excel(os.path.join(data_path,\"Raisin_Dataset.xlsx\")))"
      ]
    },
    {
      "cell_type": "code",
      "execution_count": 64,
      "metadata": {
        "colab": {
          "base_uri": "https://localhost:8080/",
          "height": 201
        },
        "id": "2_pAf9boOlpN",
        "outputId": "05b924f7-33b2-4aa5-dd6d-9e3db32d76d7"
      },
      "outputs": [
        {
          "data": {
            "text/html": [
              "\n",
              "  <div id=\"df-9ab53f81-5c1a-4200-9d67-35e6b0f2e2c8\" class=\"colab-df-container\">\n",
              "    <div>\n",
              "<style scoped>\n",
              "    .dataframe tbody tr th:only-of-type {\n",
              "        vertical-align: middle;\n",
              "    }\n",
              "\n",
              "    .dataframe tbody tr th {\n",
              "        vertical-align: top;\n",
              "    }\n",
              "\n",
              "    .dataframe thead th {\n",
              "        text-align: right;\n",
              "    }\n",
              "</style>\n",
              "<table border=\"1\" class=\"dataframe\">\n",
              "  <thead>\n",
              "    <tr style=\"text-align: right;\">\n",
              "      <th></th>\n",
              "      <th>Area</th>\n",
              "      <th>MajorAxisLength</th>\n",
              "      <th>MinorAxisLength</th>\n",
              "      <th>Eccentricity</th>\n",
              "      <th>ConvexArea</th>\n",
              "      <th>Extent</th>\n",
              "      <th>Perimeter</th>\n",
              "      <th>Class</th>\n",
              "    </tr>\n",
              "  </thead>\n",
              "  <tbody>\n",
              "    <tr>\n",
              "      <th>0</th>\n",
              "      <td>87524</td>\n",
              "      <td>442.246011</td>\n",
              "      <td>253.291155</td>\n",
              "      <td>0.819738</td>\n",
              "      <td>90546</td>\n",
              "      <td>0.758651</td>\n",
              "      <td>1184.040</td>\n",
              "      <td>Kecimen</td>\n",
              "    </tr>\n",
              "    <tr>\n",
              "      <th>1</th>\n",
              "      <td>75166</td>\n",
              "      <td>406.690687</td>\n",
              "      <td>243.032436</td>\n",
              "      <td>0.801805</td>\n",
              "      <td>78789</td>\n",
              "      <td>0.684130</td>\n",
              "      <td>1121.786</td>\n",
              "      <td>Kecimen</td>\n",
              "    </tr>\n",
              "    <tr>\n",
              "      <th>2</th>\n",
              "      <td>90856</td>\n",
              "      <td>442.267048</td>\n",
              "      <td>266.328318</td>\n",
              "      <td>0.798354</td>\n",
              "      <td>93717</td>\n",
              "      <td>0.637613</td>\n",
              "      <td>1208.575</td>\n",
              "      <td>Kecimen</td>\n",
              "    </tr>\n",
              "    <tr>\n",
              "      <th>3</th>\n",
              "      <td>45928</td>\n",
              "      <td>286.540559</td>\n",
              "      <td>208.760042</td>\n",
              "      <td>0.684989</td>\n",
              "      <td>47336</td>\n",
              "      <td>0.699599</td>\n",
              "      <td>844.162</td>\n",
              "      <td>Kecimen</td>\n",
              "    </tr>\n",
              "    <tr>\n",
              "      <th>4</th>\n",
              "      <td>79408</td>\n",
              "      <td>352.190770</td>\n",
              "      <td>290.827533</td>\n",
              "      <td>0.564011</td>\n",
              "      <td>81463</td>\n",
              "      <td>0.792772</td>\n",
              "      <td>1073.251</td>\n",
              "      <td>Kecimen</td>\n",
              "    </tr>\n",
              "  </tbody>\n",
              "</table>\n",
              "</div>\n",
              "    <div class=\"colab-df-buttons\">\n",
              "\n",
              "  <div class=\"colab-df-container\">\n",
              "    <button class=\"colab-df-convert\" onclick=\"convertToInteractive('df-9ab53f81-5c1a-4200-9d67-35e6b0f2e2c8')\"\n",
              "            title=\"Convert this dataframe to an interactive table.\"\n",
              "            style=\"display:none;\">\n",
              "\n",
              "  <svg xmlns=\"http://www.w3.org/2000/svg\" height=\"24px\" viewBox=\"0 -960 960 960\">\n",
              "    <path d=\"M120-120v-720h720v720H120Zm60-500h600v-160H180v160Zm220 220h160v-160H400v160Zm0 220h160v-160H400v160ZM180-400h160v-160H180v160Zm440 0h160v-160H620v160ZM180-180h160v-160H180v160Zm440 0h160v-160H620v160Z\"/>\n",
              "  </svg>\n",
              "    </button>\n",
              "\n",
              "  <style>\n",
              "    .colab-df-container {\n",
              "      display:flex;\n",
              "      gap: 12px;\n",
              "    }\n",
              "\n",
              "    .colab-df-convert {\n",
              "      background-color: #E8F0FE;\n",
              "      border: none;\n",
              "      border-radius: 50%;\n",
              "      cursor: pointer;\n",
              "      display: none;\n",
              "      fill: #1967D2;\n",
              "      height: 32px;\n",
              "      padding: 0 0 0 0;\n",
              "      width: 32px;\n",
              "    }\n",
              "\n",
              "    .colab-df-convert:hover {\n",
              "      background-color: #E2EBFA;\n",
              "      box-shadow: 0px 1px 2px rgba(60, 64, 67, 0.3), 0px 1px 3px 1px rgba(60, 64, 67, 0.15);\n",
              "      fill: #174EA6;\n",
              "    }\n",
              "\n",
              "    .colab-df-buttons div {\n",
              "      margin-bottom: 4px;\n",
              "    }\n",
              "\n",
              "    [theme=dark] .colab-df-convert {\n",
              "      background-color: #3B4455;\n",
              "      fill: #D2E3FC;\n",
              "    }\n",
              "\n",
              "    [theme=dark] .colab-df-convert:hover {\n",
              "      background-color: #434B5C;\n",
              "      box-shadow: 0px 1px 3px 1px rgba(0, 0, 0, 0.15);\n",
              "      filter: drop-shadow(0px 1px 2px rgba(0, 0, 0, 0.3));\n",
              "      fill: #FFFFFF;\n",
              "    }\n",
              "  </style>\n",
              "\n",
              "    <script>\n",
              "      const buttonEl =\n",
              "        document.querySelector('#df-9ab53f81-5c1a-4200-9d67-35e6b0f2e2c8 button.colab-df-convert');\n",
              "      buttonEl.style.display =\n",
              "        google.colab.kernel.accessAllowed ? 'block' : 'none';\n",
              "\n",
              "      async function convertToInteractive(key) {\n",
              "        const element = document.querySelector('#df-9ab53f81-5c1a-4200-9d67-35e6b0f2e2c8');\n",
              "        const dataTable =\n",
              "          await google.colab.kernel.invokeFunction('convertToInteractive',\n",
              "                                                    [key], {});\n",
              "        if (!dataTable) return;\n",
              "\n",
              "        const docLinkHtml = 'Like what you see? Visit the ' +\n",
              "          '<a target=\"_blank\" href=https://colab.research.google.com/notebooks/data_table.ipynb>data table notebook</a>'\n",
              "          + ' to learn more about interactive tables.';\n",
              "        element.innerHTML = '';\n",
              "        dataTable['output_type'] = 'display_data';\n",
              "        await google.colab.output.renderOutput(dataTable, element);\n",
              "        const docLink = document.createElement('div');\n",
              "        docLink.innerHTML = docLinkHtml;\n",
              "        element.appendChild(docLink);\n",
              "      }\n",
              "    </script>\n",
              "  </div>\n",
              "\n",
              "\n",
              "<div id=\"df-d0d4a7b6-4866-44f1-b477-908249ccb15a\">\n",
              "  <button class=\"colab-df-quickchart\" onclick=\"quickchart('df-d0d4a7b6-4866-44f1-b477-908249ccb15a')\"\n",
              "            title=\"Suggest charts.\"\n",
              "            style=\"display:none;\">\n",
              "\n",
              "<svg xmlns=\"http://www.w3.org/2000/svg\" height=\"24px\"viewBox=\"0 0 24 24\"\n",
              "     width=\"24px\">\n",
              "    <g>\n",
              "        <path d=\"M19 3H5c-1.1 0-2 .9-2 2v14c0 1.1.9 2 2 2h14c1.1 0 2-.9 2-2V5c0-1.1-.9-2-2-2zM9 17H7v-7h2v7zm4 0h-2V7h2v10zm4 0h-2v-4h2v4z\"/>\n",
              "    </g>\n",
              "</svg>\n",
              "  </button>\n",
              "\n",
              "<style>\n",
              "  .colab-df-quickchart {\n",
              "      --bg-color: #E8F0FE;\n",
              "      --fill-color: #1967D2;\n",
              "      --hover-bg-color: #E2EBFA;\n",
              "      --hover-fill-color: #174EA6;\n",
              "      --disabled-fill-color: #AAA;\n",
              "      --disabled-bg-color: #DDD;\n",
              "  }\n",
              "\n",
              "  [theme=dark] .colab-df-quickchart {\n",
              "      --bg-color: #3B4455;\n",
              "      --fill-color: #D2E3FC;\n",
              "      --hover-bg-color: #434B5C;\n",
              "      --hover-fill-color: #FFFFFF;\n",
              "      --disabled-bg-color: #3B4455;\n",
              "      --disabled-fill-color: #666;\n",
              "  }\n",
              "\n",
              "  .colab-df-quickchart {\n",
              "    background-color: var(--bg-color);\n",
              "    border: none;\n",
              "    border-radius: 50%;\n",
              "    cursor: pointer;\n",
              "    display: none;\n",
              "    fill: var(--fill-color);\n",
              "    height: 32px;\n",
              "    padding: 0;\n",
              "    width: 32px;\n",
              "  }\n",
              "\n",
              "  .colab-df-quickchart:hover {\n",
              "    background-color: var(--hover-bg-color);\n",
              "    box-shadow: 0 1px 2px rgba(60, 64, 67, 0.3), 0 1px 3px 1px rgba(60, 64, 67, 0.15);\n",
              "    fill: var(--button-hover-fill-color);\n",
              "  }\n",
              "\n",
              "  .colab-df-quickchart-complete:disabled,\n",
              "  .colab-df-quickchart-complete:disabled:hover {\n",
              "    background-color: var(--disabled-bg-color);\n",
              "    fill: var(--disabled-fill-color);\n",
              "    box-shadow: none;\n",
              "  }\n",
              "\n",
              "  .colab-df-spinner {\n",
              "    border: 2px solid var(--fill-color);\n",
              "    border-color: transparent;\n",
              "    border-bottom-color: var(--fill-color);\n",
              "    animation:\n",
              "      spin 1s steps(1) infinite;\n",
              "  }\n",
              "\n",
              "  @keyframes spin {\n",
              "    0% {\n",
              "      border-color: transparent;\n",
              "      border-bottom-color: var(--fill-color);\n",
              "      border-left-color: var(--fill-color);\n",
              "    }\n",
              "    20% {\n",
              "      border-color: transparent;\n",
              "      border-left-color: var(--fill-color);\n",
              "      border-top-color: var(--fill-color);\n",
              "    }\n",
              "    30% {\n",
              "      border-color: transparent;\n",
              "      border-left-color: var(--fill-color);\n",
              "      border-top-color: var(--fill-color);\n",
              "      border-right-color: var(--fill-color);\n",
              "    }\n",
              "    40% {\n",
              "      border-color: transparent;\n",
              "      border-right-color: var(--fill-color);\n",
              "      border-top-color: var(--fill-color);\n",
              "    }\n",
              "    60% {\n",
              "      border-color: transparent;\n",
              "      border-right-color: var(--fill-color);\n",
              "    }\n",
              "    80% {\n",
              "      border-color: transparent;\n",
              "      border-right-color: var(--fill-color);\n",
              "      border-bottom-color: var(--fill-color);\n",
              "    }\n",
              "    90% {\n",
              "      border-color: transparent;\n",
              "      border-bottom-color: var(--fill-color);\n",
              "    }\n",
              "  }\n",
              "</style>\n",
              "\n",
              "  <script>\n",
              "    async function quickchart(key) {\n",
              "      const quickchartButtonEl =\n",
              "        document.querySelector('#' + key + ' button');\n",
              "      quickchartButtonEl.disabled = true;  // To prevent multiple clicks.\n",
              "      quickchartButtonEl.classList.add('colab-df-spinner');\n",
              "      try {\n",
              "        const charts = await google.colab.kernel.invokeFunction(\n",
              "            'suggestCharts', [key], {});\n",
              "      } catch (error) {\n",
              "        console.error('Error during call to suggestCharts:', error);\n",
              "      }\n",
              "      quickchartButtonEl.classList.remove('colab-df-spinner');\n",
              "      quickchartButtonEl.classList.add('colab-df-quickchart-complete');\n",
              "    }\n",
              "    (() => {\n",
              "      let quickchartButtonEl =\n",
              "        document.querySelector('#df-d0d4a7b6-4866-44f1-b477-908249ccb15a button');\n",
              "      quickchartButtonEl.style.display =\n",
              "        google.colab.kernel.accessAllowed ? 'block' : 'none';\n",
              "    })();\n",
              "  </script>\n",
              "</div>\n",
              "    </div>\n",
              "  </div>\n"
            ],
            "text/plain": [
              "    Area  MajorAxisLength  MinorAxisLength  Eccentricity  ConvexArea  \\\n",
              "0  87524       442.246011       253.291155      0.819738       90546   \n",
              "1  75166       406.690687       243.032436      0.801805       78789   \n",
              "2  90856       442.267048       266.328318      0.798354       93717   \n",
              "3  45928       286.540559       208.760042      0.684989       47336   \n",
              "4  79408       352.190770       290.827533      0.564011       81463   \n",
              "\n",
              "     Extent  Perimeter    Class  \n",
              "0  0.758651   1184.040  Kecimen  \n",
              "1  0.684130   1121.786  Kecimen  \n",
              "2  0.637613   1208.575  Kecimen  \n",
              "3  0.699599    844.162  Kecimen  \n",
              "4  0.792772   1073.251  Kecimen  "
            ]
          },
          "execution_count": 64,
          "metadata": {},
          "output_type": "execute_result"
        }
      ],
      "source": [
        "df.head()"
      ]
    },
    {
      "cell_type": "code",
      "execution_count": 65,
      "metadata": {
        "colab": {
          "base_uri": "https://localhost:8080/"
        },
        "id": "5wkbpikAOLiN",
        "outputId": "c19a69ec-d9d5-4a1d-b325-2ade5fb085dd"
      },
      "outputs": [
        {
          "name": "stdout",
          "output_type": "stream",
          "text": [
            "['Besni' 'Kecimen']\n"
          ]
        }
      ],
      "source": [
        "print(np.unique(df['Class']))"
      ]
    },
    {
      "cell_type": "code",
      "execution_count": 66,
      "metadata": {
        "id": "llz4bdWeOSOE"
      },
      "outputs": [],
      "source": [
        "# convert word to int\n",
        "df.loc[df['Class'] == 'Besni', 'Class'] = 0\n",
        "df.loc[df['Class'] == 'Kecimen', 'Class'] = 1\n",
        "\n",
        "df['Class']=df['Class'].astype('int')"
      ]
    },
    {
      "cell_type": "code",
      "execution_count": 67,
      "metadata": {
        "colab": {
          "base_uri": "https://localhost:8080/"
        },
        "id": "yFwwt5yDOmMp",
        "outputId": "40a98ce2-74b2-4ee4-db12-724b7816adb2"
      },
      "outputs": [
        {
          "name": "stdout",
          "output_type": "stream",
          "text": [
            "<class 'pandas.core.frame.DataFrame'>\n",
            "RangeIndex: 900 entries, 0 to 899\n",
            "Data columns (total 8 columns):\n",
            " #   Column           Non-Null Count  Dtype  \n",
            "---  ------           --------------  -----  \n",
            " 0   Area             900 non-null    int64  \n",
            " 1   MajorAxisLength  900 non-null    float64\n",
            " 2   MinorAxisLength  900 non-null    float64\n",
            " 3   Eccentricity     900 non-null    float64\n",
            " 4   ConvexArea       900 non-null    int64  \n",
            " 5   Extent           900 non-null    float64\n",
            " 6   Perimeter        900 non-null    float64\n",
            " 7   Class            900 non-null    int64  \n",
            "dtypes: float64(5), int64(3)\n",
            "memory usage: 56.4 KB\n"
          ]
        }
      ],
      "source": [
        "df.info()"
      ]
    },
    {
      "cell_type": "code",
      "execution_count": 68,
      "metadata": {
        "colab": {
          "base_uri": "https://localhost:8080/",
          "height": 628
        },
        "id": "Et1ssNtlNtWl",
        "outputId": "6737a62b-439b-411a-c95a-ca32525055db"
      },
      "outputs": [
        {
          "data": {
            "image/png": "[encoded data removed]",
            "text/plain": [
              "<Figure size 1000x600 with 2 Axes>"
            ]
          },
          "metadata": {},
          "output_type": "display_data"
        }
      ],
      "source": [
        "import seaborn as sns\n",
        "plt.figure(figsize=(10,6))\n",
        "sns.heatmap(df.corr().abs(), annot=True, cmap=\"viridis\");"
      ]
    },
    {
      "cell_type": "code",
      "execution_count": 69,
      "metadata": {
        "colab": {
          "base_uri": "https://localhost:8080/"
        },
        "id": "AJhDRdBywAja",
        "outputId": "e7232d9f-8392-4701-c214-60b08e772e35"
      },
      "outputs": [
        {
          "data": {
            "text/plain": [
              "Index(['Area', 'MajorAxisLength', 'MinorAxisLength', 'Eccentricity',\n",
              "       'ConvexArea', 'Extent', 'Perimeter', 'Class'],\n",
              "      dtype='object')"
            ]
          },
          "execution_count": 69,
          "metadata": {},
          "output_type": "execute_result"
        }
      ],
      "source": [
        "df.columns"
      ]
    },
    {
      "cell_type": "markdown",
      "metadata": {
        "id": "5BwD8fO5JX9h"
      },
      "source": [
        "## 2. Data preprocessing"
      ]
    },
    {
      "cell_type": "code",
      "execution_count": 89,
      "metadata": {
        "id": "uyUSdCzEOsGu"
      },
      "outputs": [],
      "source": [
        "# X = df[['Area', 'MajorAxisLength', 'MinorAxisLength', 'Eccentricity',\n",
        "#        'ConvexArea', 'Extent', 'Perimeter']].values\n",
        "\n",
        "## corr 값이 작은 Extent, Eccentricity 제거\n",
        "X = df[['Area', 'MajorAxisLength', 'MinorAxisLength','ConvexArea', 'Perimeter']].values\n",
        "Y = df['Class'].values"
      ]
    },
    {
      "cell_type": "code",
      "execution_count": 90,
      "metadata": {
        "id": "8H1jzGZ3RK8y"
      },
      "outputs": [],
      "source": [
        "X = np.asarray(X).astype('float32')\n",
        "Y = np.asarray(Y).astype('float32')"
      ]
    },
    {
      "cell_type": "code",
      "execution_count": 91,
      "metadata": {
        "colab": {
          "base_uri": "https://localhost:8080/"
        },
        "id": "qijmgUaexm7m",
        "outputId": "79ca4f42-4469-4f15-e6aa-d5271d6cb950"
      },
      "outputs": [
        {
          "name": "stdout",
          "output_type": "stream",
          "text": [
            "[[87524.        442.246     253.29115 90546.       1184.04   ]\n",
            " [75166.        406.69067   243.03244 78789.       1121.786  ]\n",
            " [90856.        442.26706   266.3283  93717.       1208.575  ]\n",
            " [45928.        286.54056   208.76004 47336.        844.162  ]\n",
            " [79408.        352.19077   290.82755 81463.       1073.251  ]]\n",
            "[1. 1. 1. 1. 1.]\n"
          ]
        }
      ],
      "source": [
        "print(X[:5])\n",
        "print(Y[:5])"
      ]
    },
    {
      "cell_type": "code",
      "execution_count": 94,
      "metadata": {
        "colab": {
          "base_uri": "https://localhost:8080/"
        },
        "id": "1CssytmCwHRw",
        "outputId": "12b72649-c4a4-4ebc-eb66-69383a3463e2"
      },
      "outputs": [
        {
          "name": "stdout",
          "output_type": "stream",
          "text": [
            "New y_train shape:  (900, 2)\n"
          ]
        }
      ],
      "source": [
        "# from sklearn.preprocessing import MinMaxScaler\n",
        "# mm = MinMaxScaler()\n",
        "from sklearn.preprocessing import StandardScaler\n",
        "mm = StandardScaler()\n",
        "X_scaled = mm.fit_transform(X)\n",
        "\n",
        "# One-hot encoding of y_train labels (only execute once!)\n",
        "from keras.utils import to_categorical\n",
        "Y2 = to_categorical(Y, num_classes= 2)\n",
        "print('New y_train shape: ', Y2.shape)"
      ]
    },
    {
      "cell_type": "code",
      "execution_count": 95,
      "metadata": {
        "colab": {
          "base_uri": "https://localhost:8080/"
        },
        "id": "T7uHCyyxx4eu",
        "outputId": "10e2bff1-5eb3-4070-8699-07d0f37e2a46"
      },
      "outputs": [
        {
          "name": "stdout",
          "output_type": "stream",
          "text": [
            "[[-0.00718637  0.09757686 -0.02395823 -0.01570903  0.06627411]\n",
            " [-0.3242172  -0.20901218 -0.22929215 -0.30424818 -0.16125241]\n",
            " [ 0.07829241  0.09775844  0.23698777  0.06211335  0.15594451]\n",
            " [-1.0742857  -1.2450513  -0.91527355 -1.0761647  -1.175915  ]\n",
            " [-0.21539338 -0.67895794  0.7273538  -0.23862314 -0.33863866]]\n",
            "[[0. 1.]\n",
            " [0. 1.]\n",
            " [0. 1.]\n",
            " [0. 1.]\n",
            " [0. 1.]]\n"
          ]
        }
      ],
      "source": [
        "print(X_scaled[:5])\n",
        "print(Y2[:5])"
      ]
    },
    {
      "cell_type": "code",
      "execution_count": 176,
      "metadata": {
        "id": "Q-uIFlHmO1YJ"
      },
      "outputs": [],
      "source": [
        "x_train, x_test, y_train, y_test = train_test_split(X_scaled, Y2, train_size=0.9, random_state=2, shuffle=True)\n",
        "x_train, x_val, y_train, y_val = train_test_split(x_train, y_train, train_size=0.9, random_state=2, shuffle=True)"
      ]
    },
    {
      "cell_type": "code",
      "execution_count": 177,
      "metadata": {
        "colab": {
          "base_uri": "https://localhost:8080/"
        },
        "id": "5Gzt3ZhIO3Xj",
        "outputId": "1925017c-af21-4fa1-8f6e-b4c5165e7395"
      },
      "outputs": [
        {
          "name": "stdout",
          "output_type": "stream",
          "text": [
            "(729, 5) (729, 2)\n",
            "(81, 5) (81, 2)\n",
            "(90, 5) (90, 2)\n"
          ]
        }
      ],
      "source": [
        "print(x_train.shape, y_train.shape)\n",
        "print(x_val.shape, y_val.shape)\n",
        "print(x_test.shape, y_test.shape)"
      ]
    },
    {
      "cell_type": "markdown",
      "metadata": {
        "id": "O09MWx7mJbkv"
      },
      "source": [
        "## 3-1. DNN modeling"
      ]
    },
    {
      "cell_type": "code",
      "execution_count": 168,
      "metadata": {
        "id": "tGsTAH9EUUXi"
      },
      "outputs": [],
      "source": [
        "# define model params\n",
        "input_shape = x_train.shape[1]\n",
        "output_shape = y_train.shape[1]\n",
        "nodes = np.ceil(2 * input_shape / 3 + output_shape).astype(int)\n",
        "batch_size = np.ceil(len(x_train) / 128).astype(int)"
      ]
    },
    {
      "cell_type": "code",
      "execution_count": 169,
      "metadata": {
        "id": "AUQ67dTQQP7g"
      },
      "outputs": [],
      "source": [
        "def DNN(input_size=(5,)):\n",
        "  inputs=Input(input_size)\n",
        "  regularizer=tf.keras.regularizers.l2(0)\n",
        "\n",
        "  dense1 = Dense(nodes, activation='relu', kernel_regularizer = regularizer)(inputs)\n",
        "  drop1 = Dropout(0.5)(dense1)\n",
        "  dense2 = Dense(nodes, activation='relu', kernel_regularizer = regularizer)(drop1)\n",
        "  drop2 = Dropout(0.5)(dense2)\n",
        "  dense3 = Dense(nodes, activation='relu')(drop2)\n",
        "  drop3 = Dropout(0.5)(dense3)\n",
        "\n",
        "  outputs = Dense(2, activation='sigmoid')(drop3)\n",
        "  model = Model(inputs=inputs, outputs=outputs)\n",
        "\n",
        "  model.compile(optimizer='adam', loss='binary_crossentropy', metrics=['accuracy'])\n",
        "\n",
        "  return model\n",
        "\n"
      ]
    },
    {
      "cell_type": "code",
      "execution_count": 178,
      "metadata": {
        "colab": {
          "base_uri": "https://localhost:8080/"
        },
        "id": "CnjvaVq5Us2L",
        "outputId": "6986a6d7-cc50-463b-8a0a-be6ae23c29ab"
      },
      "outputs": [
        {
          "name": "stdout",
          "output_type": "stream",
          "text": [
            "Model: \"model_22\"\n",
            "_________________________________________________________________\n",
            " Layer (type)                Output Shape              Param #   \n",
            "=================================================================\n",
            " input_24 (InputLayer)       [(None, 5)]               0         \n",
            "                                                                 \n",
            " dense_85 (Dense)            (None, 6)                 36        \n",
            "                                                                 \n",
            " dropout_56 (Dropout)        (None, 6)                 0         \n",
            "                                                                 \n",
            " dense_86 (Dense)            (None, 6)                 42        \n",
            "                                                                 \n",
            " dropout_57 (Dropout)        (None, 6)                 0         \n",
            "                                                                 \n",
            " dense_87 (Dense)            (None, 6)                 42        \n",
            "                                                                 \n",
            " dropout_58 (Dropout)        (None, 6)                 0         \n",
            "                                                                 \n",
            " dense_88 (Dense)            (None, 2)                 14        \n",
            "                                                                 \n",
            "=================================================================\n",
            "Total params: 134 (536.00 Byte)\n",
            "Trainable params: 134 (536.00 Byte)\n",
            "Non-trainable params: 0 (0.00 Byte)\n",
            "_________________________________________________________________\n"
          ]
        }
      ],
      "source": [
        "DNN_model = DNN()\n",
        "DNN_model.summary()"
      ]
    },
    {
      "cell_type": "code",
      "execution_count": 179,
      "metadata": {
        "id": "8ZJ_jRysUvu6"
      },
      "outputs": [],
      "source": [
        "# 모델 컴파일 하기\n",
        "PATH= \"/content/drive/MyDrive/gachon4-2/deeplearning/week2/\"\n",
        "model_checkpoint = ModelCheckpoint(filepath =  os.path.join(PATH,\"model.h5\"), monitor='val_loss', verbose=1, save_best_only=True)\n",
        "early_stopping = EarlyStopping(monitor = 'val_loss', min_delta = 0, patience = 20)"
      ]
    },
    {
      "cell_type": "code",
      "execution_count": 180,
      "metadata": {
        "colab": {
          "base_uri": "https://localhost:8080/"
        },
        "id": "A93HHcxzU6-K",
        "outputId": "f327a8c4-9ef9-40f9-8b06-23789e7f3859"
      },
      "outputs": [
        {
          "name": "stdout",
          "output_type": "stream",
          "text": [
            "Epoch 1/100\n",
            "116/122 [===========================>..] - ETA: 0s - loss: 0.6616 - accuracy: 0.6236\n",
            "Epoch 1: val_loss improved from inf to 0.65725, saving model to /content/drive/MyDrive/gachon4-2/deeplearning/week2/model.h5\n"
          ]
        },
        {
          "name": "stderr",
          "output_type": "stream",
          "text": [
            "/usr/local/lib/python3.10/dist-packages/keras/src/engine/training.py:3000: UserWarning: You are saving your model as an HDF5 file via `model.save()`. This file format is considered legacy. We recommend using instead the native Keras format, e.g. `model.save('my_model.keras')`.\n",
            "  saving_api.save_model(\n"
          ]
        },
        {
          "name": "stdout",
          "output_type": "stream",
          "text": [
            "\b\b\b\b\b\b\b\b\b\b\b\b\b\b\b\b\b\b\b\b\b\b\b\b\b\b\b\b\b\b\b\b\b\b\b\b\b\b\b\b\b\b\b\b\b\b\b\b\b\b\b\b\b\b\b\b\b\b\b\b\b\b\b\b\b\b\b\b\b\b\b\b\b\b\b\b\b\b\b\b\b\b\b\b\r122/122 [==============================] - 3s 9ms/step - loss: 0.6646 - accuracy: 0.6200 - val_loss: 0.6573 - val_accuracy: 0.8765\n",
            "Epoch 2/100\n",
            "118/122 [============================>.] - ETA: 0s - loss: 0.6272 - accuracy: 0.6794\n",
            "Epoch 2: val_loss improved from 0.65725 to 0.62078, saving model to /content/drive/MyDrive/gachon4-2/deeplearning/week2/model.h5\n",
            "122/122 [==============================] - 1s 5ms/step - loss: 0.6251 - accuracy: 0.6790 - val_loss: 0.6208 - val_accuracy: 0.8889\n",
            "Epoch 3/100\n",
            "112/122 [==========================>...] - ETA: 0s - loss: 0.6122 - accuracy: 0.7232\n",
            "Epoch 3: val_loss improved from 0.62078 to 0.57671, saving model to /content/drive/MyDrive/gachon4-2/deeplearning/week2/model.h5\n",
            "122/122 [==============================] - 1s 5ms/step - loss: 0.6087 - accuracy: 0.7270 - val_loss: 0.5767 - val_accuracy: 0.9136\n",
            "Epoch 4/100\n",
            "116/122 [===========================>..] - ETA: 0s - loss: 0.5864 - accuracy: 0.7443\n",
            "Epoch 4: val_loss improved from 0.57671 to 0.54099, saving model to /content/drive/MyDrive/gachon4-2/deeplearning/week2/model.h5\n",
            "122/122 [==============================] - 1s 5ms/step - loss: 0.5910 - accuracy: 0.7380 - val_loss: 0.5410 - val_accuracy: 0.9136\n",
            "Epoch 5/100\n",
            "121/122 [============================>.] - ETA: 0s - loss: 0.5655 - accuracy: 0.7438\n",
            "Epoch 5: val_loss improved from 0.54099 to 0.51412, saving model to /content/drive/MyDrive/gachon4-2/deeplearning/week2/model.h5\n",
            "122/122 [==============================] - 1s 5ms/step - loss: 0.5651 - accuracy: 0.7449 - val_loss: 0.5141 - val_accuracy: 0.9259\n",
            "Epoch 6/100\n",
            "116/122 [===========================>..] - ETA: 0s - loss: 0.6019 - accuracy: 0.7543\n",
            "Epoch 6: val_loss improved from 0.51412 to 0.50086, saving model to /content/drive/MyDrive/gachon4-2/deeplearning/week2/model.h5\n",
            "122/122 [==============================] - 1s 4ms/step - loss: 0.6012 - accuracy: 0.7490 - val_loss: 0.5009 - val_accuracy: 0.9136\n",
            "Epoch 7/100\n",
            "119/122 [============================>.] - ETA: 0s - loss: 0.5964 - accuracy: 0.7493\n",
            "Epoch 7: val_loss improved from 0.50086 to 0.49152, saving model to /content/drive/MyDrive/gachon4-2/deeplearning/week2/model.h5\n",
            "122/122 [==============================] - 1s 5ms/step - loss: 0.5931 - accuracy: 0.7490 - val_loss: 0.4915 - val_accuracy: 0.9259\n",
            "Epoch 8/100\n",
            "110/122 [==========================>...] - ETA: 0s - loss: 0.5447 - accuracy: 0.7470\n",
            "Epoch 8: val_loss improved from 0.49152 to 0.47503, saving model to /content/drive/MyDrive/gachon4-2/deeplearning/week2/model.h5\n",
            "122/122 [==============================] - 1s 5ms/step - loss: 0.5409 - accuracy: 0.7462 - val_loss: 0.4750 - val_accuracy: 0.9259\n",
            "Epoch 9/100\n",
            "118/122 [============================>.] - ETA: 0s - loss: 0.5831 - accuracy: 0.7556\n",
            "Epoch 9: val_loss improved from 0.47503 to 0.46978, saving model to /content/drive/MyDrive/gachon4-2/deeplearning/week2/model.h5\n",
            "122/122 [==============================] - 1s 5ms/step - loss: 0.5784 - accuracy: 0.7586 - val_loss: 0.4698 - val_accuracy: 0.9136\n",
            "Epoch 10/100\n",
            "121/122 [============================>.] - ETA: 0s - loss: 0.5703 - accuracy: 0.7548\n",
            "Epoch 10: val_loss improved from 0.46978 to 0.46176, saving model to /content/drive/MyDrive/gachon4-2/deeplearning/week2/model.h5\n",
            "122/122 [==============================] - 1s 5ms/step - loss: 0.5700 - accuracy: 0.7545 - val_loss: 0.4618 - val_accuracy: 0.9012\n",
            "Epoch 11/100\n",
            "122/122 [==============================] - ETA: 0s - loss: 0.5448 - accuracy: 0.7435\n",
            "Epoch 11: val_loss improved from 0.46176 to 0.45835, saving model to /content/drive/MyDrive/gachon4-2/deeplearning/week2/model.h5\n",
            "122/122 [==============================] - 1s 5ms/step - loss: 0.5448 - accuracy: 0.7435 - val_loss: 0.4583 - val_accuracy: 0.9136\n",
            "Epoch 12/100\n",
            "118/122 [============================>.] - ETA: 0s - loss: 0.5539 - accuracy: 0.7373\n",
            "Epoch 12: val_loss improved from 0.45835 to 0.45002, saving model to /content/drive/MyDrive/gachon4-2/deeplearning/week2/model.h5\n",
            "122/122 [==============================] - 1s 5ms/step - loss: 0.5513 - accuracy: 0.7407 - val_loss: 0.4500 - val_accuracy: 0.9136\n",
            "Epoch 13/100\n",
            "121/122 [============================>.] - ETA: 0s - loss: 0.5802 - accuracy: 0.7342\n",
            "Epoch 13: val_loss improved from 0.45002 to 0.44875, saving model to /content/drive/MyDrive/gachon4-2/deeplearning/week2/model.h5\n",
            "122/122 [==============================] - 1s 6ms/step - loss: 0.5797 - accuracy: 0.7353 - val_loss: 0.4488 - val_accuracy: 0.9012\n",
            "Epoch 14/100\n",
            "114/122 [===========================>..] - ETA: 0s - loss: 0.5362 - accuracy: 0.7485\n",
            "Epoch 14: val_loss improved from 0.44875 to 0.44164, saving model to /content/drive/MyDrive/gachon4-2/deeplearning/week2/model.h5\n",
            "122/122 [==============================] - 1s 7ms/step - loss: 0.5374 - accuracy: 0.7503 - val_loss: 0.4416 - val_accuracy: 0.9136\n",
            "Epoch 15/100\n",
            "122/122 [==============================] - ETA: 0s - loss: 0.5480 - accuracy: 0.7517\n",
            "Epoch 15: val_loss improved from 0.44164 to 0.43401, saving model to /content/drive/MyDrive/gachon4-2/deeplearning/week2/model.h5\n",
            "122/122 [==============================] - 1s 7ms/step - loss: 0.5480 - accuracy: 0.7517 - val_loss: 0.4340 - val_accuracy: 0.9136\n",
            "Epoch 16/100\n",
            "114/122 [===========================>..] - ETA: 0s - loss: 0.5202 - accuracy: 0.7778\n",
            "Epoch 16: val_loss improved from 0.43401 to 0.42806, saving model to /content/drive/MyDrive/gachon4-2/deeplearning/week2/model.h5\n",
            "122/122 [==============================] - 1s 7ms/step - loss: 0.5216 - accuracy: 0.7723 - val_loss: 0.4281 - val_accuracy: 0.9012\n",
            "Epoch 17/100\n",
            "122/122 [==============================] - ETA: 0s - loss: 0.5368 - accuracy: 0.7627\n",
            "Epoch 17: val_loss improved from 0.42806 to 0.42440, saving model to /content/drive/MyDrive/gachon4-2/deeplearning/week2/model.h5\n",
            "122/122 [==============================] - 1s 8ms/step - loss: 0.5368 - accuracy: 0.7627 - val_loss: 0.4244 - val_accuracy: 0.9012\n",
            "Epoch 18/100\n",
            "110/122 [==========================>...] - ETA: 0s - loss: 0.5312 - accuracy: 0.7500\n",
            "Epoch 18: val_loss improved from 0.42440 to 0.42156, saving model to /content/drive/MyDrive/gachon4-2/deeplearning/week2/model.h5\n",
            "122/122 [==============================] - 1s 5ms/step - loss: 0.5209 - accuracy: 0.7599 - val_loss: 0.4216 - val_accuracy: 0.9012\n",
            "Epoch 19/100\n",
            "122/122 [==============================] - ETA: 0s - loss: 0.5168 - accuracy: 0.7723\n",
            "Epoch 19: val_loss improved from 0.42156 to 0.41494, saving model to /content/drive/MyDrive/gachon4-2/deeplearning/week2/model.h5\n",
            "122/122 [==============================] - 1s 5ms/step - loss: 0.5168 - accuracy: 0.7723 - val_loss: 0.4149 - val_accuracy: 0.9136\n",
            "Epoch 20/100\n",
            "115/122 [===========================>..] - ETA: 0s - loss: 0.5212 - accuracy: 0.7594\n",
            "Epoch 20: val_loss improved from 0.41494 to 0.41323, saving model to /content/drive/MyDrive/gachon4-2/deeplearning/week2/model.h5\n",
            "122/122 [==============================] - 1s 5ms/step - loss: 0.5200 - accuracy: 0.7586 - val_loss: 0.4132 - val_accuracy: 0.9012\n",
            "Epoch 21/100\n",
            "118/122 [============================>.] - ETA: 0s - loss: 0.5635 - accuracy: 0.7613\n",
            "Epoch 21: val_loss improved from 0.41323 to 0.41186, saving model to /content/drive/MyDrive/gachon4-2/deeplearning/week2/model.h5\n",
            "122/122 [==============================] - 1s 5ms/step - loss: 0.5594 - accuracy: 0.7613 - val_loss: 0.4119 - val_accuracy: 0.9136\n",
            "Epoch 22/100\n",
            "120/122 [============================>.] - ETA: 0s - loss: 0.5276 - accuracy: 0.7639\n",
            "Epoch 22: val_loss improved from 0.41186 to 0.40831, saving model to /content/drive/MyDrive/gachon4-2/deeplearning/week2/model.h5\n",
            "122/122 [==============================] - 1s 5ms/step - loss: 0.5436 - accuracy: 0.7641 - val_loss: 0.4083 - val_accuracy: 0.9136\n",
            "Epoch 23/100\n",
            "114/122 [===========================>..] - ETA: 0s - loss: 0.5218 - accuracy: 0.7500\n",
            "Epoch 23: val_loss improved from 0.40831 to 0.40775, saving model to /content/drive/MyDrive/gachon4-2/deeplearning/week2/model.h5\n",
            "122/122 [==============================] - 1s 5ms/step - loss: 0.5212 - accuracy: 0.7558 - val_loss: 0.4077 - val_accuracy: 0.9259\n",
            "Epoch 24/100\n",
            "114/122 [===========================>..] - ETA: 0s - loss: 0.5805 - accuracy: 0.7632\n",
            "Epoch 24: val_loss improved from 0.40775 to 0.40612, saving model to /content/drive/MyDrive/gachon4-2/deeplearning/week2/model.h5\n",
            "122/122 [==============================] - 1s 5ms/step - loss: 0.5709 - accuracy: 0.7668 - val_loss: 0.4061 - val_accuracy: 0.9012\n",
            "Epoch 25/100\n",
            "110/122 [==========================>...] - ETA: 0s - loss: 0.5025 - accuracy: 0.7773\n",
            "Epoch 25: val_loss improved from 0.40612 to 0.40248, saving model to /content/drive/MyDrive/gachon4-2/deeplearning/week2/model.h5\n",
            "122/122 [==============================] - 1s 5ms/step - loss: 0.5123 - accuracy: 0.7737 - val_loss: 0.4025 - val_accuracy: 0.9136\n",
            "Epoch 26/100\n",
            "118/122 [============================>.] - ETA: 0s - loss: 0.5134 - accuracy: 0.7655\n",
            "Epoch 26: val_loss improved from 0.40248 to 0.39983, saving model to /content/drive/MyDrive/gachon4-2/deeplearning/week2/model.h5\n",
            "122/122 [==============================] - 1s 5ms/step - loss: 0.5078 - accuracy: 0.7695 - val_loss: 0.3998 - val_accuracy: 0.9012\n",
            "Epoch 27/100\n",
            "112/122 [==========================>...] - ETA: 0s - loss: 0.4893 - accuracy: 0.7708\n",
            "Epoch 27: val_loss improved from 0.39983 to 0.39679, saving model to /content/drive/MyDrive/gachon4-2/deeplearning/week2/model.h5\n",
            "122/122 [==============================] - 1s 5ms/step - loss: 0.4843 - accuracy: 0.7750 - val_loss: 0.3968 - val_accuracy: 0.9012\n",
            "Epoch 28/100\n",
            "121/122 [============================>.] - ETA: 0s - loss: 0.5580 - accuracy: 0.7603\n",
            "Epoch 28: val_loss improved from 0.39679 to 0.39634, saving model to /content/drive/MyDrive/gachon4-2/deeplearning/week2/model.h5\n",
            "122/122 [==============================] - 1s 5ms/step - loss: 0.5574 - accuracy: 0.7613 - val_loss: 0.3963 - val_accuracy: 0.9012\n",
            "Epoch 29/100\n",
            "115/122 [===========================>..] - ETA: 0s - loss: 0.5583 - accuracy: 0.7667\n",
            "Epoch 29: val_loss did not improve from 0.39634\n",
            "122/122 [==============================] - 1s 5ms/step - loss: 0.5550 - accuracy: 0.7668 - val_loss: 0.3983 - val_accuracy: 0.9012\n",
            "Epoch 30/100\n",
            "113/122 [==========================>...] - ETA: 0s - loss: 0.6125 - accuracy: 0.7537\n",
            "Epoch 30: val_loss did not improve from 0.39634\n",
            "122/122 [==============================] - 1s 5ms/step - loss: 0.6086 - accuracy: 0.7476 - val_loss: 0.3998 - val_accuracy: 0.9012\n",
            "Epoch 31/100\n",
            "117/122 [===========================>..] - ETA: 0s - loss: 0.5256 - accuracy: 0.7607\n",
            "Epoch 31: val_loss did not improve from 0.39634\n",
            "122/122 [==============================] - 1s 6ms/step - loss: 0.5276 - accuracy: 0.7558 - val_loss: 0.3981 - val_accuracy: 0.9012\n",
            "Epoch 32/100\n",
            "121/122 [============================>.] - ETA: 0s - loss: 0.5602 - accuracy: 0.7383\n",
            "Epoch 32: val_loss did not improve from 0.39634\n",
            "122/122 [==============================] - 1s 5ms/step - loss: 0.5623 - accuracy: 0.7353 - val_loss: 0.3997 - val_accuracy: 0.9012\n",
            "Epoch 33/100\n",
            "116/122 [===========================>..] - ETA: 0s - loss: 0.4872 - accuracy: 0.7859\n",
            "Epoch 33: val_loss improved from 0.39634 to 0.39447, saving model to /content/drive/MyDrive/gachon4-2/deeplearning/week2/model.h5\n",
            "122/122 [==============================] - 1s 6ms/step - loss: 0.4857 - accuracy: 0.7846 - val_loss: 0.3945 - val_accuracy: 0.9012\n",
            "Epoch 34/100\n",
            "115/122 [===========================>..] - ETA: 0s - loss: 0.5452 - accuracy: 0.7449\n",
            "Epoch 34: val_loss did not improve from 0.39447\n",
            "122/122 [==============================] - 1s 7ms/step - loss: 0.5416 - accuracy: 0.7490 - val_loss: 0.3957 - val_accuracy: 0.9012\n",
            "Epoch 35/100\n",
            "120/122 [============================>.] - ETA: 0s - loss: 0.4867 - accuracy: 0.7819\n",
            "Epoch 35: val_loss improved from 0.39447 to 0.39030, saving model to /content/drive/MyDrive/gachon4-2/deeplearning/week2/model.h5\n",
            "122/122 [==============================] - 1s 8ms/step - loss: 0.4860 - accuracy: 0.7833 - val_loss: 0.3903 - val_accuracy: 0.9012\n",
            "Epoch 36/100\n",
            "120/122 [============================>.] - ETA: 0s - loss: 0.5236 - accuracy: 0.7681\n",
            "Epoch 36: val_loss improved from 0.39030 to 0.38933, saving model to /content/drive/MyDrive/gachon4-2/deeplearning/week2/model.h5\n",
            "122/122 [==============================] - 1s 7ms/step - loss: 0.5201 - accuracy: 0.7709 - val_loss: 0.3893 - val_accuracy: 0.9012\n",
            "Epoch 37/100\n",
            "119/122 [============================>.] - ETA: 0s - loss: 0.5279 - accuracy: 0.7591\n",
            "Epoch 37: val_loss improved from 0.38933 to 0.38905, saving model to /content/drive/MyDrive/gachon4-2/deeplearning/week2/model.h5\n",
            "122/122 [==============================] - 1s 8ms/step - loss: 0.5285 - accuracy: 0.7572 - val_loss: 0.3890 - val_accuracy: 0.9012\n",
            "Epoch 38/100\n",
            "117/122 [===========================>..] - ETA: 0s - loss: 0.5720 - accuracy: 0.7650\n",
            "Epoch 38: val_loss did not improve from 0.38905\n",
            "122/122 [==============================] - 1s 5ms/step - loss: 0.5712 - accuracy: 0.7613 - val_loss: 0.3891 - val_accuracy: 0.9012\n",
            "Epoch 39/100\n",
            "121/122 [============================>.] - ETA: 0s - loss: 0.5184 - accuracy: 0.7576\n",
            "Epoch 39: val_loss did not improve from 0.38905\n",
            "122/122 [==============================] - 1s 5ms/step - loss: 0.5173 - accuracy: 0.7586 - val_loss: 0.3892 - val_accuracy: 0.9012\n",
            "Epoch 40/100\n",
            "112/122 [==========================>...] - ETA: 0s - loss: 0.5059 - accuracy: 0.7649\n",
            "Epoch 40: val_loss improved from 0.38905 to 0.38664, saving model to /content/drive/MyDrive/gachon4-2/deeplearning/week2/model.h5\n",
            "122/122 [==============================] - 1s 5ms/step - loss: 0.5023 - accuracy: 0.7654 - val_loss: 0.3866 - val_accuracy: 0.9012\n",
            "Epoch 41/100\n",
            "121/122 [============================>.] - ETA: 0s - loss: 0.5412 - accuracy: 0.7755\n",
            "Epoch 41: val_loss did not improve from 0.38664\n",
            "122/122 [==============================] - 1s 5ms/step - loss: 0.5407 - accuracy: 0.7764 - val_loss: 0.3879 - val_accuracy: 0.9012\n",
            "Epoch 42/100\n",
            "113/122 [==========================>...] - ETA: 0s - loss: 0.5368 - accuracy: 0.7788\n",
            "Epoch 42: val_loss improved from 0.38664 to 0.38658, saving model to /content/drive/MyDrive/gachon4-2/deeplearning/week2/model.h5\n",
            "122/122 [==============================] - 1s 5ms/step - loss: 0.5326 - accuracy: 0.7778 - val_loss: 0.3866 - val_accuracy: 0.9012\n",
            "Epoch 43/100\n",
            "118/122 [============================>.] - ETA: 0s - loss: 0.4913 - accuracy: 0.7811\n",
            "Epoch 43: val_loss improved from 0.38658 to 0.38249, saving model to /content/drive/MyDrive/gachon4-2/deeplearning/week2/model.h5\n",
            "122/122 [==============================] - 1s 5ms/step - loss: 0.4910 - accuracy: 0.7805 - val_loss: 0.3825 - val_accuracy: 0.9012\n",
            "Epoch 44/100\n",
            "122/122 [==============================] - ETA: 0s - loss: 0.5004 - accuracy: 0.7737\n",
            "Epoch 44: val_loss improved from 0.38249 to 0.38084, saving model to /content/drive/MyDrive/gachon4-2/deeplearning/week2/model.h5\n",
            "122/122 [==============================] - 1s 5ms/step - loss: 0.5004 - accuracy: 0.7737 - val_loss: 0.3808 - val_accuracy: 0.8889\n",
            "Epoch 45/100\n",
            "112/122 [==========================>...] - ETA: 0s - loss: 0.4955 - accuracy: 0.7872\n",
            "Epoch 45: val_loss improved from 0.38084 to 0.38078, saving model to /content/drive/MyDrive/gachon4-2/deeplearning/week2/model.h5\n",
            "122/122 [==============================] - 1s 5ms/step - loss: 0.5036 - accuracy: 0.7764 - val_loss: 0.3808 - val_accuracy: 0.9012\n",
            "Epoch 46/100\n",
            "120/122 [============================>.] - ETA: 0s - loss: 0.5265 - accuracy: 0.7736\n",
            "Epoch 46: val_loss improved from 0.38078 to 0.38011, saving model to /content/drive/MyDrive/gachon4-2/deeplearning/week2/model.h5\n",
            "122/122 [==============================] - 1s 5ms/step - loss: 0.5254 - accuracy: 0.7737 - val_loss: 0.3801 - val_accuracy: 0.9012\n",
            "Epoch 47/100\n",
            "118/122 [============================>.] - ETA: 0s - loss: 0.5110 - accuracy: 0.7754\n",
            "Epoch 47: val_loss improved from 0.38011 to 0.37692, saving model to /content/drive/MyDrive/gachon4-2/deeplearning/week2/model.h5\n",
            "122/122 [==============================] - 1s 5ms/step - loss: 0.5118 - accuracy: 0.7737 - val_loss: 0.3769 - val_accuracy: 0.9012\n",
            "Epoch 48/100\n",
            "113/122 [==========================>...] - ETA: 0s - loss: 0.5123 - accuracy: 0.7640\n",
            "Epoch 48: val_loss did not improve from 0.37692\n",
            "122/122 [==============================] - 1s 5ms/step - loss: 0.5118 - accuracy: 0.7627 - val_loss: 0.3771 - val_accuracy: 0.9012\n",
            "Epoch 49/100\n",
            "114/122 [===========================>..] - ETA: 0s - loss: 0.5306 - accuracy: 0.7880\n",
            "Epoch 49: val_loss improved from 0.37692 to 0.37479, saving model to /content/drive/MyDrive/gachon4-2/deeplearning/week2/model.h5\n",
            "122/122 [==============================] - 1s 5ms/step - loss: 0.5263 - accuracy: 0.7874 - val_loss: 0.3748 - val_accuracy: 0.9012\n",
            "Epoch 50/100\n",
            "122/122 [==============================] - ETA: 0s - loss: 0.5330 - accuracy: 0.7654\n",
            "Epoch 50: val_loss did not improve from 0.37479\n",
            "122/122 [==============================] - 1s 5ms/step - loss: 0.5330 - accuracy: 0.7654 - val_loss: 0.3770 - val_accuracy: 0.9136\n",
            "Epoch 51/100\n",
            "112/122 [==========================>...] - ETA: 0s - loss: 0.5350 - accuracy: 0.7768\n",
            "Epoch 51: val_loss did not improve from 0.37479\n",
            "122/122 [==============================] - 1s 5ms/step - loss: 0.5289 - accuracy: 0.7791 - val_loss: 0.3751 - val_accuracy: 0.9012\n",
            "Epoch 52/100\n",
            "112/122 [==========================>...] - ETA: 0s - loss: 0.4859 - accuracy: 0.7827\n",
            "Epoch 52: val_loss improved from 0.37479 to 0.37258, saving model to /content/drive/MyDrive/gachon4-2/deeplearning/week2/model.h5\n",
            "122/122 [==============================] - 1s 5ms/step - loss: 0.4849 - accuracy: 0.7901 - val_loss: 0.3726 - val_accuracy: 0.8889\n",
            "Epoch 53/100\n",
            "121/122 [============================>.] - ETA: 0s - loss: 0.5077 - accuracy: 0.7837\n",
            "Epoch 53: val_loss improved from 0.37258 to 0.37083, saving model to /content/drive/MyDrive/gachon4-2/deeplearning/week2/model.h5\n",
            "122/122 [==============================] - 1s 5ms/step - loss: 0.5075 - accuracy: 0.7846 - val_loss: 0.3708 - val_accuracy: 0.8889\n",
            "Epoch 54/100\n",
            "119/122 [============================>.] - ETA: 0s - loss: 0.5552 - accuracy: 0.7759\n",
            "Epoch 54: val_loss did not improve from 0.37083\n",
            "122/122 [==============================] - 1s 6ms/step - loss: 0.5512 - accuracy: 0.7778 - val_loss: 0.3724 - val_accuracy: 0.9012\n",
            "Epoch 55/100\n",
            "121/122 [============================>.] - ETA: 0s - loss: 0.5076 - accuracy: 0.7810\n",
            "Epoch 55: val_loss did not improve from 0.37083\n",
            "122/122 [==============================] - 1s 7ms/step - loss: 0.5065 - accuracy: 0.7819 - val_loss: 0.3727 - val_accuracy: 0.9012\n",
            "Epoch 56/100\n",
            "122/122 [==============================] - ETA: 0s - loss: 0.5464 - accuracy: 0.7709\n",
            "Epoch 56: val_loss did not improve from 0.37083\n",
            "122/122 [==============================] - 1s 7ms/step - loss: 0.5464 - accuracy: 0.7709 - val_loss: 0.3737 - val_accuracy: 0.9012\n",
            "Epoch 57/100\n",
            "115/122 [===========================>..] - ETA: 0s - loss: 0.5275 - accuracy: 0.7739\n",
            "Epoch 57: val_loss did not improve from 0.37083\n",
            "122/122 [==============================] - 1s 7ms/step - loss: 0.5272 - accuracy: 0.7737 - val_loss: 0.3724 - val_accuracy: 0.9012\n",
            "Epoch 58/100\n",
            "119/122 [============================>.] - ETA: 0s - loss: 0.5137 - accuracy: 0.7759\n",
            "Epoch 58: val_loss did not improve from 0.37083\n",
            "122/122 [==============================] - 1s 6ms/step - loss: 0.5135 - accuracy: 0.7750 - val_loss: 0.3709 - val_accuracy: 0.8889\n",
            "Epoch 59/100\n",
            "113/122 [==========================>...] - ETA: 0s - loss: 0.5085 - accuracy: 0.7758\n",
            "Epoch 59: val_loss improved from 0.37083 to 0.37026, saving model to /content/drive/MyDrive/gachon4-2/deeplearning/week2/model.h5\n",
            "122/122 [==============================] - 1s 6ms/step - loss: 0.5106 - accuracy: 0.7695 - val_loss: 0.3703 - val_accuracy: 0.8889\n",
            "Epoch 60/100\n",
            "116/122 [===========================>..] - ETA: 0s - loss: 0.5693 - accuracy: 0.7974\n",
            "Epoch 60: val_loss did not improve from 0.37026\n",
            "122/122 [==============================] - 1s 5ms/step - loss: 0.5664 - accuracy: 0.7942 - val_loss: 0.3704 - val_accuracy: 0.9012\n",
            "Epoch 61/100\n",
            "117/122 [===========================>..] - ETA: 0s - loss: 0.4496 - accuracy: 0.7977\n",
            "Epoch 61: val_loss improved from 0.37026 to 0.36718, saving model to /content/drive/MyDrive/gachon4-2/deeplearning/week2/model.h5\n",
            "122/122 [==============================] - 1s 5ms/step - loss: 0.4479 - accuracy: 0.7984 - val_loss: 0.3672 - val_accuracy: 0.9012\n",
            "Epoch 62/100\n",
            "113/122 [==========================>...] - ETA: 0s - loss: 0.5569 - accuracy: 0.7611\n",
            "Epoch 62: val_loss did not improve from 0.36718\n",
            "122/122 [==============================] - 1s 5ms/step - loss: 0.5502 - accuracy: 0.7641 - val_loss: 0.3687 - val_accuracy: 0.9012\n",
            "Epoch 63/100\n",
            "110/122 [==========================>...] - ETA: 0s - loss: 0.5269 - accuracy: 0.7636\n",
            "Epoch 63: val_loss did not improve from 0.36718\n",
            "122/122 [==============================] - 1s 5ms/step - loss: 0.5293 - accuracy: 0.7641 - val_loss: 0.3697 - val_accuracy: 0.9012\n",
            "Epoch 64/100\n",
            "115/122 [===========================>..] - ETA: 0s - loss: 0.5696 - accuracy: 0.7768\n",
            "Epoch 64: val_loss did not improve from 0.36718\n",
            "122/122 [==============================] - 1s 5ms/step - loss: 0.5605 - accuracy: 0.7791 - val_loss: 0.3714 - val_accuracy: 0.9012\n",
            "Epoch 65/100\n",
            "122/122 [==============================] - ETA: 0s - loss: 0.5191 - accuracy: 0.7627\n",
            "Epoch 65: val_loss did not improve from 0.36718\n",
            "122/122 [==============================] - 1s 5ms/step - loss: 0.5191 - accuracy: 0.7627 - val_loss: 0.3699 - val_accuracy: 0.8889\n",
            "Epoch 66/100\n",
            "112/122 [==========================>...] - ETA: 0s - loss: 0.5002 - accuracy: 0.7812\n",
            "Epoch 66: val_loss did not improve from 0.36718\n",
            "122/122 [==============================] - 1s 5ms/step - loss: 0.5026 - accuracy: 0.7764 - val_loss: 0.3706 - val_accuracy: 0.9012\n",
            "Epoch 67/100\n",
            "122/122 [==============================] - ETA: 0s - loss: 0.4760 - accuracy: 0.7805\n",
            "Epoch 67: val_loss did not improve from 0.36718\n",
            "122/122 [==============================] - 1s 5ms/step - loss: 0.4760 - accuracy: 0.7805 - val_loss: 0.3681 - val_accuracy: 0.9012\n",
            "Epoch 68/100\n",
            "110/122 [==========================>...] - ETA: 0s - loss: 0.5455 - accuracy: 0.8030\n",
            "Epoch 68: val_loss did not improve from 0.36718\n",
            "122/122 [==============================] - 1s 5ms/step - loss: 0.5440 - accuracy: 0.7956 - val_loss: 0.3679 - val_accuracy: 0.8889\n",
            "Epoch 69/100\n",
            "115/122 [===========================>..] - ETA: 0s - loss: 0.4888 - accuracy: 0.7942\n",
            "Epoch 69: val_loss improved from 0.36718 to 0.36573, saving model to /content/drive/MyDrive/gachon4-2/deeplearning/week2/model.h5\n",
            "122/122 [==============================] - 1s 5ms/step - loss: 0.4867 - accuracy: 0.7942 - val_loss: 0.3657 - val_accuracy: 0.8889\n",
            "Epoch 70/100\n",
            "122/122 [==============================] - ETA: 0s - loss: 0.5508 - accuracy: 0.7970\n",
            "Epoch 70: val_loss did not improve from 0.36573\n",
            "122/122 [==============================] - 1s 5ms/step - loss: 0.5508 - accuracy: 0.7970 - val_loss: 0.3674 - val_accuracy: 0.9012\n",
            "Epoch 71/100\n",
            "121/122 [============================>.] - ETA: 0s - loss: 0.4935 - accuracy: 0.7961\n",
            "Epoch 71: val_loss improved from 0.36573 to 0.36372, saving model to /content/drive/MyDrive/gachon4-2/deeplearning/week2/model.h5\n",
            "122/122 [==============================] - 1s 5ms/step - loss: 0.4932 - accuracy: 0.7956 - val_loss: 0.3637 - val_accuracy: 0.9012\n",
            "Epoch 72/100\n",
            "119/122 [============================>.] - ETA: 0s - loss: 0.4895 - accuracy: 0.7843\n",
            "Epoch 72: val_loss did not improve from 0.36372\n",
            "122/122 [==============================] - 1s 5ms/step - loss: 0.4908 - accuracy: 0.7860 - val_loss: 0.3652 - val_accuracy: 0.9012\n",
            "Epoch 73/100\n",
            "117/122 [===========================>..] - ETA: 0s - loss: 0.5400 - accuracy: 0.7664\n",
            "Epoch 73: val_loss improved from 0.36372 to 0.36337, saving model to /content/drive/MyDrive/gachon4-2/deeplearning/week2/model.h5\n",
            "122/122 [==============================] - 1s 6ms/step - loss: 0.5388 - accuracy: 0.7668 - val_loss: 0.3634 - val_accuracy: 0.9012\n",
            "Epoch 74/100\n",
            "115/122 [===========================>..] - ETA: 0s - loss: 0.4555 - accuracy: 0.7942\n",
            "Epoch 74: val_loss improved from 0.36337 to 0.36168, saving model to /content/drive/MyDrive/gachon4-2/deeplearning/week2/model.h5\n",
            "122/122 [==============================] - 1s 5ms/step - loss: 0.4570 - accuracy: 0.7929 - val_loss: 0.3617 - val_accuracy: 0.9012\n",
            "Epoch 75/100\n",
            "122/122 [==============================] - ETA: 0s - loss: 0.5179 - accuracy: 0.7915\n",
            "Epoch 75: val_loss improved from 0.36168 to 0.36114, saving model to /content/drive/MyDrive/gachon4-2/deeplearning/week2/model.h5\n",
            "122/122 [==============================] - 1s 7ms/step - loss: 0.5179 - accuracy: 0.7915 - val_loss: 0.3611 - val_accuracy: 0.9012\n",
            "Epoch 76/100\n",
            "121/122 [============================>.] - ETA: 0s - loss: 0.5429 - accuracy: 0.7672\n",
            "Epoch 76: val_loss did not improve from 0.36114\n",
            "122/122 [==============================] - 1s 8ms/step - loss: 0.5421 - accuracy: 0.7682 - val_loss: 0.3630 - val_accuracy: 0.9012\n",
            "Epoch 77/100\n",
            "122/122 [==============================] - ETA: 0s - loss: 0.5012 - accuracy: 0.7778\n",
            "Epoch 77: val_loss did not improve from 0.36114\n",
            "122/122 [==============================] - 1s 7ms/step - loss: 0.5012 - accuracy: 0.7778 - val_loss: 0.3643 - val_accuracy: 0.9012\n",
            "Epoch 78/100\n",
            "118/122 [============================>.] - ETA: 0s - loss: 0.4608 - accuracy: 0.7881\n",
            "Epoch 78: val_loss did not improve from 0.36114\n",
            "122/122 [==============================] - 1s 7ms/step - loss: 0.4946 - accuracy: 0.7846 - val_loss: 0.3618 - val_accuracy: 0.9012\n",
            "Epoch 79/100\n",
            "122/122 [==============================] - ETA: 0s - loss: 0.5462 - accuracy: 0.7723\n",
            "Epoch 79: val_loss did not improve from 0.36114\n",
            "122/122 [==============================] - 1s 7ms/step - loss: 0.5462 - accuracy: 0.7723 - val_loss: 0.3631 - val_accuracy: 0.9012\n",
            "Epoch 80/100\n",
            "117/122 [===========================>..] - ETA: 0s - loss: 0.5137 - accuracy: 0.7778\n",
            "Epoch 80: val_loss did not improve from 0.36114\n",
            "122/122 [==============================] - 1s 5ms/step - loss: 0.5133 - accuracy: 0.7764 - val_loss: 0.3647 - val_accuracy: 0.9012\n",
            "Epoch 81/100\n",
            "121/122 [============================>.] - ETA: 0s - loss: 0.4852 - accuracy: 0.7920\n",
            "Epoch 81: val_loss did not improve from 0.36114\n",
            "122/122 [==============================] - 1s 5ms/step - loss: 0.4851 - accuracy: 0.7929 - val_loss: 0.3637 - val_accuracy: 0.9012\n",
            "Epoch 82/100\n",
            "119/122 [============================>.] - ETA: 0s - loss: 0.4856 - accuracy: 0.7829\n",
            "Epoch 82: val_loss did not improve from 0.36114\n",
            "122/122 [==============================] - 1s 5ms/step - loss: 0.4876 - accuracy: 0.7846 - val_loss: 0.3631 - val_accuracy: 0.8889\n",
            "Epoch 83/100\n",
            "122/122 [==============================] - ETA: 0s - loss: 0.4752 - accuracy: 0.7970\n",
            "Epoch 83: val_loss improved from 0.36114 to 0.36048, saving model to /content/drive/MyDrive/gachon4-2/deeplearning/week2/model.h5\n",
            "122/122 [==============================] - 1s 5ms/step - loss: 0.4752 - accuracy: 0.7970 - val_loss: 0.3605 - val_accuracy: 0.9012\n",
            "Epoch 84/100\n",
            "122/122 [==============================] - ETA: 0s - loss: 0.4902 - accuracy: 0.7846\n",
            "Epoch 84: val_loss did not improve from 0.36048\n",
            "122/122 [==============================] - 1s 5ms/step - loss: 0.4902 - accuracy: 0.7846 - val_loss: 0.3610 - val_accuracy: 0.8889\n",
            "Epoch 85/100\n",
            "114/122 [===========================>..] - ETA: 0s - loss: 0.4757 - accuracy: 0.7924\n",
            "Epoch 85: val_loss did not improve from 0.36048\n",
            "122/122 [==============================] - 1s 5ms/step - loss: 0.4764 - accuracy: 0.7901 - val_loss: 0.3605 - val_accuracy: 0.9012\n",
            "Epoch 86/100\n",
            "118/122 [============================>.] - ETA: 0s - loss: 0.4616 - accuracy: 0.7853\n",
            "Epoch 86: val_loss did not improve from 0.36048\n",
            "122/122 [==============================] - 1s 5ms/step - loss: 0.4583 - accuracy: 0.7888 - val_loss: 0.3626 - val_accuracy: 0.9136\n",
            "Epoch 87/100\n",
            "116/122 [===========================>..] - ETA: 0s - loss: 0.4988 - accuracy: 0.8003\n",
            "Epoch 87: val_loss improved from 0.36048 to 0.35926, saving model to /content/drive/MyDrive/gachon4-2/deeplearning/week2/model.h5\n",
            "122/122 [==============================] - 1s 5ms/step - loss: 0.5004 - accuracy: 0.7970 - val_loss: 0.3593 - val_accuracy: 0.9136\n",
            "Epoch 88/100\n",
            "118/122 [============================>.] - ETA: 0s - loss: 0.5034 - accuracy: 0.7910\n",
            "Epoch 88: val_loss improved from 0.35926 to 0.35691, saving model to /content/drive/MyDrive/gachon4-2/deeplearning/week2/model.h5\n",
            "122/122 [==============================] - 1s 5ms/step - loss: 0.5045 - accuracy: 0.7901 - val_loss: 0.3569 - val_accuracy: 0.9136\n",
            "Epoch 89/100\n",
            "120/122 [============================>.] - ETA: 0s - loss: 0.5091 - accuracy: 0.7806\n",
            "Epoch 89: val_loss improved from 0.35691 to 0.35632, saving model to /content/drive/MyDrive/gachon4-2/deeplearning/week2/model.h5\n",
            "122/122 [==============================] - 1s 5ms/step - loss: 0.5083 - accuracy: 0.7819 - val_loss: 0.3563 - val_accuracy: 0.9136\n",
            "Epoch 90/100\n",
            "120/122 [============================>.] - ETA: 0s - loss: 0.5295 - accuracy: 0.7958\n",
            "Epoch 90: val_loss improved from 0.35632 to 0.35523, saving model to /content/drive/MyDrive/gachon4-2/deeplearning/week2/model.h5\n",
            "122/122 [==============================] - 1s 5ms/step - loss: 0.5285 - accuracy: 0.7956 - val_loss: 0.3552 - val_accuracy: 0.9012\n",
            "Epoch 91/100\n",
            "115/122 [===========================>..] - ETA: 0s - loss: 0.5158 - accuracy: 0.8043\n",
            "Epoch 91: val_loss improved from 0.35523 to 0.35386, saving model to /content/drive/MyDrive/gachon4-2/deeplearning/week2/model.h5\n",
            "122/122 [==============================] - 1s 5ms/step - loss: 0.5179 - accuracy: 0.7984 - val_loss: 0.3539 - val_accuracy: 0.9012\n",
            "Epoch 92/100\n",
            "112/122 [==========================>...] - ETA: 0s - loss: 0.5585 - accuracy: 0.7932\n",
            "Epoch 92: val_loss improved from 0.35386 to 0.35384, saving model to /content/drive/MyDrive/gachon4-2/deeplearning/week2/model.h5\n",
            "122/122 [==============================] - 1s 5ms/step - loss: 0.5439 - accuracy: 0.7956 - val_loss: 0.3538 - val_accuracy: 0.9012\n",
            "Epoch 93/100\n",
            "115/122 [===========================>..] - ETA: 0s - loss: 0.4559 - accuracy: 0.7913\n",
            "Epoch 93: val_loss did not improve from 0.35384\n",
            "122/122 [==============================] - 1s 5ms/step - loss: 0.4823 - accuracy: 0.7888 - val_loss: 0.3539 - val_accuracy: 0.9012\n",
            "Epoch 94/100\n",
            "120/122 [============================>.] - ETA: 0s - loss: 0.4860 - accuracy: 0.7875\n",
            "Epoch 94: val_loss improved from 0.35384 to 0.35318, saving model to /content/drive/MyDrive/gachon4-2/deeplearning/week2/model.h5\n",
            "122/122 [==============================] - 1s 5ms/step - loss: 0.4862 - accuracy: 0.7874 - val_loss: 0.3532 - val_accuracy: 0.9012\n",
            "Epoch 95/100\n",
            "122/122 [==============================] - ETA: 0s - loss: 0.4785 - accuracy: 0.7750\n",
            "Epoch 95: val_loss did not improve from 0.35318\n",
            "122/122 [==============================] - 1s 5ms/step - loss: 0.4785 - accuracy: 0.7750 - val_loss: 0.3548 - val_accuracy: 0.9012\n",
            "Epoch 96/100\n",
            "118/122 [============================>.] - ETA: 0s - loss: 0.4897 - accuracy: 0.7754\n",
            "Epoch 96: val_loss did not improve from 0.35318\n",
            "122/122 [==============================] - 1s 8ms/step - loss: 0.4831 - accuracy: 0.7805 - val_loss: 0.3559 - val_accuracy: 0.9012\n",
            "Epoch 97/100\n",
            "119/122 [============================>.] - ETA: 0s - loss: 0.4624 - accuracy: 0.7899\n",
            "Epoch 97: val_loss did not improve from 0.35318\n",
            "122/122 [==============================] - 1s 7ms/step - loss: 0.4633 - accuracy: 0.7888 - val_loss: 0.3572 - val_accuracy: 0.9136\n",
            "Epoch 98/100\n",
            "118/122 [============================>.] - ETA: 0s - loss: 0.4724 - accuracy: 0.7952\n",
            "Epoch 98: val_loss did not improve from 0.35318\n",
            "122/122 [==============================] - 1s 7ms/step - loss: 0.5106 - accuracy: 0.7970 - val_loss: 0.3538 - val_accuracy: 0.9136\n",
            "Epoch 99/100\n",
            "118/122 [============================>.] - ETA: 0s - loss: 0.4792 - accuracy: 0.7825\n",
            "Epoch 99: val_loss improved from 0.35318 to 0.35310, saving model to /content/drive/MyDrive/gachon4-2/deeplearning/week2/model.h5\n",
            "122/122 [==============================] - 1s 8ms/step - loss: 0.4816 - accuracy: 0.7819 - val_loss: 0.3531 - val_accuracy: 0.9012\n",
            "Epoch 100/100\n",
            "121/122 [============================>.] - ETA: 0s - loss: 0.4812 - accuracy: 0.8058\n",
            "Epoch 100: val_loss improved from 0.35310 to 0.35235, saving model to /content/drive/MyDrive/gachon4-2/deeplearning/week2/model.h5\n",
            "122/122 [==============================] - 1s 7ms/step - loss: 0.4828 - accuracy: 0.8038 - val_loss: 0.3523 - val_accuracy: 0.9012\n"
          ]
        }
      ],
      "source": [
        "# 모델 학습\n",
        "hist = DNN_model.fit(\n",
        "                  x_train, y_train,                        # 입력 / 라벨\n",
        "                  epochs = 100, batch_size = batch_size,            # 학습 회수 / 학습 10번 후 오차 감소\n",
        "                  validation_data=(x_val, y_val),        # 검증 데이터\n",
        "                  callbacks = [model_checkpoint, early_stopping], # 저장 및 모니터링\n",
        "                  shuffle=True\n",
        "                 )\n",
        "\n"
      ]
    },
    {
      "cell_type": "code",
      "execution_count": 181,
      "metadata": {
        "colab": {
          "base_uri": "https://localhost:8080/",
          "height": 880
        },
        "id": "Z7l5nSadMQTs",
        "outputId": "569b66fc-20f4-4e63-9ed5-e3d0ebf8abfe"
      },
      "outputs": [
        {
          "data": {
            "image/png": "[encoded data removed]",
            "text/plain": [
              "<Figure size 640x480 with 1 Axes>"
            ]
          },
          "metadata": {},
          "output_type": "display_data"
        },
        {
          "data": {
            "image/png": "[encoded data removed]",
            "text/plain": [
              "<Figure size 640x480 with 1 Axes>"
            ]
          },
          "metadata": {},
          "output_type": "display_data"
        }
      ],
      "source": [
        "import matplotlib.pyplot as plt\n",
        "plt.plot(hist.history['accuracy'], 'r', label = 'train_accuracy')\n",
        "plt.plot(hist.history['val_accuracy'], 'b', label = 'test_accuracy')\n",
        "plt.ylabel('accuracy')\n",
        "plt.xlabel('epoch')\n",
        "plt.legend(loc='upper left')\n",
        "plt.show()\n",
        "\n",
        "plt.plot(hist.history['loss'], 'r', label = 'train_loss')\n",
        "plt.plot(hist.history['val_loss'], 'b', label = 'test_loss')\n",
        "plt.ylabel('loss')\n",
        "plt.xlabel('epoch')\n",
        "plt.legend(loc='upper left')\n",
        "plt.show()"
      ]
    },
    {
      "cell_type": "markdown",
      "metadata": {
        "id": "Xr7VYwqoVdDU"
      },
      "source": [
        "## 4-1. DNN Evaluation"
      ]
    },
    {
      "cell_type": "code",
      "execution_count": 182,
      "metadata": {
        "colab": {
          "base_uri": "https://localhost:8080/"
        },
        "id": "NYi_0Bs7MSCy",
        "outputId": "af17222b-4989-450d-8ba7-533e00be9f81"
      },
      "outputs": [
        {
          "name": "stdout",
          "output_type": "stream",
          "text": [
            "3/3 [==============================] - 0s 5ms/step - loss: 0.3396 - accuracy: 0.9000\n",
            "3/3 [==============================] - 0s 4ms/step\n",
            "              precision    recall  f1-score   support\n",
            "\n",
            "           0       0.95      0.85      0.90        47\n",
            "           1       0.85      0.95      0.90        43\n",
            "\n",
            "    accuracy                           0.90        90\n",
            "   macro avg       0.90      0.90      0.90        90\n",
            "weighted avg       0.91      0.90      0.90        90\n",
            "\n",
            "Accuracy Score: 0.9\n",
            "[[40  7]\n",
            " [ 2 41]]\n"
          ]
        }
      ],
      "source": [
        "# 모델 평가\n",
        "DNN_model.evaluate(x_test, y_test)\n",
        "\n",
        "# 테스트 데이터 입력하여 예측값 구하기\n",
        "prediction = DNN_model.predict(x_test)\n",
        "\n",
        "# 3. perform evaluation on test set\n",
        "from sklearn import metrics\n",
        "from sklearn.metrics import classification_report\n",
        "from sklearn.metrics import confusion_matrix\n",
        "# evaluation for multi class classification\n",
        "y_label = np.argmax(y_test,1)\n",
        "y_pred = np.argmax(prediction,1)\n",
        "\n",
        "print(classification_report(y_label, y_pred))\n",
        "print('Accuracy Score:', metrics.accuracy_score(y_label, y_pred))\n",
        "\n",
        "cm = confusion_matrix(y_label, y_pred)\n",
        "print(cm)\n",
        "\n"
      ]
    },
    {
      "cell_type": "markdown",
      "metadata": {
        "id": "6oe49MV5LjSR"
      },
      "source": [
        "## 3-2. 1D-CNN modeling & Train"
      ]
    },
    {
      "cell_type": "code",
      "execution_count": 183,
      "metadata": {
        "colab": {
          "base_uri": "https://localhost:8080/"
        },
        "id": "x1hvhXyzJ_h_",
        "outputId": "30885249-2e3a-4e6f-9935-d30578836c0f"
      },
      "outputs": [
        {
          "data": {
            "text/plain": [
              "(729, 5)"
            ]
          },
          "execution_count": 183,
          "metadata": {},
          "output_type": "execute_result"
        }
      ],
      "source": [
        "x_train.shape"
      ]
    },
    {
      "cell_type": "code",
      "execution_count": 184,
      "metadata": {
        "id": "XEBeMtJT2kj0"
      },
      "outputs": [],
      "source": [
        "x_train=x_train[:,:,np.newaxis]\n",
        "x_val=x_val[:,:,np.newaxis]\n",
        "x_test=x_test[:,:,np.newaxis]"
      ]
    },
    {
      "cell_type": "code",
      "execution_count": 185,
      "metadata": {
        "colab": {
          "base_uri": "https://localhost:8080/"
        },
        "id": "YcL7k8bSKUkj",
        "outputId": "8774cb71-9d10-418e-f4cb-da02551a0a23"
      },
      "outputs": [
        {
          "data": {
            "text/plain": [
              "(729, 5, 1)"
            ]
          },
          "execution_count": 185,
          "metadata": {},
          "output_type": "execute_result"
        }
      ],
      "source": [
        "x_train.shape"
      ]
    },
    {
      "cell_type": "code",
      "execution_count": 217,
      "metadata": {
        "id": "T2WmnHlqWTFX"
      },
      "outputs": [],
      "source": [
        "\n",
        "from keras.layers import Dense, Dropout, Input, Conv1D, MaxPooling1D, Flatten\n",
        "from keras import optimizers, Model\n",
        "from keras.callbacks import EarlyStopping\n",
        "from keras.callbacks import ModelCheckpoint\n",
        "\n",
        "def CNN_1D(input_size=(5,1)):\n",
        "  inputs=Input(input_size)\n",
        "  regularizer=tf.keras.regularizers.l2(0)\n",
        "\n",
        "  conv = Conv1D(filters=6, kernel_size=2, activation='relu')(inputs)\n",
        "  drop = Dropout(0.5)(conv)\n",
        "  max = MaxPooling1D(pool_size=2)(drop)\n",
        "\n",
        "  flat = Flatten()(max)\n",
        "\n",
        "  outputs = Dense(2, activation='sigmoid')(flat)\n",
        "  model = Model(inputs=inputs, outputs=outputs)\n",
        "\n",
        "  model.compile(optimizer='adam', loss='binary_crossentropy', metrics=['accuracy'])\n",
        "\n",
        "  return model"
      ]
    },
    {
      "cell_type": "code",
      "execution_count": 218,
      "metadata": {
        "colab": {
          "base_uri": "https://localhost:8080/"
        },
        "id": "C3SUfDigzsmU",
        "outputId": "311b8ebe-d9e1-4005-a503-61a0dd1797e9"
      },
      "outputs": [
        {
          "name": "stdout",
          "output_type": "stream",
          "text": [
            "Model: \"model_29\"\n",
            "_________________________________________________________________\n",
            " Layer (type)                Output Shape              Param #   \n",
            "=================================================================\n",
            " input_32 (InputLayer)       [(None, 5, 1)]            0         \n",
            "                                                                 \n",
            " conv1d_20 (Conv1D)          (None, 4, 6)              18        \n",
            "                                                                 \n",
            " dropout_73 (Dropout)        (None, 4, 6)              0         \n",
            "                                                                 \n",
            " max_pooling1d_15 (MaxPooli  (None, 2, 6)              0         \n",
            " ng1D)                                                           \n",
            "                                                                 \n",
            " flatten_9 (Flatten)         (None, 12)                0         \n",
            "                                                                 \n",
            " dense_97 (Dense)            (None, 2)                 26        \n",
            "                                                                 \n",
            "=================================================================\n",
            "Total params: 44 (176.00 Byte)\n",
            "Trainable params: 44 (176.00 Byte)\n",
            "Non-trainable params: 0 (0.00 Byte)\n",
            "_________________________________________________________________\n"
          ]
        }
      ],
      "source": [
        "cnn_model = CNN_1D()\n",
        "cnn_model.summary()"
      ]
    },
    {
      "cell_type": "code",
      "execution_count": 213,
      "metadata": {
        "id": "kYEeACMWzvFu"
      },
      "outputs": [],
      "source": [
        "# 모델 컴파일 하기\n",
        "PATH= \"/content/drive/MyDrive/gachon4-2/deeplearning/week2/\"\n",
        "model_checkpoint = ModelCheckpoint(filepath =  os.path.join(PATH,\"model.h5\"), monitor='val_loss', verbose=1, save_best_only=True)\n",
        "early_stopping = EarlyStopping(monitor = 'val_loss', min_delta = 0, patience = 20)"
      ]
    },
    {
      "cell_type": "code",
      "execution_count": 214,
      "metadata": {
        "colab": {
          "base_uri": "https://localhost:8080/"
        },
        "id": "cvMYGzNf2giw",
        "outputId": "02ca442c-65c8-4dcf-bc63-5b10f6902ef8"
      },
      "outputs": [
        {
          "name": "stdout",
          "output_type": "stream",
          "text": [
            "Epoch 1/100\n",
            "118/122 [============================>.] - ETA: 0s - loss: 0.6952 - accuracy: 0.4534\n",
            "Epoch 1: val_loss improved from inf to 0.65933, saving model to /content/drive/MyDrive/gachon4-2/deeplearning/week2/model.h5\n"
          ]
        },
        {
          "name": "stderr",
          "output_type": "stream",
          "text": [
            "/usr/local/lib/python3.10/dist-packages/keras/src/engine/training.py:3000: UserWarning: You are saving your model as an HDF5 file via `model.save()`. This file format is considered legacy. We recommend using instead the native Keras format, e.g. `model.save('my_model.keras')`.\n",
            "  saving_api.save_model(\n"
          ]
        },
        {
          "name": "stdout",
          "output_type": "stream",
          "text": [
            "\b\b\b\b\b\b\b\b\b\b\b\b\b\b\b\b\b\b\b\b\b\b\b\b\b\b\b\b\b\b\b\b\b\b\b\b\b\b\b\b\b\b\b\b\b\b\b\b\b\b\b\b\b\b\b\b\b\b\b\b\b\b\b\b\b\b\b\b\b\b\b\b\b\b\b\b\b\b\b\b\b\b\b\b\r122/122 [==============================] - 2s 9ms/step - loss: 0.6936 - accuracy: 0.4595 - val_loss: 0.6593 - val_accuracy: 0.8025\n",
            "Epoch 2/100\n",
            "119/122 [============================>.] - ETA: 0s - loss: 0.6296 - accuracy: 0.7129\n",
            "Epoch 2: val_loss improved from 0.65933 to 0.60870, saving model to /content/drive/MyDrive/gachon4-2/deeplearning/week2/model.h5\n",
            "122/122 [==============================] - 1s 5ms/step - loss: 0.6281 - accuracy: 0.7133 - val_loss: 0.6087 - val_accuracy: 0.8765\n",
            "Epoch 3/100\n",
            "120/122 [============================>.] - ETA: 0s - loss: 0.5760 - accuracy: 0.7694\n",
            "Epoch 3: val_loss improved from 0.60870 to 0.53998, saving model to /content/drive/MyDrive/gachon4-2/deeplearning/week2/model.h5\n",
            "122/122 [==============================] - 1s 5ms/step - loss: 0.5737 - accuracy: 0.7709 - val_loss: 0.5400 - val_accuracy: 0.8889\n",
            "Epoch 4/100\n",
            "118/122 [============================>.] - ETA: 0s - loss: 0.5119 - accuracy: 0.7980\n",
            "Epoch 4: val_loss improved from 0.53998 to 0.45206, saving model to /content/drive/MyDrive/gachon4-2/deeplearning/week2/model.h5\n",
            "122/122 [==============================] - 1s 5ms/step - loss: 0.5105 - accuracy: 0.7956 - val_loss: 0.4521 - val_accuracy: 0.9012\n",
            "Epoch 5/100\n",
            "121/122 [============================>.] - ETA: 0s - loss: 0.4713 - accuracy: 0.7934\n",
            "Epoch 5: val_loss improved from 0.45206 to 0.39604, saving model to /content/drive/MyDrive/gachon4-2/deeplearning/week2/model.h5\n",
            "122/122 [==============================] - 1s 5ms/step - loss: 0.4704 - accuracy: 0.7942 - val_loss: 0.3960 - val_accuracy: 0.9012\n",
            "Epoch 6/100\n",
            "119/122 [============================>.] - ETA: 0s - loss: 0.4414 - accuracy: 0.8011\n",
            "Epoch 6: val_loss improved from 0.39604 to 0.37273, saving model to /content/drive/MyDrive/gachon4-2/deeplearning/week2/model.h5\n",
            "122/122 [==============================] - 1s 5ms/step - loss: 0.4405 - accuracy: 0.8011 - val_loss: 0.3727 - val_accuracy: 0.9259\n",
            "Epoch 7/100\n",
            "118/122 [============================>.] - ETA: 0s - loss: 0.4450 - accuracy: 0.8121\n",
            "Epoch 7: val_loss improved from 0.37273 to 0.35560, saving model to /content/drive/MyDrive/gachon4-2/deeplearning/week2/model.h5\n",
            "122/122 [==============================] - 1s 10ms/step - loss: 0.4377 - accuracy: 0.8148 - val_loss: 0.3556 - val_accuracy: 0.9136\n",
            "Epoch 8/100\n",
            "117/122 [===========================>..] - ETA: 0s - loss: 0.4216 - accuracy: 0.8162\n",
            "Epoch 8: val_loss improved from 0.35560 to 0.34846, saving model to /content/drive/MyDrive/gachon4-2/deeplearning/week2/model.h5\n",
            "122/122 [==============================] - 1s 10ms/step - loss: 0.4206 - accuracy: 0.8148 - val_loss: 0.3485 - val_accuracy: 0.9136\n",
            "Epoch 9/100\n",
            "119/122 [============================>.] - ETA: 0s - loss: 0.4270 - accuracy: 0.8081\n",
            "Epoch 9: val_loss improved from 0.34846 to 0.34448, saving model to /content/drive/MyDrive/gachon4-2/deeplearning/week2/model.h5\n",
            "122/122 [==============================] - 1s 9ms/step - loss: 0.4292 - accuracy: 0.8080 - val_loss: 0.3445 - val_accuracy: 0.9136\n",
            "Epoch 10/100\n",
            "122/122 [==============================] - ETA: 0s - loss: 0.4280 - accuracy: 0.8285\n",
            "Epoch 10: val_loss improved from 0.34448 to 0.33745, saving model to /content/drive/MyDrive/gachon4-2/deeplearning/week2/model.h5\n",
            "122/122 [==============================] - 2s 16ms/step - loss: 0.4280 - accuracy: 0.8285 - val_loss: 0.3374 - val_accuracy: 0.9136\n",
            "Epoch 11/100\n",
            "120/122 [============================>.] - ETA: 0s - loss: 0.4185 - accuracy: 0.8139\n",
            "Epoch 11: val_loss did not improve from 0.33745\n",
            "122/122 [==============================] - 1s 11ms/step - loss: 0.4170 - accuracy: 0.8148 - val_loss: 0.3377 - val_accuracy: 0.9136\n",
            "Epoch 12/100\n",
            "120/122 [============================>.] - ETA: 0s - loss: 0.4134 - accuracy: 0.8292\n",
            "Epoch 12: val_loss improved from 0.33745 to 0.33044, saving model to /content/drive/MyDrive/gachon4-2/deeplearning/week2/model.h5\n",
            "122/122 [==============================] - 2s 13ms/step - loss: 0.4116 - accuracy: 0.8299 - val_loss: 0.3304 - val_accuracy: 0.9136\n",
            "Epoch 13/100\n",
            "119/122 [============================>.] - ETA: 0s - loss: 0.4274 - accuracy: 0.8095\n",
            "Epoch 13: val_loss did not improve from 0.33044\n",
            "122/122 [==============================] - 1s 8ms/step - loss: 0.4262 - accuracy: 0.8093 - val_loss: 0.3306 - val_accuracy: 0.9136\n",
            "Epoch 14/100\n",
            "119/122 [============================>.] - ETA: 0s - loss: 0.4136 - accuracy: 0.8277\n",
            "Epoch 14: val_loss did not improve from 0.33044\n",
            "122/122 [==============================] - 1s 6ms/step - loss: 0.4100 - accuracy: 0.8299 - val_loss: 0.3327 - val_accuracy: 0.9012\n",
            "Epoch 15/100\n",
            "121/122 [============================>.] - ETA: 0s - loss: 0.4228 - accuracy: 0.8182\n",
            "Epoch 15: val_loss did not improve from 0.33044\n",
            "122/122 [==============================] - 1s 8ms/step - loss: 0.4221 - accuracy: 0.8189 - val_loss: 0.3324 - val_accuracy: 0.9012\n",
            "Epoch 16/100\n",
            "122/122 [==============================] - ETA: 0s - loss: 0.4179 - accuracy: 0.8217\n",
            "Epoch 16: val_loss did not improve from 0.33044\n",
            "122/122 [==============================] - 1s 7ms/step - loss: 0.4179 - accuracy: 0.8217 - val_loss: 0.3327 - val_accuracy: 0.9012\n",
            "Epoch 17/100\n",
            "119/122 [============================>.] - ETA: 0s - loss: 0.4180 - accuracy: 0.8235\n",
            "Epoch 17: val_loss improved from 0.33044 to 0.32911, saving model to /content/drive/MyDrive/gachon4-2/deeplearning/week2/model.h5\n",
            "122/122 [==============================] - 1s 10ms/step - loss: 0.4146 - accuracy: 0.8244 - val_loss: 0.3291 - val_accuracy: 0.9012\n",
            "Epoch 18/100\n",
            "117/122 [===========================>..] - ETA: 0s - loss: 0.4229 - accuracy: 0.8134\n",
            "Epoch 18: val_loss did not improve from 0.32911\n",
            "122/122 [==============================] - 1s 8ms/step - loss: 0.4211 - accuracy: 0.8162 - val_loss: 0.3309 - val_accuracy: 0.9012\n",
            "Epoch 19/100\n",
            "119/122 [============================>.] - ETA: 0s - loss: 0.4040 - accuracy: 0.8165\n",
            "Epoch 19: val_loss improved from 0.32911 to 0.32856, saving model to /content/drive/MyDrive/gachon4-2/deeplearning/week2/model.h5\n",
            "122/122 [==============================] - 1s 8ms/step - loss: 0.4074 - accuracy: 0.8134 - val_loss: 0.3286 - val_accuracy: 0.9012\n",
            "Epoch 20/100\n",
            "120/122 [============================>.] - ETA: 0s - loss: 0.4142 - accuracy: 0.8264\n",
            "Epoch 20: val_loss did not improve from 0.32856\n",
            "122/122 [==============================] - 1s 7ms/step - loss: 0.4110 - accuracy: 0.8285 - val_loss: 0.3289 - val_accuracy: 0.9012\n",
            "Epoch 21/100\n",
            "115/122 [===========================>..] - ETA: 0s - loss: 0.4063 - accuracy: 0.8304\n",
            "Epoch 21: val_loss did not improve from 0.32856\n",
            "122/122 [==============================] - 1s 6ms/step - loss: 0.4020 - accuracy: 0.8354 - val_loss: 0.3286 - val_accuracy: 0.9012\n",
            "Epoch 22/100\n",
            "111/122 [==========================>...] - ETA: 0s - loss: 0.4006 - accuracy: 0.8198\n",
            "Epoch 22: val_loss improved from 0.32856 to 0.32232, saving model to /content/drive/MyDrive/gachon4-2/deeplearning/week2/model.h5\n",
            "122/122 [==============================] - 1s 4ms/step - loss: 0.4011 - accuracy: 0.8217 - val_loss: 0.3223 - val_accuracy: 0.9136\n",
            "Epoch 23/100\n",
            "111/122 [==========================>...] - ETA: 0s - loss: 0.4137 - accuracy: 0.8333\n",
            "Epoch 23: val_loss did not improve from 0.32232\n",
            "122/122 [==============================] - 1s 4ms/step - loss: 0.4101 - accuracy: 0.8326 - val_loss: 0.3227 - val_accuracy: 0.9136\n",
            "Epoch 24/100\n",
            "119/122 [============================>.] - ETA: 0s - loss: 0.4166 - accuracy: 0.8109\n",
            "Epoch 24: val_loss did not improve from 0.32232\n",
            "122/122 [==============================] - 1s 5ms/step - loss: 0.4122 - accuracy: 0.8148 - val_loss: 0.3238 - val_accuracy: 0.9136\n",
            "Epoch 25/100\n",
            "122/122 [==============================] - ETA: 0s - loss: 0.4056 - accuracy: 0.8313\n",
            "Epoch 25: val_loss improved from 0.32232 to 0.31896, saving model to /content/drive/MyDrive/gachon4-2/deeplearning/week2/model.h5\n",
            "122/122 [==============================] - 1s 7ms/step - loss: 0.4056 - accuracy: 0.8313 - val_loss: 0.3190 - val_accuracy: 0.9136\n",
            "Epoch 26/100\n",
            "114/122 [===========================>..] - ETA: 0s - loss: 0.4209 - accuracy: 0.8129\n",
            "Epoch 26: val_loss did not improve from 0.31896\n",
            "122/122 [==============================] - 1s 6ms/step - loss: 0.4140 - accuracy: 0.8176 - val_loss: 0.3222 - val_accuracy: 0.9136\n",
            "Epoch 27/100\n",
            "121/122 [============================>.] - ETA: 0s - loss: 0.3975 - accuracy: 0.8320\n",
            "Epoch 27: val_loss did not improve from 0.31896\n",
            "122/122 [==============================] - 1s 6ms/step - loss: 0.3972 - accuracy: 0.8313 - val_loss: 0.3193 - val_accuracy: 0.9136\n",
            "Epoch 28/100\n",
            "121/122 [============================>.] - ETA: 0s - loss: 0.3958 - accuracy: 0.8347\n",
            "Epoch 28: val_loss did not improve from 0.31896\n",
            "122/122 [==============================] - 1s 7ms/step - loss: 0.3949 - accuracy: 0.8354 - val_loss: 0.3200 - val_accuracy: 0.9136\n",
            "Epoch 29/100\n",
            "110/122 [==========================>...] - ETA: 0s - loss: 0.4159 - accuracy: 0.8197\n",
            "Epoch 29: val_loss improved from 0.31896 to 0.31775, saving model to /content/drive/MyDrive/gachon4-2/deeplearning/week2/model.h5\n",
            "122/122 [==============================] - 1s 6ms/step - loss: 0.4083 - accuracy: 0.8230 - val_loss: 0.3178 - val_accuracy: 0.9136\n",
            "Epoch 30/100\n",
            "122/122 [==============================] - ETA: 0s - loss: 0.3968 - accuracy: 0.8354\n",
            "Epoch 30: val_loss improved from 0.31775 to 0.31269, saving model to /content/drive/MyDrive/gachon4-2/deeplearning/week2/model.h5\n",
            "122/122 [==============================] - 1s 5ms/step - loss: 0.3968 - accuracy: 0.8354 - val_loss: 0.3127 - val_accuracy: 0.9136\n",
            "Epoch 31/100\n",
            "119/122 [============================>.] - ETA: 0s - loss: 0.3910 - accuracy: 0.8277\n",
            "Epoch 31: val_loss did not improve from 0.31269\n",
            "122/122 [==============================] - 1s 4ms/step - loss: 0.3906 - accuracy: 0.8285 - val_loss: 0.3157 - val_accuracy: 0.9136\n",
            "Epoch 32/100\n",
            "122/122 [==============================] - ETA: 0s - loss: 0.3919 - accuracy: 0.8285\n",
            "Epoch 32: val_loss improved from 0.31269 to 0.31129, saving model to /content/drive/MyDrive/gachon4-2/deeplearning/week2/model.h5\n",
            "122/122 [==============================] - 1s 5ms/step - loss: 0.3919 - accuracy: 0.8285 - val_loss: 0.3113 - val_accuracy: 0.9136\n",
            "Epoch 33/100\n",
            "122/122 [==============================] - ETA: 0s - loss: 0.3966 - accuracy: 0.8422\n",
            "Epoch 33: val_loss improved from 0.31129 to 0.31036, saving model to /content/drive/MyDrive/gachon4-2/deeplearning/week2/model.h5\n",
            "122/122 [==============================] - 1s 5ms/step - loss: 0.3966 - accuracy: 0.8422 - val_loss: 0.3104 - val_accuracy: 0.9136\n",
            "Epoch 34/100\n",
            "119/122 [============================>.] - ETA: 0s - loss: 0.3942 - accuracy: 0.8277\n",
            "Epoch 34: val_loss did not improve from 0.31036\n",
            "122/122 [==============================] - 1s 5ms/step - loss: 0.3931 - accuracy: 0.8285 - val_loss: 0.3120 - val_accuracy: 0.9136\n",
            "Epoch 35/100\n",
            "122/122 [==============================] - ETA: 0s - loss: 0.3959 - accuracy: 0.8395\n",
            "Epoch 35: val_loss did not improve from 0.31036\n",
            "122/122 [==============================] - 1s 5ms/step - loss: 0.3959 - accuracy: 0.8395 - val_loss: 0.3130 - val_accuracy: 0.9136\n",
            "Epoch 36/100\n",
            "122/122 [==============================] - ETA: 0s - loss: 0.3892 - accuracy: 0.8409\n",
            "Epoch 36: val_loss did not improve from 0.31036\n",
            "122/122 [==============================] - 1s 5ms/step - loss: 0.3892 - accuracy: 0.8409 - val_loss: 0.3110 - val_accuracy: 0.9136\n",
            "Epoch 37/100\n",
            "115/122 [===========================>..] - ETA: 0s - loss: 0.4062 - accuracy: 0.8174\n",
            "Epoch 37: val_loss did not improve from 0.31036\n",
            "122/122 [==============================] - 1s 5ms/step - loss: 0.4009 - accuracy: 0.8217 - val_loss: 0.3118 - val_accuracy: 0.9136\n",
            "Epoch 38/100\n",
            "120/122 [============================>.] - ETA: 0s - loss: 0.3975 - accuracy: 0.8278\n",
            "Epoch 38: val_loss improved from 0.31036 to 0.30810, saving model to /content/drive/MyDrive/gachon4-2/deeplearning/week2/model.h5\n",
            "122/122 [==============================] - 1s 5ms/step - loss: 0.3959 - accuracy: 0.8285 - val_loss: 0.3081 - val_accuracy: 0.9136\n",
            "Epoch 39/100\n",
            "117/122 [===========================>..] - ETA: 0s - loss: 0.4032 - accuracy: 0.8362\n",
            "Epoch 39: val_loss did not improve from 0.30810\n",
            "122/122 [==============================] - 1s 5ms/step - loss: 0.4018 - accuracy: 0.8340 - val_loss: 0.3101 - val_accuracy: 0.9136\n",
            "Epoch 40/100\n",
            "110/122 [==========================>...] - ETA: 0s - loss: 0.3818 - accuracy: 0.8485\n",
            "Epoch 40: val_loss did not improve from 0.30810\n",
            "122/122 [==============================] - 1s 4ms/step - loss: 0.3887 - accuracy: 0.8422 - val_loss: 0.3124 - val_accuracy: 0.9136\n",
            "Epoch 41/100\n",
            "121/122 [============================>.] - ETA: 0s - loss: 0.3804 - accuracy: 0.8430\n",
            "Epoch 41: val_loss did not improve from 0.30810\n",
            "122/122 [==============================] - 1s 5ms/step - loss: 0.3808 - accuracy: 0.8422 - val_loss: 0.3134 - val_accuracy: 0.9259\n",
            "Epoch 42/100\n",
            "114/122 [===========================>..] - ETA: 0s - loss: 0.3776 - accuracy: 0.8333\n",
            "Epoch 42: val_loss did not improve from 0.30810\n",
            "122/122 [==============================] - 1s 4ms/step - loss: 0.3860 - accuracy: 0.8340 - val_loss: 0.3091 - val_accuracy: 0.9136\n",
            "Epoch 43/100\n",
            "112/122 [==========================>...] - ETA: 0s - loss: 0.4055 - accuracy: 0.8229\n",
            "Epoch 43: val_loss did not improve from 0.30810\n",
            "122/122 [==============================] - 1s 4ms/step - loss: 0.4057 - accuracy: 0.8230 - val_loss: 0.3102 - val_accuracy: 0.9136\n",
            "Epoch 44/100\n",
            "113/122 [==========================>...] - ETA: 0s - loss: 0.3967 - accuracy: 0.8378\n",
            "Epoch 44: val_loss did not improve from 0.30810\n",
            "122/122 [==============================] - 1s 5ms/step - loss: 0.3901 - accuracy: 0.8409 - val_loss: 0.3125 - val_accuracy: 0.9136\n",
            "Epoch 45/100\n",
            "121/122 [============================>.] - ETA: 0s - loss: 0.4033 - accuracy: 0.8292\n",
            "Epoch 45: val_loss did not improve from 0.30810\n",
            "122/122 [==============================] - 1s 5ms/step - loss: 0.4037 - accuracy: 0.8285 - val_loss: 0.3138 - val_accuracy: 0.9259\n",
            "Epoch 46/100\n",
            "121/122 [============================>.] - ETA: 0s - loss: 0.3941 - accuracy: 0.8416\n",
            "Epoch 46: val_loss did not improve from 0.30810\n",
            "122/122 [==============================] - 1s 5ms/step - loss: 0.3955 - accuracy: 0.8409 - val_loss: 0.3104 - val_accuracy: 0.9136\n",
            "Epoch 47/100\n",
            "116/122 [===========================>..] - ETA: 0s - loss: 0.3910 - accuracy: 0.8290\n",
            "Epoch 47: val_loss did not improve from 0.30810\n",
            "122/122 [==============================] - 1s 7ms/step - loss: 0.3980 - accuracy: 0.8244 - val_loss: 0.3119 - val_accuracy: 0.9259\n",
            "Epoch 48/100\n",
            "122/122 [==============================] - ETA: 0s - loss: 0.3966 - accuracy: 0.8395\n",
            "Epoch 48: val_loss did not improve from 0.30810\n",
            "122/122 [==============================] - 1s 7ms/step - loss: 0.3966 - accuracy: 0.8395 - val_loss: 0.3119 - val_accuracy: 0.9259\n",
            "Epoch 49/100\n",
            "116/122 [===========================>..] - ETA: 0s - loss: 0.4037 - accuracy: 0.8348\n",
            "Epoch 49: val_loss did not improve from 0.30810\n",
            "122/122 [==============================] - 1s 7ms/step - loss: 0.4013 - accuracy: 0.8368 - val_loss: 0.3087 - val_accuracy: 0.9136\n",
            "Epoch 50/100\n",
            "119/122 [============================>.] - ETA: 0s - loss: 0.3890 - accuracy: 0.8389\n",
            "Epoch 50: val_loss did not improve from 0.30810\n",
            "122/122 [==============================] - 1s 6ms/step - loss: 0.3887 - accuracy: 0.8395 - val_loss: 0.3085 - val_accuracy: 0.9259\n",
            "Epoch 51/100\n",
            "121/122 [============================>.] - ETA: 0s - loss: 0.4086 - accuracy: 0.8306\n",
            "Epoch 51: val_loss did not improve from 0.30810\n",
            "122/122 [==============================] - 1s 7ms/step - loss: 0.4072 - accuracy: 0.8313 - val_loss: 0.3114 - val_accuracy: 0.9259\n",
            "Epoch 52/100\n",
            "114/122 [===========================>..] - ETA: 0s - loss: 0.3789 - accuracy: 0.8377\n",
            "Epoch 52: val_loss did not improve from 0.30810\n",
            "122/122 [==============================] - 1s 5ms/step - loss: 0.3857 - accuracy: 0.8368 - val_loss: 0.3105 - val_accuracy: 0.9259\n",
            "Epoch 53/100\n",
            "122/122 [==============================] - ETA: 0s - loss: 0.3955 - accuracy: 0.8326\n",
            "Epoch 53: val_loss did not improve from 0.30810\n",
            "122/122 [==============================] - 1s 4ms/step - loss: 0.3955 - accuracy: 0.8326 - val_loss: 0.3086 - val_accuracy: 0.9259\n",
            "Epoch 54/100\n",
            "117/122 [===========================>..] - ETA: 0s - loss: 0.3884 - accuracy: 0.8362\n",
            "Epoch 54: val_loss did not improve from 0.30810\n",
            "122/122 [==============================] - 1s 5ms/step - loss: 0.3896 - accuracy: 0.8340 - val_loss: 0.3111 - val_accuracy: 0.9259\n",
            "Epoch 55/100\n",
            "116/122 [===========================>..] - ETA: 0s - loss: 0.3710 - accuracy: 0.8477\n",
            "Epoch 55: val_loss improved from 0.30810 to 0.30667, saving model to /content/drive/MyDrive/gachon4-2/deeplearning/week2/model.h5\n",
            "122/122 [==============================] - 1s 7ms/step - loss: 0.3826 - accuracy: 0.8450 - val_loss: 0.3067 - val_accuracy: 0.9259\n",
            "Epoch 56/100\n",
            "120/122 [============================>.] - ETA: 0s - loss: 0.3948 - accuracy: 0.8333\n",
            "Epoch 56: val_loss did not improve from 0.30667\n",
            "122/122 [==============================] - 1s 4ms/step - loss: 0.3958 - accuracy: 0.8326 - val_loss: 0.3084 - val_accuracy: 0.9259\n",
            "Epoch 57/100\n",
            "116/122 [===========================>..] - ETA: 0s - loss: 0.3950 - accuracy: 0.8247\n",
            "Epoch 57: val_loss improved from 0.30667 to 0.30328, saving model to /content/drive/MyDrive/gachon4-2/deeplearning/week2/model.h5\n",
            "122/122 [==============================] - 1s 5ms/step - loss: 0.3897 - accuracy: 0.8285 - val_loss: 0.3033 - val_accuracy: 0.9136\n",
            "Epoch 58/100\n",
            "121/122 [============================>.] - ETA: 0s - loss: 0.3809 - accuracy: 0.8278\n",
            "Epoch 58: val_loss improved from 0.30328 to 0.30203, saving model to /content/drive/MyDrive/gachon4-2/deeplearning/week2/model.h5\n",
            "122/122 [==============================] - 1s 5ms/step - loss: 0.3800 - accuracy: 0.8285 - val_loss: 0.3020 - val_accuracy: 0.9259\n",
            "Epoch 59/100\n",
            "122/122 [==============================] - ETA: 0s - loss: 0.3942 - accuracy: 0.8326\n",
            "Epoch 59: val_loss did not improve from 0.30203\n",
            "122/122 [==============================] - 1s 4ms/step - loss: 0.3942 - accuracy: 0.8326 - val_loss: 0.3035 - val_accuracy: 0.9259\n",
            "Epoch 60/100\n",
            "121/122 [============================>.] - ETA: 0s - loss: 0.4002 - accuracy: 0.8347\n",
            "Epoch 60: val_loss did not improve from 0.30203\n",
            "122/122 [==============================] - 1s 5ms/step - loss: 0.3994 - accuracy: 0.8354 - val_loss: 0.3082 - val_accuracy: 0.9259\n",
            "Epoch 61/100\n",
            "119/122 [============================>.] - ETA: 0s - loss: 0.4107 - accuracy: 0.8305\n",
            "Epoch 61: val_loss did not improve from 0.30203\n",
            "122/122 [==============================] - 1s 5ms/step - loss: 0.4108 - accuracy: 0.8313 - val_loss: 0.3076 - val_accuracy: 0.9259\n",
            "Epoch 62/100\n",
            "117/122 [===========================>..] - ETA: 0s - loss: 0.3893 - accuracy: 0.8405\n",
            "Epoch 62: val_loss did not improve from 0.30203\n",
            "122/122 [==============================] - 1s 5ms/step - loss: 0.3906 - accuracy: 0.8409 - val_loss: 0.3063 - val_accuracy: 0.9259\n",
            "Epoch 63/100\n",
            "112/122 [==========================>...] - ETA: 0s - loss: 0.3986 - accuracy: 0.8304\n",
            "Epoch 63: val_loss did not improve from 0.30203\n",
            "122/122 [==============================] - 1s 5ms/step - loss: 0.3937 - accuracy: 0.8326 - val_loss: 0.3071 - val_accuracy: 0.9259\n",
            "Epoch 64/100\n",
            "116/122 [===========================>..] - ETA: 0s - loss: 0.4039 - accuracy: 0.8333\n",
            "Epoch 64: val_loss did not improve from 0.30203\n",
            "122/122 [==============================] - 1s 5ms/step - loss: 0.3972 - accuracy: 0.8368 - val_loss: 0.3079 - val_accuracy: 0.9259\n",
            "Epoch 65/100\n",
            "109/122 [=========================>....] - ETA: 0s - loss: 0.3845 - accuracy: 0.8394\n",
            "Epoch 65: val_loss did not improve from 0.30203\n",
            "122/122 [==============================] - 1s 4ms/step - loss: 0.3820 - accuracy: 0.8381 - val_loss: 0.3106 - val_accuracy: 0.9259\n",
            "Epoch 66/100\n",
            "111/122 [==========================>...] - ETA: 0s - loss: 0.3869 - accuracy: 0.8393\n",
            "Epoch 66: val_loss did not improve from 0.30203\n",
            "122/122 [==============================] - 1s 5ms/step - loss: 0.3926 - accuracy: 0.8368 - val_loss: 0.3062 - val_accuracy: 0.9259\n",
            "Epoch 67/100\n",
            "110/122 [==========================>...] - ETA: 0s - loss: 0.3927 - accuracy: 0.8303\n",
            "Epoch 67: val_loss did not improve from 0.30203\n",
            "122/122 [==============================] - 1s 5ms/step - loss: 0.3863 - accuracy: 0.8326 - val_loss: 0.3093 - val_accuracy: 0.9259\n",
            "Epoch 68/100\n",
            "121/122 [============================>.] - ETA: 0s - loss: 0.3809 - accuracy: 0.8499\n",
            "Epoch 68: val_loss did not improve from 0.30203\n",
            "122/122 [==============================] - 1s 4ms/step - loss: 0.3796 - accuracy: 0.8505 - val_loss: 0.3066 - val_accuracy: 0.9259\n",
            "Epoch 69/100\n",
            "121/122 [============================>.] - ETA: 0s - loss: 0.3952 - accuracy: 0.8292\n",
            "Epoch 69: val_loss did not improve from 0.30203\n",
            "122/122 [==============================] - 1s 6ms/step - loss: 0.3956 - accuracy: 0.8285 - val_loss: 0.3038 - val_accuracy: 0.9259\n",
            "Epoch 70/100\n",
            "121/122 [============================>.] - ETA: 0s - loss: 0.3861 - accuracy: 0.8457\n",
            "Epoch 70: val_loss did not improve from 0.30203\n",
            "122/122 [==============================] - 1s 6ms/step - loss: 0.3853 - accuracy: 0.8464 - val_loss: 0.3072 - val_accuracy: 0.9259\n",
            "Epoch 71/100\n",
            "119/122 [============================>.] - ETA: 0s - loss: 0.3796 - accuracy: 0.8347\n",
            "Epoch 71: val_loss did not improve from 0.30203\n",
            "122/122 [==============================] - 1s 6ms/step - loss: 0.3789 - accuracy: 0.8354 - val_loss: 0.3036 - val_accuracy: 0.9259\n",
            "Epoch 72/100\n",
            "117/122 [===========================>..] - ETA: 0s - loss: 0.3879 - accuracy: 0.8390\n",
            "Epoch 72: val_loss did not improve from 0.30203\n",
            "122/122 [==============================] - 1s 7ms/step - loss: 0.3848 - accuracy: 0.8422 - val_loss: 0.3048 - val_accuracy: 0.9259\n",
            "Epoch 73/100\n",
            "116/122 [===========================>..] - ETA: 0s - loss: 0.4061 - accuracy: 0.8391\n",
            "Epoch 73: val_loss did not improve from 0.30203\n",
            "122/122 [==============================] - 1s 7ms/step - loss: 0.3998 - accuracy: 0.8409 - val_loss: 0.3072 - val_accuracy: 0.9259\n",
            "Epoch 74/100\n",
            "116/122 [===========================>..] - ETA: 0s - loss: 0.4001 - accuracy: 0.8305\n",
            "Epoch 74: val_loss did not improve from 0.30203\n",
            "122/122 [==============================] - 1s 4ms/step - loss: 0.3986 - accuracy: 0.8299 - val_loss: 0.3072 - val_accuracy: 0.9259\n",
            "Epoch 75/100\n",
            "116/122 [===========================>..] - ETA: 0s - loss: 0.3766 - accuracy: 0.8391\n",
            "Epoch 75: val_loss did not improve from 0.30203\n",
            "122/122 [==============================] - 1s 5ms/step - loss: 0.3745 - accuracy: 0.8395 - val_loss: 0.3081 - val_accuracy: 0.9259\n",
            "Epoch 76/100\n",
            "121/122 [============================>.] - ETA: 0s - loss: 0.3950 - accuracy: 0.8333\n",
            "Epoch 76: val_loss did not improve from 0.30203\n",
            "122/122 [==============================] - 1s 5ms/step - loss: 0.3956 - accuracy: 0.8326 - val_loss: 0.3072 - val_accuracy: 0.9259\n",
            "Epoch 77/100\n",
            "116/122 [===========================>..] - ETA: 0s - loss: 0.3902 - accuracy: 0.8233\n",
            "Epoch 77: val_loss did not improve from 0.30203\n",
            "122/122 [==============================] - 1s 5ms/step - loss: 0.3830 - accuracy: 0.8272 - val_loss: 0.3063 - val_accuracy: 0.9259\n",
            "Epoch 78/100\n",
            "116/122 [===========================>..] - ETA: 0s - loss: 0.3991 - accuracy: 0.8376\n",
            "Epoch 78: val_loss did not improve from 0.30203\n",
            "122/122 [==============================] - 1s 5ms/step - loss: 0.3982 - accuracy: 0.8368 - val_loss: 0.3047 - val_accuracy: 0.9259\n"
          ]
        }
      ],
      "source": [
        "# 모델 학습\n",
        "hist = cnn_model.fit(\n",
        "                  x_train, y_train,                        # 입력 / 라벨\n",
        "                  epochs = 100, batch_size = batch_size,            # 학습 회수 / 학습 10번 후 오차 감소\n",
        "                  validation_data=(x_val, y_val),        # 검증 데이터\n",
        "                  callbacks = [model_checkpoint, early_stopping], # 저장 및 모니터링\n",
        "                  shuffle=True\n",
        "                 )\n"
      ]
    },
    {
      "cell_type": "code",
      "execution_count": 207,
      "metadata": {
        "colab": {
          "base_uri": "https://localhost:8080/",
          "height": 880
        },
        "id": "HlQ6kVCc2_P3",
        "outputId": "029b2bae-e73e-4020-f7c6-1eea422a96ef"
      },
      "outputs": [
        {
          "data": {
            "image/png": "[encoded data removed]",
            "text/plain": [
              "<Figure size 640x480 with 1 Axes>"
            ]
          },
          "metadata": {},
          "output_type": "display_data"
        },
        {
          "data": {
            "image/png": "[encoded data removed]",
            "text/plain": [
              "<Figure size 640x480 with 1 Axes>"
            ]
          },
          "metadata": {},
          "output_type": "display_data"
        }
      ],
      "source": [
        "import matplotlib.pyplot as plt\n",
        "plt.plot(hist.history['accuracy'], 'r', label = 'train_accuracy')\n",
        "plt.plot(hist.history['val_accuracy'], 'b', label = 'test_accuracy')\n",
        "plt.ylabel('accuracy')\n",
        "plt.xlabel('epoch')\n",
        "plt.legend(loc='upper left')\n",
        "plt.show()\n",
        "\n",
        "plt.plot(hist.history['loss'], 'r', label = 'train_loss')\n",
        "plt.plot(hist.history['val_loss'], 'b', label = 'test_loss')\n",
        "plt.ylabel('loss')\n",
        "plt.xlabel('epoch')\n",
        "plt.legend(loc='upper left')\n",
        "plt.show()"
      ]
    },
    {
      "cell_type": "markdown",
      "metadata": {
        "id": "vsgiDg4HVWqT"
      },
      "source": [
        "## 4-2. 1D-CNN Evaluation"
      ]
    },
    {
      "cell_type": "code",
      "execution_count": 208,
      "metadata": {
        "colab": {
          "base_uri": "https://localhost:8080/"
        },
        "id": "lHVjalmkLo51",
        "outputId": "302eec97-eefd-47b7-f3f5-f1d25bd27873"
      },
      "outputs": [
        {
          "name": "stdout",
          "output_type": "stream",
          "text": [
            "3/3 [==============================] - 0s 16ms/step - loss: 0.3650 - accuracy: 0.8889\n"
          ]
        },
        {
          "name": "stderr",
          "output_type": "stream",
          "text": [
            "WARNING:tensorflow:5 out of the last 13 calls to <function Model.make_predict_function.<locals>.predict_function at 0x7e3c129eb370> triggered tf.function retracing. Tracing is expensive and the excessive number of tracings could be due to (1) creating @tf.function repeatedly in a loop, (2) passing tensors with different shapes, (3) passing Python objects instead of tensors. For (1), please define your @tf.function outside of the loop. For (2), @tf.function has reduce_retracing=True option that can avoid unnecessary retracing. For (3), please refer to https://www.tensorflow.org/guide/function#controlling_retracing and https://www.tensorflow.org/api_docs/python/tf/function for  more details.\n"
          ]
        },
        {
          "name": "stdout",
          "output_type": "stream",
          "text": [
            "3/3 [==============================] - 0s 3ms/step\n",
            "              precision    recall  f1-score   support\n",
            "\n",
            "           0       0.91      0.87      0.89        47\n",
            "           1       0.87      0.91      0.89        43\n",
            "\n",
            "    accuracy                           0.89        90\n",
            "   macro avg       0.89      0.89      0.89        90\n",
            "weighted avg       0.89      0.89      0.89        90\n",
            "\n",
            "Accuracy Score: 0.8888888888888888\n",
            "[[41  6]\n",
            " [ 4 39]]\n"
          ]
        }
      ],
      "source": [
        "# 모델 평가\n",
        "cnn_model.evaluate(x_test, y_test)\n",
        "\n",
        "# 테스트 데이터 입력하여 예측값 구하기\n",
        "prediction = cnn_model.predict(x_test)\n",
        "\n",
        "# 3. perform evaluation on test set\n",
        "from sklearn import metrics\n",
        "from sklearn.metrics import classification_report\n",
        "from sklearn.metrics import confusion_matrix\n",
        "# evaluation for multi class classification\n",
        "y_label = np.argmax(y_test,1)\n",
        "y_pred = np.argmax(prediction,1)\n",
        "\n",
        "print(classification_report(y_label, y_pred))\n",
        "print('Accuracy Score:', metrics.accuracy_score(y_label, y_pred))\n",
        "\n",
        "cm = confusion_matrix(y_label, y_pred)\n",
        "print(cm)\n",
        "\n"
      ]
    },
    {
      "cell_type": "code",
      "execution_count": null,
      "metadata": {
        "id": "pbryRbd3RnDh"
      },
      "outputs": [],
      "source": []
    }
  ],
  "metadata": {
    "accelerator": "GPU",
    "colab": {
      "gpuType": "T4",
      "provenance": []
    },
    "kernelspec": {
      "display_name": "Python 3",
      "name": "python3"
    },
    "language_info": {
      "name": "python"
    }
  },
  "nbformat": 4,
  "nbformat_minor": 0
}
