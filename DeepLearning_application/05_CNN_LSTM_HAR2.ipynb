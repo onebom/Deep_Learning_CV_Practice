{
  "nbformat": 4,
  "nbformat_minor": 0,
  "metadata": {
    "colab": {
      "provenance": []
    },
    "kernelspec": {
      "name": "python3",
      "display_name": "Python 3"
    },
    "language_info": {
      "name": "python"
    }
  },
  "cells": [
    {
      "cell_type": "code",
      "execution_count": 1,
      "metadata": {
        "id": "_fuWowayjLwR"
      },
      "outputs": [],
      "source": [
        "import numpy as np\n",
        "from numpy import mean\n",
        "from numpy import std\n",
        "from numpy import dstack\n",
        "from pandas import read_csv\n",
        "from keras.models import Sequential\n",
        "from keras.layers import Dense\n",
        "from keras.layers import Flatten\n",
        "from keras.layers import Dropout\n",
        "from keras.layers import LSTM\n",
        "\n",
        "import tensorflow as tf\n",
        "from keras.layers import Conv1D\n",
        "from keras.layers import MaxPooling1D, BatchNormalization\n",
        "from tensorflow.keras.utils import to_categorical\n",
        "from matplotlib import pyplot\n",
        "import matplotlib.pyplot as plt\n",
        "from keras.utils import plot_model\n",
        "import keras\n",
        "import zipfile\n",
        "from sklearn.metrics import confusion_matrix, classification_report\n",
        "import seaborn as sns\n",
        "import os\n",
        "# set seed to reproduce similar results\n",
        "np.random.seed(0)"
      ]
    },
    {
      "cell_type": "code",
      "source": [
        "from google.colab import drive   # 코랩 드라이브와 연동\n",
        "drive.mount('/content/drive')"
      ],
      "metadata": {
        "colab": {
          "base_uri": "https://localhost:8080/"
        },
        "id": "AkrNDP4gnnC_",
        "outputId": "4568a55f-0d08-47db-efc0-e568cc062014"
      },
      "execution_count": 2,
      "outputs": [
        {
          "output_type": "stream",
          "name": "stdout",
          "text": [
            "Mounted at /content/drive\n"
          ]
        }
      ]
    },
    {
      "cell_type": "markdown",
      "source": [
        "#1. Data Load"
      ],
      "metadata": {
        "id": "eI9C3fjuoh2i"
      }
    },
    {
      "cell_type": "code",
      "source": [
        "trainX_df = read_csv('/content/drive/MyDrive/gachon4-2/deeplearning/week4/UCI HAR Dataset/train/X_train.txt',header=None, delim_whitespace=True)\n",
        "trainy_df = read_csv('/content/drive/MyDrive/gachon4-2/deeplearning/week4/UCI HAR Dataset/train/y_train.txt',header=None, delim_whitespace=True)\n",
        "\n",
        "testX_df = read_csv('/content/drive/MyDrive/gachon4-2/deeplearning/week4/UCI HAR Dataset/test/X_test.txt',header=None, delim_whitespace=True)\n",
        "testy_df = read_csv('/content/drive/MyDrive/gachon4-2/deeplearning/week4/UCI HAR Dataset/test/y_test.txt',header=None, delim_whitespace=True)\n"
      ],
      "metadata": {
        "id": "lp2dwe8nl0_t"
      },
      "execution_count": 3,
      "outputs": []
    },
    {
      "cell_type": "code",
      "source": [
        "trainX=np.array(trainX_df)\n",
        "trainy=np.array(trainy_df)-1\n",
        "testX=np.array(testX_df)\n",
        "testy=np.array(testy_df)-1"
      ],
      "metadata": {
        "id": "yHG8aNogi2BM"
      },
      "execution_count": 4,
      "outputs": []
    },
    {
      "cell_type": "code",
      "source": [
        "np.unique(trainy)"
      ],
      "metadata": {
        "colab": {
          "base_uri": "https://localhost:8080/"
        },
        "id": "-YPuphUuscIe",
        "outputId": "d1e3d5e1-c02d-494c-a6c7-5fa6e0e88fbb"
      },
      "execution_count": 5,
      "outputs": [
        {
          "output_type": "execute_result",
          "data": {
            "text/plain": [
              "array([0, 1, 2, 3, 4, 5])"
            ]
          },
          "metadata": {},
          "execution_count": 5
        }
      ]
    },
    {
      "cell_type": "code",
      "source": [
        "print(trainX.shape)\n",
        "print(trainy.shape)\n",
        "print(testX.shape)\n"
      ],
      "metadata": {
        "colab": {
          "base_uri": "https://localhost:8080/"
        },
        "id": "1CP72Vg-nz-m",
        "outputId": "cd8ad683-f98c-474d-fd6b-d6426d161cab"
      },
      "execution_count": 6,
      "outputs": [
        {
          "output_type": "stream",
          "name": "stdout",
          "text": [
            "(7352, 561)\n",
            "(7352, 1)\n",
            "(2947, 561)\n"
          ]
        }
      ]
    },
    {
      "cell_type": "code",
      "source": [
        "from sklearn.preprocessing import StandardScaler\n",
        "# Scale train/ test predictors based on training data\n",
        "scaler = StandardScaler().fit(trainX)\n",
        "trainX = scaler.transform(trainX)\n",
        "testX = scaler.transform(testX)"
      ],
      "metadata": {
        "id": "oPceADaDrV3p"
      },
      "execution_count": 7,
      "outputs": []
    },
    {
      "cell_type": "code",
      "source": [
        "from sklearn.model_selection import train_test_split\n",
        "# Create train and test sets\n",
        "trainX, valX, trainy, valy = train_test_split(trainX, trainy, test_size=0.25, random_state=1,stratify= trainy)\n"
      ],
      "metadata": {
        "id": "Ute_ihlDrdzy"
      },
      "execution_count": 8,
      "outputs": []
    },
    {
      "cell_type": "code",
      "source": [
        "from numpy import array\n",
        "# Reformat the training data into sequence samples\n",
        "# Source: https://machinelearningmastery.com/how-to-develop-convolutional-neural-network-models-for-time-series-forecasting/\n",
        "\n",
        "def split_sequences(sequences, n_steps):\n",
        "\tX, y = list(), list()\n",
        "\tfor i in range(len(sequences)):\n",
        "\t\t# find the end of this pattern\n",
        "\t\tend_ix = i + n_steps\n",
        "\t\t# check if we are beyond the dataset\n",
        "\t\tif end_ix > len(sequences):\n",
        "\t\t\tbreak\n",
        "\t\t# gather input and output parts of the pattern\n",
        "\t\tseq_x, seq_y = sequences[i:end_ix, :-1], sequences[end_ix-1, -1]\n",
        "\t\tX.append(seq_x)\n",
        "\t\ty.append(seq_y)\n",
        "\treturn array(X), array(y)\n"
      ],
      "metadata": {
        "id": "CymOHwU-rf4L"
      },
      "execution_count": 9,
      "outputs": []
    },
    {
      "cell_type": "code",
      "source": [
        "\n",
        "# Merge train and test X/y data to apply sequence transformation function\n",
        "train_set = np.c_[trainX, trainy]\n",
        "test_set = np.c_[testX, testy]\n",
        "val_set = np.c_[valX, valy]\n",
        "\n",
        "\n",
        "# Apply sequence transformation using time step of 25 for both train and test data\n",
        "# All sensing modalities are recorded at a sampling rate of 50 Hz, which is considered sufficient for capturing human activity.\n",
        "\n",
        "X_train, y_train = split_sequences(train_set, 30)\n",
        "print(X_train.shape, y_train.shape)\n",
        "\n",
        "X_test, y_test = split_sequences(test_set, 30)\n",
        "print(X_test.shape, y_test.shape)\n",
        "\n",
        "X_val, y_val = split_sequences(val_set, 30)\n",
        "print(X_val.shape, y_val.shape)"
      ],
      "metadata": {
        "colab": {
          "base_uri": "https://localhost:8080/"
        },
        "id": "iKPrDBFYr1oN",
        "outputId": "9b221798-9de0-4775-a493-75904f76c23e"
      },
      "execution_count": 12,
      "outputs": [
        {
          "output_type": "stream",
          "name": "stdout",
          "text": [
            "(5485, 30, 561) (5485,)\n",
            "(2918, 30, 561) (2918,)\n",
            "(1809, 30, 561) (1809,)\n"
          ]
        }
      ]
    },
    {
      "cell_type": "code",
      "source": [
        "# Convert output variables to categorical for CNN\n",
        "y_train = to_categorical(y_train.astype(int))\n",
        "print(y_train.shape)\n",
        "\n",
        "y_test = to_categorical(y_test.astype(int))\n",
        "print(y_test.shape)\n",
        "\n",
        "y_val = to_categorical(y_val.astype(int))\n",
        "print(y_val.shape)"
      ],
      "metadata": {
        "colab": {
          "base_uri": "https://localhost:8080/"
        },
        "id": "sul4zpnKOWd5",
        "outputId": "849ebd69-8694-4b93-d1c8-6e5a68bc17e3"
      },
      "execution_count": 13,
      "outputs": [
        {
          "output_type": "stream",
          "name": "stdout",
          "text": [
            "(5485, 6)\n",
            "(2918, 6)\n",
            "(1809, 6)\n"
          ]
        }
      ]
    },
    {
      "cell_type": "markdown",
      "source": [
        "## 4. CNN-LSTM"
      ],
      "metadata": {
        "id": "gi_7ViN5vxpH"
      }
    },
    {
      "cell_type": "code",
      "source": [
        "from keras.models import Model, load_model, Sequential\n",
        "from keras.layers import SimpleRNN, Input, LSTM, RepeatVector, TimeDistributed, Bidirectional, GRU, Dense,Dropout\n",
        "from tensorflow.keras import optimizers"
      ],
      "metadata": {
        "id": "J1M4fqRcw-u4"
      },
      "execution_count": 14,
      "outputs": []
    },
    {
      "cell_type": "code",
      "source": [
        "n_timesteps, n_features, n_outputs = X_train.shape[1], X_train.shape[2], y_train.shape[-1]\n",
        "# n_steps, n_length = 4, 32\n",
        "# X_train2 = X_train.reshape((X_train.shape[0], n_steps, n_length, n_features))\n",
        "# X_val2 = X_val.reshape((X_val.shape[0], n_steps, n_length, n_features))\n",
        "# X_test2 = X_test.reshape((X_test.shape[0], n_steps, n_length, n_features))"
      ],
      "metadata": {
        "id": "kpeXfzvAxvk9"
      },
      "execution_count": 16,
      "outputs": []
    },
    {
      "cell_type": "code",
      "source": [
        "n_timesteps, n_features, n_outputs = X_train.shape[1], X_train.shape[2], y_train.shape[1]\n",
        "model = Sequential()\n",
        "model.add(LSTM(64, return_sequences=True, kernel_initializer='he_normal', input_shape=(n_timesteps,n_features)))\n",
        "model.add(Dropout(0.5))\n",
        "model.add(Conv1D(filters=32, kernel_size=5, activation='relu', input_shape=(n_timesteps,n_features)))\n",
        "model.add(Conv1D(filters=16, kernel_size=5, activation='relu', input_shape=(n_timesteps,n_features)))\n",
        "\n",
        "model.add(Flatten())\n",
        "model.add(Dense(128, activation='relu'))\n",
        "model.add(Dense(n_outputs, activation='softmax'))\n",
        "model.summary()\n",
        "\n",
        "model.compile(loss='categorical_crossentropy', optimizer='adam', metrics=['accuracy'])\n"
      ],
      "metadata": {
        "colab": {
          "base_uri": "https://localhost:8080/"
        },
        "id": "_tkrdSKF4AyB",
        "outputId": "c8b326b7-7ceb-4069-b73f-8f277e526db6"
      },
      "execution_count": 17,
      "outputs": [
        {
          "output_type": "stream",
          "name": "stdout",
          "text": [
            "Model: \"sequential\"\n",
            "_________________________________________________________________\n",
            " Layer (type)                Output Shape              Param #   \n",
            "=================================================================\n",
            " lstm (LSTM)                 (None, 30, 64)            160256    \n",
            "                                                                 \n",
            " dropout (Dropout)           (None, 30, 64)            0         \n",
            "                                                                 \n",
            " conv1d (Conv1D)             (None, 26, 32)            10272     \n",
            "                                                                 \n",
            " conv1d_1 (Conv1D)           (None, 22, 16)            2576      \n",
            "                                                                 \n",
            " flatten (Flatten)           (None, 352)               0         \n",
            "                                                                 \n",
            " dense (Dense)               (None, 128)               45184     \n",
            "                                                                 \n",
            " dense_1 (Dense)             (None, 6)                 774       \n",
            "                                                                 \n",
            "=================================================================\n",
            "Total params: 219062 (855.71 KB)\n",
            "Trainable params: 219062 (855.71 KB)\n",
            "Non-trainable params: 0 (0.00 Byte)\n",
            "_________________________________________________________________\n"
          ]
        }
      ]
    },
    {
      "cell_type": "code",
      "source": [
        "# validation_split = 0.1\n",
        "train_epochs = 20\n",
        "history = model.fit(X_train, y_train, epochs=train_epochs, verbose=True,  validation_data = (X_val, y_val))"
      ],
      "metadata": {
        "colab": {
          "base_uri": "https://localhost:8080/"
        },
        "id": "bMB7B9Wxw0Jg",
        "outputId": "febe79be-496f-4053-d462-2bb001da21be"
      },
      "execution_count": 18,
      "outputs": [
        {
          "output_type": "stream",
          "name": "stdout",
          "text": [
            "Epoch 1/20\n",
            "172/172 [==============================] - 15s 60ms/step - loss: 1.7933 - accuracy: 0.1880 - val_loss: 1.7537 - val_accuracy: 0.2067\n",
            "Epoch 2/20\n",
            "172/172 [==============================] - 10s 60ms/step - loss: 1.3039 - accuracy: 0.3276 - val_loss: 1.1370 - val_accuracy: 0.3472\n",
            "Epoch 3/20\n",
            "172/172 [==============================] - 9s 50ms/step - loss: 1.0722 - accuracy: 0.4246 - val_loss: 0.8687 - val_accuracy: 0.5567\n",
            "Epoch 4/20\n",
            "172/172 [==============================] - 11s 62ms/step - loss: 0.7879 - accuracy: 0.5934 - val_loss: 0.6401 - val_accuracy: 0.6855\n",
            "Epoch 5/20\n",
            "172/172 [==============================] - 8s 48ms/step - loss: 0.5859 - accuracy: 0.7322 - val_loss: 0.4363 - val_accuracy: 0.8391\n",
            "Epoch 6/20\n",
            "172/172 [==============================] - 11s 65ms/step - loss: 0.4625 - accuracy: 0.8088 - val_loss: 0.3359 - val_accuracy: 0.8834\n",
            "Epoch 7/20\n",
            "172/172 [==============================] - 10s 57ms/step - loss: 0.3417 - accuracy: 0.8653 - val_loss: 0.2581 - val_accuracy: 0.9154\n",
            "Epoch 8/20\n",
            "172/172 [==============================] - 10s 56ms/step - loss: 0.2924 - accuracy: 0.8902 - val_loss: 0.2308 - val_accuracy: 0.9243\n",
            "Epoch 9/20\n",
            "172/172 [==============================] - 10s 58ms/step - loss: 0.2618 - accuracy: 0.9025 - val_loss: 0.2130 - val_accuracy: 0.9254\n",
            "Epoch 10/20\n",
            "172/172 [==============================] - 9s 51ms/step - loss: 0.2406 - accuracy: 0.9079 - val_loss: 0.2087 - val_accuracy: 0.9348\n",
            "Epoch 11/20\n",
            "172/172 [==============================] - 11s 65ms/step - loss: 0.1991 - accuracy: 0.9253 - val_loss: 0.2172 - val_accuracy: 0.9221\n",
            "Epoch 12/20\n",
            "172/172 [==============================] - 8s 48ms/step - loss: 0.1822 - accuracy: 0.9324 - val_loss: 0.2116 - val_accuracy: 0.9326\n",
            "Epoch 13/20\n",
            "172/172 [==============================] - 11s 65ms/step - loss: 0.1642 - accuracy: 0.9389 - val_loss: 0.1899 - val_accuracy: 0.9475\n",
            "Epoch 14/20\n",
            "172/172 [==============================] - 9s 50ms/step - loss: 0.1549 - accuracy: 0.9440 - val_loss: 0.1713 - val_accuracy: 0.9414\n",
            "Epoch 15/20\n",
            "172/172 [==============================] - 10s 57ms/step - loss: 0.1508 - accuracy: 0.9462 - val_loss: 0.1661 - val_accuracy: 0.9491\n",
            "Epoch 16/20\n",
            "172/172 [==============================] - 10s 56ms/step - loss: 0.1396 - accuracy: 0.9486 - val_loss: 0.1833 - val_accuracy: 0.9375\n",
            "Epoch 17/20\n",
            "172/172 [==============================] - 9s 53ms/step - loss: 0.1371 - accuracy: 0.9502 - val_loss: 0.1517 - val_accuracy: 0.9497\n",
            "Epoch 18/20\n",
            "172/172 [==============================] - 12s 70ms/step - loss: 0.1211 - accuracy: 0.9566 - val_loss: 0.1410 - val_accuracy: 0.9530\n",
            "Epoch 19/20\n",
            "172/172 [==============================] - 16s 93ms/step - loss: 0.1203 - accuracy: 0.9595 - val_loss: 0.1249 - val_accuracy: 0.9519\n",
            "Epoch 20/20\n",
            "172/172 [==============================] - 9s 51ms/step - loss: 0.1059 - accuracy: 0.9646 - val_loss: 0.1217 - val_accuracy: 0.9547\n"
          ]
        }
      ]
    },
    {
      "cell_type": "markdown",
      "source": [
        "# 3. Evaluation"
      ],
      "metadata": {
        "id": "KO5e3wi6ygJu"
      }
    },
    {
      "cell_type": "code",
      "source": [
        "plt.plot(history.history['loss'])\n",
        "plt.plot(history.history['val_loss'])\n",
        "plt.title('model loss')\n",
        "plt.ylabel('loss')\n",
        "plt.xlabel('epoch')\n",
        "plt.legend(['train', 'Validation'], loc='upper left')\n"
      ],
      "metadata": {
        "colab": {
          "base_uri": "https://localhost:8080/",
          "height": 489
        },
        "outputId": "f13f45b2-36f0-4be6-f16f-31bb1f556e12",
        "id": "Wt4Q2iDRxNW2"
      },
      "execution_count": null,
      "outputs": [
        {
          "output_type": "execute_result",
          "data": {
            "text/plain": [
              "<matplotlib.legend.Legend at 0x7f6f62357940>"
            ]
          },
          "metadata": {},
          "execution_count": 22
        },
        {
          "output_type": "display_data",
          "data": {
            "text/plain": [
              "<Figure size 640x480 with 1 Axes>"
            ],
            "image/png": "[encoded data removed]"
          },
          "metadata": {}
        }
      ]
    },
    {
      "cell_type": "code",
      "source": [
        "plt.plot(history.history['accuracy'])\n",
        "plt.plot(history.history['val_accuracy'])\n",
        "plt.title('model accuracy')\n",
        "plt.ylabel('accuracy')\n",
        "plt.xlabel('epoch')\n",
        "plt.legend(['train', 'Validation'], loc='upper left')\n"
      ],
      "metadata": {
        "colab": {
          "base_uri": "https://localhost:8080/",
          "height": 489
        },
        "id": "9Cf0eOnB4unJ",
        "outputId": "83c7a2fd-a609-4b12-b908-bbe1dc621b37"
      },
      "execution_count": null,
      "outputs": [
        {
          "output_type": "execute_result",
          "data": {
            "text/plain": [
              "<matplotlib.legend.Legend at 0x7f6f66ed7dc0>"
            ]
          },
          "metadata": {},
          "execution_count": 23
        },
        {
          "output_type": "display_data",
          "data": {
            "text/plain": [
              "<Figure size 640x480 with 1 Axes>"
            ],
            "image/png": "[encoded data removed]"
          },
          "metadata": {}
        }
      ]
    },
    {
      "cell_type": "code",
      "source": [
        "# evaluate model\n",
        "test_loss, test_accuracy = model.evaluate(X_val, y_val ,verbose=0)\n",
        "print(\"Accuracy of the CNN model\", test_accuracy)\n",
        "predictions=model.predict(X_val)\n"
      ],
      "metadata": {
        "colab": {
          "base_uri": "https://localhost:8080/"
        },
        "outputId": "5a78fbaf-6e18-44fa-9250-df810ef0e1ae",
        "id": "mHc8yCrWxNW3"
      },
      "execution_count": null,
      "outputs": [
        {
          "output_type": "stream",
          "name": "stdout",
          "text": [
            "Accuracy of the CNN model 0.9452736377716064\n",
            "57/57 [==============================] - 2s 28ms/step\n"
          ]
        }
      ]
    },
    {
      "cell_type": "code",
      "source": [
        "def display_results(testy,predictions,classNames):\n",
        "    y_test=np.argmax(testy, axis=1)\n",
        "    y_scores=np.argmax(predictions, axis=1)\n",
        "    classes = len(classNames)\n",
        "    cm = confusion_matrix(y_test, y_scores)\n",
        "    print(\"**** Confusion Matrix ****\")\n",
        "    print(cm)\n",
        "    print(\"**** Classification Report ****\")\n",
        "    print(classification_report(y_test, y_scores, target_names=classNames))\n",
        "    con = np.zeros((classes,classes))\n",
        "    for x in range(classes):\n",
        "        for y in range(classes):\n",
        "            con[x,y] = cm[x,y] #/np.sum(cm[x,:])\n",
        "\n",
        "    plt.figure(figsize=(10,8))\n",
        "    df = sns.heatmap(con, annot=True, fmt='g', cmap='Blues',xticklabels= classNames , yticklabels= classNames)\n",
        "    plt.xlabel('Predicted')\n",
        "    plt.ylabel('Actual')\n",
        "    plt.show()\n",
        "classNames=[\"1\",\"2\",\"3\",\"4\",\"5\",\"6\"]\n",
        "display_results(y_val,predictions,classNames)\n"
      ],
      "metadata": {
        "colab": {
          "base_uri": "https://localhost:8080/",
          "height": 1000
        },
        "outputId": "9c877ed3-77fd-458e-93f9-a8058b718957",
        "id": "f9iWsOixxNW3"
      },
      "execution_count": null,
      "outputs": [
        {
          "output_type": "stream",
          "name": "stdout",
          "text": [
            "**** Confusion Matrix ****\n",
            "[[283   6  12   0   0   0]\n",
            " [ 16 250   0   0   0   0]\n",
            " [  2   0 238   0   0   0]\n",
            " [  0   0   0 298  20   0]\n",
            " [  0   0   0  43 294   0]\n",
            " [  0   0   0   0   0 347]]\n",
            "**** Classification Report ****\n",
            "              precision    recall  f1-score   support\n",
            "\n",
            "           1       0.94      0.94      0.94       301\n",
            "           2       0.98      0.94      0.96       266\n",
            "           3       0.95      0.99      0.97       240\n",
            "           4       0.87      0.94      0.90       318\n",
            "           5       0.94      0.87      0.90       337\n",
            "           6       1.00      1.00      1.00       347\n",
            "\n",
            "    accuracy                           0.95      1809\n",
            "   macro avg       0.95      0.95      0.95      1809\n",
            "weighted avg       0.95      0.95      0.95      1809\n",
            "\n"
          ]
        },
        {
          "output_type": "display_data",
          "data": {
            "text/plain": [
              "<Figure size 1000x800 with 2 Axes>"
            ],
            "image/png": "[encoded data removed]"
          },
          "metadata": {}
        }
      ]
    },
    {
      "cell_type": "markdown",
      "source": [],
      "metadata": {
        "id": "Tv3GjbuNxrTa"
      }
    }
  ]
}