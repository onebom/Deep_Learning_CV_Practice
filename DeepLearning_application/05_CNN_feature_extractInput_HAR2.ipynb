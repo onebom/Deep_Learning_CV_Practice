{
  "nbformat": 4,
  "nbformat_minor": 0,
  "metadata": {
    "colab": {
      "provenance": [],
      "gpuType": "T4"
    },
    "kernelspec": {
      "name": "python3",
      "display_name": "Python 3"
    },
    "language_info": {
      "name": "python"
    },
    "accelerator": "GPU"
  },
  "cells": [
    {
      "cell_type": "code",
      "execution_count": 1,
      "metadata": {
        "id": "_fuWowayjLwR"
      },
      "outputs": [],
      "source": [
        "import numpy as np\n",
        "from numpy import mean\n",
        "from numpy import std\n",
        "from numpy import dstack\n",
        "from pandas import read_csv\n",
        "from keras.models import Sequential\n",
        "from keras.layers import Dense\n",
        "from keras.layers import Flatten\n",
        "from keras.layers import Dropout\n",
        "from keras.layers import LSTM\n",
        "\n",
        "import tensorflow as tf\n",
        "from keras.layers import Conv1D\n",
        "from keras.layers import MaxPooling1D, BatchNormalization\n",
        "from tensorflow.keras.utils import to_categorical\n",
        "from matplotlib import pyplot\n",
        "import matplotlib.pyplot as plt\n",
        "from keras.utils import plot_model\n",
        "import keras\n",
        "import zipfile\n",
        "from sklearn.metrics import confusion_matrix, classification_report\n",
        "import seaborn as sns\n",
        "import os\n",
        "# set seed to reproduce similar results\n",
        "np.random.seed(0)"
      ]
    },
    {
      "cell_type": "code",
      "source": [
        "from google.colab import drive   # 코랩 드라이브와 연동\n",
        "drive.mount('/content/drive')"
      ],
      "metadata": {
        "colab": {
          "base_uri": "https://localhost:8080/"
        },
        "id": "AkrNDP4gnnC_",
        "outputId": "4923e7bf-793d-4bd0-8b45-45eaed422937"
      },
      "execution_count": 2,
      "outputs": [
        {
          "output_type": "stream",
          "name": "stdout",
          "text": [
            "Mounted at /content/drive\n"
          ]
        }
      ]
    },
    {
      "cell_type": "markdown",
      "source": [
        "#1. Data Load"
      ],
      "metadata": {
        "id": "eI9C3fjuoh2i"
      }
    },
    {
      "cell_type": "code",
      "source": [
        "trainX_df = read_csv('/content/drive/MyDrive/gachon4-2/deeplearning/week4/UCI HAR Dataset/train/X_train.txt',header=None, delim_whitespace=True)\n",
        "trainy_df = read_csv('/content/drive/MyDrive/gachon4-2/deeplearning/week4/UCI HAR Dataset/train/y_train.txt',header=None, delim_whitespace=True)\n",
        "\n",
        "testX_df = read_csv('/content/drive/MyDrive/gachon4-2/deeplearning/week4/UCI HAR Dataset/test/X_test.txt',header=None, delim_whitespace=True)\n",
        "testy_df = read_csv('/content/drive/MyDrive/gachon4-2/deeplearning/week4/UCI HAR Dataset/test/y_test.txt',header=None, delim_whitespace=True)\n"
      ],
      "metadata": {
        "id": "lp2dwe8nl0_t"
      },
      "execution_count": 3,
      "outputs": []
    },
    {
      "cell_type": "code",
      "source": [
        "trainX=np.array(trainX_df)\n",
        "trainy=np.array(trainy_df)-1\n",
        "testX=np.array(testX_df)\n",
        "testy=np.array(testy_df)-1"
      ],
      "metadata": {
        "id": "yHG8aNogi2BM"
      },
      "execution_count": 4,
      "outputs": []
    },
    {
      "cell_type": "code",
      "source": [
        "np.unique(trainy)"
      ],
      "metadata": {
        "colab": {
          "base_uri": "https://localhost:8080/"
        },
        "id": "-YPuphUuscIe",
        "outputId": "5f345d59-30ba-4989-f132-8e7a43fa1d50"
      },
      "execution_count": 5,
      "outputs": [
        {
          "output_type": "execute_result",
          "data": {
            "text/plain": [
              "array([0, 1, 2, 3, 4, 5])"
            ]
          },
          "metadata": {},
          "execution_count": 5
        }
      ]
    },
    {
      "cell_type": "code",
      "source": [
        "print(trainX.shape)\n",
        "print(trainy.shape)\n",
        "print(testX.shape)\n"
      ],
      "metadata": {
        "colab": {
          "base_uri": "https://localhost:8080/"
        },
        "id": "1CP72Vg-nz-m",
        "outputId": "92c386d9-08e5-429f-b90b-0429be312ade"
      },
      "execution_count": 6,
      "outputs": [
        {
          "output_type": "stream",
          "name": "stdout",
          "text": [
            "(7352, 561)\n",
            "(7352, 1)\n",
            "(2947, 561)\n"
          ]
        }
      ]
    },
    {
      "cell_type": "code",
      "source": [
        "from sklearn.preprocessing import StandardScaler\n",
        "# Scale train/ test predictors based on training data\n",
        "scaler = StandardScaler().fit(trainX)\n",
        "trainX = scaler.transform(trainX)\n",
        "testX = scaler.transform(testX)"
      ],
      "metadata": {
        "id": "oPceADaDrV3p"
      },
      "execution_count": 7,
      "outputs": []
    },
    {
      "cell_type": "code",
      "source": [
        "from sklearn.model_selection import train_test_split\n",
        "# Create train and test sets\n",
        "trainX, valX, trainy, valy = train_test_split(trainX, trainy, test_size=0.25, random_state=1,stratify= trainy)\n"
      ],
      "metadata": {
        "id": "Ute_ihlDrdzy"
      },
      "execution_count": 8,
      "outputs": []
    },
    {
      "cell_type": "code",
      "source": [
        "from numpy import array\n",
        "# Reformat the training data into sequence samples\n",
        "# Source: https://machinelearningmastery.com/how-to-develop-convolutional-neural-network-models-for-time-series-forecasting/\n",
        "\n",
        "def split_sequences(sequences, n_steps):\n",
        "\tX, y = list(), list()\n",
        "\tfor i in range(len(sequences)):\n",
        "\t\t# find the end of this pattern\n",
        "\t\tend_ix = i + n_steps\n",
        "\t\t# check if we are beyond the dataset\n",
        "\t\tif end_ix > len(sequences):\n",
        "\t\t\tbreak\n",
        "\t\t# gather input and output parts of the pattern\n",
        "\t\tseq_x, seq_y = sequences[i:end_ix, :-1], sequences[end_ix-1, -1]\n",
        "\t\tX.append(seq_x)\n",
        "\t\ty.append(seq_y)\n",
        "\treturn array(X), array(y)\n"
      ],
      "metadata": {
        "id": "CymOHwU-rf4L"
      },
      "execution_count": 9,
      "outputs": []
    },
    {
      "cell_type": "code",
      "source": [
        "\n",
        "# Merge train and test X/y data to apply sequence transformation function\n",
        "train_set = np.c_[trainX, trainy]\n",
        "test_set = np.c_[testX, testy]\n",
        "val_set = np.c_[valX, valy]\n",
        "\n",
        "\n",
        "# Apply sequence transformation using time step of 25 for both train and test data\n",
        "# All sensing modalities are recorded at a sampling rate of 50 Hz, which is considered sufficient for capturing human activity.\n",
        "\n",
        "X_train, y_train = split_sequences(train_set, 25)\n",
        "print(X_train.shape, y_train.shape)\n",
        "\n",
        "X_test, y_test = split_sequences(test_set, 25)\n",
        "print(X_test.shape, y_test.shape)\n",
        "\n",
        "X_val, y_val = split_sequences(val_set, 25)\n",
        "print(X_val.shape, y_val.shape)"
      ],
      "metadata": {
        "colab": {
          "base_uri": "https://localhost:8080/"
        },
        "id": "iKPrDBFYr1oN",
        "outputId": "3d9a9fd9-ceb2-450a-b17f-753762375c19"
      },
      "execution_count": 10,
      "outputs": [
        {
          "output_type": "stream",
          "name": "stdout",
          "text": [
            "(5490, 25, 561) (5490,)\n",
            "(2923, 25, 561) (2923,)\n",
            "(1814, 25, 561) (1814,)\n"
          ]
        }
      ]
    },
    {
      "cell_type": "code",
      "source": [
        "# Convert output variables to categorical for CNN\n",
        "y_train = to_categorical(y_train.astype(int))\n",
        "print(y_train.shape)\n",
        "\n",
        "y_test = to_categorical(y_test.astype(int))\n",
        "print(y_test.shape)\n",
        "\n",
        "y_val = to_categorical(y_val.astype(int))\n",
        "print(y_val.shape)"
      ],
      "metadata": {
        "colab": {
          "base_uri": "https://localhost:8080/"
        },
        "id": "sul4zpnKOWd5",
        "outputId": "e4f1dcba-a08b-40a4-f8c5-0fb3d0cd59ef"
      },
      "execution_count": 11,
      "outputs": [
        {
          "output_type": "stream",
          "name": "stdout",
          "text": [
            "(5490, 6)\n",
            "(2923, 6)\n",
            "(1814, 6)\n"
          ]
        }
      ]
    },
    {
      "cell_type": "markdown",
      "source": [
        "## 2. CNN for feature 추출한 데이터 Input (split_sequences 반드시 사용)"
      ],
      "metadata": {
        "id": "9077-UsXpr8x"
      }
    },
    {
      "cell_type": "code",
      "source": [
        "\n",
        "n_timesteps, n_features, n_outputs = X_train.shape[1], X_train.shape[2], y_train.shape[-1]\n",
        "\n",
        "# Model 1\n",
        "model = Sequential()\n",
        "model.add(Conv1D(filters=64, kernel_size=3, activation='relu', input_shape=(n_timesteps,n_features)))\n",
        "#model.add(MaxPooling1D(pool_size=2))\n",
        "\n",
        "model.add(Flatten())\n",
        "\n",
        "model.add(Dense(128, activation='relu'))\n",
        "model.add(Dense(n_outputs, activation='softmax'))\n",
        "model.compile(loss='categorical_crossentropy', optimizer='adam', metrics=['accuracy'])\n",
        "model.summary()"
      ],
      "metadata": {
        "colab": {
          "base_uri": "https://localhost:8080/"
        },
        "id": "pWtPYP8fqMsN",
        "outputId": "0b2bcaeb-89aa-4f3e-c6d3-c3f77e0392ee"
      },
      "execution_count": 12,
      "outputs": [
        {
          "output_type": "stream",
          "name": "stdout",
          "text": [
            "Model: \"sequential\"\n",
            "_________________________________________________________________\n",
            " Layer (type)                Output Shape              Param #   \n",
            "=================================================================\n",
            " conv1d (Conv1D)             (None, 23, 64)            107776    \n",
            "                                                                 \n",
            " flatten (Flatten)           (None, 1472)              0         \n",
            "                                                                 \n",
            " dense (Dense)               (None, 128)               188544    \n",
            "                                                                 \n",
            " dense_1 (Dense)             (None, 6)                 774       \n",
            "                                                                 \n",
            "=================================================================\n",
            "Total params: 297094 (1.13 MB)\n",
            "Trainable params: 297094 (1.13 MB)\n",
            "Non-trainable params: 0 (0.00 Byte)\n",
            "_________________________________________________________________\n"
          ]
        }
      ]
    },
    {
      "cell_type": "code",
      "source": [
        "# validation_split = 0.1\n",
        "train_epochs = 50\n",
        "history = model.fit(X_train, y_train, epochs=train_epochs, verbose=True,  validation_data = (X_val, y_val))\n"
      ],
      "metadata": {
        "colab": {
          "base_uri": "https://localhost:8080/"
        },
        "id": "3HoY_JfOqPuF",
        "outputId": "37c4250d-c098-4708-ac47-2ad0bb641ae5"
      },
      "execution_count": null,
      "outputs": [
        {
          "output_type": "stream",
          "name": "stdout",
          "text": [
            "Epoch 1/50\n",
            "172/172 [==============================] - 3s 9ms/step - loss: 1.1250 - accuracy: 0.5020 - val_loss: 0.5488 - val_accuracy: 0.7536\n",
            "Epoch 2/50\n",
            "172/172 [==============================] - 1s 5ms/step - loss: 0.3351 - accuracy: 0.8628 - val_loss: 0.3365 - val_accuracy: 0.8545\n",
            "Epoch 3/50\n",
            "172/172 [==============================] - 1s 5ms/step - loss: 0.1702 - accuracy: 0.9337 - val_loss: 0.2555 - val_accuracy: 0.8969\n",
            "Epoch 4/50\n",
            "172/172 [==============================] - 1s 6ms/step - loss: 0.0999 - accuracy: 0.9643 - val_loss: 0.2937 - val_accuracy: 0.8914\n",
            "Epoch 5/50\n",
            "172/172 [==============================] - 1s 6ms/step - loss: 0.0717 - accuracy: 0.9741 - val_loss: 0.2541 - val_accuracy: 0.9074\n",
            "Epoch 6/50\n",
            "172/172 [==============================] - 1s 6ms/step - loss: 0.0423 - accuracy: 0.9849 - val_loss: 0.2225 - val_accuracy: 0.9239\n",
            "Epoch 7/50\n",
            "172/172 [==============================] - 1s 5ms/step - loss: 0.0233 - accuracy: 0.9916 - val_loss: 0.2175 - val_accuracy: 0.9283\n",
            "Epoch 8/50\n",
            "172/172 [==============================] - 1s 6ms/step - loss: 0.0547 - accuracy: 0.9814 - val_loss: 0.2667 - val_accuracy: 0.9206\n",
            "Epoch 9/50\n",
            "172/172 [==============================] - 1s 5ms/step - loss: 0.1581 - accuracy: 0.9519 - val_loss: 0.3376 - val_accuracy: 0.9030\n",
            "Epoch 10/50\n",
            "172/172 [==============================] - 1s 5ms/step - loss: 0.0402 - accuracy: 0.9849 - val_loss: 0.3728 - val_accuracy: 0.9041\n",
            "Epoch 11/50\n",
            "172/172 [==============================] - 1s 6ms/step - loss: 0.0527 - accuracy: 0.9801 - val_loss: 0.4764 - val_accuracy: 0.8964\n",
            "Epoch 12/50\n",
            "172/172 [==============================] - 1s 7ms/step - loss: 0.0406 - accuracy: 0.9860 - val_loss: 0.3883 - val_accuracy: 0.9112\n",
            "Epoch 13/50\n",
            "172/172 [==============================] - 1s 8ms/step - loss: 0.0369 - accuracy: 0.9880 - val_loss: 0.4112 - val_accuracy: 0.9068\n",
            "Epoch 14/50\n",
            "172/172 [==============================] - 1s 5ms/step - loss: 0.0474 - accuracy: 0.9831 - val_loss: 0.3849 - val_accuracy: 0.9096\n",
            "Epoch 15/50\n",
            "172/172 [==============================] - 1s 6ms/step - loss: 0.0355 - accuracy: 0.9878 - val_loss: 0.4128 - val_accuracy: 0.9135\n",
            "Epoch 16/50\n",
            "172/172 [==============================] - 1s 6ms/step - loss: 0.0337 - accuracy: 0.9894 - val_loss: 0.5146 - val_accuracy: 0.9013\n",
            "Epoch 17/50\n",
            "172/172 [==============================] - 1s 6ms/step - loss: 0.0598 - accuracy: 0.9854 - val_loss: 0.3985 - val_accuracy: 0.9129\n",
            "Epoch 18/50\n",
            "172/172 [==============================] - 1s 5ms/step - loss: 0.0348 - accuracy: 0.9882 - val_loss: 0.3871 - val_accuracy: 0.9239\n",
            "Epoch 19/50\n",
            "172/172 [==============================] - 1s 6ms/step - loss: 0.0104 - accuracy: 0.9969 - val_loss: 0.3293 - val_accuracy: 0.9311\n",
            "Epoch 20/50\n",
            "172/172 [==============================] - 1s 6ms/step - loss: 0.0040 - accuracy: 0.9987 - val_loss: 0.3237 - val_accuracy: 0.9300\n",
            "Epoch 21/50\n",
            "172/172 [==============================] - 1s 6ms/step - loss: 9.7284e-04 - accuracy: 0.9998 - val_loss: 0.3059 - val_accuracy: 0.9383\n",
            "Epoch 22/50\n",
            "172/172 [==============================] - 1s 6ms/step - loss: 1.5427e-04 - accuracy: 1.0000 - val_loss: 0.3066 - val_accuracy: 0.9366\n",
            "Epoch 23/50\n",
            "172/172 [==============================] - 1s 6ms/step - loss: 9.9550e-05 - accuracy: 1.0000 - val_loss: 0.3095 - val_accuracy: 0.9377\n",
            "Epoch 24/50\n",
            "172/172 [==============================] - 1s 7ms/step - loss: 7.9676e-05 - accuracy: 1.0000 - val_loss: 0.3121 - val_accuracy: 0.9372\n",
            "Epoch 25/50\n",
            "172/172 [==============================] - 1s 7ms/step - loss: 6.7406e-05 - accuracy: 1.0000 - val_loss: 0.3141 - val_accuracy: 0.9377\n",
            "Epoch 26/50\n",
            "172/172 [==============================] - 1s 6ms/step - loss: 5.8240e-05 - accuracy: 1.0000 - val_loss: 0.3158 - val_accuracy: 0.9383\n",
            "Epoch 27/50\n",
            "172/172 [==============================] - 1s 5ms/step - loss: 5.1042e-05 - accuracy: 1.0000 - val_loss: 0.3177 - val_accuracy: 0.9377\n",
            "Epoch 28/50\n",
            "172/172 [==============================] - 1s 5ms/step - loss: 4.5426e-05 - accuracy: 1.0000 - val_loss: 0.3191 - val_accuracy: 0.9383\n",
            "Epoch 29/50\n",
            "172/172 [==============================] - 1s 6ms/step - loss: 4.0439e-05 - accuracy: 1.0000 - val_loss: 0.3208 - val_accuracy: 0.9388\n",
            "Epoch 30/50\n",
            "172/172 [==============================] - 1s 5ms/step - loss: 3.6321e-05 - accuracy: 1.0000 - val_loss: 0.3222 - val_accuracy: 0.9383\n",
            "Epoch 31/50\n",
            "172/172 [==============================] - 1s 5ms/step - loss: 3.2866e-05 - accuracy: 1.0000 - val_loss: 0.3240 - val_accuracy: 0.9388\n",
            "Epoch 32/50\n",
            "172/172 [==============================] - 1s 5ms/step - loss: 2.9820e-05 - accuracy: 1.0000 - val_loss: 0.3254 - val_accuracy: 0.9394\n",
            "Epoch 33/50\n",
            "172/172 [==============================] - 1s 6ms/step - loss: 2.7058e-05 - accuracy: 1.0000 - val_loss: 0.3269 - val_accuracy: 0.9399\n",
            "Epoch 34/50\n",
            "172/172 [==============================] - 1s 6ms/step - loss: 2.4689e-05 - accuracy: 1.0000 - val_loss: 0.3285 - val_accuracy: 0.9399\n",
            "Epoch 35/50\n",
            "172/172 [==============================] - 1s 6ms/step - loss: 2.2439e-05 - accuracy: 1.0000 - val_loss: 0.3301 - val_accuracy: 0.9399\n",
            "Epoch 36/50\n",
            "172/172 [==============================] - 1s 8ms/step - loss: 2.0562e-05 - accuracy: 1.0000 - val_loss: 0.3315 - val_accuracy: 0.9399\n",
            "Epoch 37/50\n",
            "172/172 [==============================] - 1s 7ms/step - loss: 1.8834e-05 - accuracy: 1.0000 - val_loss: 0.3329 - val_accuracy: 0.9405\n",
            "Epoch 38/50\n",
            "172/172 [==============================] - 1s 6ms/step - loss: 1.7239e-05 - accuracy: 1.0000 - val_loss: 0.3344 - val_accuracy: 0.9405\n",
            "Epoch 39/50\n",
            "172/172 [==============================] - 1s 6ms/step - loss: 1.5831e-05 - accuracy: 1.0000 - val_loss: 0.3359 - val_accuracy: 0.9405\n",
            "Epoch 40/50\n",
            "172/172 [==============================] - 1s 6ms/step - loss: 1.4530e-05 - accuracy: 1.0000 - val_loss: 0.3377 - val_accuracy: 0.9405\n",
            "Epoch 41/50\n",
            "172/172 [==============================] - 1s 6ms/step - loss: 1.3342e-05 - accuracy: 1.0000 - val_loss: 0.3391 - val_accuracy: 0.9405\n",
            "Epoch 42/50\n",
            "172/172 [==============================] - 1s 6ms/step - loss: 1.2279e-05 - accuracy: 1.0000 - val_loss: 0.3408 - val_accuracy: 0.9405\n",
            "Epoch 43/50\n",
            "172/172 [==============================] - 1s 6ms/step - loss: 1.1327e-05 - accuracy: 1.0000 - val_loss: 0.3422 - val_accuracy: 0.9405\n",
            "Epoch 44/50\n",
            "172/172 [==============================] - 1s 6ms/step - loss: 1.0408e-05 - accuracy: 1.0000 - val_loss: 0.3436 - val_accuracy: 0.9405\n",
            "Epoch 45/50\n",
            "172/172 [==============================] - 1s 5ms/step - loss: 9.5944e-06 - accuracy: 1.0000 - val_loss: 0.3450 - val_accuracy: 0.9410\n",
            "Epoch 46/50\n",
            "172/172 [==============================] - 1s 5ms/step - loss: 8.8033e-06 - accuracy: 1.0000 - val_loss: 0.3467 - val_accuracy: 0.9405\n",
            "Epoch 47/50\n",
            "172/172 [==============================] - 1s 6ms/step - loss: 8.1138e-06 - accuracy: 1.0000 - val_loss: 0.3481 - val_accuracy: 0.9410\n",
            "Epoch 48/50\n",
            "172/172 [==============================] - 1s 7ms/step - loss: 7.4933e-06 - accuracy: 1.0000 - val_loss: 0.3500 - val_accuracy: 0.9410\n",
            "Epoch 49/50\n",
            "172/172 [==============================] - 1s 7ms/step - loss: 6.8973e-06 - accuracy: 1.0000 - val_loss: 0.3514 - val_accuracy: 0.9410\n",
            "Epoch 50/50\n",
            "172/172 [==============================] - 1s 7ms/step - loss: 6.3627e-06 - accuracy: 1.0000 - val_loss: 0.3525 - val_accuracy: 0.9410\n"
          ]
        }
      ]
    },
    {
      "cell_type": "code",
      "source": [
        "plt.plot(history.history['loss'])\n",
        "plt.plot(history.history['val_loss'])\n",
        "plt.title('model loss')\n",
        "plt.ylabel('loss')\n",
        "plt.xlabel('epoch')\n",
        "plt.legend(['train', 'Validation'], loc='upper left')\n"
      ],
      "metadata": {
        "colab": {
          "base_uri": "https://localhost:8080/",
          "height": 489
        },
        "id": "wpPZM3UcrAwQ",
        "outputId": "de8c3a8e-8842-4173-e8f9-b1d6ed9f9477"
      },
      "execution_count": null,
      "outputs": [
        {
          "output_type": "execute_result",
          "data": {
            "text/plain": [
              "<matplotlib.legend.Legend at 0x7f97bd8e6530>"
            ]
          },
          "metadata": {},
          "execution_count": 74
        },
        {
          "output_type": "display_data",
          "data": {
            "text/plain": [
              "<Figure size 640x480 with 1 Axes>"
            ],
            "image/png": "[encoded data removed]"
          },
          "metadata": {}
        }
      ]
    },
    {
      "cell_type": "markdown",
      "source": [
        "# 3. Evaluation"
      ],
      "metadata": {
        "id": "I-3mZlofyWIu"
      }
    },
    {
      "cell_type": "code",
      "source": [
        "# evaluate model\n",
        "test_loss, test_accuracy = model.evaluate(X_test, y_test ,verbose=0)\n",
        "print(\"Accuracy of the CNN model\", test_accuracy)\n",
        "predictions=model.predict(X_test)\n"
      ],
      "metadata": {
        "colab": {
          "base_uri": "https://localhost:8080/"
        },
        "id": "wCivSkPjrEiQ",
        "outputId": "ae7abfe0-30e9-438a-c6c1-6bac3ee1a14f"
      },
      "execution_count": null,
      "outputs": [
        {
          "output_type": "stream",
          "name": "stdout",
          "text": [
            "Accuracy of the CNN model 0.9336298108100891\n",
            "92/92 [==============================] - 0s 2ms/step\n"
          ]
        }
      ]
    },
    {
      "cell_type": "code",
      "source": [
        "def display_results(testy,predictions,classNames):\n",
        "    y_test=np.argmax(testy, axis=1)\n",
        "    y_scores=np.argmax(predictions, axis=1)\n",
        "    classes = len(classNames)\n",
        "    cm = confusion_matrix(y_test, y_scores)\n",
        "    print(\"**** Confusion Matrix ****\")\n",
        "    print(cm)\n",
        "    print(\"**** Classification Report ****\")\n",
        "    print(classification_report(y_test, y_scores, target_names=classNames))\n",
        "    con = np.zeros((classes,classes))\n",
        "    for x in range(classes):\n",
        "        for y in range(classes):\n",
        "            con[x,y] = cm[x,y] #/np.sum(cm[x,:])\n",
        "\n",
        "    plt.figure(figsize=(10,8))\n",
        "    df = sns.heatmap(con, annot=True, fmt='g', cmap='Blues',xticklabels= classNames , yticklabels= classNames)\n",
        "    plt.xlabel('Predicted')\n",
        "    plt.ylabel('Actual')\n",
        "    plt.show()\n",
        "classNames=[\"1\",\"2\",\"3\",\"4\",\"5\",\"6\"]\n",
        "display_results(y_test,predictions,classNames)\n"
      ],
      "metadata": {
        "colab": {
          "base_uri": "https://localhost:8080/",
          "height": 1000
        },
        "id": "xJD9NroQrGhX",
        "outputId": "b3464907-efe6-4701-b905-ee0886ea9982"
      },
      "execution_count": null,
      "outputs": [
        {
          "output_type": "stream",
          "name": "stdout",
          "text": [
            "**** Confusion Matrix ****\n",
            "[[479   3  14   0   0   0]\n",
            " [ 18 438  15   0   0   0]\n",
            " [ 12  23 385   0   0   0]\n",
            " [  0   1   0 452  38   0]\n",
            " [  0   0   0  62 446   0]\n",
            " [  1   1   0   1   5 529]]\n",
            "**** Classification Report ****\n",
            "              precision    recall  f1-score   support\n",
            "\n",
            "           1       0.94      0.97      0.95       496\n",
            "           2       0.94      0.93      0.93       471\n",
            "           3       0.93      0.92      0.92       420\n",
            "           4       0.88      0.92      0.90       491\n",
            "           5       0.91      0.88      0.89       508\n",
            "           6       1.00      0.99      0.99       537\n",
            "\n",
            "    accuracy                           0.93      2923\n",
            "   macro avg       0.93      0.93      0.93      2923\n",
            "weighted avg       0.93      0.93      0.93      2923\n",
            "\n"
          ]
        },
        {
          "output_type": "display_data",
          "data": {
            "text/plain": [
              "<Figure size 1000x800 with 2 Axes>"
            ],
            "image/png": "[encoded data removed]"
          },
          "metadata": {}
        }
      ]
    },
    {
      "cell_type": "code",
      "source": [],
      "metadata": {
        "id": "8L1SrcUD578C"
      },
      "execution_count": null,
      "outputs": []
    }
  ]
}