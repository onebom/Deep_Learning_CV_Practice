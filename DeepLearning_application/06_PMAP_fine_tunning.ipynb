{
  "nbformat": 4,
  "nbformat_minor": 0,
  "metadata": {
    "colab": {
      "provenance": [],
      "gpuType": "T4"
    },
    "kernelspec": {
      "name": "python3",
      "display_name": "Python 3"
    },
    "language_info": {
      "name": "python"
    },
    "accelerator": "GPU"
  },
  "cells": [
    {
      "cell_type": "code",
      "source": [
        "import os\n",
        "import pandas as pd\n",
        "import numpy as np"
      ],
      "metadata": {
        "id": "f5zNJJf1oAsQ"
      },
      "execution_count": null,
      "outputs": []
    },
    {
      "cell_type": "code",
      "execution_count": null,
      "metadata": {
        "colab": {
          "base_uri": "https://localhost:8080/"
        },
        "id": "MrrnZqZqnoX4",
        "outputId": "5d334f95-48a2-48e4-a6fd-8384e4ea46b4"
      },
      "outputs": [
        {
          "output_type": "stream",
          "name": "stdout",
          "text": [
            "Drive already mounted at /content/drive; to attempt to forcibly remount, call drive.mount(\"/content/drive\", force_remount=True).\n"
          ]
        }
      ],
      "source": [
        "from google.colab import drive   # 코랩 드라이브와 연동\n",
        "drive.mount('/content/drive')\n",
        "\n",
        "Data_path= \"/content/drive/MyDrive/gachon4-2/deeplearning\""
      ]
    },
    {
      "cell_type": "markdown",
      "source": [
        "# 1. DataLoad"
      ],
      "metadata": {
        "id": "Lg89ejrH7-g4"
      }
    },
    {
      "cell_type": "code",
      "source": [
        "features = pd.read_csv(os.path.join(Data_path, \"pamap2.csv\"), index_col=0)"
      ],
      "metadata": {
        "id": "w3cF1X9En7rA"
      },
      "execution_count": null,
      "outputs": []
    },
    {
      "cell_type": "code",
      "source": [
        "features"
      ],
      "metadata": {
        "colab": {
          "base_uri": "https://localhost:8080/",
          "height": 443
        },
        "id": "852yJQdpoNp2",
        "outputId": "8308d64d-00e4-497f-8916-310db3865843"
      },
      "execution_count": null,
      "outputs": [
        {
          "output_type": "execute_result",
          "data": {
            "text/plain": [
              "         timestamp  activityID  heartrate  handTemperature  handAcc16_1  \\\n",
              "2932         37.70           1      100.0          30.3750     2.301060   \n",
              "2943         37.81           1      100.0          30.3750     2.246150   \n",
              "2954         37.92           1      100.0          30.3750     2.300000   \n",
              "2965         38.03           1      100.0          30.3750     2.494550   \n",
              "2976         38.14           1      101.0          30.3750     2.716540   \n",
              "...            ...         ...        ...              ...          ...   \n",
              "2818402    3629.66           5      195.0          30.8125     0.565086   \n",
              "2818413    3629.77           5      195.0          30.8125     0.570697   \n",
              "2818423    3629.87           5      195.0          30.8125     0.756704   \n",
              "2818435    3629.99           5      195.0          30.8125     0.530504   \n",
              "2818445    3630.09           5      195.0          30.8125     0.644139   \n",
              "\n",
              "         handAcc16_2  handAcc16_3  handAcc6_1  handAcc6_2  handAcc6_3  ...  \\\n",
              "2932         7.25857      6.09259    2.207200     7.24042     5.95555  ...   \n",
              "2943         7.48180      5.55219    2.251300     7.40595     5.65313  ...   \n",
              "2954         7.10681      6.09309    2.346130     7.46611     6.12103  ...   \n",
              "2965         7.52335      6.17157    2.591060     7.76653     6.27112  ...   \n",
              "2976         8.30596      4.78671    2.595960     7.94641     4.86635  ...   \n",
              "...              ...          ...         ...         ...         ...  ...   \n",
              "2818402      2.59595      9.27677    0.660681     2.70904     9.44024  ...   \n",
              "2818413      2.82459      9.39155    0.495537     2.75557     9.47051  ...   \n",
              "2818423      2.78452      9.31749    0.781122     2.72325     9.40988  ...   \n",
              "2818435      2.67279      9.35297    0.540382     2.87591     9.30409  ...   \n",
              "2818445      2.70986      9.35454    0.630675     2.81489     9.34943  ...   \n",
              "\n",
              "         ankleGyro2  ankleGyro3  ankleMagne1  ankleMagne2  ankleMagne3  \\\n",
              "2932      -0.048878   -0.006328     -60.2040     -37.1225     -57.8847   \n",
              "2943      -0.017912    0.015243     -60.7820     -36.2116     -58.4891   \n",
              "2954      -0.011798    0.011387     -61.4531     -36.2983     -58.4845   \n",
              "2965      -0.009233    0.005823     -62.0065     -36.7217     -58.3608   \n",
              "2976      -0.042562   -0.009289     -60.4311     -37.5412     -59.0013   \n",
              "...             ...         ...          ...          ...          ...   \n",
              "2818402   -0.002287   -0.017737     -17.6912      12.0079      26.5782   \n",
              "2818413   -0.007246    0.007512     -17.6928      12.0076      26.4364   \n",
              "2818423    0.003818    0.017649     -17.9459      11.7619      26.1521   \n",
              "2818435   -0.003649   -0.002610     -18.2103      12.4200      26.5759   \n",
              "2818445   -0.009639    0.006757     -18.0830      12.2841      26.2929   \n",
              "\n",
              "         ankleOrientation1  ankleOrientation2  ankleOrientation3  \\\n",
              "2932              1.000000           0.000000           0.000000   \n",
              "2943              1.000000           0.000000           0.000000   \n",
              "2954              1.000000           0.000000           0.000000   \n",
              "2965              1.000000           0.000000           0.000000   \n",
              "2976              1.000000           0.000000           0.000000   \n",
              "...                    ...                ...                ...   \n",
              "2818402           0.164776           0.798149           0.227263   \n",
              "2818413           0.166393           0.797223           0.228965   \n",
              "2818423           0.166735           0.797039           0.229771   \n",
              "2818435           0.168936           0.795763           0.231222   \n",
              "2818445           0.170868           0.795143           0.232727   \n",
              "\n",
              "         ankleOrientation4  subject_id  \n",
              "2932              0.000000           1  \n",
              "2943              0.000000           1  \n",
              "2954              0.000000           1  \n",
              "2965              0.000000           1  \n",
              "2976              0.000000           1  \n",
              "...                    ...         ...  \n",
              "2818402           0.533065           8  \n",
              "2818413           0.533221           8  \n",
              "2818423           0.533041           8  \n",
              "2818435           0.533628           8  \n",
              "2818445           0.533282           8  \n",
              "\n",
              "[118516 rows x 55 columns]"
            ],
            "text/html": [
              "\n",
              "  <div id=\"df-c2ca4aea-3149-4655-91f4-d835a81be770\" class=\"colab-df-container\">\n",
              "    <div>\n",
              "<style scoped>\n",
              "    .dataframe tbody tr th:only-of-type {\n",
              "        vertical-align: middle;\n",
              "    }\n",
              "\n",
              "    .dataframe tbody tr th {\n",
              "        vertical-align: top;\n",
              "    }\n",
              "\n",
              "    .dataframe thead th {\n",
              "        text-align: right;\n",
              "    }\n",
              "</style>\n",
              "<table border=\"1\" class=\"dataframe\">\n",
              "  <thead>\n",
              "    <tr style=\"text-align: right;\">\n",
              "      <th></th>\n",
              "      <th>timestamp</th>\n",
              "      <th>activityID</th>\n",
              "      <th>heartrate</th>\n",
              "      <th>handTemperature</th>\n",
              "      <th>handAcc16_1</th>\n",
              "      <th>handAcc16_2</th>\n",
              "      <th>handAcc16_3</th>\n",
              "      <th>handAcc6_1</th>\n",
              "      <th>handAcc6_2</th>\n",
              "      <th>handAcc6_3</th>\n",
              "      <th>...</th>\n",
              "      <th>ankleGyro2</th>\n",
              "      <th>ankleGyro3</th>\n",
              "      <th>ankleMagne1</th>\n",
              "      <th>ankleMagne2</th>\n",
              "      <th>ankleMagne3</th>\n",
              "      <th>ankleOrientation1</th>\n",
              "      <th>ankleOrientation2</th>\n",
              "      <th>ankleOrientation3</th>\n",
              "      <th>ankleOrientation4</th>\n",
              "      <th>subject_id</th>\n",
              "    </tr>\n",
              "  </thead>\n",
              "  <tbody>\n",
              "    <tr>\n",
              "      <th>2932</th>\n",
              "      <td>37.70</td>\n",
              "      <td>1</td>\n",
              "      <td>100.0</td>\n",
              "      <td>30.3750</td>\n",
              "      <td>2.301060</td>\n",
              "      <td>7.25857</td>\n",
              "      <td>6.09259</td>\n",
              "      <td>2.207200</td>\n",
              "      <td>7.24042</td>\n",
              "      <td>5.95555</td>\n",
              "      <td>...</td>\n",
              "      <td>-0.048878</td>\n",
              "      <td>-0.006328</td>\n",
              "      <td>-60.2040</td>\n",
              "      <td>-37.1225</td>\n",
              "      <td>-57.8847</td>\n",
              "      <td>1.000000</td>\n",
              "      <td>0.000000</td>\n",
              "      <td>0.000000</td>\n",
              "      <td>0.000000</td>\n",
              "      <td>1</td>\n",
              "    </tr>\n",
              "    <tr>\n",
              "      <th>2943</th>\n",
              "      <td>37.81</td>\n",
              "      <td>1</td>\n",
              "      <td>100.0</td>\n",
              "      <td>30.3750</td>\n",
              "      <td>2.246150</td>\n",
              "      <td>7.48180</td>\n",
              "      <td>5.55219</td>\n",
              "      <td>2.251300</td>\n",
              "      <td>7.40595</td>\n",
              "      <td>5.65313</td>\n",
              "      <td>...</td>\n",
              "      <td>-0.017912</td>\n",
              "      <td>0.015243</td>\n",
              "      <td>-60.7820</td>\n",
              "      <td>-36.2116</td>\n",
              "      <td>-58.4891</td>\n",
              "      <td>1.000000</td>\n",
              "      <td>0.000000</td>\n",
              "      <td>0.000000</td>\n",
              "      <td>0.000000</td>\n",
              "      <td>1</td>\n",
              "    </tr>\n",
              "    <tr>\n",
              "      <th>2954</th>\n",
              "      <td>37.92</td>\n",
              "      <td>1</td>\n",
              "      <td>100.0</td>\n",
              "      <td>30.3750</td>\n",
              "      <td>2.300000</td>\n",
              "      <td>7.10681</td>\n",
              "      <td>6.09309</td>\n",
              "      <td>2.346130</td>\n",
              "      <td>7.46611</td>\n",
              "      <td>6.12103</td>\n",
              "      <td>...</td>\n",
              "      <td>-0.011798</td>\n",
              "      <td>0.011387</td>\n",
              "      <td>-61.4531</td>\n",
              "      <td>-36.2983</td>\n",
              "      <td>-58.4845</td>\n",
              "      <td>1.000000</td>\n",
              "      <td>0.000000</td>\n",
              "      <td>0.000000</td>\n",
              "      <td>0.000000</td>\n",
              "      <td>1</td>\n",
              "    </tr>\n",
              "    <tr>\n",
              "      <th>2965</th>\n",
              "      <td>38.03</td>\n",
              "      <td>1</td>\n",
              "      <td>100.0</td>\n",
              "      <td>30.3750</td>\n",
              "      <td>2.494550</td>\n",
              "      <td>7.52335</td>\n",
              "      <td>6.17157</td>\n",
              "      <td>2.591060</td>\n",
              "      <td>7.76653</td>\n",
              "      <td>6.27112</td>\n",
              "      <td>...</td>\n",
              "      <td>-0.009233</td>\n",
              "      <td>0.005823</td>\n",
              "      <td>-62.0065</td>\n",
              "      <td>-36.7217</td>\n",
              "      <td>-58.3608</td>\n",
              "      <td>1.000000</td>\n",
              "      <td>0.000000</td>\n",
              "      <td>0.000000</td>\n",
              "      <td>0.000000</td>\n",
              "      <td>1</td>\n",
              "    </tr>\n",
              "    <tr>\n",
              "      <th>2976</th>\n",
              "      <td>38.14</td>\n",
              "      <td>1</td>\n",
              "      <td>101.0</td>\n",
              "      <td>30.3750</td>\n",
              "      <td>2.716540</td>\n",
              "      <td>8.30596</td>\n",
              "      <td>4.78671</td>\n",
              "      <td>2.595960</td>\n",
              "      <td>7.94641</td>\n",
              "      <td>4.86635</td>\n",
              "      <td>...</td>\n",
              "      <td>-0.042562</td>\n",
              "      <td>-0.009289</td>\n",
              "      <td>-60.4311</td>\n",
              "      <td>-37.5412</td>\n",
              "      <td>-59.0013</td>\n",
              "      <td>1.000000</td>\n",
              "      <td>0.000000</td>\n",
              "      <td>0.000000</td>\n",
              "      <td>0.000000</td>\n",
              "      <td>1</td>\n",
              "    </tr>\n",
              "    <tr>\n",
              "      <th>...</th>\n",
              "      <td>...</td>\n",
              "      <td>...</td>\n",
              "      <td>...</td>\n",
              "      <td>...</td>\n",
              "      <td>...</td>\n",
              "      <td>...</td>\n",
              "      <td>...</td>\n",
              "      <td>...</td>\n",
              "      <td>...</td>\n",
              "      <td>...</td>\n",
              "      <td>...</td>\n",
              "      <td>...</td>\n",
              "      <td>...</td>\n",
              "      <td>...</td>\n",
              "      <td>...</td>\n",
              "      <td>...</td>\n",
              "      <td>...</td>\n",
              "      <td>...</td>\n",
              "      <td>...</td>\n",
              "      <td>...</td>\n",
              "      <td>...</td>\n",
              "    </tr>\n",
              "    <tr>\n",
              "      <th>2818402</th>\n",
              "      <td>3629.66</td>\n",
              "      <td>5</td>\n",
              "      <td>195.0</td>\n",
              "      <td>30.8125</td>\n",
              "      <td>0.565086</td>\n",
              "      <td>2.59595</td>\n",
              "      <td>9.27677</td>\n",
              "      <td>0.660681</td>\n",
              "      <td>2.70904</td>\n",
              "      <td>9.44024</td>\n",
              "      <td>...</td>\n",
              "      <td>-0.002287</td>\n",
              "      <td>-0.017737</td>\n",
              "      <td>-17.6912</td>\n",
              "      <td>12.0079</td>\n",
              "      <td>26.5782</td>\n",
              "      <td>0.164776</td>\n",
              "      <td>0.798149</td>\n",
              "      <td>0.227263</td>\n",
              "      <td>0.533065</td>\n",
              "      <td>8</td>\n",
              "    </tr>\n",
              "    <tr>\n",
              "      <th>2818413</th>\n",
              "      <td>3629.77</td>\n",
              "      <td>5</td>\n",
              "      <td>195.0</td>\n",
              "      <td>30.8125</td>\n",
              "      <td>0.570697</td>\n",
              "      <td>2.82459</td>\n",
              "      <td>9.39155</td>\n",
              "      <td>0.495537</td>\n",
              "      <td>2.75557</td>\n",
              "      <td>9.47051</td>\n",
              "      <td>...</td>\n",
              "      <td>-0.007246</td>\n",
              "      <td>0.007512</td>\n",
              "      <td>-17.6928</td>\n",
              "      <td>12.0076</td>\n",
              "      <td>26.4364</td>\n",
              "      <td>0.166393</td>\n",
              "      <td>0.797223</td>\n",
              "      <td>0.228965</td>\n",
              "      <td>0.533221</td>\n",
              "      <td>8</td>\n",
              "    </tr>\n",
              "    <tr>\n",
              "      <th>2818423</th>\n",
              "      <td>3629.87</td>\n",
              "      <td>5</td>\n",
              "      <td>195.0</td>\n",
              "      <td>30.8125</td>\n",
              "      <td>0.756704</td>\n",
              "      <td>2.78452</td>\n",
              "      <td>9.31749</td>\n",
              "      <td>0.781122</td>\n",
              "      <td>2.72325</td>\n",
              "      <td>9.40988</td>\n",
              "      <td>...</td>\n",
              "      <td>0.003818</td>\n",
              "      <td>0.017649</td>\n",
              "      <td>-17.9459</td>\n",
              "      <td>11.7619</td>\n",
              "      <td>26.1521</td>\n",
              "      <td>0.166735</td>\n",
              "      <td>0.797039</td>\n",
              "      <td>0.229771</td>\n",
              "      <td>0.533041</td>\n",
              "      <td>8</td>\n",
              "    </tr>\n",
              "    <tr>\n",
              "      <th>2818435</th>\n",
              "      <td>3629.99</td>\n",
              "      <td>5</td>\n",
              "      <td>195.0</td>\n",
              "      <td>30.8125</td>\n",
              "      <td>0.530504</td>\n",
              "      <td>2.67279</td>\n",
              "      <td>9.35297</td>\n",
              "      <td>0.540382</td>\n",
              "      <td>2.87591</td>\n",
              "      <td>9.30409</td>\n",
              "      <td>...</td>\n",
              "      <td>-0.003649</td>\n",
              "      <td>-0.002610</td>\n",
              "      <td>-18.2103</td>\n",
              "      <td>12.4200</td>\n",
              "      <td>26.5759</td>\n",
              "      <td>0.168936</td>\n",
              "      <td>0.795763</td>\n",
              "      <td>0.231222</td>\n",
              "      <td>0.533628</td>\n",
              "      <td>8</td>\n",
              "    </tr>\n",
              "    <tr>\n",
              "      <th>2818445</th>\n",
              "      <td>3630.09</td>\n",
              "      <td>5</td>\n",
              "      <td>195.0</td>\n",
              "      <td>30.8125</td>\n",
              "      <td>0.644139</td>\n",
              "      <td>2.70986</td>\n",
              "      <td>9.35454</td>\n",
              "      <td>0.630675</td>\n",
              "      <td>2.81489</td>\n",
              "      <td>9.34943</td>\n",
              "      <td>...</td>\n",
              "      <td>-0.009639</td>\n",
              "      <td>0.006757</td>\n",
              "      <td>-18.0830</td>\n",
              "      <td>12.2841</td>\n",
              "      <td>26.2929</td>\n",
              "      <td>0.170868</td>\n",
              "      <td>0.795143</td>\n",
              "      <td>0.232727</td>\n",
              "      <td>0.533282</td>\n",
              "      <td>8</td>\n",
              "    </tr>\n",
              "  </tbody>\n",
              "</table>\n",
              "<p>118516 rows × 55 columns</p>\n",
              "</div>\n",
              "    <div class=\"colab-df-buttons\">\n",
              "\n",
              "  <div class=\"colab-df-container\">\n",
              "    <button class=\"colab-df-convert\" onclick=\"convertToInteractive('df-c2ca4aea-3149-4655-91f4-d835a81be770')\"\n",
              "            title=\"Convert this dataframe to an interactive table.\"\n",
              "            style=\"display:none;\">\n",
              "\n",
              "  <svg xmlns=\"http://www.w3.org/2000/svg\" height=\"24px\" viewBox=\"0 -960 960 960\">\n",
              "    <path d=\"M120-120v-720h720v720H120Zm60-500h600v-160H180v160Zm220 220h160v-160H400v160Zm0 220h160v-160H400v160ZM180-400h160v-160H180v160Zm440 0h160v-160H620v160ZM180-180h160v-160H180v160Zm440 0h160v-160H620v160Z\"/>\n",
              "  </svg>\n",
              "    </button>\n",
              "\n",
              "  <style>\n",
              "    .colab-df-container {\n",
              "      display:flex;\n",
              "      gap: 12px;\n",
              "    }\n",
              "\n",
              "    .colab-df-convert {\n",
              "      background-color: #E8F0FE;\n",
              "      border: none;\n",
              "      border-radius: 50%;\n",
              "      cursor: pointer;\n",
              "      display: none;\n",
              "      fill: #1967D2;\n",
              "      height: 32px;\n",
              "      padding: 0 0 0 0;\n",
              "      width: 32px;\n",
              "    }\n",
              "\n",
              "    .colab-df-convert:hover {\n",
              "      background-color: #E2EBFA;\n",
              "      box-shadow: 0px 1px 2px rgba(60, 64, 67, 0.3), 0px 1px 3px 1px rgba(60, 64, 67, 0.15);\n",
              "      fill: #174EA6;\n",
              "    }\n",
              "\n",
              "    .colab-df-buttons div {\n",
              "      margin-bottom: 4px;\n",
              "    }\n",
              "\n",
              "    [theme=dark] .colab-df-convert {\n",
              "      background-color: #3B4455;\n",
              "      fill: #D2E3FC;\n",
              "    }\n",
              "\n",
              "    [theme=dark] .colab-df-convert:hover {\n",
              "      background-color: #434B5C;\n",
              "      box-shadow: 0px 1px 3px 1px rgba(0, 0, 0, 0.15);\n",
              "      filter: drop-shadow(0px 1px 2px rgba(0, 0, 0, 0.3));\n",
              "      fill: #FFFFFF;\n",
              "    }\n",
              "  </style>\n",
              "\n",
              "    <script>\n",
              "      const buttonEl =\n",
              "        document.querySelector('#df-c2ca4aea-3149-4655-91f4-d835a81be770 button.colab-df-convert');\n",
              "      buttonEl.style.display =\n",
              "        google.colab.kernel.accessAllowed ? 'block' : 'none';\n",
              "\n",
              "      async function convertToInteractive(key) {\n",
              "        const element = document.querySelector('#df-c2ca4aea-3149-4655-91f4-d835a81be770');\n",
              "        const dataTable =\n",
              "          await google.colab.kernel.invokeFunction('convertToInteractive',\n",
              "                                                    [key], {});\n",
              "        if (!dataTable) return;\n",
              "\n",
              "        const docLinkHtml = 'Like what you see? Visit the ' +\n",
              "          '<a target=\"_blank\" href=https://colab.research.google.com/notebooks/data_table.ipynb>data table notebook</a>'\n",
              "          + ' to learn more about interactive tables.';\n",
              "        element.innerHTML = '';\n",
              "        dataTable['output_type'] = 'display_data';\n",
              "        await google.colab.output.renderOutput(dataTable, element);\n",
              "        const docLink = document.createElement('div');\n",
              "        docLink.innerHTML = docLinkHtml;\n",
              "        element.appendChild(docLink);\n",
              "      }\n",
              "    </script>\n",
              "  </div>\n",
              "\n",
              "\n",
              "<div id=\"df-b78bf31a-db8b-4604-8860-183dd8ae20dc\">\n",
              "  <button class=\"colab-df-quickchart\" onclick=\"quickchart('df-b78bf31a-db8b-4604-8860-183dd8ae20dc')\"\n",
              "            title=\"Suggest charts.\"\n",
              "            style=\"display:none;\">\n",
              "\n",
              "<svg xmlns=\"http://www.w3.org/2000/svg\" height=\"24px\"viewBox=\"0 0 24 24\"\n",
              "     width=\"24px\">\n",
              "    <g>\n",
              "        <path d=\"M19 3H5c-1.1 0-2 .9-2 2v14c0 1.1.9 2 2 2h14c1.1 0 2-.9 2-2V5c0-1.1-.9-2-2-2zM9 17H7v-7h2v7zm4 0h-2V7h2v10zm4 0h-2v-4h2v4z\"/>\n",
              "    </g>\n",
              "</svg>\n",
              "  </button>\n",
              "\n",
              "<style>\n",
              "  .colab-df-quickchart {\n",
              "      --bg-color: #E8F0FE;\n",
              "      --fill-color: #1967D2;\n",
              "      --hover-bg-color: #E2EBFA;\n",
              "      --hover-fill-color: #174EA6;\n",
              "      --disabled-fill-color: #AAA;\n",
              "      --disabled-bg-color: #DDD;\n",
              "  }\n",
              "\n",
              "  [theme=dark] .colab-df-quickchart {\n",
              "      --bg-color: #3B4455;\n",
              "      --fill-color: #D2E3FC;\n",
              "      --hover-bg-color: #434B5C;\n",
              "      --hover-fill-color: #FFFFFF;\n",
              "      --disabled-bg-color: #3B4455;\n",
              "      --disabled-fill-color: #666;\n",
              "  }\n",
              "\n",
              "  .colab-df-quickchart {\n",
              "    background-color: var(--bg-color);\n",
              "    border: none;\n",
              "    border-radius: 50%;\n",
              "    cursor: pointer;\n",
              "    display: none;\n",
              "    fill: var(--fill-color);\n",
              "    height: 32px;\n",
              "    padding: 0;\n",
              "    width: 32px;\n",
              "  }\n",
              "\n",
              "  .colab-df-quickchart:hover {\n",
              "    background-color: var(--hover-bg-color);\n",
              "    box-shadow: 0 1px 2px rgba(60, 64, 67, 0.3), 0 1px 3px 1px rgba(60, 64, 67, 0.15);\n",
              "    fill: var(--button-hover-fill-color);\n",
              "  }\n",
              "\n",
              "  .colab-df-quickchart-complete:disabled,\n",
              "  .colab-df-quickchart-complete:disabled:hover {\n",
              "    background-color: var(--disabled-bg-color);\n",
              "    fill: var(--disabled-fill-color);\n",
              "    box-shadow: none;\n",
              "  }\n",
              "\n",
              "  .colab-df-spinner {\n",
              "    border: 2px solid var(--fill-color);\n",
              "    border-color: transparent;\n",
              "    border-bottom-color: var(--fill-color);\n",
              "    animation:\n",
              "      spin 1s steps(1) infinite;\n",
              "  }\n",
              "\n",
              "  @keyframes spin {\n",
              "    0% {\n",
              "      border-color: transparent;\n",
              "      border-bottom-color: var(--fill-color);\n",
              "      border-left-color: var(--fill-color);\n",
              "    }\n",
              "    20% {\n",
              "      border-color: transparent;\n",
              "      border-left-color: var(--fill-color);\n",
              "      border-top-color: var(--fill-color);\n",
              "    }\n",
              "    30% {\n",
              "      border-color: transparent;\n",
              "      border-left-color: var(--fill-color);\n",
              "      border-top-color: var(--fill-color);\n",
              "      border-right-color: var(--fill-color);\n",
              "    }\n",
              "    40% {\n",
              "      border-color: transparent;\n",
              "      border-right-color: var(--fill-color);\n",
              "      border-top-color: var(--fill-color);\n",
              "    }\n",
              "    60% {\n",
              "      border-color: transparent;\n",
              "      border-right-color: var(--fill-color);\n",
              "    }\n",
              "    80% {\n",
              "      border-color: transparent;\n",
              "      border-right-color: var(--fill-color);\n",
              "      border-bottom-color: var(--fill-color);\n",
              "    }\n",
              "    90% {\n",
              "      border-color: transparent;\n",
              "      border-bottom-color: var(--fill-color);\n",
              "    }\n",
              "  }\n",
              "</style>\n",
              "\n",
              "  <script>\n",
              "    async function quickchart(key) {\n",
              "      const quickchartButtonEl =\n",
              "        document.querySelector('#' + key + ' button');\n",
              "      quickchartButtonEl.disabled = true;  // To prevent multiple clicks.\n",
              "      quickchartButtonEl.classList.add('colab-df-spinner');\n",
              "      try {\n",
              "        const charts = await google.colab.kernel.invokeFunction(\n",
              "            'suggestCharts', [key], {});\n",
              "      } catch (error) {\n",
              "        console.error('Error during call to suggestCharts:', error);\n",
              "      }\n",
              "      quickchartButtonEl.classList.remove('colab-df-spinner');\n",
              "      quickchartButtonEl.classList.add('colab-df-quickchart-complete');\n",
              "    }\n",
              "    (() => {\n",
              "      let quickchartButtonEl =\n",
              "        document.querySelector('#df-b78bf31a-db8b-4604-8860-183dd8ae20dc button');\n",
              "      quickchartButtonEl.style.display =\n",
              "        google.colab.kernel.accessAllowed ? 'block' : 'none';\n",
              "    })();\n",
              "  </script>\n",
              "</div>\n",
              "    </div>\n",
              "  </div>\n"
            ]
          },
          "metadata": {},
          "execution_count": 7
        }
      ]
    },
    {
      "cell_type": "code",
      "source": [
        "features.columns"
      ],
      "metadata": {
        "colab": {
          "base_uri": "https://localhost:8080/"
        },
        "id": "OKA2U55Yq0ZI",
        "outputId": "86ab8f8c-8cf2-47c4-be18-e373c4929698"
      },
      "execution_count": null,
      "outputs": [
        {
          "output_type": "execute_result",
          "data": {
            "text/plain": [
              "Index(['timestamp', 'activityID', 'heartrate', 'handTemperature',\n",
              "       'handAcc16_1', 'handAcc16_2', 'handAcc16_3', 'handAcc6_1', 'handAcc6_2',\n",
              "       'handAcc6_3', 'handGyro1', 'handGyro2', 'handGyro3', 'handMagne1',\n",
              "       'handMagne2', 'handMagne3', 'handOrientation1', 'handOrientation2',\n",
              "       'handOrientation3', 'handOrientation4', 'chestTemperature',\n",
              "       'chestAcc16_1', 'chestAcc16_2', 'chestAcc16_3', 'chestAcc6_1',\n",
              "       'chestAcc6_2', 'chestAcc6_3', 'chestGyro1', 'chestGyro2', 'chestGyro3',\n",
              "       'chestMagne1', 'chestMagne2', 'chestMagne3', 'chestOrientation1',\n",
              "       'chestOrientation2', 'chestOrientation3', 'chestOrientation4',\n",
              "       'ankleTemperature', 'ankleAcc16_1', 'ankleAcc16_2', 'ankleAcc16_3',\n",
              "       'ankleAcc6_1', 'ankleAcc6_2', 'ankleAcc6_3', 'ankleGyro1', 'ankleGyro2',\n",
              "       'ankleGyro3', 'ankleMagne1', 'ankleMagne2', 'ankleMagne3',\n",
              "       'ankleOrientation1', 'ankleOrientation2', 'ankleOrientation3',\n",
              "       'ankleOrientation4', 'subject_id'],\n",
              "      dtype='object')"
            ]
          },
          "metadata": {},
          "execution_count": 8
        }
      ]
    },
    {
      "cell_type": "code",
      "source": [
        "hand_c_lst=[]\n",
        "chest_c_lst=[]\n",
        "for c in features.columns:\n",
        "  if \"handAcc\" in c or \"handGyro\" in c or \"handMagne\" in c:\n",
        "    hand_c_lst.append(c)\n",
        "  elif \"chestAcc\" in c or \"chestGyro\" in c or \"chestMagne\" in c:\n",
        "    chest_c_lst.append(c)\n",
        "\n",
        "print(hand_c_lst)\n",
        "print(chest_c_lst)\n",
        "\n",
        "print(len(hand_c_lst))\n",
        "print(len(chest_c_lst))"
      ],
      "metadata": {
        "colab": {
          "base_uri": "https://localhost:8080/"
        },
        "id": "6iPV_F1joPrQ",
        "outputId": "0cf70fba-5c72-496a-d913-75d81b36323a"
      },
      "execution_count": null,
      "outputs": [
        {
          "output_type": "stream",
          "name": "stdout",
          "text": [
            "['handAcc16_1', 'handAcc16_2', 'handAcc16_3', 'handAcc6_1', 'handAcc6_2', 'handAcc6_3', 'handGyro1', 'handGyro2', 'handGyro3', 'handMagne1', 'handMagne2', 'handMagne3']\n",
            "['chestAcc16_1', 'chestAcc16_2', 'chestAcc16_3', 'chestAcc6_1', 'chestAcc6_2', 'chestAcc6_3', 'chestGyro1', 'chestGyro2', 'chestGyro3', 'chestMagne1', 'chestMagne2', 'chestMagne3']\n",
            "12\n",
            "12\n"
          ]
        }
      ]
    },
    {
      "cell_type": "code",
      "source": [
        "hand_X= features[hand_c_lst]\n",
        "hand_y=features[\"activityID\"] - 1\n",
        "chest_X= features[chest_c_lst]\n",
        "chest_y=features[\"activityID\"] - 1"
      ],
      "metadata": {
        "id": "-c_Lks1Zob5m"
      },
      "execution_count": null,
      "outputs": []
    },
    {
      "cell_type": "code",
      "source": [
        "from sklearn.preprocessing import StandardScaler\n",
        "\n",
        "scaler = StandardScaler()\n",
        "hand_x = scaler.fit_transform(hand_X)\n",
        "chest_x = scaler.fit_transform(chest_X)\n",
        "print(hand_x.shape)\n",
        "print(chest_x.shape)"
      ],
      "metadata": {
        "colab": {
          "base_uri": "https://localhost:8080/"
        },
        "id": "v3A_RN9bqihC",
        "outputId": "5f7c8b9b-9dee-45fb-beaa-e34fbf2849ac"
      },
      "execution_count": null,
      "outputs": [
        {
          "output_type": "stream",
          "name": "stdout",
          "text": [
            "(118516, 12)\n",
            "(118516, 12)\n"
          ]
        }
      ]
    },
    {
      "cell_type": "code",
      "source": [
        "from sklearn.model_selection import train_test_split\n",
        "# Create train and test sets\n",
        "hx_train, hx_test, hy_train, hy_test = train_test_split(hand_x, hand_y, test_size=0.25, random_state=1,stratify= hand_y)\n",
        "cx_train, cx_test, cy_train, cy_test = train_test_split(chest_x, chest_y, test_size=0.25, random_state=1,stratify= hand_y)\n"
      ],
      "metadata": {
        "id": "Fo_8ZK6xrQ-u"
      },
      "execution_count": null,
      "outputs": []
    },
    {
      "cell_type": "code",
      "source": [
        "print(hx_train.shape, hx_test.shape)\n",
        "print(hy_train.shape)"
      ],
      "metadata": {
        "colab": {
          "base_uri": "https://localhost:8080/"
        },
        "id": "uNiQEt26sA83",
        "outputId": "792c6370-b972-40db-8881-2e471aae812b"
      },
      "execution_count": null,
      "outputs": [
        {
          "output_type": "stream",
          "name": "stdout",
          "text": [
            "(88887, 12) (29629, 12)\n",
            "(88887,)\n"
          ]
        }
      ]
    },
    {
      "cell_type": "code",
      "source": [
        "print(len(hx_train))"
      ],
      "metadata": {
        "colab": {
          "base_uri": "https://localhost:8080/"
        },
        "id": "U13JYFosuYIw",
        "outputId": "e218d001-228d-4d3f-a55c-34cf3a2fbe1f"
      },
      "execution_count": null,
      "outputs": [
        {
          "output_type": "stream",
          "name": "stdout",
          "text": [
            "88887\n"
          ]
        }
      ]
    },
    {
      "cell_type": "code",
      "source": [
        "from numpy import array\n",
        "# Reformat the training data into sequence samples\n",
        "# Source: https://machinelearningmastery.com/how-to-develop-convolutional-neural-network-models-for-time-series-forecasting/\n",
        "\n",
        "def split_sequences(sequences, n_steps):\n",
        "\tX, y = list(), list()\n",
        "\tfor i in range(len(sequences)):\n",
        "\t\t# find the end of this pattern\n",
        "\t\tend_ix = i + n_steps\n",
        "\t\t# check if we are beyond the dataset\n",
        "\t\tif end_ix > len(sequences):\n",
        "\t\t\tbreak\n",
        "\t\t# gather input and output parts of the pattern\n",
        "\t\tseq_x, seq_y = sequences[i:end_ix, :-1], sequences[end_ix-1, -1]\n",
        "\t\tX.append(seq_x)\n",
        "\t\ty.append(seq_y)\n",
        "\treturn array(X), array(y)\n"
      ],
      "metadata": {
        "id": "CQPPseC2s5R7"
      },
      "execution_count": null,
      "outputs": []
    },
    {
      "cell_type": "code",
      "source": [
        "# Merge train and test X/y data to apply sequence transformation function\n",
        "train_set = np.c_[hx_train, hy_train]\n",
        "test_set = np.c_[hx_test, hy_test]\n",
        "\n",
        "# Apply sequence transformation using time step of 25 for both train and test data\n",
        "# All sensing modalities are recorded at a sampling rate of 50 Hz, which is considered sufficient for capturing human activity.\n",
        "timesteps=40\n",
        "\n",
        "X_train, y_train = split_sequences(train_set, timesteps)\n",
        "print(X_train.shape, y_train.shape)\n",
        "\n",
        "X_test, y_test = split_sequences(test_set, timesteps)\n",
        "print(X_test.shape, y_test.shape)\n"
      ],
      "metadata": {
        "colab": {
          "base_uri": "https://localhost:8080/"
        },
        "id": "dYVwtQRitGro",
        "outputId": "fc5a1ad8-fce9-44eb-b957-393241459649"
      },
      "execution_count": null,
      "outputs": [
        {
          "output_type": "stream",
          "name": "stdout",
          "text": [
            "(88848, 40, 12) (88848,)\n",
            "(29590, 40, 12) (29590,)\n"
          ]
        }
      ]
    },
    {
      "cell_type": "code",
      "source": [
        "from tensorflow.keras.utils import to_categorical\n",
        "\n",
        "# Convert output variables to categorical for CNN\n",
        "y_train = to_categorical(y_train.astype(int))\n",
        "print(y_train.shape)\n",
        "y_test = to_categorical(y_test.astype(int))\n",
        "print(y_test.shape)"
      ],
      "metadata": {
        "colab": {
          "base_uri": "https://localhost:8080/"
        },
        "id": "N_8gsdDuvaXk",
        "outputId": "f2d28a0c-9a78-4fd1-e11b-306eafab7ec8"
      },
      "execution_count": null,
      "outputs": [
        {
          "output_type": "stream",
          "name": "stdout",
          "text": [
            "(88848, 13)\n",
            "(29590, 13)\n"
          ]
        }
      ]
    },
    {
      "cell_type": "code",
      "source": [
        "# Merge train and test X/y data to apply sequence transformation function\n",
        "train_set = np.c_[cx_train, cy_train]\n",
        "test_set = np.c_[cx_test, cy_test]\n",
        "\n",
        "# Apply sequence transformation using time step of 25 for both train and test data\n",
        "# All sensing modalities are recorded at a sampling rate of 50 Hz, which is considered sufficient for capturing human activity.\n",
        "cX_train, cy_train = split_sequences(train_set, timesteps)\n",
        "print(cX_train.shape, cy_train.shape)\n",
        "\n",
        "cX_test, cy_test = split_sequences(test_set, timesteps)\n",
        "print(cX_test.shape, cy_test.shape)\n"
      ],
      "metadata": {
        "colab": {
          "base_uri": "https://localhost:8080/"
        },
        "outputId": "3dc0bf10-e9eb-4644-c460-209bc79d8554",
        "id": "LXE0c8cewPSO"
      },
      "execution_count": null,
      "outputs": [
        {
          "output_type": "stream",
          "name": "stdout",
          "text": [
            "(88848, 40, 12) (88848,)\n",
            "(29590, 40, 12) (29590,)\n"
          ]
        }
      ]
    },
    {
      "cell_type": "code",
      "source": [
        "from tensorflow.keras.utils import to_categorical\n",
        "\n",
        "# Convert output variables to categorical for CNN\n",
        "cy_train = to_categorical(cy_train.astype(int))\n",
        "print(cy_train.shape)\n",
        "cy_test = to_categorical(cy_test.astype(int))\n",
        "print(cy_test.shape)"
      ],
      "metadata": {
        "colab": {
          "base_uri": "https://localhost:8080/"
        },
        "outputId": "02f13a8d-ed60-49c1-d7ec-ff7f494baceb",
        "id": "JZqRaIP9wPSP"
      },
      "execution_count": null,
      "outputs": [
        {
          "output_type": "stream",
          "name": "stdout",
          "text": [
            "(88848, 13)\n",
            "(29590, 13)\n"
          ]
        }
      ]
    },
    {
      "cell_type": "markdown",
      "source": [
        "# 2. LSTM-CNN Modeling"
      ],
      "metadata": {
        "id": "VuYf6V7c8FsR"
      }
    },
    {
      "cell_type": "code",
      "source": [
        "import numpy as np\n",
        "import tensorflow as tf\n",
        "from tensorflow import keras\n",
        "from tensorflow.keras.layers import Bidirectional, LSTM, Dropout, Dense, Conv1D,Flatten\n",
        "from tensorflow.keras.models import Sequential\n",
        "import pandas as pd\n",
        "import seaborn as sns\n",
        "from pylab import rcParams\n",
        "import matplotlib.pyplot as plt\n",
        "from matplotlib import rc\n",
        "from pandas.plotting import register_matplotlib_converters"
      ],
      "metadata": {
        "id": "R_L1mvghupUD"
      },
      "execution_count": null,
      "outputs": []
    },
    {
      "cell_type": "code",
      "source": [
        "n_timesteps, n_features, n_outputs = X_train.shape[1], X_train.shape[2], y_train.shape[-1]\n",
        "\n",
        "model = Sequential()\n",
        "model.add(LSTM(64, return_sequences=True, kernel_initializer='he_normal', input_shape=(n_timesteps,n_features)))\n",
        "model.add(Dropout(0.5))\n",
        "model.add(Conv1D(filters=32, kernel_size=5, activation='relu', input_shape=(n_timesteps,n_features)))\n",
        "model.add(Conv1D(filters=16, kernel_size=5, activation='relu', input_shape=(n_timesteps,n_features)))\n",
        "\n",
        "model.add(Flatten())\n",
        "model.add(Dense(128, activation='relu'))\n",
        "model.add(Dense(n_outputs, activation='softmax'))\n",
        "model.summary()\n",
        "\n",
        "model.compile(loss='categorical_crossentropy', optimizer='adam', metrics=['accuracy'])\n"
      ],
      "metadata": {
        "colab": {
          "base_uri": "https://localhost:8080/"
        },
        "id": "piJF2WZasK7W",
        "outputId": "926423bf-ef5d-44b7-eb53-4b4f3345100b"
      },
      "execution_count": null,
      "outputs": [
        {
          "output_type": "stream",
          "name": "stdout",
          "text": [
            "Model: \"sequential\"\n",
            "_________________________________________________________________\n",
            " Layer (type)                Output Shape              Param #   \n",
            "=================================================================\n",
            " lstm (LSTM)                 (None, 40, 64)            19712     \n",
            "                                                                 \n",
            " dropout (Dropout)           (None, 40, 64)            0         \n",
            "                                                                 \n",
            " conv1d (Conv1D)             (None, 36, 32)            10272     \n",
            "                                                                 \n",
            " conv1d_1 (Conv1D)           (None, 32, 16)            2576      \n",
            "                                                                 \n",
            " flatten (Flatten)           (None, 512)               0         \n",
            "                                                                 \n",
            " dense (Dense)               (None, 128)               65664     \n",
            "                                                                 \n",
            " dense_1 (Dense)             (None, 13)                1677      \n",
            "                                                                 \n",
            "=================================================================\n",
            "Total params: 99901 (390.24 KB)\n",
            "Trainable params: 99901 (390.24 KB)\n",
            "Non-trainable params: 0 (0.00 Byte)\n",
            "_________________________________________________________________\n"
          ]
        }
      ]
    },
    {
      "cell_type": "code",
      "source": [
        "from tensorflow.keras.optimizers import Adam\n",
        "model.compile(optimizer=Adam(learning_rate = 0.001), loss = 'categorical_crossentropy', metrics = ['accuracy'])\n"
      ],
      "metadata": {
        "id": "iy_hIyLBupwH"
      },
      "execution_count": null,
      "outputs": []
    },
    {
      "cell_type": "markdown",
      "source": [
        "## 2-1. Hand dataset Training"
      ],
      "metadata": {
        "id": "ogw3tjjn9Fx1"
      }
    },
    {
      "cell_type": "code",
      "source": [
        "history = model.fit(X_train, y_train, epochs = 40, batch_size = 128, validation_split = 0.1, shuffle = True)"
      ],
      "metadata": {
        "colab": {
          "base_uri": "https://localhost:8080/"
        },
        "id": "_87aZvtZviRB",
        "outputId": "53bd8288-a187-4d09-ba35-836a5c99f4a9"
      },
      "execution_count": null,
      "outputs": [
        {
          "output_type": "stream",
          "name": "stdout",
          "text": [
            "Epoch 1/40\n",
            "625/625 [==============================] - 5s 8ms/step - loss: 1.0871 - accuracy: 0.6375 - val_loss: 0.9544 - val_accuracy: 0.6895\n",
            "Epoch 2/40\n",
            "625/625 [==============================] - 6s 9ms/step - loss: 1.0103 - accuracy: 0.6642 - val_loss: 0.8934 - val_accuracy: 0.7056\n",
            "Epoch 3/40\n",
            "625/625 [==============================] - 6s 9ms/step - loss: 0.9578 - accuracy: 0.6836 - val_loss: 0.8460 - val_accuracy: 0.7184\n",
            "Epoch 4/40\n",
            "625/625 [==============================] - 5s 8ms/step - loss: 0.9179 - accuracy: 0.6983 - val_loss: 0.8237 - val_accuracy: 0.7312\n",
            "Epoch 5/40\n",
            "625/625 [==============================] - 6s 10ms/step - loss: 0.8890 - accuracy: 0.7080 - val_loss: 0.7965 - val_accuracy: 0.7407\n",
            "Epoch 6/40\n",
            "625/625 [==============================] - 5s 8ms/step - loss: 0.8687 - accuracy: 0.7138 - val_loss: 0.7829 - val_accuracy: 0.7463\n",
            "Epoch 7/40\n",
            "625/625 [==============================] - 5s 8ms/step - loss: 0.8517 - accuracy: 0.7198 - val_loss: 0.7654 - val_accuracy: 0.7501\n",
            "Epoch 8/40\n",
            "625/625 [==============================] - 6s 9ms/step - loss: 0.8338 - accuracy: 0.7260 - val_loss: 0.7563 - val_accuracy: 0.7490\n",
            "Epoch 9/40\n",
            "625/625 [==============================] - 5s 8ms/step - loss: 0.8196 - accuracy: 0.7301 - val_loss: 0.7494 - val_accuracy: 0.7544\n",
            "Epoch 10/40\n",
            "625/625 [==============================] - 6s 9ms/step - loss: 0.8050 - accuracy: 0.7346 - val_loss: 0.7509 - val_accuracy: 0.7534\n",
            "Epoch 11/40\n",
            "625/625 [==============================] - 6s 10ms/step - loss: 0.7916 - accuracy: 0.7380 - val_loss: 0.7329 - val_accuracy: 0.7632\n",
            "Epoch 12/40\n",
            "625/625 [==============================] - 5s 8ms/step - loss: 0.7852 - accuracy: 0.7403 - val_loss: 0.7336 - val_accuracy: 0.7632\n",
            "Epoch 13/40\n",
            "625/625 [==============================] - 6s 10ms/step - loss: 0.7700 - accuracy: 0.7440 - val_loss: 0.7284 - val_accuracy: 0.7645\n",
            "Epoch 14/40\n",
            "625/625 [==============================] - 5s 8ms/step - loss: 0.7594 - accuracy: 0.7482 - val_loss: 0.7269 - val_accuracy: 0.7633\n",
            "Epoch 15/40\n",
            "625/625 [==============================] - 6s 9ms/step - loss: 0.7520 - accuracy: 0.7500 - val_loss: 0.7261 - val_accuracy: 0.7629\n",
            "Epoch 16/40\n",
            "625/625 [==============================] - 5s 9ms/step - loss: 0.7403 - accuracy: 0.7536 - val_loss: 0.7276 - val_accuracy: 0.7680\n",
            "Epoch 17/40\n",
            "625/625 [==============================] - 5s 8ms/step - loss: 0.7339 - accuracy: 0.7560 - val_loss: 0.7243 - val_accuracy: 0.7658\n",
            "Epoch 18/40\n",
            "625/625 [==============================] - 7s 11ms/step - loss: 0.7230 - accuracy: 0.7584 - val_loss: 0.7273 - val_accuracy: 0.7652\n",
            "Epoch 19/40\n",
            "625/625 [==============================] - 5s 8ms/step - loss: 0.7211 - accuracy: 0.7589 - val_loss: 0.7321 - val_accuracy: 0.7625\n",
            "Epoch 20/40\n",
            "625/625 [==============================] - 6s 9ms/step - loss: 0.7101 - accuracy: 0.7628 - val_loss: 0.7283 - val_accuracy: 0.7657\n",
            "Epoch 21/40\n",
            "625/625 [==============================] - 6s 9ms/step - loss: 0.7030 - accuracy: 0.7650 - val_loss: 0.7343 - val_accuracy: 0.7643\n",
            "Epoch 22/40\n",
            "625/625 [==============================] - 5s 8ms/step - loss: 0.6979 - accuracy: 0.7669 - val_loss: 0.7281 - val_accuracy: 0.7634\n",
            "Epoch 23/40\n",
            "625/625 [==============================] - 6s 10ms/step - loss: 0.6913 - accuracy: 0.7695 - val_loss: 0.7410 - val_accuracy: 0.7642\n",
            "Epoch 24/40\n",
            "625/625 [==============================] - 5s 8ms/step - loss: 0.6813 - accuracy: 0.7716 - val_loss: 0.7249 - val_accuracy: 0.7675\n",
            "Epoch 25/40\n",
            "625/625 [==============================] - 6s 9ms/step - loss: 0.6821 - accuracy: 0.7698 - val_loss: 0.7262 - val_accuracy: 0.7710\n",
            "Epoch 26/40\n",
            "625/625 [==============================] - 6s 9ms/step - loss: 0.6712 - accuracy: 0.7744 - val_loss: 0.7441 - val_accuracy: 0.7634\n",
            "Epoch 27/40\n",
            "625/625 [==============================] - 5s 8ms/step - loss: 0.6667 - accuracy: 0.7755 - val_loss: 0.7361 - val_accuracy: 0.7665\n",
            "Epoch 28/40\n",
            "625/625 [==============================] - 7s 10ms/step - loss: 0.6572 - accuracy: 0.7772 - val_loss: 0.7281 - val_accuracy: 0.7684\n",
            "Epoch 29/40\n",
            "625/625 [==============================] - 6s 10ms/step - loss: 0.6521 - accuracy: 0.7788 - val_loss: 0.7259 - val_accuracy: 0.7697\n",
            "Epoch 30/40\n",
            "625/625 [==============================] - 5s 8ms/step - loss: 0.6501 - accuracy: 0.7813 - val_loss: 0.7473 - val_accuracy: 0.7648\n",
            "Epoch 31/40\n",
            "625/625 [==============================] - 6s 10ms/step - loss: 0.6452 - accuracy: 0.7810 - val_loss: 0.7387 - val_accuracy: 0.7683\n",
            "Epoch 32/40\n",
            "625/625 [==============================] - 5s 8ms/step - loss: 0.6404 - accuracy: 0.7844 - val_loss: 0.7330 - val_accuracy: 0.7663\n",
            "Epoch 33/40\n",
            "625/625 [==============================] - 5s 9ms/step - loss: 0.6344 - accuracy: 0.7851 - val_loss: 0.7443 - val_accuracy: 0.7657\n",
            "Epoch 34/40\n",
            "625/625 [==============================] - 6s 9ms/step - loss: 0.6292 - accuracy: 0.7867 - val_loss: 0.7443 - val_accuracy: 0.7651\n",
            "Epoch 35/40\n",
            "625/625 [==============================] - 5s 8ms/step - loss: 0.6261 - accuracy: 0.7875 - val_loss: 0.7484 - val_accuracy: 0.7678\n",
            "Epoch 36/40\n",
            "625/625 [==============================] - 6s 9ms/step - loss: 0.6211 - accuracy: 0.7896 - val_loss: 0.7581 - val_accuracy: 0.7633\n",
            "Epoch 37/40\n",
            "625/625 [==============================] - 5s 8ms/step - loss: 0.6169 - accuracy: 0.7912 - val_loss: 0.7574 - val_accuracy: 0.7623\n",
            "Epoch 38/40\n",
            "625/625 [==============================] - 5s 8ms/step - loss: 0.6105 - accuracy: 0.7917 - val_loss: 0.7598 - val_accuracy: 0.7615\n",
            "Epoch 39/40\n",
            "625/625 [==============================] - 6s 10ms/step - loss: 0.6118 - accuracy: 0.7922 - val_loss: 0.7533 - val_accuracy: 0.7640\n",
            "Epoch 40/40\n",
            "625/625 [==============================] - 5s 8ms/step - loss: 0.6017 - accuracy: 0.7947 - val_loss: 0.7617 - val_accuracy: 0.7663\n"
          ]
        }
      ]
    },
    {
      "cell_type": "code",
      "source": [
        "base_loss,base_accuracy=model.evaluate(X_test,y_test,batch_size=128,verbose=1)\n",
        "\n",
        "score=base_accuracy*100\n",
        "print('Accuracy >{:f}'.format(score))\n",
        "print('Base Loss >{:.2f}'.format(base_loss))"
      ],
      "metadata": {
        "colab": {
          "base_uri": "https://localhost:8080/"
        },
        "id": "FODNTot4vq0G",
        "outputId": "902c3008-16ee-4f37-c71e-0b9d69023c44"
      },
      "execution_count": null,
      "outputs": [
        {
          "output_type": "stream",
          "name": "stdout",
          "text": [
            "232/232 [==============================] - 1s 5ms/step - loss: 0.7403 - accuracy: 0.7720\n",
            "Accuracy >77.195001\n",
            "Base Loss >0.74\n"
          ]
        }
      ]
    },
    {
      "cell_type": "code",
      "source": [
        "base_loss,base_accuracy=model.evaluate(cX_test,cy_test,batch_size=128,verbose=1)\n",
        "\n",
        "score=base_accuracy*100\n",
        "print('Accuracy >{:f}'.format(score))\n",
        "print('Base Loss >{:.2f}'.format(base_loss))"
      ],
      "metadata": {
        "colab": {
          "base_uri": "https://localhost:8080/"
        },
        "id": "lQrV4pWCwPKJ",
        "outputId": "7f0bfea1-945d-47b3-b254-706045c94482"
      },
      "execution_count": null,
      "outputs": [
        {
          "output_type": "stream",
          "name": "stdout",
          "text": [
            "232/232 [==============================] - 1s 5ms/step - loss: 2.6154 - accuracy: 0.2559\n",
            "Accuracy >25.593105\n",
            "Base Loss >2.62\n"
          ]
        }
      ]
    },
    {
      "cell_type": "code",
      "source": [
        "file_path='./pamap_Model.h5'\n",
        "\n",
        "tf.keras.models.save_model(model, file_path, include_optimizer=True)\n",
        "print('model saved at ', file_path)"
      ],
      "metadata": {
        "colab": {
          "base_uri": "https://localhost:8080/"
        },
        "id": "nALgmYXF10Cq",
        "outputId": "c71f833c-75c2-445e-bfd0-8ae1e7e1c8ce"
      },
      "execution_count": null,
      "outputs": [
        {
          "output_type": "stream",
          "name": "stdout",
          "text": [
            "model saved at  ./pamap_Model.h5\n"
          ]
        },
        {
          "output_type": "stream",
          "name": "stderr",
          "text": [
            "<ipython-input-45-b2519d49e88a>:3: UserWarning: You are saving your model as an HDF5 file via `model.save()`. This file format is considered legacy. We recommend using instead the native Keras format, e.g. `model.save('my_model.keras')`.\n",
            "  tf.keras.models.save_model(model, file_path, include_optimizer=True)\n"
          ]
        }
      ]
    },
    {
      "cell_type": "markdown",
      "source": [
        "## 2-2. pretrained model Load & finetunning"
      ],
      "metadata": {
        "id": "yK_Bci2T1mWw"
      }
    },
    {
      "cell_type": "code",
      "source": [
        "base_model = keras.models.load_model(file_path)"
      ],
      "metadata": {
        "id": "FsOq4gPPzj2Q"
      },
      "execution_count": null,
      "outputs": []
    },
    {
      "cell_type": "code",
      "source": [
        "base_model.summary()"
      ],
      "metadata": {
        "colab": {
          "base_uri": "https://localhost:8080/"
        },
        "id": "tQDPCSlw2Acl",
        "outputId": "dae73440-7da5-4a79-91a7-6547b1e29b08"
      },
      "execution_count": null,
      "outputs": [
        {
          "output_type": "stream",
          "name": "stdout",
          "text": [
            "Model: \"sequential\"\n",
            "_________________________________________________________________\n",
            " Layer (type)                Output Shape              Param #   \n",
            "=================================================================\n",
            " lstm (LSTM)                 (None, 40, 64)            19712     \n",
            "                                                                 \n",
            " dropout (Dropout)           (None, 40, 64)            0         \n",
            "                                                                 \n",
            " conv1d (Conv1D)             (None, 36, 32)            10272     \n",
            "                                                                 \n",
            " conv1d_1 (Conv1D)           (None, 32, 16)            2576      \n",
            "                                                                 \n",
            " flatten (Flatten)           (None, 512)               0         \n",
            "                                                                 \n",
            " dense (Dense)               (None, 128)               65664     \n",
            "                                                                 \n",
            " dense_1 (Dense)             (None, 13)                1677      \n",
            "                                                                 \n",
            "=================================================================\n",
            "Total params: 99901 (390.24 KB)\n",
            "Trainable params: 99901 (390.24 KB)\n",
            "Non-trainable params: 0 (0.00 Byte)\n",
            "_________________________________________________________________\n"
          ]
        }
      ]
    },
    {
      "cell_type": "code",
      "source": [
        "new_model = keras.models.Sequential(base_model.layers[:-1])\n",
        "base_model.trainable = False\n",
        "new_model.add(keras.layers.Dense(64, activation='relu'))\n",
        "new_model.add(keras.layers.Dense(13, activation=\"softmax\"))\n",
        "\n",
        "new_model.summary()"
      ],
      "metadata": {
        "colab": {
          "base_uri": "https://localhost:8080/"
        },
        "id": "QZMYNRGg2OA7",
        "outputId": "9a196f6f-3842-4880-ab91-dff55b9de43c"
      },
      "execution_count": null,
      "outputs": [
        {
          "output_type": "stream",
          "name": "stdout",
          "text": [
            "Model: \"sequential_3\"\n",
            "_________________________________________________________________\n",
            " Layer (type)                Output Shape              Param #   \n",
            "=================================================================\n",
            " lstm (LSTM)                 (None, 40, 64)            19712     \n",
            "                                                                 \n",
            " dropout (Dropout)           (None, 40, 64)            0         \n",
            "                                                                 \n",
            " conv1d (Conv1D)             (None, 36, 32)            10272     \n",
            "                                                                 \n",
            " conv1d_1 (Conv1D)           (None, 32, 16)            2576      \n",
            "                                                                 \n",
            " flatten (Flatten)           (None, 512)               0         \n",
            "                                                                 \n",
            " dense (Dense)               (None, 128)               65664     \n",
            "                                                                 \n",
            " dense_4 (Dense)             (None, 64)                8256      \n",
            "                                                                 \n",
            " dense_5 (Dense)             (None, 13)                845       \n",
            "                                                                 \n",
            "=================================================================\n",
            "Total params: 107325 (419.24 KB)\n",
            "Trainable params: 9101 (35.55 KB)\n",
            "Non-trainable params: 98224 (383.69 KB)\n",
            "_________________________________________________________________\n"
          ]
        }
      ]
    },
    {
      "cell_type": "markdown",
      "source": [
        "#### 1) new dense layer 학습"
      ],
      "metadata": {
        "id": "NzNcZhsm9nSK"
      }
    },
    {
      "cell_type": "code",
      "source": [
        "new_model.compile(loss='categorical_crossentropy', optimizer='adam', metrics=['accuracy'])\n",
        "\n",
        "history2 = new_model.fit(cX_train, cy_train, epochs=10, batch_size = 128, validation_split = 0.1, shuffle = True)"
      ],
      "metadata": {
        "colab": {
          "base_uri": "https://localhost:8080/"
        },
        "id": "1lYA_hd72j6k",
        "outputId": "751f6aab-e717-41d9-d6ee-e6a78c19a31f"
      },
      "execution_count": null,
      "outputs": [
        {
          "output_type": "stream",
          "name": "stdout",
          "text": [
            "Epoch 1/10\n",
            "625/625 [==============================] - 29s 11ms/step - loss: 1.4676 - accuracy: 0.4440 - val_loss: 1.3372 - val_accuracy: 0.5016\n",
            "Epoch 2/10\n",
            "625/625 [==============================] - 4s 7ms/step - loss: 1.4638 - accuracy: 0.4435 - val_loss: 1.3376 - val_accuracy: 0.4953\n",
            "Epoch 3/10\n",
            "625/625 [==============================] - 4s 7ms/step - loss: 1.4583 - accuracy: 0.4473 - val_loss: 1.3303 - val_accuracy: 0.5004\n",
            "Epoch 4/10\n",
            "625/625 [==============================] - 5s 8ms/step - loss: 1.4565 - accuracy: 0.4488 - val_loss: 1.3324 - val_accuracy: 0.4989\n",
            "Epoch 5/10\n",
            "625/625 [==============================] - 5s 8ms/step - loss: 1.4565 - accuracy: 0.4458 - val_loss: 1.3253 - val_accuracy: 0.5033\n",
            "Epoch 6/10\n",
            "625/625 [==============================] - 5s 7ms/step - loss: 1.4546 - accuracy: 0.4480 - val_loss: 1.3276 - val_accuracy: 0.5051\n",
            "Epoch 7/10\n",
            "625/625 [==============================] - 6s 9ms/step - loss: 1.4525 - accuracy: 0.4482 - val_loss: 1.3212 - val_accuracy: 0.5037\n",
            "Epoch 8/10\n",
            "625/625 [==============================] - 5s 8ms/step - loss: 1.4537 - accuracy: 0.4484 - val_loss: 1.3252 - val_accuracy: 0.5020\n",
            "Epoch 9/10\n",
            "625/625 [==============================] - 5s 8ms/step - loss: 1.4562 - accuracy: 0.4478 - val_loss: 1.3214 - val_accuracy: 0.5004\n",
            "Epoch 10/10\n",
            "625/625 [==============================] - 5s 8ms/step - loss: 1.4528 - accuracy: 0.4467 - val_loss: 1.3239 - val_accuracy: 0.5017\n"
          ]
        }
      ]
    },
    {
      "cell_type": "code",
      "source": [
        "base_loss,base_accuracy=new_model.evaluate(cX_test,cy_test,batch_size=128,verbose=1)\n",
        "\n",
        "score=base_accuracy*100\n",
        "print('Accuracy >{:f}'.format(score))\n",
        "print('Base Loss >{:.2f}'.format(base_loss))"
      ],
      "metadata": {
        "colab": {
          "base_uri": "https://localhost:8080/"
        },
        "id": "zDTBoy0y256a",
        "outputId": "78966b81-2e24-4bb4-eb1a-4223ca2627ef"
      },
      "execution_count": null,
      "outputs": [
        {
          "output_type": "stream",
          "name": "stdout",
          "text": [
            "232/232 [==============================] - 2s 8ms/step - loss: 1.3227 - accuracy: 0.5052\n",
            "Accuracy >50.517064\n",
            "Base Loss >1.32\n"
          ]
        }
      ]
    },
    {
      "cell_type": "markdown",
      "source": [
        "#### 2) 동결 풀고 전 layer에 대해 학습"
      ],
      "metadata": {
        "id": "JSjcSnwL9t-1"
      }
    },
    {
      "cell_type": "code",
      "source": [
        "new_model.trainable = True\n",
        "new_model.compile(loss='categorical_crossentropy', optimizer='adam', metrics=['accuracy'])\n",
        "history3 = new_model.fit(cX_train, cy_train, epochs=30, batch_size = 128, validation_split = 0.1, shuffle = True)"
      ],
      "metadata": {
        "colab": {
          "base_uri": "https://localhost:8080/"
        },
        "id": "3FOA82BD3Id1",
        "outputId": "7448e15e-034b-4f50-9637-630b9a942773"
      },
      "execution_count": null,
      "outputs": [
        {
          "output_type": "stream",
          "name": "stdout",
          "text": [
            "Epoch 1/30\n",
            "625/625 [==============================] - 10s 9ms/step - loss: 1.1839 - accuracy: 0.5520 - val_loss: 0.9836 - val_accuracy: 0.6323\n",
            "Epoch 2/30\n",
            "625/625 [==============================] - 6s 10ms/step - loss: 1.0337 - accuracy: 0.6088 - val_loss: 0.9111 - val_accuracy: 0.6472\n",
            "Epoch 3/30\n",
            "625/625 [==============================] - 5s 8ms/step - loss: 0.9686 - accuracy: 0.6299 - val_loss: 0.8742 - val_accuracy: 0.6629\n",
            "Epoch 4/30\n",
            "625/625 [==============================] - 5s 9ms/step - loss: 0.9268 - accuracy: 0.6457 - val_loss: 0.8245 - val_accuracy: 0.6833\n",
            "Epoch 5/30\n",
            "625/625 [==============================] - 6s 9ms/step - loss: 0.8982 - accuracy: 0.6558 - val_loss: 0.8045 - val_accuracy: 0.6851\n",
            "Epoch 6/30\n",
            "625/625 [==============================] - 5s 8ms/step - loss: 0.8744 - accuracy: 0.6628 - val_loss: 0.7787 - val_accuracy: 0.6924\n",
            "Epoch 7/30\n",
            "625/625 [==============================] - 6s 10ms/step - loss: 0.8550 - accuracy: 0.6699 - val_loss: 0.7728 - val_accuracy: 0.6952\n",
            "Epoch 8/30\n",
            "625/625 [==============================] - 5s 8ms/step - loss: 0.8380 - accuracy: 0.6755 - val_loss: 0.7575 - val_accuracy: 0.7026\n",
            "Epoch 9/30\n",
            "625/625 [==============================] - 5s 9ms/step - loss: 0.8199 - accuracy: 0.6819 - val_loss: 0.7483 - val_accuracy: 0.7035\n",
            "Epoch 10/30\n",
            "625/625 [==============================] - 6s 9ms/step - loss: 0.8105 - accuracy: 0.6855 - val_loss: 0.7408 - val_accuracy: 0.7095\n",
            "Epoch 11/30\n",
            "625/625 [==============================] - 5s 8ms/step - loss: 0.7987 - accuracy: 0.6882 - val_loss: 0.7410 - val_accuracy: 0.7032\n",
            "Epoch 12/30\n",
            "625/625 [==============================] - 6s 10ms/step - loss: 0.7864 - accuracy: 0.6917 - val_loss: 0.7311 - val_accuracy: 0.7116\n",
            "Epoch 13/30\n",
            "625/625 [==============================] - 5s 8ms/step - loss: 0.7777 - accuracy: 0.6948 - val_loss: 0.7351 - val_accuracy: 0.7041\n",
            "Epoch 14/30\n",
            "625/625 [==============================] - 5s 9ms/step - loss: 0.7662 - accuracy: 0.7000 - val_loss: 0.7236 - val_accuracy: 0.7106\n",
            "Epoch 15/30\n",
            "625/625 [==============================] - 6s 9ms/step - loss: 0.7555 - accuracy: 0.7037 - val_loss: 0.7299 - val_accuracy: 0.7118\n",
            "Epoch 16/30\n",
            "625/625 [==============================] - 5s 8ms/step - loss: 0.7476 - accuracy: 0.7064 - val_loss: 0.7423 - val_accuracy: 0.7064\n",
            "Epoch 17/30\n",
            "625/625 [==============================] - 6s 10ms/step - loss: 0.7420 - accuracy: 0.7080 - val_loss: 0.7227 - val_accuracy: 0.7119\n",
            "Epoch 18/30\n",
            "625/625 [==============================] - 5s 8ms/step - loss: 0.7353 - accuracy: 0.7103 - val_loss: 0.7280 - val_accuracy: 0.7127\n",
            "Epoch 19/30\n",
            "625/625 [==============================] - 8s 12ms/step - loss: 0.7275 - accuracy: 0.7146 - val_loss: 0.7304 - val_accuracy: 0.7121\n",
            "Epoch 20/30\n",
            "625/625 [==============================] - 6s 9ms/step - loss: 0.7209 - accuracy: 0.7174 - val_loss: 0.7412 - val_accuracy: 0.7110\n",
            "Epoch 21/30\n",
            "625/625 [==============================] - 5s 8ms/step - loss: 0.7133 - accuracy: 0.7200 - val_loss: 0.7258 - val_accuracy: 0.7125\n",
            "Epoch 22/30\n",
            "625/625 [==============================] - 6s 10ms/step - loss: 0.7085 - accuracy: 0.7220 - val_loss: 0.7251 - val_accuracy: 0.7120\n",
            "Epoch 23/30\n",
            "625/625 [==============================] - 5s 8ms/step - loss: 0.6983 - accuracy: 0.7245 - val_loss: 0.7441 - val_accuracy: 0.7080\n",
            "Epoch 24/30\n",
            "625/625 [==============================] - 5s 9ms/step - loss: 0.6943 - accuracy: 0.7262 - val_loss: 0.7330 - val_accuracy: 0.7102\n",
            "Epoch 25/30\n",
            "625/625 [==============================] - 6s 9ms/step - loss: 0.6877 - accuracy: 0.7284 - val_loss: 0.7376 - val_accuracy: 0.7093\n",
            "Epoch 26/30\n",
            "625/625 [==============================] - 5s 8ms/step - loss: 0.6850 - accuracy: 0.7307 - val_loss: 0.7221 - val_accuracy: 0.7107\n",
            "Epoch 27/30\n",
            "625/625 [==============================] - 6s 10ms/step - loss: 0.6766 - accuracy: 0.7336 - val_loss: 0.7338 - val_accuracy: 0.7048\n",
            "Epoch 28/30\n",
            "625/625 [==============================] - 5s 8ms/step - loss: 0.6673 - accuracy: 0.7383 - val_loss: 0.7444 - val_accuracy: 0.7101\n",
            "Epoch 29/30\n",
            "625/625 [==============================] - 5s 8ms/step - loss: 0.6637 - accuracy: 0.7383 - val_loss: 0.7399 - val_accuracy: 0.7071\n",
            "Epoch 30/30\n",
            "625/625 [==============================] - 6s 9ms/step - loss: 0.6612 - accuracy: 0.7379 - val_loss: 0.7552 - val_accuracy: 0.7066\n"
          ]
        }
      ]
    },
    {
      "cell_type": "code",
      "source": [
        "history3 = new_model.fit(cX_train, cy_train, epochs=20, batch_size = 128, validation_split = 0.1, shuffle = True)"
      ],
      "metadata": {
        "colab": {
          "base_uri": "https://localhost:8080/"
        },
        "id": "GXlO62T54VKq",
        "outputId": "387f6ce5-b598-45ea-af8c-194e34bff1be"
      },
      "execution_count": null,
      "outputs": [
        {
          "output_type": "stream",
          "name": "stdout",
          "text": [
            "Epoch 1/20\n",
            "625/625 [==============================] - 5s 9ms/step - loss: 0.6554 - accuracy: 0.7415 - val_loss: 0.7438 - val_accuracy: 0.7134\n",
            "Epoch 2/20\n",
            "625/625 [==============================] - 6s 9ms/step - loss: 0.6513 - accuracy: 0.7427 - val_loss: 0.8028 - val_accuracy: 0.6989\n",
            "Epoch 3/20\n",
            "625/625 [==============================] - 5s 8ms/step - loss: 0.6458 - accuracy: 0.7461 - val_loss: 0.7549 - val_accuracy: 0.7061\n",
            "Epoch 4/20\n",
            "625/625 [==============================] - 6s 9ms/step - loss: 0.6424 - accuracy: 0.7474 - val_loss: 0.7785 - val_accuracy: 0.7068\n",
            "Epoch 5/20\n",
            "625/625 [==============================] - 5s 8ms/step - loss: 0.6348 - accuracy: 0.7502 - val_loss: 0.7632 - val_accuracy: 0.7061\n",
            "Epoch 6/20\n",
            "625/625 [==============================] - 5s 8ms/step - loss: 0.6286 - accuracy: 0.7544 - val_loss: 0.7726 - val_accuracy: 0.7052\n",
            "Epoch 7/20\n",
            "625/625 [==============================] - 6s 10ms/step - loss: 0.6277 - accuracy: 0.7520 - val_loss: 0.7636 - val_accuracy: 0.7069\n",
            "Epoch 8/20\n",
            "625/625 [==============================] - 5s 8ms/step - loss: 0.6229 - accuracy: 0.7549 - val_loss: 0.7815 - val_accuracy: 0.7052\n",
            "Epoch 9/20\n",
            "625/625 [==============================] - 6s 10ms/step - loss: 0.6183 - accuracy: 0.7573 - val_loss: 0.7665 - val_accuracy: 0.7065\n",
            "Epoch 10/20\n",
            "625/625 [==============================] - 6s 9ms/step - loss: 0.6151 - accuracy: 0.7597 - val_loss: 0.7684 - val_accuracy: 0.7032\n",
            "Epoch 11/20\n",
            "625/625 [==============================] - 5s 8ms/step - loss: 0.6092 - accuracy: 0.7609 - val_loss: 0.7783 - val_accuracy: 0.7057\n",
            "Epoch 12/20\n",
            "625/625 [==============================] - 6s 10ms/step - loss: 0.6089 - accuracy: 0.7618 - val_loss: 0.7834 - val_accuracy: 0.6978\n",
            "Epoch 13/20\n",
            "625/625 [==============================] - 5s 8ms/step - loss: 0.6082 - accuracy: 0.7616 - val_loss: 0.7881 - val_accuracy: 0.7050\n",
            "Epoch 14/20\n",
            "625/625 [==============================] - 6s 10ms/step - loss: 0.6021 - accuracy: 0.7673 - val_loss: 0.7818 - val_accuracy: 0.7008\n",
            "Epoch 15/20\n",
            "625/625 [==============================] - 5s 8ms/step - loss: 0.5989 - accuracy: 0.7670 - val_loss: 0.8204 - val_accuracy: 0.6954\n",
            "Epoch 16/20\n",
            "625/625 [==============================] - 5s 8ms/step - loss: 0.5923 - accuracy: 0.7683 - val_loss: 0.7832 - val_accuracy: 0.7016\n",
            "Epoch 17/20\n",
            "625/625 [==============================] - 6s 10ms/step - loss: 0.5929 - accuracy: 0.7684 - val_loss: 0.7870 - val_accuracy: 0.7058\n",
            "Epoch 18/20\n",
            "625/625 [==============================] - 5s 8ms/step - loss: 0.5878 - accuracy: 0.7715 - val_loss: 0.8050 - val_accuracy: 0.7084\n",
            "Epoch 19/20\n",
            "625/625 [==============================] - 6s 9ms/step - loss: 0.5865 - accuracy: 0.7728 - val_loss: 0.8078 - val_accuracy: 0.7023\n",
            "Epoch 20/20\n",
            "625/625 [==============================] - 6s 10ms/step - loss: 0.5854 - accuracy: 0.7723 - val_loss: 0.7988 - val_accuracy: 0.7016\n"
          ]
        }
      ]
    },
    {
      "cell_type": "code",
      "source": [
        "base_loss,base_accuracy=new_model.evaluate(cX_test,cy_test,batch_size=128,verbose=1)\n",
        "\n",
        "score=base_accuracy*100\n",
        "print('Accuracy >{:f}'.format(score))\n",
        "print('Base Loss >{:.2f}'.format(base_loss))"
      ],
      "metadata": {
        "colab": {
          "base_uri": "https://localhost:8080/"
        },
        "id": "yDxBj2Gt3oV2",
        "outputId": "b0d934e7-b5a1-4049-c74b-fd91c8d6d2da"
      },
      "execution_count": null,
      "outputs": [
        {
          "output_type": "stream",
          "name": "stdout",
          "text": [
            "232/232 [==============================] - 1s 6ms/step - loss: 0.8194 - accuracy: 0.6993\n",
            "Accuracy >69.925648\n",
            "Base Loss >0.82\n"
          ]
        }
      ]
    },
    {
      "cell_type": "code",
      "source": [],
      "metadata": {
        "id": "dQygaxve4jlN"
      },
      "execution_count": null,
      "outputs": []
    }
  ]
}